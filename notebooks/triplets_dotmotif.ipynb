{
 "cells": [
  {
   "cell_type": "code",
   "execution_count": 1,
   "metadata": {
    "collapsed": true,
    "jupyter": {
     "outputs_hidden": true
    }
   },
   "outputs": [
    {
     "name": "stdout",
     "output_type": "stream",
     "text": [
      "Looking in indexes: https://bbpteam.epfl.ch/repository/devpi/simple/\n",
      "Collecting dotmotif\n",
      "  Using cached dotmotif-0.13.0-py3-none-any.whl\n",
      "Requirement already satisfied: networkx in /gpfs/bbp.cscs.ch/project/proj142/home/kurban/venv2023/lib/python3.8/site-packages (2.3)\n",
      "Collecting networkx\n",
      "  Using cached https://bbpteam.epfl.ch/repository/devpi/root/pypi/%2Bf/4f3/3f68cb2afcf86/networkx-3.1-py3-none-any.whl (2.1 MB)\n",
      "Requirement already satisfied: numpy in /gpfs/bbp.cscs.ch/project/proj142/home/kurban/venv2023/lib/python3.8/site-packages (from dotmotif) (1.24.3)\n",
      "Collecting lark-parser (from dotmotif)\n",
      "  Downloading https://bbpteam.epfl.ch/repository/devpi/root/pypi/%2Bf/0ea/f30cb5ba787fe/lark_parser-0.12.0-py2.py3-none-any.whl (103 kB)\n",
      "\u001b[2K     \u001b[90m━━━━━━━━━━━━━━━━━━━━━━━━━━━━━━━━━━━━━━━\u001b[0m \u001b[32m103.5/103.5 kB\u001b[0m \u001b[31m2.6 MB/s\u001b[0m eta \u001b[36m0:00:00\u001b[0m00:01\u001b[0m\n",
      "\u001b[?25hRequirement already satisfied: pandas in /gpfs/bbp.cscs.ch/project/proj142/home/kurban/venv2023/lib/python3.8/site-packages (from dotmotif) (1.4.0)\n",
      "Collecting grandiso>=2.0.0 (from dotmotif)\n",
      "  Using cached grandiso-2.1.1-py3-none-any.whl\n",
      "Collecting python-dateutil>=2.8.1 (from pandas->dotmotif)\n",
      "  Using cached https://bbpteam.epfl.ch/repository/devpi/root/pypi/%2Bf/961/d03dc3453ebbc/python_dateutil-2.8.2-py2.py3-none-any.whl (247 kB)\n",
      "Requirement already satisfied: pytz>=2020.1 in /gpfs/bbp.cscs.ch/project/proj142/home/kurban/venv2023/lib/python3.8/site-packages (from pandas->dotmotif) (2023.3)\n",
      "Requirement already satisfied: six>=1.5 in /gpfs/bbp.cscs.ch/project/proj142/home/kurban/venv2023/lib/python3.8/site-packages (from python-dateutil>=2.8.1->pandas->dotmotif) (1.12.0)\n",
      "Installing collected packages: lark-parser, grandiso, python-dateutil, networkx, dotmotif\n",
      "  Attempting uninstall: python-dateutil\n",
      "    Found existing installation: python-dateutil 2.8.0\n",
      "    Uninstalling python-dateutil-2.8.0:\n",
      "      Successfully uninstalled python-dateutil-2.8.0\n",
      "  Attempting uninstall: networkx\n",
      "    Found existing installation: networkx 2.3\n",
      "    Uninstalling networkx-2.3:\n",
      "      Successfully uninstalled networkx-2.3\n",
      "\u001b[31mERROR: pip's dependency resolver does not currently take into account all the packages that are installed. This behaviour is the source of the following dependency conflicts.\n",
      "multinetx 2.3 requires networkx==2.3, but you have networkx 3.1 which is incompatible.\n",
      "multinetx 2.3 requires python-dateutil==2.8.0, but you have python-dateutil 2.8.2 which is incompatible.\u001b[0m\u001b[31m\n",
      "\u001b[0mSuccessfully installed dotmotif-0.13.0 grandiso-2.1.1 lark-parser-0.12.0 networkx-3.1 python-dateutil-2.8.2\n",
      "\n",
      "\u001b[1m[\u001b[0m\u001b[34;49mnotice\u001b[0m\u001b[1;39;49m]\u001b[0m\u001b[39;49m A new release of pip is available: \u001b[0m\u001b[31;49m23.2.1\u001b[0m\u001b[39;49m -> \u001b[0m\u001b[32;49m23.3.2\u001b[0m\n",
      "\u001b[1m[\u001b[0m\u001b[34;49mnotice\u001b[0m\u001b[1;39;49m]\u001b[0m\u001b[39;49m To update, run: \u001b[0m\u001b[32;49mpip install --upgrade pip\u001b[0m\n"
     ]
    }
   ],
   "source": [
    "!pip3 install dotmotif networkx\n",
    "\n",
    "import networkx as nx\n",
    "from dotmotif import Motif, GrandIsoExecutor"
   ]
  },
  {
   "cell_type": "code",
   "execution_count": 3,
   "metadata": {},
   "outputs": [],
   "source": [
    "from scipy import sparse"
   ]
  },
  {
   "cell_type": "code",
   "execution_count": 5,
   "metadata": {},
   "outputs": [],
   "source": [
    "file_path = '/gpfs/bbp.cscs.ch/project/proj142/home/kurban/GNNplayground/notebooks/cylinder300_synaptome.npz'\n",
    "target_adj = sparse.load_npz(file_path)"
   ]
  },
  {
   "cell_type": "code",
   "execution_count": 7,
   "metadata": {},
   "outputs": [],
   "source": [
    "target_graph = nx.from_scipy_sparse_array(target_adj,create_using=nx.DiGraph())"
   ]
  },
  {
   "cell_type": "code",
   "execution_count": 8,
   "metadata": {},
   "outputs": [],
   "source": [
    "Executor = GrandIsoExecutor(graph=target_graph)"
   ]
  },
  {
   "cell_type": "code",
   "execution_count": 2,
   "metadata": {},
   "outputs": [],
   "source": [
    "complex_motif = Motif(\"\"\"\n",
    "# One-direction edge\n",
    "uniedge(n, m) {\n",
    "    n -> m\n",
    "    m !> n\n",
    "}\n",
    "\n",
    "# One-direction triangle\n",
    "unitriangle(x, y, z) {\n",
    "    uniedge(x, y)\n",
    "    uniedge(y, z)\n",
    "    uniedge(z, x)\n",
    "}\n",
    "\n",
    "unitriangle(A, B, C)\n",
    "\"\"\") # specific case not like motif2 where edges can also be biedge/uniedge"
   ]
  },
  {
   "cell_type": "code",
   "execution_count": 9,
   "metadata": {},
   "outputs": [],
   "source": [
    "results = Executor.find(complex_motif)"
   ]
  },
  {
   "cell_type": "code",
   "execution_count": 13,
   "metadata": {},
   "outputs": [
    {
     "data": {
      "text/plain": [
       "6634047"
      ]
     },
     "execution_count": 13,
     "metadata": {},
     "output_type": "execute_result"
    }
   ],
   "source": [
    "len(results)"
   ]
  },
  {
   "cell_type": "code",
   "execution_count": 1,
   "metadata": {},
   "outputs": [
    {
     "ename": "ModuleNotFoundError",
     "evalue": "No module named 'igraph'",
     "output_type": "error",
     "traceback": [
      "\u001b[0;31m---------------------------------------------------------------------------\u001b[0m",
      "\u001b[0;31mModuleNotFoundError\u001b[0m                       Traceback (most recent call last)",
      "Cell \u001b[0;32mIn[1], line 1\u001b[0m\n\u001b[0;32m----> 1\u001b[0m \u001b[38;5;28;01mfrom\u001b[39;00m \u001b[38;5;21;01mgraph_analysis\u001b[39;00m \u001b[38;5;28;01mimport\u001b[39;00m triplets\n",
      "File \u001b[0;32m/gpfs/bbp.cscs.ch/project/proj112/home/kurban/topology_paper/toolbox/graph_analysis/graph_analysis/triplets.py:1\u001b[0m\n\u001b[0;32m----> 1\u001b[0m \u001b[38;5;28;01mfrom\u001b[39;00m \u001b[38;5;21;01migraph\u001b[39;00m \u001b[38;5;28;01mimport\u001b[39;00m \u001b[38;5;241m*\u001b[39m\n\u001b[1;32m      2\u001b[0m \u001b[38;5;28;01mfrom\u001b[39;00m \u001b[38;5;21;01mbluepy\u001b[39;00m\u001b[38;5;21;01m.\u001b[39;00m\u001b[38;5;21;01menums\u001b[39;00m \u001b[38;5;28;01mimport\u001b[39;00m Cell\n\u001b[1;32m      3\u001b[0m \u001b[38;5;28;01mfrom\u001b[39;00m \u001b[38;5;21;01mscipy\u001b[39;00m \u001b[38;5;28;01mimport\u001b[39;00m sparse\n",
      "\u001b[0;31mModuleNotFoundError\u001b[0m: No module named 'igraph'"
     ]
    }
   ],
   "source": [
    "from graph_analysis import triplets"
   ]
  },
  {
   "cell_type": "code",
   "execution_count": null,
   "metadata": {},
   "outputs": [],
   "source": []
  },
  {
   "cell_type": "code",
   "execution_count": null,
   "metadata": {},
   "outputs": [],
   "source": [
    "reader = triplets.DotMotifReader()"
   ]
  },
  {
   "cell_type": "code",
   "execution_count": null,
   "metadata": {},
   "outputs": [],
   "source": [
    "from tqdm import tqdm\n"
   ]
  },
  {
   "cell_type": "code",
   "execution_count": null,
   "metadata": {},
   "outputs": [],
   "source": [
    "target = 'cylinder300'"
   ]
  },
  {
   "cell_type": "code",
   "execution_count": null,
   "metadata": {},
   "outputs": [],
   "source": [
    "check_mtypes = ['Mosaic','Mosaic','Mosaic']\n",
    "frequencies = {}\n",
    "motif_reader = triplets.MotifReader()\n",
    "for motif_name in tqdm(['-C','-B','-A','A','B','C','D','E','F','G','H','I','J','K','L','M']):\n",
    "    print(f\"Running motif calculation for {target} of motif {motif_name} of {check_mtypes}...\")\n",
    "    CM = motif_reader.name_to_matrix(motif_name)\n",
    "    calculator = CA1MotifCalculator(target,check_mtypes, CM)\n",
    "    num_motifs = calculator.count_motifs()  \n",
    "    frequencies[motif_name] = num_motifs"
   ]
  }
 ],
 "metadata": {
  "kernelspec": {
   "display_name": "venv2023",
   "language": "python",
   "name": "venv2023"
  },
  "language_info": {
   "codemirror_mode": {
    "name": "ipython",
    "version": 3
   },
   "file_extension": ".py",
   "mimetype": "text/x-python",
   "name": "python",
   "nbconvert_exporter": "python",
   "pygments_lexer": "ipython3",
   "version": "3.8.3"
  }
 },
 "nbformat": 4,
 "nbformat_minor": 4
}
