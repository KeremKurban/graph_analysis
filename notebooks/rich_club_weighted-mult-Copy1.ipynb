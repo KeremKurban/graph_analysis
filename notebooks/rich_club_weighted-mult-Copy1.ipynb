{
 "cells": [
  {
   "cell_type": "code",
   "execution_count": null,
   "metadata": {},
   "outputs": [],
   "source": [
    "from scipy import sparse\n",
    "from bluepysnap import Circuit\n",
    "from graph_analysis.randomize import WeightPermutedRandomModel\n",
    "from graph_analysis.rich_cub import RichClubAnalysis\n",
    "from dask.distributed import Client, LocalCluster\n",
    "import matplotlib.pyplot as plt\n",
    "import pandas as pd\n",
    "import numpy as np\n",
    "from tqdm import tqdm"
   ]
  },
  {
   "cell_type": "code",
   "execution_count": 121,
   "metadata": {},
   "outputs": [],
   "source": [
    "file_format = 'png'\n",
    "dpi = 300\n",
    "save_dir = '../output/rich_club'"
   ]
  },
  {
   "cell_type": "code",
   "execution_count": null,
   "metadata": {},
   "outputs": [],
   "source": [
    "adj_path = '/gpfs/bbp.cscs.ch/project/proj112/circuits/CA1/20211110-BioM/data/ca1_synaptome.npz'\n",
    "synaptome = sparse.load_npz(adj_path)\n",
    "connectome = synaptome.copy()\n",
    "connectome[connectome > 0] = 1\n",
    "# del synaptome\n",
    "\n",
    "target = 'slice10'\n",
    "CIRCUIT_DIR =  '/gpfs/bbp.cscs.ch/project/proj112/circuits/CA1/20211110-BioM/sonata/circuit_config.json'\n",
    "circuit = Circuit(CIRCUIT_DIR)\n",
    "nodes = circuit.nodes[\"hippocampus_neurons\"]\n",
    "edges = circuit.edges[\"hippocampus_neurons__hippocampus_neurons__chemical_synapse\"]\n",
    "target_indices = nodes.ids(target)\n",
    "target_synaptome = synaptome[target_indices,:][:,target_indices]\n",
    "target_connectome = connectome[target_indices,:][:,target_indices]"
   ]
  },
  {
   "cell_type": "code",
   "execution_count": null,
   "metadata": {},
   "outputs": [],
   "source": [
    "# del target_synaptome, target_connectome"
   ]
  },
  {
   "cell_type": "code",
   "execution_count": null,
   "metadata": {
    "jupyter": {
     "source_hidden": true
    }
   },
   "outputs": [],
   "source": [
    "# model_dp = WeightPermutedRandomModel(target_synaptome)\n",
    "\n",
    "# random_adjs = []\n",
    "\n",
    "# for i in tqdm(range(100)):\n",
    "#     dp_adj = model_dp.generate(seed=i)\n",
    "#     random_adjs.append(dp_adj)"
   ]
  },
  {
   "cell_type": "code",
   "execution_count": null,
   "metadata": {},
   "outputs": [],
   "source": [
    "# calculate the rich club coefficients for the original graph\n",
    "rca_syn = RichClubAnalysis(target_synaptome)\n",
    "client = Client()    # Start Dask client\n",
    "k_dict_parallel_model = rca_syn.calculate_rich_club_coefficients(weighted=True,\n",
    "                            method='strongest-links-in-network',step=100)\n",
    "client.shutdown()    # Shutdown the Dask client"
   ]
  },
  {
   "cell_type": "code",
   "execution_count": null,
   "metadata": {},
   "outputs": [],
   "source": [
    "original_coeffs = pd.DataFrame.from_dict(k_dict_parallel_model, orient='index').T\n",
    "# original_coeffs.to_csv(f'../output/rich_club/weigted_rcc_{target}.csv')"
   ]
  },
  {
   "cell_type": "code",
   "execution_count": 22,
   "metadata": {},
   "outputs": [],
   "source": [
    "original_coeffs = pd.read_csv('../output/rich_club/weigted_rcc_slice10.csv',index_col=0)"
   ]
  },
  {
   "cell_type": "code",
   "execution_count": 48,
   "metadata": {},
   "outputs": [],
   "source": [
    "output_dir = '../output/rich_club/'\n",
    "random_rc_coeffs = pd.read_csv(f'{output_dir}/random_rc_coeffs.csv',index_col=0)\n",
    "average_random_coeffs = np.mean(random_rc_coeffs, axis=0).to_frame().T"
   ]
  },
  {
   "cell_type": "code",
   "execution_count": null,
   "metadata": {},
   "outputs": [],
   "source": [
    "normalized_coeffs = original_coeffs.values[:,:average_random_coeffs.shape[1]] / average_random_coeffs.values"
   ]
  },
  {
   "cell_type": "code",
   "execution_count": null,
   "metadata": {},
   "outputs": [],
   "source": [
    "normalized_rc_df = pd.DataFrame(normalized_coeffs,columns=average_random_coeffs.columns).T"
   ]
  },
  {
   "cell_type": "code",
   "execution_count": null,
   "metadata": {},
   "outputs": [],
   "source": [
    "f ,ax= plt.subplots()\n",
    "x= np.array(normalized_rc_df.index).astype(float).astype(int)\n",
    "ax.plot(x, normalized_rc_df.values.flatten(), label='Data')\n",
    "ax.fill_between(x, normalized_rc_df.values.flatten(), y2=1, where=(normalized_rc_df.values.flatten() >= 1), color='lightblue', alpha=0.4)\n",
    "ax.axhline(y=1, color='k', linestyle='--', label='y=1')\n",
    "\n",
    "plt.title('Weighted Rich Club Coefficients (n=100)')\n",
    "plt.xlabel('k (total_degree: weight)')\n",
    "plt.ylabel('Coefficient')\n",
    "plt.legend(['norm_RC_coeff'])\n",
    "plt.savefig(f\"../output/rich_club_weigted_{target}.png\", dpi=dpi, bbox_inches='tight')"
   ]
  },
  {
   "cell_type": "code",
   "execution_count": null,
   "metadata": {},
   "outputs": [],
   "source": [
    "plt.plot(random_rc_coeffs.values.mean(axis=0).flatten())\n",
    "plt.plot(original_coeffs.values.flatten())"
   ]
  },
  {
   "cell_type": "code",
   "execution_count": 4,
   "metadata": {},
   "outputs": [],
   "source": [
    "# generate er and dd as well\n",
    "\n",
    "from graph_analysis.randomize import DistanceDependentConfigurationalModel, ErdosRenyiModel\n",
    "from graph_analysis.rich_cub import RichClubAnalysis"
   ]
  },
  {
   "cell_type": "code",
   "execution_count": 5,
   "metadata": {},
   "outputs": [],
   "source": [
    "xyz = nodes.get(target)[['x','y','z']]\n",
    "\n",
    "er_generator = ErdosRenyiModel(target_synaptome)\n",
    "# model = BarabasiAlbertModel(adj)\n",
    "# model = WattsStrogatzModel(adj)\n",
    "# model = ConfigurationModel(adj)\n",
    "# model = DistanceDependentConfigurationalModel(target_synaptome,xyz)\n",
    "\n",
    "dd_generator = DistanceDependentConfigurationalModel(target_synaptome,xyz)"
   ]
  },
  {
   "cell_type": "code",
   "execution_count": 6,
   "metadata": {},
   "outputs": [],
   "source": [
    "num_syns_per_conn = target_synaptome.sum() / target_synaptome.count_nonzero()\n",
    "num_syns_per_conn = np.round(num_syns_per_conn).astype(int)"
   ]
  },
  {
   "cell_type": "code",
   "execution_count": 7,
   "metadata": {},
   "outputs": [
    {
     "name": "stderr",
     "output_type": "stream",
     "text": [
      "12615it [00:05, 2128.34it/s]\n"
     ]
    }
   ],
   "source": [
    "er1 = er_generator.generate()\n",
    "er1 *= num_syns_per_conn\n",
    "dd_model = dd_generator.generate().astype(int)\n",
    "dd_weights = np.random.random(dd_model.data.shape[0]) * num_syns_per_conn\n",
    "dd_model.data = dd_weights"
   ]
  },
  {
   "cell_type": "code",
   "execution_count": 8,
   "metadata": {},
   "outputs": [],
   "source": [
    "inh_indices = np.where(nodes.get(target).morph_class=='INT')[0]\n",
    "exc_indices = np.where(nodes.get(target).morph_class=='PYR')[0]"
   ]
  },
  {
   "cell_type": "code",
   "execution_count": 9,
   "metadata": {},
   "outputs": [],
   "source": [
    "num_syns_per_conn = target_synaptome.sum() / target_synaptome.count_nonzero()\n",
    "num_syns_per_conn = np.round(num_syns_per_conn).astype(int)"
   ]
  },
  {
   "cell_type": "code",
   "execution_count": 10,
   "metadata": {},
   "outputs": [],
   "source": [
    "ee_spc = target_synaptome[exc_indices,:][:,exc_indices].sum() / target_synaptome[exc_indices,:][:,exc_indices].count_nonzero()\n",
    "ei_spc = target_synaptome[exc_indices,:][:,inh_indices].sum() / target_synaptome[exc_indices,:][:,inh_indices].count_nonzero()\n",
    "ie_spc = target_synaptome[inh_indices,:][:,exc_indices].sum() / target_synaptome[inh_indices,:][:,exc_indices].count_nonzero()\n",
    "ii_spc = target_synaptome[inh_indices,:][:,inh_indices].sum() / target_synaptome[inh_indices,:][:,inh_indices].count_nonzero()"
   ]
  },
  {
   "cell_type": "code",
   "execution_count": 11,
   "metadata": {},
   "outputs": [
    {
     "name": "stdout",
     "output_type": "stream",
     "text": [
      "EE:1.3327996206466048,\n",
      "EI:6.355439853452315,\n",
      "IE:11.538668999442502,\n",
      "II:5.425033354635453\n"
     ]
    }
   ],
   "source": [
    "print(f'EE:{ee_spc},\\nEI:{ei_spc},\\nIE:{ie_spc},\\nII:{ii_spc}')"
   ]
  },
  {
   "cell_type": "code",
   "execution_count": 12,
   "metadata": {},
   "outputs": [],
   "source": [
    "def density(arr):\n",
    "    if arr.shape[0] == arr.shape[1]:\n",
    "        return arr.count_nonzero() / (arr.shape[0]*(arr.shape[1]-1))\n",
    "    else:\n",
    "        return arr.count_nonzero() / (arr.shape[0]*(arr.shape[1]))\n",
    "    \n",
    "ee_dens =  density(target_synaptome[exc_indices,:][:,exc_indices])\n",
    "ei_dens =  density(target_synaptome[exc_indices,:][:,inh_indices])\n",
    "ie_dens = density(target_synaptome[inh_indices,:][:,exc_indices])\n",
    "ii_dens =  density(target_synaptome[inh_indices,:][:,inh_indices])"
   ]
  },
  {
   "cell_type": "code",
   "execution_count": 13,
   "metadata": {},
   "outputs": [],
   "source": [
    "er_ee = sparse.random(len(exc_indices), len(exc_indices), density=ee_dens, format='csr') * ee_spc\n",
    "er_ei = sparse.random(len(exc_indices), len(inh_indices), density=ei_dens, format='csr') * ei_spc\n",
    "er_ie = sparse.random(len(inh_indices), len(exc_indices), density=ie_dens, format='csr') * ie_spc\n",
    "er_ii = sparse.random(len(inh_indices), len(inh_indices), density=ii_dens, format='csr') * ii_spc"
   ]
  },
  {
   "cell_type": "code",
   "execution_count": 15,
   "metadata": {},
   "outputs": [],
   "source": [
    "sbm = sparse.vstack([sparse.hstack([er_ee,er_ei]),sparse.hstack([er_ie,er_ii])])"
   ]
  },
  {
   "cell_type": "code",
   "execution_count": 16,
   "metadata": {
    "collapsed": true,
    "jupyter": {
     "outputs_hidden": true
    }
   },
   "outputs": [
    {
     "name": "stderr",
     "output_type": "stream",
     "text": [
      "2023-07-11 15:53:42,126 - distributed.diskutils - INFO - Found stale lock file and directory '/gpfs/bbp.cscs.ch/ssd/slurmTmpFS/kurban/1616884/dask-worker-space/worker-b5yeyhqw', purging\n",
      "2023-07-11 15:53:42,128 - distributed.diskutils - INFO - Found stale lock file and directory '/gpfs/bbp.cscs.ch/ssd/slurmTmpFS/kurban/1616884/dask-worker-space/worker-lz84_nvv', purging\n",
      "2023-07-11 15:53:42,128 - distributed.diskutils - INFO - Found stale lock file and directory '/gpfs/bbp.cscs.ch/ssd/slurmTmpFS/kurban/1616884/dask-worker-space/worker-cz7krjzf', purging\n",
      "2023-07-11 15:53:42,129 - distributed.diskutils - INFO - Found stale lock file and directory '/gpfs/bbp.cscs.ch/ssd/slurmTmpFS/kurban/1616884/dask-worker-space/worker-fulq6yfg', purging\n",
      "2023-07-11 15:53:42,129 - distributed.diskutils - INFO - Found stale lock file and directory '/gpfs/bbp.cscs.ch/ssd/slurmTmpFS/kurban/1616884/dask-worker-space/worker-1vd1p7_c', purging\n",
      "2023-07-11 15:53:42,130 - distributed.diskutils - INFO - Found stale lock file and directory '/gpfs/bbp.cscs.ch/ssd/slurmTmpFS/kurban/1616884/dask-worker-space/worker-yu6g5zso', purging\n",
      "2023-07-11 15:53:42,131 - distributed.diskutils - INFO - Found stale lock file and directory '/gpfs/bbp.cscs.ch/ssd/slurmTmpFS/kurban/1616884/dask-worker-space/worker-hd5c18d4', purging\n",
      "2023-07-11 15:53:42,131 - distributed.diskutils - INFO - Found stale lock file and directory '/gpfs/bbp.cscs.ch/ssd/slurmTmpFS/kurban/1616884/dask-worker-space/worker-uxpybipk', purging\n",
      "WARNING:root:Warning: maximum possible weights in the network is 0 for k=11801.0!\n",
      "WARNING:root:kc_count=0, kc_sum=0.0, kc_possible=0.0\n",
      "WARNING:root:Warning: maximum possible weights in the network is 0 for k=11601.0!\n",
      "WARNING:root:kc_count=0, kc_sum=0.0, kc_possible=0.0\n",
      "WARNING:root:Warning: maximum possible weights in the network is 0 for k=11701.0!\n",
      "WARNING:root:kc_count=0, kc_sum=0.0, kc_possible=0.0\n",
      "WARNING:root:Warning: maximum possible weights in the network is 0 for k=11001.0!\n",
      "WARNING:root:kc_count=0, kc_sum=0.0, kc_possible=0.0\n",
      "WARNING:root:Warning: maximum possible weights in the network is 0 for k=11401.0!\n",
      "WARNING:root:kc_count=0, kc_sum=0.0, kc_possible=0.0\n",
      "WARNING:root:Warning: maximum possible weights in the network is 0 for k=11301.0!\n",
      "WARNING:root:kc_count=0, kc_sum=0.0, kc_possible=0.0\n",
      "WARNING:root:Warning: maximum possible weights in the network is 0 for k=10801.0!\n",
      "WARNING:root:kc_count=0, kc_sum=0.0, kc_possible=0.0\n",
      "WARNING:root:Warning: maximum possible weights in the network is 0 for k=11501.0!\n",
      "WARNING:root:kc_count=0, kc_sum=0.0, kc_possible=0.0\n",
      "WARNING:root:Warning: maximum possible weights in the network is 0 for k=12001.0!\n",
      "WARNING:root:kc_count=0, kc_sum=0.0, kc_possible=0.0\n",
      "WARNING:root:Warning: maximum possible weights in the network is 0 for k=12101.0!\n",
      "WARNING:root:kc_count=0, kc_sum=0.0, kc_possible=0.0\n",
      "WARNING:root:Warning: maximum possible weights in the network is 0 for k=10901.0!\n",
      "WARNING:root:kc_count=0, kc_sum=0.0, kc_possible=0.0\n",
      "WARNING:root:Warning: maximum possible weights in the network is 0 for k=11901.0!\n",
      "WARNING:root:kc_count=0, kc_sum=0.0, kc_possible=0.0\n",
      "WARNING:root:Warning: maximum possible weights in the network is 0 for k=11201.0!\n",
      "WARNING:root:kc_count=0, kc_sum=0.0, kc_possible=0.0\n",
      "WARNING:root:Warning: maximum possible weights in the network is 0 for k=11101.0!\n",
      "WARNING:root:kc_count=0, kc_sum=0.0, kc_possible=0.0\n",
      "WARNING:root:Warning: the graph is not weighted!\n",
      "WARNING:root:Warning: the graph is not weighted!\n",
      "WARNING:root:Warning: the graph is not weighted!\n",
      "WARNING:root:Warning: the graph is not weighted!\n",
      "WARNING:root:Warning: the graph is not weighted!\n",
      "WARNING:root:Warning: the graph is not weighted!\n",
      "WARNING:root:Warning: the graph is not weighted!\n",
      "WARNING:root:Warning: the graph is not weighted!\n",
      "WARNING:root:Warning: the graph is not weighted!\n",
      "WARNING:root:Warning: the graph is not weighted!\n",
      "WARNING:root:Warning: the graph is not weighted!\n",
      "WARNING:root:Warning: the graph is not weighted!\n",
      "WARNING:root:Warning: the graph is not weighted!\n",
      "WARNING:root:Warning: the graph is not weighted!\n",
      "WARNING:root:Warning: the graph is not weighted!\n",
      "WARNING:root:Warning: the graph is not weighted!\n",
      "WARNING:root:Warning: the graph is not weighted!\n",
      "WARNING:root:Warning: the graph is not weighted!\n",
      "WARNING:root:Warning: the graph is not weighted!\n",
      "WARNING:root:Warning: the graph is not weighted!\n",
      "WARNING:root:Warning: the graph is not weighted!\n",
      "WARNING:root:Warning: the graph is not weighted!\n",
      "WARNING:root:Warning: the graph is not weighted!\n",
      "WARNING:root:Warning: the graph is not weighted!\n",
      "WARNING:root:Warning: the graph is not weighted!\n",
      "WARNING:root:Warning: the graph is not weighted!\n",
      "WARNING:root:Warning: the graph is not weighted!\n",
      "WARNING:root:Warning: the graph is not weighted!\n",
      "WARNING:root:Warning: the graph is not weighted!\n",
      "WARNING:root:Warning: the graph is not weighted!\n",
      "WARNING:root:Warning: the graph is not weighted!\n",
      "WARNING:root:Warning: the graph is not weighted!\n",
      "WARNING:root:Warning: the graph is not weighted!\n",
      "WARNING:root:Warning: the graph is not weighted!\n",
      "WARNING:root:Warning: the graph is not weighted!\n",
      "WARNING:root:Warning: the graph is not weighted!\n",
      "WARNING:root:Warning: the graph is not weighted!\n",
      "WARNING:root:Warning: the graph is not weighted!\n",
      "WARNING:root:Warning: the graph is not weighted!\n",
      "WARNING:root:Warning: the graph is not weighted!\n",
      "WARNING:root:Warning: the graph is not weighted!\n",
      "WARNING:root:Warning: the graph is not weighted!\n",
      "WARNING:root:Warning: the graph is not weighted!\n",
      "WARNING:root:Warning: the graph is not weighted!\n",
      "WARNING:root:Warning: the graph is not weighted!\n",
      "WARNING:root:Warning: the graph is not weighted!\n",
      "WARNING:root:Warning: the graph is not weighted!\n",
      "WARNING:root:Warning: the graph is not weighted!\n",
      "WARNING:root:Warning: the graph is not weighted!\n",
      "WARNING:root:Warning: the graph is not weighted!\n",
      "WARNING:root:Warning: the graph is not weighted!\n",
      "WARNING:root:Warning: the graph is not weighted!\n",
      "WARNING:root:Warning: the graph is not weighted!\n",
      "WARNING:root:Warning: the graph is not weighted!\n",
      "WARNING:root:Warning: the graph is not weighted!\n",
      "WARNING:root:Warning: the graph is not weighted!\n",
      "WARNING:root:Warning: the graph is not weighted!\n",
      "WARNING:root:Warning: the graph is not weighted!\n",
      "WARNING:root:Warning: the graph is not weighted!\n",
      "WARNING:root:Warning: the graph is not weighted!\n",
      "WARNING:root:Warning: the graph is not weighted!\n",
      "WARNING:root:Warning: the graph is not weighted!\n",
      "WARNING:root:Warning: the graph is not weighted!\n",
      "WARNING:root:Warning: the graph is not weighted!\n",
      "WARNING:root:Warning: the graph is not weighted!\n",
      "WARNING:root:Warning: the graph is not weighted!\n",
      "WARNING:root:Warning: the graph is not weighted!\n",
      "WARNING:root:Warning: the graph is not weighted!\n",
      "WARNING:root:Warning: the graph is not weighted!\n",
      "WARNING:root:Warning: the graph is not weighted!\n",
      "WARNING:root:Warning: the graph is not weighted!\n",
      "WARNING:root:Warning: the graph is not weighted!\n",
      "WARNING:root:Warning: the graph is not weighted!\n",
      "WARNING:root:Warning: the graph is not weighted!\n",
      "WARNING:root:Warning: the graph is not weighted!\n",
      "WARNING:root:Warning: the graph is not weighted!\n",
      "WARNING:root:Warning: the graph is not weighted!\n",
      "WARNING:root:Warning: the graph is not weighted!\n",
      "WARNING:root:Warning: the graph is not weighted!\n",
      "WARNING:root:Warning: the graph is not weighted!\n",
      "WARNING:root:Warning: the graph is not weighted!\n",
      "WARNING:root:Warning: the graph is not weighted!\n",
      "WARNING:root:Warning: the graph is not weighted!\n",
      "WARNING:root:Warning: the graph is not weighted!\n",
      "WARNING:root:Warning: the graph is not weighted!\n",
      "WARNING:root:Warning: the graph is not weighted!\n",
      "WARNING:root:Warning: the graph is not weighted!\n",
      "WARNING:root:Warning: the graph is not weighted!\n",
      "WARNING:root:Warning: the graph is not weighted!\n",
      "WARNING:root:Warning: the graph is not weighted!\n",
      "WARNING:root:Warning: the graph is not weighted!\n",
      "WARNING:root:Warning: the graph is not weighted!\n",
      "WARNING:root:Warning: the graph is not weighted!\n",
      "WARNING:root:Warning: maximum possible weights in the network is 0 for k=29701!\n",
      "WARNING:root:kc_count=0, kc_sum=0, kc_possible=0.0\n",
      "WARNING:root:Warning: the graph is not weighted!\n",
      "WARNING:root:Warning: the graph is not weighted!\n",
      "WARNING:root:Warning: the graph is not weighted!\n",
      "WARNING:root:Warning: the graph is not weighted!\n",
      "WARNING:root:Warning: the graph is not weighted!\n",
      "WARNING:root:Warning: the graph is not weighted!\n",
      "WARNING:root:Warning: the graph is not weighted!\n",
      "WARNING:root:Warning: the graph is not weighted!\n",
      "WARNING:root:Warning: the graph is not weighted!\n",
      "WARNING:root:Warning: the graph is not weighted!\n",
      "WARNING:root:Warning: the graph is not weighted!\n",
      "WARNING:root:Warning: the graph is not weighted!\n",
      "WARNING:root:Warning: the graph is not weighted!\n",
      "WARNING:root:Warning: the graph is not weighted!\n",
      "WARNING:root:Warning: the graph is not weighted!\n",
      "WARNING:root:Warning: the graph is not weighted!\n",
      "WARNING:root:Warning: the graph is not weighted!\n",
      "WARNING:root:Warning: the graph is not weighted!\n",
      "WARNING:root:Warning: the graph is not weighted!\n",
      "WARNING:root:Warning: the graph is not weighted!\n",
      "WARNING:root:Warning: the graph is not weighted!\n",
      "WARNING:root:Warning: the graph is not weighted!\n",
      "WARNING:root:Warning: the graph is not weighted!\n",
      "WARNING:root:Warning: the graph is not weighted!\n",
      "WARNING:root:Warning: the graph is not weighted!\n",
      "WARNING:root:Warning: the graph is not weighted!\n",
      "WARNING:root:Warning: the graph is not weighted!\n",
      "WARNING:root:Warning: the graph is not weighted!\n",
      "WARNING:root:Warning: the graph is not weighted!\n",
      "WARNING:root:Warning: the graph is not weighted!\n",
      "WARNING:root:Warning: the graph is not weighted!\n",
      "WARNING:root:Warning: the graph is not weighted!\n",
      "WARNING:root:Warning: the graph is not weighted!\n",
      "WARNING:root:Warning: the graph is not weighted!\n",
      "WARNING:root:Warning: the graph is not weighted!\n",
      "WARNING:root:Warning: the graph is not weighted!\n",
      "WARNING:root:Warning: the graph is not weighted!\n",
      "WARNING:root:Warning: the graph is not weighted!\n",
      "WARNING:root:Warning: the graph is not weighted!\n",
      "WARNING:root:Warning: the graph is not weighted!\n",
      "WARNING:root:Warning: the graph is not weighted!\n",
      "WARNING:root:Warning: the graph is not weighted!\n",
      "WARNING:root:Warning: the graph is not weighted!\n",
      "WARNING:root:Warning: the graph is not weighted!\n",
      "WARNING:root:Warning: the graph is not weighted!\n",
      "WARNING:root:Warning: the graph is not weighted!\n",
      "WARNING:root:Warning: the graph is not weighted!\n",
      "WARNING:root:Warning: the graph is not weighted!\n",
      "WARNING:root:Warning: the graph is not weighted!\n",
      "WARNING:root:Warning: the graph is not weighted!\n",
      "WARNING:root:Warning: the graph is not weighted!\n",
      "WARNING:root:Warning: the graph is not weighted!\n",
      "WARNING:root:Warning: the graph is not weighted!\n",
      "WARNING:root:Warning: the graph is not weighted!\n",
      "WARNING:root:Warning: the graph is not weighted!\n",
      "WARNING:root:Warning: the graph is not weighted!\n",
      "WARNING:root:Warning: the graph is not weighted!\n",
      "WARNING:root:Warning: the graph is not weighted!\n",
      "WARNING:root:Warning: the graph is not weighted!\n",
      "WARNING:root:Warning: the graph is not weighted!\n",
      "WARNING:root:Warning: the graph is not weighted!\n",
      "WARNING:root:Warning: the graph is not weighted!\n",
      "WARNING:root:Warning: the graph is not weighted!\n",
      "WARNING:root:Warning: the graph is not weighted!\n",
      "WARNING:root:Warning: the graph is not weighted!\n",
      "WARNING:root:Warning: the graph is not weighted!\n",
      "WARNING:root:Warning: the graph is not weighted!\n",
      "WARNING:root:Warning: the graph is not weighted!\n",
      "WARNING:root:Warning: the graph is not weighted!\n",
      "WARNING:root:Warning: the graph is not weighted!\n",
      "WARNING:root:Warning: the graph is not weighted!\n",
      "WARNING:root:Warning: the graph is not weighted!\n",
      "WARNING:root:Warning: the graph is not weighted!\n",
      "WARNING:root:Warning: the graph is not weighted!\n",
      "WARNING:root:Warning: the graph is not weighted!\n",
      "WARNING:root:Warning: the graph is not weighted!\n",
      "WARNING:root:Warning: the graph is not weighted!\n",
      "WARNING:root:Warning: the graph is not weighted!\n",
      "WARNING:root:Warning: the graph is not weighted!\n",
      "WARNING:root:Warning: the graph is not weighted!\n",
      "WARNING:root:Warning: the graph is not weighted!\n",
      "WARNING:root:Warning: the graph is not weighted!\n",
      "WARNING:root:Warning: the graph is not weighted!\n",
      "WARNING:root:Warning: the graph is not weighted!\n",
      "WARNING:root:Warning: the graph is not weighted!\n",
      "WARNING:root:Warning: the graph is not weighted!\n",
      "WARNING:root:Warning: the graph is not weighted!\n",
      "WARNING:root:Warning: the graph is not weighted!\n",
      "WARNING:root:Warning: the graph is not weighted!\n",
      "WARNING:root:Warning: the graph is not weighted!\n",
      "WARNING:root:Warning: the graph is not weighted!\n",
      "WARNING:root:Warning: the graph is not weighted!\n",
      "WARNING:root:Warning: the graph is not weighted!\n",
      "WARNING:root:Warning: the graph is not weighted!\n",
      "WARNING:root:Warning: the graph is not weighted!\n",
      "WARNING:root:Warning: the graph is not weighted!\n",
      "WARNING:root:Warning: the graph is not weighted!\n",
      "WARNING:root:Warning: the graph is not weighted!\n",
      "WARNING:root:Warning: the graph is not weighted!\n",
      "WARNING:root:Warning: the graph is not weighted!\n",
      "WARNING:root:Warning: the graph is not weighted!\n",
      "WARNING:root:Warning: the graph is not weighted!\n",
      "WARNING:root:Warning: the graph is not weighted!\n",
      "WARNING:root:Warning: the graph is not weighted!\n",
      "WARNING:root:Warning: the graph is not weighted!\n",
      "WARNING:root:Warning: the graph is not weighted!\n",
      "WARNING:root:Warning: the graph is not weighted!\n",
      "WARNING:root:Warning: the graph is not weighted!\n",
      "WARNING:root:Warning: the graph is not weighted!\n",
      "WARNING:root:Warning: the graph is not weighted!\n",
      "WARNING:root:Warning: the graph is not weighted!\n",
      "WARNING:root:Warning: the graph is not weighted!\n",
      "WARNING:root:Warning: the graph is not weighted!\n",
      "WARNING:root:Warning: the graph is not weighted!\n",
      "WARNING:root:Warning: the graph is not weighted!\n",
      "WARNING:root:Warning: the graph is not weighted!\n",
      "WARNING:root:Warning: the graph is not weighted!\n",
      "WARNING:root:Warning: the graph is not weighted!\n",
      "WARNING:root:Warning: the graph is not weighted!\n",
      "WARNING:root:Warning: the graph is not weighted!\n",
      "WARNING:root:Warning: the graph is not weighted!\n",
      "WARNING:root:Warning: the graph is not weighted!\n",
      "WARNING:root:Warning: the graph is not weighted!\n",
      "WARNING:root:Warning: the graph is not weighted!\n",
      "WARNING:root:Warning: the graph is not weighted!\n",
      "WARNING:root:Warning: the graph is not weighted!\n",
      "WARNING:root:Warning: the graph is not weighted!\n",
      "WARNING:root:Warning: the graph is not weighted!\n",
      "WARNING:root:Warning: the graph is not weighted!\n",
      "WARNING:root:Warning: the graph is not weighted!\n",
      "WARNING:root:Warning: the graph is not weighted!\n",
      "WARNING:root:Warning: the graph is not weighted!\n",
      "WARNING:root:Warning: the graph is not weighted!\n",
      "WARNING:root:Warning: the graph is not weighted!\n",
      "WARNING:root:Warning: the graph is not weighted!\n",
      "WARNING:root:Warning: the graph is not weighted!\n",
      "WARNING:root:Warning: the graph is not weighted!\n",
      "WARNING:root:Warning: the graph is not weighted!\n",
      "WARNING:root:Warning: the graph is not weighted!\n",
      "WARNING:root:Warning: the graph is not weighted!\n",
      "WARNING:root:Warning: the graph is not weighted!\n",
      "WARNING:root:Warning: the graph is not weighted!\n",
      "WARNING:root:Warning: the graph is not weighted!\n",
      "WARNING:root:Warning: the graph is not weighted!\n",
      "WARNING:root:Warning: the graph is not weighted!\n",
      "WARNING:root:Warning: the graph is not weighted!\n",
      "WARNING:root:Warning: the graph is not weighted!\n",
      "WARNING:root:Warning: the graph is not weighted!\n",
      "WARNING:root:Warning: the graph is not weighted!\n",
      "WARNING:root:Warning: the graph is not weighted!\n",
      "WARNING:root:Warning: the graph is not weighted!\n",
      "WARNING:root:Warning: the graph is not weighted!\n",
      "WARNING:root:Warning: the graph is not weighted!\n",
      "WARNING:root:Warning: the graph is not weighted!\n",
      "WARNING:root:Warning: the graph is not weighted!\n",
      "WARNING:root:Warning: the graph is not weighted!\n",
      "WARNING:root:Warning: the graph is not weighted!\n",
      "WARNING:root:Warning: the graph is not weighted!\n",
      "WARNING:root:Warning: the graph is not weighted!\n",
      "WARNING:root:Warning: the graph is not weighted!\n",
      "WARNING:root:Warning: the graph is not weighted!\n",
      "WARNING:root:Warning: the graph is not weighted!\n",
      "WARNING:root:Warning: the graph is not weighted!\n",
      "WARNING:root:Warning: the graph is not weighted!\n",
      "WARNING:root:Warning: the graph is not weighted!\n",
      "WARNING:root:Warning: the graph is not weighted!\n",
      "WARNING:root:Warning: the graph is not weighted!\n",
      "WARNING:root:Warning: the graph is not weighted!\n",
      "WARNING:root:Warning: the graph is not weighted!\n",
      "WARNING:root:Warning: the graph is not weighted!\n",
      "WARNING:root:Warning: the graph is not weighted!\n",
      "WARNING:root:Warning: the graph is not weighted!\n",
      "WARNING:root:Warning: the graph is not weighted!\n",
      "WARNING:root:Warning: the graph is not weighted!\n",
      "WARNING:root:Warning: the graph is not weighted!\n",
      "WARNING:root:Warning: the graph is not weighted!\n",
      "WARNING:root:Warning: the graph is not weighted!\n",
      "WARNING:root:Warning: the graph is not weighted!\n",
      "WARNING:root:Warning: the graph is not weighted!\n",
      "WARNING:root:Warning: the graph is not weighted!\n",
      "WARNING:root:Warning: the graph is not weighted!\n",
      "WARNING:root:Warning: the graph is not weighted!\n",
      "WARNING:root:Warning: the graph is not weighted!\n",
      "WARNING:root:Warning: the graph is not weighted!\n",
      "WARNING:root:Warning: the graph is not weighted!\n",
      "WARNING:root:Warning: the graph is not weighted!\n",
      "WARNING:root:Warning: the graph is not weighted!\n",
      "WARNING:root:Warning: the graph is not weighted!\n",
      "WARNING:root:Warning: the graph is not weighted!\n",
      "WARNING:root:Warning: the graph is not weighted!\n",
      "WARNING:root:Warning: the graph is not weighted!\n",
      "WARNING:root:Warning: the graph is not weighted!\n",
      "WARNING:root:Warning: the graph is not weighted!\n",
      "WARNING:root:Warning: the graph is not weighted!\n",
      "WARNING:root:Warning: the graph is not weighted!\n",
      "WARNING:root:Warning: the graph is not weighted!\n",
      "WARNING:root:Warning: the graph is not weighted!\n",
      "WARNING:root:Warning: the graph is not weighted!\n",
      "WARNING:root:Warning: the graph is not weighted!\n",
      "WARNING:root:Warning: the graph is not weighted!\n",
      "WARNING:root:Warning: the graph is not weighted!\n",
      "WARNING:root:Warning: the graph is not weighted!\n",
      "WARNING:root:Warning: the graph is not weighted!\n",
      "WARNING:root:Warning: the graph is not weighted!\n",
      "WARNING:root:Warning: the graph is not weighted!\n"
     ]
    },
    {
     "ename": "NameError",
     "evalue": "name 'rca_sbm' is not defined",
     "output_type": "error",
     "traceback": [
      "\u001b[0;31m---------------------------------------------------------------------------\u001b[0m",
      "\u001b[0;31mNameError\u001b[0m                                 Traceback (most recent call last)",
      "Cell \u001b[0;32mIn[16], line 14\u001b[0m\n\u001b[1;32m      6\u001b[0m k_dict_parallel_dd \u001b[38;5;241m=\u001b[39m rca_dd\u001b[38;5;241m.\u001b[39mcalculate_rich_club_coefficients(weighted\u001b[38;5;241m=\u001b[39m\u001b[38;5;28;01mTrue\u001b[39;00m,\n\u001b[1;32m      7\u001b[0m                                                             method\u001b[38;5;241m=\u001b[39m\u001b[38;5;124m'\u001b[39m\u001b[38;5;124mstrongest-links-in-network\u001b[39m\u001b[38;5;124m'\u001b[39m,\n\u001b[1;32m      8\u001b[0m                                                             scheduler\u001b[38;5;241m=\u001b[39m\u001b[38;5;28;01mNone\u001b[39;00m,\n\u001b[1;32m      9\u001b[0m                                                             step\u001b[38;5;241m=\u001b[39m\u001b[38;5;241m100\u001b[39m)\n\u001b[1;32m     10\u001b[0m k_dict_parallel_er \u001b[38;5;241m=\u001b[39m rca_er\u001b[38;5;241m.\u001b[39mcalculate_rich_club_coefficients(weighted\u001b[38;5;241m=\u001b[39m\u001b[38;5;28;01mTrue\u001b[39;00m,\n\u001b[1;32m     11\u001b[0m                                                             method\u001b[38;5;241m=\u001b[39m\u001b[38;5;124m'\u001b[39m\u001b[38;5;124mstrongest-links-in-network\u001b[39m\u001b[38;5;124m'\u001b[39m,\n\u001b[1;32m     12\u001b[0m                                                             scheduler\u001b[38;5;241m=\u001b[39m\u001b[38;5;28;01mNone\u001b[39;00m,\n\u001b[1;32m     13\u001b[0m                                                             step\u001b[38;5;241m=\u001b[39m\u001b[38;5;241m100\u001b[39m)\n\u001b[0;32m---> 14\u001b[0m k_dict_parallel_sbm \u001b[38;5;241m=\u001b[39m \u001b[43mrca_sbm\u001b[49m\u001b[38;5;241m.\u001b[39mcalculate_rich_club_coefficients(weighted\u001b[38;5;241m=\u001b[39m\u001b[38;5;28;01mTrue\u001b[39;00m,\n\u001b[1;32m     15\u001b[0m                                                             method\u001b[38;5;241m=\u001b[39m\u001b[38;5;124m'\u001b[39m\u001b[38;5;124mstrongest-links-in-network\u001b[39m\u001b[38;5;124m'\u001b[39m,\n\u001b[1;32m     16\u001b[0m                                                             scheduler\u001b[38;5;241m=\u001b[39m\u001b[38;5;28;01mNone\u001b[39;00m,\n\u001b[1;32m     17\u001b[0m                                                             step\u001b[38;5;241m=\u001b[39m\u001b[38;5;241m100\u001b[39m)\n\u001b[1;32m     18\u001b[0m client\u001b[38;5;241m.\u001b[39mshutdown()    \u001b[38;5;66;03m# Shutdown the Dask client\u001b[39;00m\n",
      "\u001b[0;31mNameError\u001b[0m: name 'rca_sbm' is not defined"
     ]
    }
   ],
   "source": [
    "rca_dd = RichClubAnalysis(dd_model)\n",
    "rca_er = RichClubAnalysis(er1)\n",
    "# rca_sbm = RichClubAnalysis(sbm)\n",
    "\n",
    "client = Client()    # Start Dask client\n",
    "k_dict_parallel_dd = rca_dd.calculate_rich_club_coefficients(weighted=True,\n",
    "                                                            method='strongest-links-in-network',\n",
    "                                                            scheduler=None,\n",
    "                                                            step=100)\n",
    "k_dict_parallel_er = rca_er.calculate_rich_club_coefficients(weighted=True,\n",
    "                                                            method='strongest-links-in-network',\n",
    "                                                            scheduler=None,\n",
    "                                                            step=100)\n",
    "k_dict_parallel_sbm = rca_sbm.calculate_rich_club_coefficients(weighted=True,\n",
    "                                                            method='strongest-links-in-network',\n",
    "                                                            scheduler=None,\n",
    "                                                            step=100)\n",
    "client.shutdown()    # Shutdown the Dask client"
   ]
  },
  {
   "cell_type": "code",
   "execution_count": 20,
   "metadata": {},
   "outputs": [
    {
     "name": "stderr",
     "output_type": "stream",
     "text": [
      "WARNING:root:Warning: maximum possible weights in the network is 0 for k=5901.0!\n",
      "WARNING:root:kc_count=0, kc_sum=0.0, kc_possible=0.0\n",
      "WARNING:root:Warning: maximum possible weights in the network is 0 for k=5801.0!\n",
      "WARNING:root:kc_count=0, kc_sum=0.0, kc_possible=0.0\n",
      "INFO:distributed.worker:Stopping worker at tcp://127.0.0.1:34797. Reason: nanny-close\n",
      "INFO:distributed.core:Connection to tcp://127.0.0.1:43056 has been closed.\n"
     ]
    }
   ],
   "source": [
    "rca_sbm = RichClubAnalysis(sbm)\n",
    "\n",
    "client = Client()    # Start Dask client\n",
    "k_dict_parallel_sbm = rca_sbm.calculate_rich_club_coefficients(weighted=True,\n",
    "                                                            method='strongest-links-in-network',\n",
    "                                                            scheduler=None,\n",
    "                                                            step=100)\n",
    "client.shutdown()    # Shutdown the Dask client"
   ]
  },
  {
   "cell_type": "code",
   "execution_count": 82,
   "metadata": {},
   "outputs": [],
   "source": [
    "original_coeffs_dict = {k: v['slice'] for k, v in original_coeffs.T.to_dict('index').items()}\n",
    "dp_coeffs_dict = {k: v[0] for k, v in average_random_coeffs.T.to_dict('index').items()}"
   ]
  },
  {
   "cell_type": "code",
   "execution_count": 116,
   "metadata": {},
   "outputs": [],
   "source": [
    "keys_list = [float(key) for key in dp_coeffs_dict.keys()]\n",
    "keys_list = np.array(keys_list).astype(int)\n",
    "\n",
    "keys_list_ca1 = [float(key) for key in original_coeffs_dict.keys()]\n",
    "keys_list_ca1 = np.array(keys_list_ca1).astype(int)"
   ]
  },
  {
   "cell_type": "code",
   "execution_count": 122,
   "metadata": {},
   "outputs": [
    {
     "data": {
      "image/png": "[encoded data removed]",
      "text/plain": [
       "<Figure size 1000x1000 with 1 Axes>"
      ]
     },
     "metadata": {},
     "output_type": "display_data"
    }
   ],
   "source": [
    "f ,ax= plt.subplots(figsize=(10,10))\n",
    "\n",
    "plt.plot(keys_list_ca1,original_coeffs_dict.values())\n",
    "plt.plot(k_dict_parallel_dd.keys(),k_dict_parallel_dd.values())\n",
    "plt.plot(k_dict_parallel_er.keys(),k_dict_parallel_er.values())\n",
    "plt.plot(keys_list,dp_coeffs_dict.values())\n",
    "\n",
    "random_vals = np.array(list(dp_coeffs_dict.values()))\n",
    "norm_rc = np.array(list(original_coeffs_dict.values()))[:random_vals.shape[0]] / random_vals\n",
    "plt.plot(keys_list,norm_rc)\n",
    "ax.axhline(y=1, color='k', linestyle='--', label='y=1')\n",
    "ax.fill_between(keys_list, norm_rc, 1, where=(np.array(norm_rc) >= 1), color='lightgray')\n",
    "\n",
    "plt.title('Rich Club Coefficients for slice10 synaptome (weighted)')\n",
    "plt.xlabel('k (synapses)')\n",
    "plt.ylabel('Coefficient')\n",
    "plt.legend(['CA1 slice',\n",
    "            'distance-dependent random model',\n",
    "            'ER Model (6 synapses/conn)',\n",
    "            'degree-preserving model (dp)',\n",
    "            'norm_RC_coeff (CA1/dp)'])\n",
    "plt.savefig(f\"{save_dir}/rich_club_directed_weighted.png\", dpi=dpi, bbox_inches='tight')"
   ]
  },
  {
   "cell_type": "code",
   "execution_count": 120,
   "metadata": {},
   "outputs": [
    {
     "name": "stdout",
     "output_type": "stream",
     "text": [
      "common_neighbors\t\t spectral_analysis\n",
      "degree_and_polarity\t\t spectral_analysis_test\n",
      "information_flow\t\t spectral_clustering_3d.png\n",
      "random_models\t\t\t spectral_clustering.png\n",
      "rich_club\t\t\t synaptome_cylinder_with_proj.png\n",
      "rich_club_directed_weighted.png  triplets\n",
      "rich_club_weigted_slice10.png\n"
     ]
    }
   ],
   "source": [
    "!ls ../output"
   ]
  },
  {
   "cell_type": "markdown",
   "metadata": {},
   "source": [
    "# Statistical Tests\n",
    "\n",
    "I didnt see a "
   ]
  },
  {
   "cell_type": "code",
   "execution_count": null,
   "metadata": {},
   "outputs": [],
   "source": [
    "u_stat, p_val = stats.mannwhitneyu(random_rc_coeffs.values, \n",
    "                                   original_coeffs.values[:,:random_rc_coeffs.shape[1]], alternative='two-sided')\n",
    "\n",
    "\n",
    "print(f\"U statistic: {u_stat}\")\n",
    "print(f\"P-value: {p_val}\")\n",
    "\n",
    "# interpret the result\n",
    "alpha = 0.05  # significance level\n",
    "if p_val < alpha:\n",
    "    print(\"The rich-club coefficient of the original graph is significantly different from the coefficients of the randomized graphs.\")\n",
    "else:\n",
    "    print(\"There is not enough evidence to suggest that the rich-club coefficient of the original graph is significantly different from the coefficients of the randomized graphs.\")\n"
   ]
  },
  {
   "cell_type": "code",
   "execution_count": null,
   "metadata": {},
   "outputs": [],
   "source": [
    "np.where(p_val < alpha)"
   ]
  },
  {
   "cell_type": "code",
   "execution_count": null,
   "metadata": {},
   "outputs": [],
   "source": [
    "from scipy import stats\n",
    "\n",
    "# aligned_arr1 = np.repeat(original_coeffs.values[:,:random_rc_coeffs.shape[1]], random_rc_coeffs.shape[0], axis=0)\n",
    "control_data_mean = np.nanmean(random_rc_coeffs.values, axis=0).reshape(1,217)\n",
    "\n",
    "t_statistic, p_value = stats.ttest_1samp(original_coeffs.values[:,:random_rc_coeffs.shape[1]], \n",
    "                                         control_data_mean,\n",
    "                                         nan_policy='omit'\n",
    "                                         )\n",
    "\n",
    "print('Statistical Test Results:')\n",
    "print('T-Statistic:', t_statistic)\n",
    "print('P-Value:', p_value)"
   ]
  },
  {
   "cell_type": "markdown",
   "metadata": {},
   "source": [
    "<!-- # Use Dask to distribute among slurm nodes -->"
   ]
  },
  {
   "cell_type": "code",
   "execution_count": null,
   "metadata": {},
   "outputs": [],
   "source": [
    "# from dask_jobqueue import SLURMCluster\n",
    "# import os\n",
    "\n",
    "# def calculate_rich_club_coefficients(target_synaptome, seed):\n",
    "#     model_dp = WeightPermutedRandomModel(target_synaptome)\n",
    "#     dp_adj = model_dp.generate(seed=seed)\n",
    "\n",
    "#     rca_dp = RichClubAnalysis(dp_adj)\n",
    "#     k_dict_parallel_dp = rca_dp.calculate_rich_club_coefficients(weighted=True,\n",
    "#                             method='strongest-links-in-network',step=100)\n",
    "#     return k_dict_parallel_dp.values()\n",
    "\n",
    "# n_trials = 5\n",
    "\n",
    "# # setup SLURM cluster\n",
    "# random_type = 'WP'\n",
    "# cluster = SLURMCluster(queue='prod', \n",
    "#                        cores=4,\n",
    "#                        name=f'rich_club_{random_type}',\n",
    "#                        log_directory = f'{os.getcwd()}/slurm_logs/',\n",
    "#                        memory=\"32GB\", \n",
    "#                        walltime='01:00:00',\n",
    "#                        account='proj112',\n",
    "# #                       job_script=\"/gpfs/bbp.cscs.ch/project/proj112/home/kurban/topology_paper/toolbox/graph_analysis/notebooks/dask_worker.sbatch\",\n",
    "#                       )\n",
    "\n",
    "# client = Client(cluster)\n",
    "\n",
    "# # adjust the scale to match the number of trials (this might vary depending on your setup)\n",
    "# cluster.scale(n_trials)  \n",
    "# futures = client.map(calculate_rich_club_coefficients, [target_synaptome]*n_trials, range(n_trials))\n",
    "# results = client.gather(futures)"
   ]
  },
  {
   "cell_type": "code",
   "execution_count": null,
   "metadata": {},
   "outputs": [],
   "source": []
  }
 ],
 "metadata": {
  "kernelspec": {
   "display_name": "venv2022",
   "language": "python",
   "name": "venv2022"
  },
  "language_info": {
   "codemirror_mode": {
    "name": "ipython",
    "version": 3
   },
   "file_extension": ".py",
   "mimetype": "text/x-python",
   "name": "python",
   "nbconvert_exporter": "python",
   "pygments_lexer": "ipython3",
   "version": "3.8.3"
  }
 },
 "nbformat": 4,
 "nbformat_minor": 4
}
