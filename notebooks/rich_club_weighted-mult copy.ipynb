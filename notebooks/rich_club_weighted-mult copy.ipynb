{
 "cells": [
  {
   "cell_type": "code",
   "execution_count": 1,
   "metadata": {},
   "outputs": [],
   "source": [
    "from scipy import sparse\n",
    "from bluepysnap import Circuit\n",
    "from graph_analysis.randomize import WeightPermutedRandomModel\n",
    "from graph_analysis.rich_cub import RichClubAnalysis\n",
    "from dask.distributed import Client, LocalCluster\n",
    "import matplotlib.pyplot as plt\n",
    "import pandas as pd\n",
    "import numpy as np\n",
    "from tqdm import tqdm"
   ]
  },
  {
   "cell_type": "code",
   "execution_count": 2,
   "metadata": {},
   "outputs": [],
   "source": [
    "file_format = 'png'\n",
    "dpi = 300"
   ]
  },
  {
   "cell_type": "code",
   "execution_count": 3,
   "metadata": {},
   "outputs": [],
   "source": [
    "adj_path = '/gpfs/bbp.cscs.ch/project/proj112/circuits/CA1/20211110-BioM/data/ca1_synaptome.npz'\n",
    "synaptome = sparse.load_npz(adj_path)\n",
    "connectome = synaptome.copy()\n",
    "connectome[connectome > 0] = 1\n",
    "# del synaptome\n",
    "\n",
    "target = 'slice10'\n",
    "CIRCUIT_DIR =  '/gpfs/bbp.cscs.ch/project/proj112/circuits/CA1/20211110-BioM/sonata/circuit_config.json'\n",
    "circuit = Circuit(CIRCUIT_DIR)\n",
    "nodes = circuit.nodes[\"hippocampus_neurons\"]\n",
    "edges = circuit.edges[\"hippocampus_neurons__hippocampus_neurons__chemical_synapse\"]\n",
    "target_indices = nodes.ids(target)\n",
    "target_synaptome = synaptome[target_indices,:][:,target_indices]\n",
    "target_connectome = connectome[target_indices,:][:,target_indices]"
   ]
  },
  {
   "cell_type": "code",
   "execution_count": null,
   "metadata": {
    "collapsed": true,
    "jupyter": {
     "outputs_hidden": true,
     "source_hidden": true
    }
   },
   "outputs": [],
   "source": [
    "# model_dp = WeightPermutedRandomModel(target_synaptome)\n",
    "\n",
    "# random_adjs = []\n",
    "\n",
    "# for i in tqdm(range(100)):\n",
    "#     dp_adj = model_dp.generate(seed=i)\n",
    "#     random_adjs.append(dp_adj)"
   ]
  },
  {
   "cell_type": "code",
   "execution_count": null,
   "metadata": {},
   "outputs": [
    {
     "name": "stderr",
     "output_type": "stream",
     "text": [
      "WARNING:root:Warning: maximum possible weights in the network is 0!\n",
      "WARNING:root:Warning: maximum possible weights in the network is 0!\n",
      "WARNING:root:Warning: maximum possible weights in the network is 0!\n",
      "WARNING:root:Warning: maximum possible weights in the network is 0!\n",
      "WARNING:root:Warning: maximum possible weights in the network is 0!\n",
      "WARNING:root:Warning: maximum possible weights in the network is 0!\n",
      "WARNING:root:Warning: maximum possible weights in the network is 0!\n",
      "WARNING:root:Warning: maximum possible weights in the network is 0!\n",
      "WARNING:root:Warning: maximum possible weights in the network is 0!\n",
      "WARNING:root:Warning: maximum possible weights in the network is 0!\n",
      "WARNING:root:Warning: maximum possible weights in the network is 0!\n",
      "WARNING:root:Warning: maximum possible weights in the network is 0!\n",
      "WARNING:root:Warning: maximum possible weights in the network is 0!\n",
      "WARNING:root:Warning: maximum possible weights in the network is 0!\n",
      "WARNING:root:Warning: maximum possible weights in the network is 0!\n",
      "WARNING:root:Warning: maximum possible weights in the network is 0!\n",
      "INFO:distributed.worker:Stopping worker at tcp://127.0.0.1:45294. Reason: nanny-close\n",
      "INFO:distributed.worker:Stopping worker at tcp://127.0.0.1:34134. Reason: nanny-close\n",
      "INFO:distributed.worker:Stopping worker at tcp://127.0.0.1:40670. Reason: nanny-close\n",
      "INFO:distributed.worker:Stopping worker at tcp://127.0.0.1:40418. Reason: nanny-close\n",
      "INFO:distributed.core:Connection to tcp://127.0.0.1:39619 has been closed.\n",
      "INFO:distributed.worker:Stopping worker at tcp://127.0.0.1:42432. Reason: nanny-close\n",
      "INFO:distributed.core:Connection to tcp://127.0.0.1:39619 has been closed.\n",
      "INFO:distributed.worker:Stopping worker at tcp://127.0.0.1:33940. Reason: nanny-close\n",
      "INFO:distributed.core:Connection to tcp://127.0.0.1:39619 has been closed.\n",
      "INFO:distributed.worker:Stopping worker at tcp://127.0.0.1:35279. Reason: nanny-close\n",
      "INFO:distributed.core:Connection to tcp://127.0.0.1:39619 has been closed.\n",
      "INFO:distributed.worker:Stopping worker at tcp://127.0.0.1:43353. Reason: nanny-close\n",
      "INFO:distributed.core:Connection to tcp://127.0.0.1:39619 has been closed.\n",
      "INFO:distributed.core:Connection to tcp://127.0.0.1:39619 has been closed.\n",
      "INFO:distributed.core:Connection to tcp://127.0.0.1:39619 has been closed.\n",
      "INFO:distributed.core:Connection to tcp://127.0.0.1:39619 has been closed.\n"
     ]
    }
   ],
   "source": [
    "# calculate the rich club coefficients for the original graph\n",
    "rca_syn = RichClubAnalysis(target_synaptome)\n",
    "client = Client()    # Start Dask client\n",
    "k_dict_parallel_model = rca_syn.calculate_rich_club_coefficients(weighted=True,\n",
    "                            method='strongest-links-in-network',step=100)\n",
    "client.shutdown()    # Shutdown the Dask client"
   ]
  },
  {
   "cell_type": "code",
   "execution_count": 8,
   "metadata": {},
   "outputs": [
    {
     "data": {
      "text/html": [
       "<div>\n",
       "<style scoped>\n",
       "    .dataframe tbody tr th:only-of-type {\n",
       "        vertical-align: middle;\n",
       "    }\n",
       "\n",
       "    .dataframe tbody tr th {\n",
       "        vertical-align: top;\n",
       "    }\n",
       "\n",
       "    .dataframe thead th {\n",
       "        text-align: right;\n",
       "    }\n",
       "</style>\n",
       "<table border=\"1\" class=\"dataframe\">\n",
       "  <thead>\n",
       "    <tr style=\"text-align: right;\">\n",
       "      <th></th>\n",
       "      <th>1.0</th>\n",
       "      <th>101.0</th>\n",
       "      <th>201.0</th>\n",
       "      <th>301.0</th>\n",
       "      <th>401.0</th>\n",
       "      <th>501.0</th>\n",
       "      <th>601.0</th>\n",
       "      <th>701.0</th>\n",
       "      <th>801.0</th>\n",
       "      <th>901.0</th>\n",
       "      <th>...</th>\n",
       "      <th>30301.0</th>\n",
       "      <th>30401.0</th>\n",
       "      <th>30501.0</th>\n",
       "      <th>30601.0</th>\n",
       "      <th>30701.0</th>\n",
       "      <th>30801.0</th>\n",
       "      <th>30901.0</th>\n",
       "      <th>31001.0</th>\n",
       "      <th>31101.0</th>\n",
       "      <th>31201.0</th>\n",
       "    </tr>\n",
       "  </thead>\n",
       "  <tbody>\n",
       "    <tr>\n",
       "      <th>slice</th>\n",
       "      <td>0.5</td>\n",
       "      <td>0.5</td>\n",
       "      <td>0.499996</td>\n",
       "      <td>0.499887</td>\n",
       "      <td>0.499397</td>\n",
       "      <td>0.498177</td>\n",
       "      <td>0.495641</td>\n",
       "      <td>0.490707</td>\n",
       "      <td>0.481791</td>\n",
       "      <td>0.467049</td>\n",
       "      <td>...</td>\n",
       "      <td>NaN</td>\n",
       "      <td>NaN</td>\n",
       "      <td>NaN</td>\n",
       "      <td>NaN</td>\n",
       "      <td>NaN</td>\n",
       "      <td>NaN</td>\n",
       "      <td>NaN</td>\n",
       "      <td>NaN</td>\n",
       "      <td>NaN</td>\n",
       "      <td>NaN</td>\n",
       "    </tr>\n",
       "  </tbody>\n",
       "</table>\n",
       "<p>1 rows × 313 columns</p>\n",
       "</div>"
      ],
      "text/plain": [
       "       1.0      101.0     201.0     301.0     401.0     501.0     601.0    \\\n",
       "slice      0.5      0.5  0.499996  0.499887  0.499397  0.498177  0.495641   \n",
       "\n",
       "        701.0     801.0     901.0    ...  30301.0  30401.0  30501.0  30601.0  \\\n",
       "slice  0.490707  0.481791  0.467049  ...      NaN      NaN      NaN      NaN   \n",
       "\n",
       "       30701.0  30801.0  30901.0  31001.0  31101.0  31201.0  \n",
       "slice      NaN      NaN      NaN      NaN      NaN      NaN  \n",
       "\n",
       "[1 rows x 313 columns]"
      ]
     },
     "execution_count": 8,
     "metadata": {},
     "output_type": "execute_result"
    }
   ],
   "source": [
    "df = pd.DataFrame.from_dict(k_dict_parallel_model, orient='index', columns=['slice']).T\n",
    "df"
   ]
  },
  {
   "cell_type": "code",
   "execution_count": 9,
   "metadata": {},
   "outputs": [
    {
     "data": {
      "text/plain": [
       "[<matplotlib.lines.Line2D at 0x2aab2bd8a130>]"
      ]
     },
     "execution_count": 9,
     "metadata": {},
     "output_type": "execute_result"
    },
    {
     "data": {
      "image/png": "[encoded data removed]",
      "text/plain": [
       "<Figure size 640x480 with 1 Axes>"
      ]
     },
     "metadata": {},
     "output_type": "display_data"
    }
   ],
   "source": [
    "plt.plot(k_dict_parallel_model.keys(),k_dict_parallel_model.values())\n",
    "# plt.xscale('log')"
   ]
  },
  {
   "cell_type": "markdown",
   "metadata": {},
   "source": [
    "# Use Dask to distribute among slurm nodes"
   ]
  },
  {
   "cell_type": "code",
   "execution_count": 23,
   "metadata": {},
   "outputs": [],
   "source": [
    "from dask_jobqueue import SLURMCluster"
   ]
  },
  {
   "cell_type": "code",
   "execution_count": 28,
   "metadata": {},
   "outputs": [],
   "source": [
    "import os"
   ]
  },
  {
   "cell_type": "code",
   "execution_count": null,
   "metadata": {},
   "outputs": [],
   "source": [
    "def calculate_rich_club_coefficients(target_synaptome, seed):\n",
    "    model_dp = WeightPermutedRandomModel(target_synaptome)\n",
    "    dp_adj = model_dp.generate(seed=seed)\n",
    "\n",
    "    rca_dp = RichClubAnalysis(dp_adj)\n",
    "    k_dict_parallel_dp = rca_dp.calculate_rich_club_coefficients(weighted=True,\n",
    "                            method='strongest-links-in-network',step=100)\n",
    "    return k_dict_parallel_dp.values()"
   ]
  },
  {
   "cell_type": "code",
   "execution_count": 40,
   "metadata": {},
   "outputs": [
    {
     "name": "stderr",
     "output_type": "stream",
     "text": [
      "/gpfs/bbp.cscs.ch/home/kurban/venv2022/lib/python3.8/site-packages/distributed/node.py:182: UserWarning: Port 8787 is already in use.\n",
      "Perhaps you already have a cluster running?\n",
      "Hosting the HTTP server on port 33475 instead\n",
      "  warnings.warn(\n"
     ]
    }
   ],
   "source": [
    "n_trials = 5\n",
    "\n",
    "# setup SLURM cluster\n",
    "random_type = 'WP'\n",
    "cluster = SLURMCluster(queue='prod', \n",
    "                       cores=4,\n",
    "                       name=f'rich_club_{random_type}',\n",
    "                       log_directory = f'{os.getcwd()}/slurm_logs/',\n",
    "                       memory=\"32GB\", \n",
    "                       walltime='01:00:00',\n",
    "                       account='proj112',\n",
    "#                       job_script=\"/gpfs/bbp.cscs.ch/project/proj112/home/kurban/topology_paper/toolbox/graph_analysis/notebooks/dask_worker.sbatch\",\n",
    "                      )"
   ]
  },
  {
   "cell_type": "code",
   "execution_count": 37,
   "metadata": {},
   "outputs": [],
   "source": [
    "client = Client(cluster)\n",
    "\n",
    "# adjust the scale to match the number of trials (this might vary depending on your setup)\n",
    "cluster.scale(n_trials)  "
   ]
  },
  {
   "cell_type": "code",
   "execution_count": 38,
   "metadata": {},
   "outputs": [],
   "source": [
    "futures = client.map(calculate_rich_club_coefficients, [target_synaptome]*n_trials, range(n_trials))"
   ]
  },
  {
   "cell_type": "code",
   "execution_count": 39,
   "metadata": {
    "collapsed": true,
    "jupyter": {
     "outputs_hidden": true
    }
   },
   "outputs": [
    {
     "ename": "KilledWorker",
     "evalue": "Attempted to run task calculate_rich_club_coefficients-0bf74057757f42f3257b16e29752730b on 3 different workers, but all those workers died while running it. The last worker that attempt to run the task was tcp://10.80.155.244:41403. Inspecting worker logs is often a good next step to diagnose what went wrong. For more information see https://distributed.dask.org/en/stable/killed.html.",
     "output_type": "error",
     "traceback": [
      "\u001b[0;31m---------------------------------------------------------------------------\u001b[0m",
      "\u001b[0;31mKilledWorker\u001b[0m                              Traceback (most recent call last)",
      "Cell \u001b[0;32mIn[39], line 1\u001b[0m\n\u001b[0;32m----> 1\u001b[0m results \u001b[38;5;241m=\u001b[39m \u001b[43mclient\u001b[49m\u001b[38;5;241;43m.\u001b[39;49m\u001b[43mgather\u001b[49m\u001b[43m(\u001b[49m\u001b[43mfutures\u001b[49m\u001b[43m)\u001b[49m\n",
      "File \u001b[0;32m~/venv2022/lib/python3.8/site-packages/distributed/client.py:2328\u001b[0m, in \u001b[0;36mClient.gather\u001b[0;34m(self, futures, errors, direct, asynchronous)\u001b[0m\n\u001b[1;32m   2326\u001b[0m \u001b[38;5;28;01melse\u001b[39;00m:\n\u001b[1;32m   2327\u001b[0m     local_worker \u001b[38;5;241m=\u001b[39m \u001b[38;5;28;01mNone\u001b[39;00m\n\u001b[0;32m-> 2328\u001b[0m \u001b[38;5;28;01mreturn\u001b[39;00m \u001b[38;5;28;43mself\u001b[39;49m\u001b[38;5;241;43m.\u001b[39;49m\u001b[43msync\u001b[49m\u001b[43m(\u001b[49m\n\u001b[1;32m   2329\u001b[0m \u001b[43m    \u001b[49m\u001b[38;5;28;43mself\u001b[39;49m\u001b[38;5;241;43m.\u001b[39;49m\u001b[43m_gather\u001b[49m\u001b[43m,\u001b[49m\n\u001b[1;32m   2330\u001b[0m \u001b[43m    \u001b[49m\u001b[43mfutures\u001b[49m\u001b[43m,\u001b[49m\n\u001b[1;32m   2331\u001b[0m \u001b[43m    \u001b[49m\u001b[43merrors\u001b[49m\u001b[38;5;241;43m=\u001b[39;49m\u001b[43merrors\u001b[49m\u001b[43m,\u001b[49m\n\u001b[1;32m   2332\u001b[0m \u001b[43m    \u001b[49m\u001b[43mdirect\u001b[49m\u001b[38;5;241;43m=\u001b[39;49m\u001b[43mdirect\u001b[49m\u001b[43m,\u001b[49m\n\u001b[1;32m   2333\u001b[0m \u001b[43m    \u001b[49m\u001b[43mlocal_worker\u001b[49m\u001b[38;5;241;43m=\u001b[39;49m\u001b[43mlocal_worker\u001b[49m\u001b[43m,\u001b[49m\n\u001b[1;32m   2334\u001b[0m \u001b[43m    \u001b[49m\u001b[43masynchronous\u001b[49m\u001b[38;5;241;43m=\u001b[39;49m\u001b[43masynchronous\u001b[49m\u001b[43m,\u001b[49m\n\u001b[1;32m   2335\u001b[0m \u001b[43m\u001b[49m\u001b[43m)\u001b[49m\n",
      "File \u001b[0;32m~/venv2022/lib/python3.8/site-packages/distributed/utils.py:345\u001b[0m, in \u001b[0;36mSyncMethodMixin.sync\u001b[0;34m(self, func, asynchronous, callback_timeout, *args, **kwargs)\u001b[0m\n\u001b[1;32m    343\u001b[0m     \u001b[38;5;28;01mreturn\u001b[39;00m future\n\u001b[1;32m    344\u001b[0m \u001b[38;5;28;01melse\u001b[39;00m:\n\u001b[0;32m--> 345\u001b[0m     \u001b[38;5;28;01mreturn\u001b[39;00m \u001b[43msync\u001b[49m\u001b[43m(\u001b[49m\n\u001b[1;32m    346\u001b[0m \u001b[43m        \u001b[49m\u001b[38;5;28;43mself\u001b[39;49m\u001b[38;5;241;43m.\u001b[39;49m\u001b[43mloop\u001b[49m\u001b[43m,\u001b[49m\u001b[43m \u001b[49m\u001b[43mfunc\u001b[49m\u001b[43m,\u001b[49m\u001b[43m \u001b[49m\u001b[38;5;241;43m*\u001b[39;49m\u001b[43margs\u001b[49m\u001b[43m,\u001b[49m\u001b[43m \u001b[49m\u001b[43mcallback_timeout\u001b[49m\u001b[38;5;241;43m=\u001b[39;49m\u001b[43mcallback_timeout\u001b[49m\u001b[43m,\u001b[49m\u001b[43m \u001b[49m\u001b[38;5;241;43m*\u001b[39;49m\u001b[38;5;241;43m*\u001b[39;49m\u001b[43mkwargs\u001b[49m\n\u001b[1;32m    347\u001b[0m \u001b[43m    \u001b[49m\u001b[43m)\u001b[49m\n",
      "File \u001b[0;32m~/venv2022/lib/python3.8/site-packages/distributed/utils.py:412\u001b[0m, in \u001b[0;36msync\u001b[0;34m(loop, func, callback_timeout, *args, **kwargs)\u001b[0m\n\u001b[1;32m    410\u001b[0m \u001b[38;5;28;01mif\u001b[39;00m error:\n\u001b[1;32m    411\u001b[0m     typ, exc, tb \u001b[38;5;241m=\u001b[39m error\n\u001b[0;32m--> 412\u001b[0m     \u001b[38;5;28;01mraise\u001b[39;00m exc\u001b[38;5;241m.\u001b[39mwith_traceback(tb)\n\u001b[1;32m    413\u001b[0m \u001b[38;5;28;01melse\u001b[39;00m:\n\u001b[1;32m    414\u001b[0m     \u001b[38;5;28;01mreturn\u001b[39;00m result\n",
      "File \u001b[0;32m~/venv2022/lib/python3.8/site-packages/distributed/utils.py:385\u001b[0m, in \u001b[0;36msync.<locals>.f\u001b[0;34m()\u001b[0m\n\u001b[1;32m    383\u001b[0m         future \u001b[38;5;241m=\u001b[39m wait_for(future, callback_timeout)\n\u001b[1;32m    384\u001b[0m     future \u001b[38;5;241m=\u001b[39m asyncio\u001b[38;5;241m.\u001b[39mensure_future(future)\n\u001b[0;32m--> 385\u001b[0m     result \u001b[38;5;241m=\u001b[39m \u001b[38;5;28;01myield\u001b[39;00m future\n\u001b[1;32m    386\u001b[0m \u001b[38;5;28;01mexcept\u001b[39;00m \u001b[38;5;167;01mException\u001b[39;00m:\n\u001b[1;32m    387\u001b[0m     error \u001b[38;5;241m=\u001b[39m sys\u001b[38;5;241m.\u001b[39mexc_info()\n",
      "File \u001b[0;32m~/venv2022/lib/python3.8/site-packages/tornado/gen.py:769\u001b[0m, in \u001b[0;36mRunner.run\u001b[0;34m(self)\u001b[0m\n\u001b[1;32m    766\u001b[0m exc_info \u001b[38;5;241m=\u001b[39m \u001b[38;5;28;01mNone\u001b[39;00m\n\u001b[1;32m    768\u001b[0m \u001b[38;5;28;01mtry\u001b[39;00m:\n\u001b[0;32m--> 769\u001b[0m     value \u001b[38;5;241m=\u001b[39m \u001b[43mfuture\u001b[49m\u001b[38;5;241;43m.\u001b[39;49m\u001b[43mresult\u001b[49m\u001b[43m(\u001b[49m\u001b[43m)\u001b[49m\n\u001b[1;32m    770\u001b[0m \u001b[38;5;28;01mexcept\u001b[39;00m \u001b[38;5;167;01mException\u001b[39;00m:\n\u001b[1;32m    771\u001b[0m     exc_info \u001b[38;5;241m=\u001b[39m sys\u001b[38;5;241m.\u001b[39mexc_info()\n",
      "File \u001b[0;32m~/venv2022/lib/python3.8/site-packages/distributed/client.py:2191\u001b[0m, in \u001b[0;36mClient._gather\u001b[0;34m(self, futures, errors, direct, local_worker)\u001b[0m\n\u001b[1;32m   2189\u001b[0m         exc \u001b[38;5;241m=\u001b[39m CancelledError(key)\n\u001b[1;32m   2190\u001b[0m     \u001b[38;5;28;01melse\u001b[39;00m:\n\u001b[0;32m-> 2191\u001b[0m         \u001b[38;5;28;01mraise\u001b[39;00m exception\u001b[38;5;241m.\u001b[39mwith_traceback(traceback)\n\u001b[1;32m   2192\u001b[0m     \u001b[38;5;28;01mraise\u001b[39;00m exc\n\u001b[1;32m   2193\u001b[0m \u001b[38;5;28;01mif\u001b[39;00m errors \u001b[38;5;241m==\u001b[39m \u001b[38;5;124m\"\u001b[39m\u001b[38;5;124mskip\u001b[39m\u001b[38;5;124m\"\u001b[39m:\n",
      "\u001b[0;31mKilledWorker\u001b[0m: Attempted to run task calculate_rich_club_coefficients-0bf74057757f42f3257b16e29752730b on 3 different workers, but all those workers died while running it. The last worker that attempt to run the task was tcp://10.80.155.244:41403. Inspecting worker logs is often a good next step to diagnose what went wrong. For more information see https://distributed.dask.org/en/stable/killed.html."
     ]
    }
   ],
   "source": [
    "results = client.gather(futures)"
   ]
  },
  {
   "cell_type": "code",
   "execution_count": 41,
   "metadata": {
    "collapsed": true,
    "jupyter": {
     "outputs_hidden": true
    }
   },
   "outputs": [
    {
     "ename": "NameError",
     "evalue": "name 'results' is not defined",
     "output_type": "error",
     "traceback": [
      "\u001b[0;31m---------------------------------------------------------------------------\u001b[0m",
      "\u001b[0;31mNameError\u001b[0m                                 Traceback (most recent call last)",
      "Cell \u001b[0;32mIn[41], line 1\u001b[0m\n\u001b[0;32m----> 1\u001b[0m \u001b[43mresults\u001b[49m\n",
      "\u001b[0;31mNameError\u001b[0m: name 'results' is not defined"
     ]
    }
   ],
   "source": [
    "results"
   ]
  },
  {
   "cell_type": "code",
   "execution_count": 42,
   "metadata": {},
   "outputs": [],
   "source": [
    "client.close()\n",
    "cluster.close()"
   ]
  },
  {
   "cell_type": "markdown",
   "metadata": {},
   "source": [
    "# Analyze results"
   ]
  },
  {
   "cell_type": "code",
   "execution_count": 3,
   "metadata": {},
   "outputs": [],
   "source": [
    "output_dir = '../examples/output/'"
   ]
  },
  {
   "cell_type": "code",
   "execution_count": 4,
   "metadata": {},
   "outputs": [],
   "source": [
    "import glob\n",
    "import pickle"
   ]
  },
  {
   "cell_type": "code",
   "execution_count": 7,
   "metadata": {},
   "outputs": [],
   "source": [
    "paths = glob.glob(f'{output_dir}/20_random*')\n",
    "filtered_paths = [path for path in paths if 10 < int(path.split('_')[-1].split('.')[0]) < 20]\n"
   ]
  },
  {
   "cell_type": "code",
   "execution_count": 8,
   "metadata": {},
   "outputs": [
    {
     "data": {
      "text/plain": [
       "['../examples/output/20_random_rc_coeffs_13.pkl',\n",
       " '../examples/output/20_random_rc_coeffs_12.pkl',\n",
       " '../examples/output/20_random_rc_coeffs_15.pkl',\n",
       " '../examples/output/20_random_rc_coeffs_11.pkl',\n",
       " '../examples/output/20_random_rc_coeffs_14.pkl']"
      ]
     },
     "execution_count": 8,
     "metadata": {},
     "output_type": "execute_result"
    }
   ],
   "source": [
    "filtered_paths"
   ]
  },
  {
   "cell_type": "code",
   "execution_count": 22,
   "metadata": {},
   "outputs": [],
   "source": [
    "random_rc_coeffs = []\n",
    "for i in filtered_paths:\n",
    "    with open(i, 'rb') as f:\n",
    "        data = pickle.load(f)\n",
    "        random_rc_coeffs.extend(data)\n",
    "random_rc_coeffs = pd.DataFrame(random_rc_coeffs)"
   ]
  },
  {
   "cell_type": "code",
   "execution_count": 37,
   "metadata": {},
   "outputs": [
    {
     "data": {
      "text/plain": [
       "21601.0"
      ]
     },
     "execution_count": 37,
     "metadata": {},
     "output_type": "execute_result"
    }
   ],
   "source": [
    "earliest_nan_column_index = random_rc_coeffs.isnull().idxmax(axis=1)\n",
    "earliest_nan_column_index.min()"
   ]
  },
  {
   "cell_type": "code",
   "execution_count": 39,
   "metadata": {},
   "outputs": [],
   "source": [
    "random_rc_coeffs = random_rc_coeffs.loc[:,:earliest_nan_column_index.min()]"
   ]
  },
  {
   "cell_type": "code",
   "execution_count": 43,
   "metadata": {},
   "outputs": [],
   "source": [
    "output_dir = '../output/rich_club/'"
   ]
  },
  {
   "cell_type": "code",
   "execution_count": 44,
   "metadata": {},
   "outputs": [],
   "source": [
    "random_rc_coeffs.to_csv(f'{output_dir}/random_rc_coeffs.csv')"
   ]
  },
  {
   "cell_type": "code",
   "execution_count": 41,
   "metadata": {},
   "outputs": [
    {
     "data": {
      "text/plain": [
       "<Axes: >"
      ]
     },
     "execution_count": 41,
     "metadata": {},
     "output_type": "execute_result"
    },
    {
     "data": {
      "image/png": "[encoded data removed]",
      "text/plain": [
       "<Figure size 640x480 with 1 Axes>"
      ]
     },
     "metadata": {},
     "output_type": "display_data"
    }
   ],
   "source": [
    "random_rc_coeffs.mean(axis=0).plot()"
   ]
  },
  {
   "cell_type": "code",
   "execution_count": 20,
   "metadata": {},
   "outputs": [
    {
     "ename": "ValueError",
     "evalue": "setting an array element with a sequence. The requested array has an inhomogeneous shape after 2 dimensions. The detected shape was (6, 20) + inhomogeneous part.",
     "output_type": "error",
     "traceback": [
      "\u001b[0;31m---------------------------------------------------------------------------\u001b[0m",
      "\u001b[0;31mValueError\u001b[0m                                Traceback (most recent call last)",
      "Cell \u001b[0;32mIn[20], line 2\u001b[0m\n\u001b[1;32m      1\u001b[0m \u001b[38;5;66;03m# Calculate average over trials\u001b[39;00m\n\u001b[0;32m----> 2\u001b[0m random_rc_coeffs_avg \u001b[38;5;241m=\u001b[39m \u001b[43mnp\u001b[49m\u001b[38;5;241;43m.\u001b[39;49m\u001b[43mmean\u001b[49m\u001b[43m(\u001b[49m\u001b[43mrandom_rc_coeffs\u001b[49m\u001b[43m,\u001b[49m\u001b[43m \u001b[49m\u001b[43maxis\u001b[49m\u001b[38;5;241;43m=\u001b[39;49m\u001b[38;5;241;43m0\u001b[39;49m\u001b[43m)\u001b[49m\n\u001b[1;32m      4\u001b[0m \u001b[38;5;66;03m# Calculate normalized rich club coefficients\u001b[39;00m\n\u001b[1;32m      5\u001b[0m norm_rc \u001b[38;5;241m=\u001b[39m rc_coeffs_model[:random_rc_coeffs_avg\u001b[38;5;241m.\u001b[39mshape[\u001b[38;5;241m0\u001b[39m]] \u001b[38;5;241m/\u001b[39m random_rc_coeffs_avg\n",
      "File \u001b[0;32m<__array_function__ internals>:200\u001b[0m, in \u001b[0;36mmean\u001b[0;34m(*args, **kwargs)\u001b[0m\n",
      "File \u001b[0;32m~/venv2022/lib/python3.8/site-packages/numpy/core/fromnumeric.py:3464\u001b[0m, in \u001b[0;36mmean\u001b[0;34m(a, axis, dtype, out, keepdims, where)\u001b[0m\n\u001b[1;32m   3461\u001b[0m     \u001b[38;5;28;01melse\u001b[39;00m:\n\u001b[1;32m   3462\u001b[0m         \u001b[38;5;28;01mreturn\u001b[39;00m mean(axis\u001b[38;5;241m=\u001b[39maxis, dtype\u001b[38;5;241m=\u001b[39mdtype, out\u001b[38;5;241m=\u001b[39mout, \u001b[38;5;241m*\u001b[39m\u001b[38;5;241m*\u001b[39mkwargs)\n\u001b[0;32m-> 3464\u001b[0m \u001b[38;5;28;01mreturn\u001b[39;00m \u001b[43m_methods\u001b[49m\u001b[38;5;241;43m.\u001b[39;49m\u001b[43m_mean\u001b[49m\u001b[43m(\u001b[49m\u001b[43ma\u001b[49m\u001b[43m,\u001b[49m\u001b[43m \u001b[49m\u001b[43maxis\u001b[49m\u001b[38;5;241;43m=\u001b[39;49m\u001b[43maxis\u001b[49m\u001b[43m,\u001b[49m\u001b[43m \u001b[49m\u001b[43mdtype\u001b[49m\u001b[38;5;241;43m=\u001b[39;49m\u001b[43mdtype\u001b[49m\u001b[43m,\u001b[49m\n\u001b[1;32m   3465\u001b[0m \u001b[43m                      \u001b[49m\u001b[43mout\u001b[49m\u001b[38;5;241;43m=\u001b[39;49m\u001b[43mout\u001b[49m\u001b[43m,\u001b[49m\u001b[43m \u001b[49m\u001b[38;5;241;43m*\u001b[39;49m\u001b[38;5;241;43m*\u001b[39;49m\u001b[43mkwargs\u001b[49m\u001b[43m)\u001b[49m\n",
      "File \u001b[0;32m~/venv2022/lib/python3.8/site-packages/numpy/core/_methods.py:165\u001b[0m, in \u001b[0;36m_mean\u001b[0;34m(a, axis, dtype, out, keepdims, where)\u001b[0m\n\u001b[1;32m    164\u001b[0m \u001b[38;5;28;01mdef\u001b[39;00m \u001b[38;5;21m_mean\u001b[39m(a, axis\u001b[38;5;241m=\u001b[39m\u001b[38;5;28;01mNone\u001b[39;00m, dtype\u001b[38;5;241m=\u001b[39m\u001b[38;5;28;01mNone\u001b[39;00m, out\u001b[38;5;241m=\u001b[39m\u001b[38;5;28;01mNone\u001b[39;00m, keepdims\u001b[38;5;241m=\u001b[39m\u001b[38;5;28;01mFalse\u001b[39;00m, \u001b[38;5;241m*\u001b[39m, where\u001b[38;5;241m=\u001b[39m\u001b[38;5;28;01mTrue\u001b[39;00m):\n\u001b[0;32m--> 165\u001b[0m     arr \u001b[38;5;241m=\u001b[39m \u001b[43masanyarray\u001b[49m\u001b[43m(\u001b[49m\u001b[43ma\u001b[49m\u001b[43m)\u001b[49m\n\u001b[1;32m    167\u001b[0m     is_float16_result \u001b[38;5;241m=\u001b[39m \u001b[38;5;28;01mFalse\u001b[39;00m\n\u001b[1;32m    169\u001b[0m     rcount \u001b[38;5;241m=\u001b[39m _count_reduce_items(arr, axis, keepdims\u001b[38;5;241m=\u001b[39mkeepdims, where\u001b[38;5;241m=\u001b[39mwhere)\n",
      "\u001b[0;31mValueError\u001b[0m: setting an array element with a sequence. The requested array has an inhomogeneous shape after 2 dimensions. The detected shape was (6, 20) + inhomogeneous part."
     ]
    }
   ],
   "source": [
    "# Calculate average over trials\n",
    "random_rc_coeffs_avg = np.mean(random_rc_coeffs, axis=0)\n",
    "\n",
    "# Calculate normalized rich club coefficients\n",
    "norm_rc = rc_coeffs_model[:random_rc_coeffs_avg.shape[0]] / random_rc_coeffs_avg\n",
    "\n",
    "# Statistical test\n",
    "_, p_value = ttest_ind(norm_rc_trials, axis=0)"
   ]
  },
  {
   "cell_type": "code",
   "execution_count": null,
   "metadata": {},
   "outputs": [],
   "source": [
    "# Plot the results\n",
    "f, ax = plt.subplots(figsize=(10,8))\n",
    "plt.plot(k_dict_parallel_dp.keys(), norm_rc_avg)\n",
    "\n",
    "ax.fill_between(k_dict_parallel_dp.keys(), norm_rc_avg, 1, where=(np.array(norm_rc_avg) >= 1), color='lightblue', alpha=0.4)\n",
    "ax.fill_between(k_dict_parallel_dp.keys(), norm_rc_avg, 1, where=(np.array(norm_rc_avg) < 1), color='lightyellow', alpha=0.4)\n",
    "\n",
    "ax.axhline(y=1, color='k', linestyle='--', label='y=1')\n",
    "\n",
    "plt.title('Average Normalized Rich Club Coefficients for slice10 synaptome (total-weights)')\n",
    "plt.xlabel('k (synapses)')\n",
    "plt.ylabel('Norm. Rich Club Coefficient')\n",
    "plt.legend(['norm_RC_coeff (CA1/weight_permuted)'])\n",
    "plt.savefig(f\"../output/rich_club_directed_totdegree_weighted.png\", dpi=dpi, bbox_inches='tight')"
   ]
  }
 ],
 "metadata": {
  "kernelspec": {
   "display_name": "venv2022",
   "language": "python",
   "name": "python3"
  },
  "language_info": {
   "codemirror_mode": {
    "name": "ipython",
    "version": 3
   },
   "file_extension": ".py",
   "mimetype": "text/x-python",
   "name": "python",
   "nbconvert_exporter": "python",
   "pygments_lexer": "ipython3",
   "version": "3.8.3"
  }
 },
 "nbformat": 4,
 "nbformat_minor": 4
}
