{
 "cells": [
  {
   "attachments": {},
   "cell_type": "markdown",
   "metadata": {},
   "source": [
    "# Node Set Extraction from existing npz file.\n",
    "\n",
    "Since projections can be quite big, use bigmem or it will go OOM.\n",
    "Future implementations will use dask."
   ]
  },
  {
   "cell_type": "code",
   "execution_count": 10,
   "metadata": {},
   "outputs": [],
   "source": [
    "from scipy import sparse\n",
    "import numpy as np\n",
    "from bluepysnap import Circuit"
   ]
  },
  {
   "cell_type": "code",
   "execution_count": 8,
   "metadata": {},
   "outputs": [],
   "source": [
    "c = Circuit('/gpfs/bbp.cscs.ch/project/proj112/circuits/CA1/20211110-BioM/sonata/circuit_config.json')\n",
    "nodes = c.nodes['hippocampus_neurons']"
   ]
  },
  {
   "cell_type": "code",
   "execution_count": 11,
   "metadata": {},
   "outputs": [],
   "source": [
    "class NodeSetExtractor:\n",
    "    def __init__(self,circuit,adjacency_matrix,population='hippocampus_neurons'):\n",
    "        self.adjacency_matrix = adjacency_matrix\n",
    "        self.nodes = circuit.nodes[population]\n",
    "\n",
    "\n",
    "    def extract_from_local(self,node_set):\n",
    "        '''\n",
    "        Parameters\n",
    "        ----------\n",
    "        full_adjacency : scipy.sparse.csr_matrix\n",
    "            Full adjacency matrix\n",
    "        node_set : list\n",
    "            node set name for the target adj to be extracted\n",
    "        '''\n",
    "        node_indices = self.nodes.ids(node_set)\n",
    "        return self.adjacency_matrix[node_indices,:][:,node_indices]\n",
    "    \n",
    "    def extract_with_projections(self,node_set,projection_matrix_path:str):\n",
    "        projection_matrix = sparse.load_npz(projection_matrix_path)\n",
    "        node_indices = self.nodes.ids(node_set)\n",
    "        local_target_adj = self.adjacency_matrix[node_indices,:][:,node_indices] # 6k x 6k for cylinder 300\n",
    "        return np.concatenate([local_target_adj,projection_matrix[:,node_indices]],axis=0) # 6k+N x 6k for cylinder 300\n",
    "        "
   ]
  },
  {
   "cell_type": "code",
   "execution_count": 16,
   "metadata": {},
   "outputs": [],
   "source": [
    "local_matrix_path = '/gpfs/bbp.cscs.ch/project/proj112/circuits/CA1/20211110-BioM/data/ca1_synaptome.npz'\n",
    "projection_matrix_path = '/gpfs/bbp.cscs.ch/project/proj112/circuits/CA1/20211110-BioM/data/ca3_synaptome.npz'"
   ]
  },
  {
   "cell_type": "code",
   "execution_count": 17,
   "metadata": {},
   "outputs": [],
   "source": [
    "local_synaptome = sparse.load_npz(local_matrix_path)"
   ]
  },
  {
   "cell_type": "code",
   "execution_count": 18,
   "metadata": {},
   "outputs": [],
   "source": [
    "extractor = NodeSetExtractor(c,local_synaptome)"
   ]
  },
  {
   "cell_type": "code",
   "execution_count": 19,
   "metadata": {},
   "outputs": [],
   "source": [
    "target_adj_wproj = extractor.extract_with_projections('slice39',projection_matrix_path)"
   ]
  },
  {
   "cell_type": "code",
   "execution_count": null,
   "metadata": {},
   "outputs": [],
   "source": []
  }
 ],
 "metadata": {
  "kernelspec": {
   "display_name": "venv2022",
   "language": "python",
   "name": "python3"
  },
  "language_info": {
   "codemirror_mode": {
    "name": "ipython",
    "version": 3
   },
   "file_extension": ".py",
   "mimetype": "text/x-python",
   "name": "python",
   "nbconvert_exporter": "python",
   "pygments_lexer": "ipython3",
   "version": "3.8.3"
  },
  "orig_nbformat": 4
 },
 "nbformat": 4,
 "nbformat_minor": 2
}
