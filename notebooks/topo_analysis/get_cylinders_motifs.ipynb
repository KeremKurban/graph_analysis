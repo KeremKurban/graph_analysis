{
 "cells": [
  {
   "cell_type": "code",
   "execution_count": 1,
   "metadata": {},
   "outputs": [],
   "source": [
    "import bluepy\n",
    "import netsci.visualization as nsv\n",
    "import numpy as np\n",
    "import scipy\n",
    "import netsci.metrics.motifs as nsm\n",
    "import networkx\n",
    "import matplotlib.pyplot as plt\n",
    "import netsci.models.random as nsr\n",
    "import glob, os\n",
    "from pathlib import Path\n",
    "import pandas as pd\n",
    "import seaborn as sns"
   ]
  },
  {
   "cell_type": "code",
   "execution_count": 2,
   "metadata": {},
   "outputs": [],
   "source": [
    "circ=bluepy.Circuit('/gpfs/bbp.cscs.ch/project/proj112/circuits/CA1/20211110-BioM/CircuitConfig')"
   ]
  },
  {
   "cell_type": "code",
   "execution_count": 3,
   "metadata": {},
   "outputs": [
    {
     "data": {
      "text/plain": [
       "['cylinder299049r300',\n",
       " 'cylinder109262r300',\n",
       " 'cylinder128660r300',\n",
       " 'cylinder216679r300',\n",
       " 'cylinder297714r300',\n",
       " 'cylinder397485r300',\n",
       " 'cylinder329179r300',\n",
       " 'cylinder300',\n",
       " 'cylinder269358r300',\n",
       " 'cylinder253803r300']"
      ]
     },
     "execution_count": 3,
     "metadata": {},
     "output_type": "execute_result"
    }
   ],
   "source": [
    "cylinders = [i for i in circ.cells.targets if i.startswith('cylinder') ]\n",
    "cylinders.remove('cylinders')\n",
    "cylinders"
   ]
  },
  {
   "cell_type": "code",
   "execution_count": 5,
   "metadata": {},
   "outputs": [
    {
     "name": "stdout",
     "output_type": "stream",
     "text": [
      "cylinder253803r300\n",
      "cylinder128660r300\n",
      "cylinder109262r300\n",
      "cylinder216679r300\n",
      "cylinder269358r300\n",
      "cylinder329179r300\n",
      "cylinder299049r300\n",
      "cylinder397485r300\n",
      "cylinder300\n",
      "cylinder297714r300\n"
     ]
    }
   ],
   "source": [
    "data_dict = {}\n",
    "cur_path = os.getcwd()\n",
    "for i in os.listdir('cylinders_analysis/'):\n",
    "    if i != 'mosaic':\n",
    "        print(i)\n",
    "        cur_conn_path = os.path.join(cur_path,'cylinders_analysis',i,'data/connectivity.npz')\n",
    "        data_dict[i] = np.array(1*scipy.sparse.load_npz(cur_conn_path).todense())"
   ]
  },
  {
   "cell_type": "code",
   "execution_count": 8,
   "metadata": {},
   "outputs": [
    {
     "name": "stdout",
     "output_type": "stream",
     "text": [
      "cylinder253803r300 6532 cells\n",
      "cylinder128660r300 5461 cells\n",
      "cylinder109262r300 7302 cells\n",
      "cylinder216679r300 7716 cells\n",
      "cylinder269358r300 6360 cells\n",
      "cylinder329179r300 7934 cells\n",
      "cylinder299049r300 7733 cells\n",
      "cylinder397485r300 7293 cells\n",
      "cylinder300 6213 cells\n",
      "cylinder297714r300 6397 cells\n"
     ]
    }
   ],
   "source": [
    "for key in data_dict.keys():\n",
    "    print(key,data_dict[key].shape[0],'cells')"
   ]
  },
  {
   "cell_type": "code",
   "execution_count": 9,
   "metadata": {},
   "outputs": [
    {
     "data": {
      "text/plain": [
       "1236142"
      ]
     },
     "execution_count": 9,
     "metadata": {},
     "output_type": "execute_result"
    }
   ],
   "source": [
    "len(np.where(data_dict['cylinder300'] ==1)[0])"
   ]
  },
  {
   "cell_type": "code",
   "execution_count": null,
   "metadata": {},
   "outputs": [],
   "source": [
    "for tar in data_dict.keys():\n",
    "    print(len(np.where(data_dict[tar] ==1)[0]))"
   ]
  },
  {
   "cell_type": "code",
   "execution_count": null,
   "metadata": {},
   "outputs": [
    {
     "name": "stdout",
     "output_type": "stream",
     "text": [
      "cylinder253803r300: [       -1        -1        -1 178734851  99525261 295441654  28182635\n",
      "  67881009  22492307   2605358   4356238   3720892   6337554   1865368\n",
      "   1971033    254306]\n"
     ]
    }
   ],
   "source": [
    "# takes some time\n",
    "motifs_dict = {}\n",
    "for key,value in data_dict.items():\n",
    "    cur_motifs =  nsm.motifs(value, algorithm='louzoun',participation=True)\n",
    "    motifs_dict[key] = cur_motifs\n",
    "    print(key, cur_motifs[0],sep=': ')"
   ]
  },
  {
   "cell_type": "code",
   "execution_count": 39,
   "metadata": {},
   "outputs": [
    {
     "data": {
      "text/plain": [
       "{'cylinder253803r300': array([       -1,        -1,        -1, 178734851,  99525261, 295441654,\n",
       "         28182635,  67881009,  22492307,   2605358,   4356238,   3720892,\n",
       "          6337554,   1865368,   1971033,    254306]),\n",
       " 'cylinder128660r300': array([       -1,        -1,        -1, 142487344,  88036575, 197200061,\n",
       "         21620821,  50392340,  20395426,   2101345,   3833357,   3121825,\n",
       "          4658357,   1614183,   1642341,    205584]),\n",
       " 'cylinder109262r300': array([       -1,        -1,        -1, 253127189, 135220160, 372205140,\n",
       "         42703472,  85314472,  28438655,   3012173,   5514923,   5034203,\n",
       "          8435787,   2666085,   2645271,    319716]),\n",
       " 'cylinder216679r300': array([       -1,        -1,        -1, 394273166, 224272293, 489437529,\n",
       "         62357294, 116354430,  46267547,   4603009,   8242205,   7399145,\n",
       "         11515878,   4129137,   3882572,    463493]),\n",
       " 'cylinder269358r300': array([       -1,        -1,        -1, 167341604,  91404836, 274651330,\n",
       "         27758150,  60543269,  20513856,   2290958,   3963979,   3465058,\n",
       "          5750610,   1825413,   1759504,    214859]),\n",
       " 'cylinder329179r300': array([       -1,        -1,        -1, 354487798, 194955305, 448651532,\n",
       "         57011264, 105494498,  38869962,   3758723,   7203242,   6525832,\n",
       "         10514357,   3515083,   3455968,    421153]),\n",
       " 'cylinder299049r300': array([       -1,        -1,        -1, 288746366, 161817464, 493848463,\n",
       "         51079900, 107533606,  33450093,   3889696,   6522452,   6190598,\n",
       "         10461618,   3317235,   3274530,    424817]),\n",
       " 'cylinder397485r300': array([       -1,        -1,        -1, 309895393, 168698759, 384096498,\n",
       "         48340938,  93939392,  35881945,   3752144,   6800374,   6121797,\n",
       "          9198090,   3168135,   3145564,    377087]),\n",
       " 'cylinder300': array([       -1,        -1,        -1, 162025739,  90327698, 248200864,\n",
       "         26151493,  58563579,  19939329,   2211349,   3976892,   3382804,\n",
       "          5457691,   1721108,   1735092,    206611]),\n",
       " 'cylinder297714r300': array([       -1,        -1,        -1, 168271636,  92580400, 291512770,\n",
       "         27001356,  70569521,  23884861,   2598737,   4838829,   3875263,\n",
       "          6543081,   1901566,   2102350,    261275])}"
      ]
     },
     "execution_count": 39,
     "metadata": {},
     "output_type": "execute_result"
    }
   ],
   "source": [
    "motifs_dict"
   ]
  },
  {
   "cell_type": "code",
   "execution_count": 13,
   "metadata": {},
   "outputs": [
    {
     "data": {
      "text/html": [
       "<div>\n",
       "<style scoped>\n",
       "    .dataframe tbody tr th:only-of-type {\n",
       "        vertical-align: middle;\n",
       "    }\n",
       "\n",
       "    .dataframe tbody tr th {\n",
       "        vertical-align: top;\n",
       "    }\n",
       "\n",
       "    .dataframe thead th {\n",
       "        text-align: right;\n",
       "    }\n",
       "</style>\n",
       "<table border=\"1\" class=\"dataframe\">\n",
       "  <thead>\n",
       "    <tr style=\"text-align: right;\">\n",
       "      <th></th>\n",
       "      <th>0</th>\n",
       "      <th>1</th>\n",
       "      <th>2</th>\n",
       "      <th>3</th>\n",
       "      <th>4</th>\n",
       "      <th>5</th>\n",
       "      <th>6</th>\n",
       "      <th>7</th>\n",
       "      <th>8</th>\n",
       "      <th>9</th>\n",
       "      <th>10</th>\n",
       "      <th>11</th>\n",
       "      <th>12</th>\n",
       "      <th>13</th>\n",
       "      <th>14</th>\n",
       "      <th>15</th>\n",
       "    </tr>\n",
       "  </thead>\n",
       "  <tbody>\n",
       "    <tr>\n",
       "      <th>cylinder253803r300</th>\n",
       "      <td>-1</td>\n",
       "      <td>-1</td>\n",
       "      <td>-1</td>\n",
       "      <td>178734851</td>\n",
       "      <td>99525261</td>\n",
       "      <td>295441654</td>\n",
       "      <td>28182635</td>\n",
       "      <td>67881009</td>\n",
       "      <td>22492307</td>\n",
       "      <td>2605358</td>\n",
       "      <td>4356238</td>\n",
       "      <td>3720892</td>\n",
       "      <td>6337554</td>\n",
       "      <td>1865368</td>\n",
       "      <td>1971033</td>\n",
       "      <td>254306</td>\n",
       "    </tr>\n",
       "    <tr>\n",
       "      <th>cylinder128660r300</th>\n",
       "      <td>-1</td>\n",
       "      <td>-1</td>\n",
       "      <td>-1</td>\n",
       "      <td>142487344</td>\n",
       "      <td>88036575</td>\n",
       "      <td>197200061</td>\n",
       "      <td>21620821</td>\n",
       "      <td>50392340</td>\n",
       "      <td>20395426</td>\n",
       "      <td>2101345</td>\n",
       "      <td>3833357</td>\n",
       "      <td>3121825</td>\n",
       "      <td>4658357</td>\n",
       "      <td>1614183</td>\n",
       "      <td>1642341</td>\n",
       "      <td>205584</td>\n",
       "    </tr>\n",
       "    <tr>\n",
       "      <th>cylinder109262r300</th>\n",
       "      <td>-1</td>\n",
       "      <td>-1</td>\n",
       "      <td>-1</td>\n",
       "      <td>253127189</td>\n",
       "      <td>135220160</td>\n",
       "      <td>372205140</td>\n",
       "      <td>42703472</td>\n",
       "      <td>85314472</td>\n",
       "      <td>28438655</td>\n",
       "      <td>3012173</td>\n",
       "      <td>5514923</td>\n",
       "      <td>5034203</td>\n",
       "      <td>8435787</td>\n",
       "      <td>2666085</td>\n",
       "      <td>2645271</td>\n",
       "      <td>319716</td>\n",
       "    </tr>\n",
       "    <tr>\n",
       "      <th>cylinder216679r300</th>\n",
       "      <td>-1</td>\n",
       "      <td>-1</td>\n",
       "      <td>-1</td>\n",
       "      <td>394273166</td>\n",
       "      <td>224272293</td>\n",
       "      <td>489437529</td>\n",
       "      <td>62357294</td>\n",
       "      <td>116354430</td>\n",
       "      <td>46267547</td>\n",
       "      <td>4603009</td>\n",
       "      <td>8242205</td>\n",
       "      <td>7399145</td>\n",
       "      <td>11515878</td>\n",
       "      <td>4129137</td>\n",
       "      <td>3882572</td>\n",
       "      <td>463493</td>\n",
       "    </tr>\n",
       "    <tr>\n",
       "      <th>cylinder269358r300</th>\n",
       "      <td>-1</td>\n",
       "      <td>-1</td>\n",
       "      <td>-1</td>\n",
       "      <td>167341604</td>\n",
       "      <td>91404836</td>\n",
       "      <td>274651330</td>\n",
       "      <td>27758150</td>\n",
       "      <td>60543269</td>\n",
       "      <td>20513856</td>\n",
       "      <td>2290958</td>\n",
       "      <td>3963979</td>\n",
       "      <td>3465058</td>\n",
       "      <td>5750610</td>\n",
       "      <td>1825413</td>\n",
       "      <td>1759504</td>\n",
       "      <td>214859</td>\n",
       "    </tr>\n",
       "    <tr>\n",
       "      <th>cylinder329179r300</th>\n",
       "      <td>-1</td>\n",
       "      <td>-1</td>\n",
       "      <td>-1</td>\n",
       "      <td>354487798</td>\n",
       "      <td>194955305</td>\n",
       "      <td>448651532</td>\n",
       "      <td>57011264</td>\n",
       "      <td>105494498</td>\n",
       "      <td>38869962</td>\n",
       "      <td>3758723</td>\n",
       "      <td>7203242</td>\n",
       "      <td>6525832</td>\n",
       "      <td>10514357</td>\n",
       "      <td>3515083</td>\n",
       "      <td>3455968</td>\n",
       "      <td>421153</td>\n",
       "    </tr>\n",
       "    <tr>\n",
       "      <th>cylinder299049r300</th>\n",
       "      <td>-1</td>\n",
       "      <td>-1</td>\n",
       "      <td>-1</td>\n",
       "      <td>288746366</td>\n",
       "      <td>161817464</td>\n",
       "      <td>493848463</td>\n",
       "      <td>51079900</td>\n",
       "      <td>107533606</td>\n",
       "      <td>33450093</td>\n",
       "      <td>3889696</td>\n",
       "      <td>6522452</td>\n",
       "      <td>6190598</td>\n",
       "      <td>10461618</td>\n",
       "      <td>3317235</td>\n",
       "      <td>3274530</td>\n",
       "      <td>424817</td>\n",
       "    </tr>\n",
       "    <tr>\n",
       "      <th>cylinder397485r300</th>\n",
       "      <td>-1</td>\n",
       "      <td>-1</td>\n",
       "      <td>-1</td>\n",
       "      <td>309895393</td>\n",
       "      <td>168698759</td>\n",
       "      <td>384096498</td>\n",
       "      <td>48340938</td>\n",
       "      <td>93939392</td>\n",
       "      <td>35881945</td>\n",
       "      <td>3752144</td>\n",
       "      <td>6800374</td>\n",
       "      <td>6121797</td>\n",
       "      <td>9198090</td>\n",
       "      <td>3168135</td>\n",
       "      <td>3145564</td>\n",
       "      <td>377087</td>\n",
       "    </tr>\n",
       "    <tr>\n",
       "      <th>cylinder300</th>\n",
       "      <td>-1</td>\n",
       "      <td>-1</td>\n",
       "      <td>-1</td>\n",
       "      <td>162025739</td>\n",
       "      <td>90327698</td>\n",
       "      <td>248200864</td>\n",
       "      <td>26151493</td>\n",
       "      <td>58563579</td>\n",
       "      <td>19939329</td>\n",
       "      <td>2211349</td>\n",
       "      <td>3976892</td>\n",
       "      <td>3382804</td>\n",
       "      <td>5457691</td>\n",
       "      <td>1721108</td>\n",
       "      <td>1735092</td>\n",
       "      <td>206611</td>\n",
       "    </tr>\n",
       "    <tr>\n",
       "      <th>cylinder297714r300</th>\n",
       "      <td>-1</td>\n",
       "      <td>-1</td>\n",
       "      <td>-1</td>\n",
       "      <td>168271636</td>\n",
       "      <td>92580400</td>\n",
       "      <td>291512770</td>\n",
       "      <td>27001356</td>\n",
       "      <td>70569521</td>\n",
       "      <td>23884861</td>\n",
       "      <td>2598737</td>\n",
       "      <td>4838829</td>\n",
       "      <td>3875263</td>\n",
       "      <td>6543081</td>\n",
       "      <td>1901566</td>\n",
       "      <td>2102350</td>\n",
       "      <td>261275</td>\n",
       "    </tr>\n",
       "  </tbody>\n",
       "</table>\n",
       "</div>"
      ],
      "text/plain": [
       "                    0   1   2          3          4          5         6   \\\n",
       "cylinder253803r300  -1  -1  -1  178734851   99525261  295441654  28182635   \n",
       "cylinder128660r300  -1  -1  -1  142487344   88036575  197200061  21620821   \n",
       "cylinder109262r300  -1  -1  -1  253127189  135220160  372205140  42703472   \n",
       "cylinder216679r300  -1  -1  -1  394273166  224272293  489437529  62357294   \n",
       "cylinder269358r300  -1  -1  -1  167341604   91404836  274651330  27758150   \n",
       "cylinder329179r300  -1  -1  -1  354487798  194955305  448651532  57011264   \n",
       "cylinder299049r300  -1  -1  -1  288746366  161817464  493848463  51079900   \n",
       "cylinder397485r300  -1  -1  -1  309895393  168698759  384096498  48340938   \n",
       "cylinder300         -1  -1  -1  162025739   90327698  248200864  26151493   \n",
       "cylinder297714r300  -1  -1  -1  168271636   92580400  291512770  27001356   \n",
       "\n",
       "                           7         8        9        10       11        12  \\\n",
       "cylinder253803r300   67881009  22492307  2605358  4356238  3720892   6337554   \n",
       "cylinder128660r300   50392340  20395426  2101345  3833357  3121825   4658357   \n",
       "cylinder109262r300   85314472  28438655  3012173  5514923  5034203   8435787   \n",
       "cylinder216679r300  116354430  46267547  4603009  8242205  7399145  11515878   \n",
       "cylinder269358r300   60543269  20513856  2290958  3963979  3465058   5750610   \n",
       "cylinder329179r300  105494498  38869962  3758723  7203242  6525832  10514357   \n",
       "cylinder299049r300  107533606  33450093  3889696  6522452  6190598  10461618   \n",
       "cylinder397485r300   93939392  35881945  3752144  6800374  6121797   9198090   \n",
       "cylinder300          58563579  19939329  2211349  3976892  3382804   5457691   \n",
       "cylinder297714r300   70569521  23884861  2598737  4838829  3875263   6543081   \n",
       "\n",
       "                         13       14      15  \n",
       "cylinder253803r300  1865368  1971033  254306  \n",
       "cylinder128660r300  1614183  1642341  205584  \n",
       "cylinder109262r300  2666085  2645271  319716  \n",
       "cylinder216679r300  4129137  3882572  463493  \n",
       "cylinder269358r300  1825413  1759504  214859  \n",
       "cylinder329179r300  3515083  3455968  421153  \n",
       "cylinder299049r300  3317235  3274530  424817  \n",
       "cylinder397485r300  3168135  3145564  377087  \n",
       "cylinder300         1721108  1735092  206611  \n",
       "cylinder297714r300  1901566  2102350  261275  "
      ]
     },
     "execution_count": 13,
     "metadata": {},
     "output_type": "execute_result"
    }
   ],
   "source": [
    "df = pd.read_csv('cylinder_motifs.csv',index_col=0).T\n",
    "df"
   ]
  },
  {
   "cell_type": "code",
   "execution_count": 43,
   "metadata": {
    "collapsed": true,
    "jupyter": {
     "outputs_hidden": true
    }
   },
   "outputs": [
    {
     "data": {
      "text/html": [
       "<div>\n",
       "<style scoped>\n",
       "    .dataframe tbody tr th:only-of-type {\n",
       "        vertical-align: middle;\n",
       "    }\n",
       "\n",
       "    .dataframe tbody tr th {\n",
       "        vertical-align: top;\n",
       "    }\n",
       "\n",
       "    .dataframe thead th {\n",
       "        text-align: right;\n",
       "    }\n",
       "</style>\n",
       "<table border=\"1\" class=\"dataframe\">\n",
       "  <thead>\n",
       "    <tr style=\"text-align: right;\">\n",
       "      <th></th>\n",
       "      <th>0</th>\n",
       "      <th>1</th>\n",
       "      <th>2</th>\n",
       "      <th>3</th>\n",
       "      <th>4</th>\n",
       "      <th>5</th>\n",
       "      <th>6</th>\n",
       "      <th>7</th>\n",
       "      <th>8</th>\n",
       "      <th>9</th>\n",
       "      <th>10</th>\n",
       "      <th>11</th>\n",
       "      <th>12</th>\n",
       "      <th>13</th>\n",
       "      <th>14</th>\n",
       "      <th>15</th>\n",
       "    </tr>\n",
       "  </thead>\n",
       "  <tbody>\n",
       "    <tr>\n",
       "      <th>cylinder253803r300</th>\n",
       "      <td>-1</td>\n",
       "      <td>-1</td>\n",
       "      <td>-1</td>\n",
       "      <td>178734851</td>\n",
       "      <td>99525261</td>\n",
       "      <td>295441654</td>\n",
       "      <td>28182635</td>\n",
       "      <td>67881009</td>\n",
       "      <td>22492307</td>\n",
       "      <td>2605358</td>\n",
       "      <td>4356238</td>\n",
       "      <td>3720892</td>\n",
       "      <td>6337554</td>\n",
       "      <td>1865368</td>\n",
       "      <td>1971033</td>\n",
       "      <td>254306</td>\n",
       "    </tr>\n",
       "    <tr>\n",
       "      <th>cylinder128660r300</th>\n",
       "      <td>-1</td>\n",
       "      <td>-1</td>\n",
       "      <td>-1</td>\n",
       "      <td>142487344</td>\n",
       "      <td>88036575</td>\n",
       "      <td>197200061</td>\n",
       "      <td>21620821</td>\n",
       "      <td>50392340</td>\n",
       "      <td>20395426</td>\n",
       "      <td>2101345</td>\n",
       "      <td>3833357</td>\n",
       "      <td>3121825</td>\n",
       "      <td>4658357</td>\n",
       "      <td>1614183</td>\n",
       "      <td>1642341</td>\n",
       "      <td>205584</td>\n",
       "    </tr>\n",
       "    <tr>\n",
       "      <th>cylinder109262r300</th>\n",
       "      <td>-1</td>\n",
       "      <td>-1</td>\n",
       "      <td>-1</td>\n",
       "      <td>253127189</td>\n",
       "      <td>135220160</td>\n",
       "      <td>372205140</td>\n",
       "      <td>42703472</td>\n",
       "      <td>85314472</td>\n",
       "      <td>28438655</td>\n",
       "      <td>3012173</td>\n",
       "      <td>5514923</td>\n",
       "      <td>5034203</td>\n",
       "      <td>8435787</td>\n",
       "      <td>2666085</td>\n",
       "      <td>2645271</td>\n",
       "      <td>319716</td>\n",
       "    </tr>\n",
       "    <tr>\n",
       "      <th>cylinder216679r300</th>\n",
       "      <td>-1</td>\n",
       "      <td>-1</td>\n",
       "      <td>-1</td>\n",
       "      <td>394273166</td>\n",
       "      <td>224272293</td>\n",
       "      <td>489437529</td>\n",
       "      <td>62357294</td>\n",
       "      <td>116354430</td>\n",
       "      <td>46267547</td>\n",
       "      <td>4603009</td>\n",
       "      <td>8242205</td>\n",
       "      <td>7399145</td>\n",
       "      <td>11515878</td>\n",
       "      <td>4129137</td>\n",
       "      <td>3882572</td>\n",
       "      <td>463493</td>\n",
       "    </tr>\n",
       "    <tr>\n",
       "      <th>cylinder269358r300</th>\n",
       "      <td>-1</td>\n",
       "      <td>-1</td>\n",
       "      <td>-1</td>\n",
       "      <td>167341604</td>\n",
       "      <td>91404836</td>\n",
       "      <td>274651330</td>\n",
       "      <td>27758150</td>\n",
       "      <td>60543269</td>\n",
       "      <td>20513856</td>\n",
       "      <td>2290958</td>\n",
       "      <td>3963979</td>\n",
       "      <td>3465058</td>\n",
       "      <td>5750610</td>\n",
       "      <td>1825413</td>\n",
       "      <td>1759504</td>\n",
       "      <td>214859</td>\n",
       "    </tr>\n",
       "    <tr>\n",
       "      <th>cylinder329179r300</th>\n",
       "      <td>-1</td>\n",
       "      <td>-1</td>\n",
       "      <td>-1</td>\n",
       "      <td>354487798</td>\n",
       "      <td>194955305</td>\n",
       "      <td>448651532</td>\n",
       "      <td>57011264</td>\n",
       "      <td>105494498</td>\n",
       "      <td>38869962</td>\n",
       "      <td>3758723</td>\n",
       "      <td>7203242</td>\n",
       "      <td>6525832</td>\n",
       "      <td>10514357</td>\n",
       "      <td>3515083</td>\n",
       "      <td>3455968</td>\n",
       "      <td>421153</td>\n",
       "    </tr>\n",
       "    <tr>\n",
       "      <th>cylinder299049r300</th>\n",
       "      <td>-1</td>\n",
       "      <td>-1</td>\n",
       "      <td>-1</td>\n",
       "      <td>288746366</td>\n",
       "      <td>161817464</td>\n",
       "      <td>493848463</td>\n",
       "      <td>51079900</td>\n",
       "      <td>107533606</td>\n",
       "      <td>33450093</td>\n",
       "      <td>3889696</td>\n",
       "      <td>6522452</td>\n",
       "      <td>6190598</td>\n",
       "      <td>10461618</td>\n",
       "      <td>3317235</td>\n",
       "      <td>3274530</td>\n",
       "      <td>424817</td>\n",
       "    </tr>\n",
       "    <tr>\n",
       "      <th>cylinder397485r300</th>\n",
       "      <td>-1</td>\n",
       "      <td>-1</td>\n",
       "      <td>-1</td>\n",
       "      <td>309895393</td>\n",
       "      <td>168698759</td>\n",
       "      <td>384096498</td>\n",
       "      <td>48340938</td>\n",
       "      <td>93939392</td>\n",
       "      <td>35881945</td>\n",
       "      <td>3752144</td>\n",
       "      <td>6800374</td>\n",
       "      <td>6121797</td>\n",
       "      <td>9198090</td>\n",
       "      <td>3168135</td>\n",
       "      <td>3145564</td>\n",
       "      <td>377087</td>\n",
       "    </tr>\n",
       "    <tr>\n",
       "      <th>cylinder300</th>\n",
       "      <td>-1</td>\n",
       "      <td>-1</td>\n",
       "      <td>-1</td>\n",
       "      <td>162025739</td>\n",
       "      <td>90327698</td>\n",
       "      <td>248200864</td>\n",
       "      <td>26151493</td>\n",
       "      <td>58563579</td>\n",
       "      <td>19939329</td>\n",
       "      <td>2211349</td>\n",
       "      <td>3976892</td>\n",
       "      <td>3382804</td>\n",
       "      <td>5457691</td>\n",
       "      <td>1721108</td>\n",
       "      <td>1735092</td>\n",
       "      <td>206611</td>\n",
       "    </tr>\n",
       "    <tr>\n",
       "      <th>cylinder297714r300</th>\n",
       "      <td>-1</td>\n",
       "      <td>-1</td>\n",
       "      <td>-1</td>\n",
       "      <td>168271636</td>\n",
       "      <td>92580400</td>\n",
       "      <td>291512770</td>\n",
       "      <td>27001356</td>\n",
       "      <td>70569521</td>\n",
       "      <td>23884861</td>\n",
       "      <td>2598737</td>\n",
       "      <td>4838829</td>\n",
       "      <td>3875263</td>\n",
       "      <td>6543081</td>\n",
       "      <td>1901566</td>\n",
       "      <td>2102350</td>\n",
       "      <td>261275</td>\n",
       "    </tr>\n",
       "  </tbody>\n",
       "</table>\n",
       "</div>"
      ],
      "text/plain": [
       "                    0   1   2          3          4          5         6   \\\n",
       "cylinder253803r300  -1  -1  -1  178734851   99525261  295441654  28182635   \n",
       "cylinder128660r300  -1  -1  -1  142487344   88036575  197200061  21620821   \n",
       "cylinder109262r300  -1  -1  -1  253127189  135220160  372205140  42703472   \n",
       "cylinder216679r300  -1  -1  -1  394273166  224272293  489437529  62357294   \n",
       "cylinder269358r300  -1  -1  -1  167341604   91404836  274651330  27758150   \n",
       "cylinder329179r300  -1  -1  -1  354487798  194955305  448651532  57011264   \n",
       "cylinder299049r300  -1  -1  -1  288746366  161817464  493848463  51079900   \n",
       "cylinder397485r300  -1  -1  -1  309895393  168698759  384096498  48340938   \n",
       "cylinder300         -1  -1  -1  162025739   90327698  248200864  26151493   \n",
       "cylinder297714r300  -1  -1  -1  168271636   92580400  291512770  27001356   \n",
       "\n",
       "                           7         8        9        10       11        12  \\\n",
       "cylinder253803r300   67881009  22492307  2605358  4356238  3720892   6337554   \n",
       "cylinder128660r300   50392340  20395426  2101345  3833357  3121825   4658357   \n",
       "cylinder109262r300   85314472  28438655  3012173  5514923  5034203   8435787   \n",
       "cylinder216679r300  116354430  46267547  4603009  8242205  7399145  11515878   \n",
       "cylinder269358r300   60543269  20513856  2290958  3963979  3465058   5750610   \n",
       "cylinder329179r300  105494498  38869962  3758723  7203242  6525832  10514357   \n",
       "cylinder299049r300  107533606  33450093  3889696  6522452  6190598  10461618   \n",
       "cylinder397485r300   93939392  35881945  3752144  6800374  6121797   9198090   \n",
       "cylinder300          58563579  19939329  2211349  3976892  3382804   5457691   \n",
       "cylinder297714r300   70569521  23884861  2598737  4838829  3875263   6543081   \n",
       "\n",
       "                         13       14      15  \n",
       "cylinder253803r300  1865368  1971033  254306  \n",
       "cylinder128660r300  1614183  1642341  205584  \n",
       "cylinder109262r300  2666085  2645271  319716  \n",
       "cylinder216679r300  4129137  3882572  463493  \n",
       "cylinder269358r300  1825413  1759504  214859  \n",
       "cylinder329179r300  3515083  3455968  421153  \n",
       "cylinder299049r300  3317235  3274530  424817  \n",
       "cylinder397485r300  3168135  3145564  377087  \n",
       "cylinder300         1721108  1735092  206611  \n",
       "cylinder297714r300  1901566  2102350  261275  "
      ]
     },
     "execution_count": 43,
     "metadata": {},
     "output_type": "execute_result"
    }
   ],
   "source": [
    "df = pd.DataFrame(motifs_dict)\n",
    "df.T"
   ]
  },
  {
   "cell_type": "code",
   "execution_count": 64,
   "metadata": {},
   "outputs": [],
   "source": [
    "df = df.T"
   ]
  },
  {
   "cell_type": "code",
   "execution_count": 100,
   "metadata": {
    "collapsed": true,
    "jupyter": {
     "outputs_hidden": true
    }
   },
   "outputs": [
    {
     "data": {
      "text/html": [
       "<div>\n",
       "<style scoped>\n",
       "    .dataframe tbody tr th:only-of-type {\n",
       "        vertical-align: middle;\n",
       "    }\n",
       "\n",
       "    .dataframe tbody tr th {\n",
       "        vertical-align: top;\n",
       "    }\n",
       "\n",
       "    .dataframe thead th {\n",
       "        text-align: right;\n",
       "    }\n",
       "</style>\n",
       "<table border=\"1\" class=\"dataframe\">\n",
       "  <thead>\n",
       "    <tr style=\"text-align: right;\">\n",
       "      <th></th>\n",
       "      <th>3</th>\n",
       "      <th>4</th>\n",
       "      <th>5</th>\n",
       "      <th>6</th>\n",
       "      <th>7</th>\n",
       "      <th>8</th>\n",
       "      <th>9</th>\n",
       "      <th>10</th>\n",
       "      <th>11</th>\n",
       "      <th>12</th>\n",
       "      <th>13</th>\n",
       "      <th>14</th>\n",
       "      <th>15</th>\n",
       "    </tr>\n",
       "  </thead>\n",
       "  <tbody>\n",
       "    <tr>\n",
       "      <th>cylinder253803r300</th>\n",
       "      <td>178734851</td>\n",
       "      <td>99525261</td>\n",
       "      <td>295441654</td>\n",
       "      <td>28182635</td>\n",
       "      <td>67881009</td>\n",
       "      <td>22492307</td>\n",
       "      <td>2605358</td>\n",
       "      <td>4356238</td>\n",
       "      <td>3720892</td>\n",
       "      <td>6337554</td>\n",
       "      <td>1865368</td>\n",
       "      <td>1971033</td>\n",
       "      <td>254306</td>\n",
       "    </tr>\n",
       "    <tr>\n",
       "      <th>cylinder128660r300</th>\n",
       "      <td>142487344</td>\n",
       "      <td>88036575</td>\n",
       "      <td>197200061</td>\n",
       "      <td>21620821</td>\n",
       "      <td>50392340</td>\n",
       "      <td>20395426</td>\n",
       "      <td>2101345</td>\n",
       "      <td>3833357</td>\n",
       "      <td>3121825</td>\n",
       "      <td>4658357</td>\n",
       "      <td>1614183</td>\n",
       "      <td>1642341</td>\n",
       "      <td>205584</td>\n",
       "    </tr>\n",
       "    <tr>\n",
       "      <th>cylinder109262r300</th>\n",
       "      <td>253127189</td>\n",
       "      <td>135220160</td>\n",
       "      <td>372205140</td>\n",
       "      <td>42703472</td>\n",
       "      <td>85314472</td>\n",
       "      <td>28438655</td>\n",
       "      <td>3012173</td>\n",
       "      <td>5514923</td>\n",
       "      <td>5034203</td>\n",
       "      <td>8435787</td>\n",
       "      <td>2666085</td>\n",
       "      <td>2645271</td>\n",
       "      <td>319716</td>\n",
       "    </tr>\n",
       "    <tr>\n",
       "      <th>cylinder216679r300</th>\n",
       "      <td>394273166</td>\n",
       "      <td>224272293</td>\n",
       "      <td>489437529</td>\n",
       "      <td>62357294</td>\n",
       "      <td>116354430</td>\n",
       "      <td>46267547</td>\n",
       "      <td>4603009</td>\n",
       "      <td>8242205</td>\n",
       "      <td>7399145</td>\n",
       "      <td>11515878</td>\n",
       "      <td>4129137</td>\n",
       "      <td>3882572</td>\n",
       "      <td>463493</td>\n",
       "    </tr>\n",
       "    <tr>\n",
       "      <th>cylinder269358r300</th>\n",
       "      <td>167341604</td>\n",
       "      <td>91404836</td>\n",
       "      <td>274651330</td>\n",
       "      <td>27758150</td>\n",
       "      <td>60543269</td>\n",
       "      <td>20513856</td>\n",
       "      <td>2290958</td>\n",
       "      <td>3963979</td>\n",
       "      <td>3465058</td>\n",
       "      <td>5750610</td>\n",
       "      <td>1825413</td>\n",
       "      <td>1759504</td>\n",
       "      <td>214859</td>\n",
       "    </tr>\n",
       "    <tr>\n",
       "      <th>cylinder329179r300</th>\n",
       "      <td>354487798</td>\n",
       "      <td>194955305</td>\n",
       "      <td>448651532</td>\n",
       "      <td>57011264</td>\n",
       "      <td>105494498</td>\n",
       "      <td>38869962</td>\n",
       "      <td>3758723</td>\n",
       "      <td>7203242</td>\n",
       "      <td>6525832</td>\n",
       "      <td>10514357</td>\n",
       "      <td>3515083</td>\n",
       "      <td>3455968</td>\n",
       "      <td>421153</td>\n",
       "    </tr>\n",
       "    <tr>\n",
       "      <th>cylinder299049r300</th>\n",
       "      <td>288746366</td>\n",
       "      <td>161817464</td>\n",
       "      <td>493848463</td>\n",
       "      <td>51079900</td>\n",
       "      <td>107533606</td>\n",
       "      <td>33450093</td>\n",
       "      <td>3889696</td>\n",
       "      <td>6522452</td>\n",
       "      <td>6190598</td>\n",
       "      <td>10461618</td>\n",
       "      <td>3317235</td>\n",
       "      <td>3274530</td>\n",
       "      <td>424817</td>\n",
       "    </tr>\n",
       "    <tr>\n",
       "      <th>cylinder397485r300</th>\n",
       "      <td>309895393</td>\n",
       "      <td>168698759</td>\n",
       "      <td>384096498</td>\n",
       "      <td>48340938</td>\n",
       "      <td>93939392</td>\n",
       "      <td>35881945</td>\n",
       "      <td>3752144</td>\n",
       "      <td>6800374</td>\n",
       "      <td>6121797</td>\n",
       "      <td>9198090</td>\n",
       "      <td>3168135</td>\n",
       "      <td>3145564</td>\n",
       "      <td>377087</td>\n",
       "    </tr>\n",
       "    <tr>\n",
       "      <th>cylinder300</th>\n",
       "      <td>162025739</td>\n",
       "      <td>90327698</td>\n",
       "      <td>248200864</td>\n",
       "      <td>26151493</td>\n",
       "      <td>58563579</td>\n",
       "      <td>19939329</td>\n",
       "      <td>2211349</td>\n",
       "      <td>3976892</td>\n",
       "      <td>3382804</td>\n",
       "      <td>5457691</td>\n",
       "      <td>1721108</td>\n",
       "      <td>1735092</td>\n",
       "      <td>206611</td>\n",
       "    </tr>\n",
       "    <tr>\n",
       "      <th>cylinder297714r300</th>\n",
       "      <td>168271636</td>\n",
       "      <td>92580400</td>\n",
       "      <td>291512770</td>\n",
       "      <td>27001356</td>\n",
       "      <td>70569521</td>\n",
       "      <td>23884861</td>\n",
       "      <td>2598737</td>\n",
       "      <td>4838829</td>\n",
       "      <td>3875263</td>\n",
       "      <td>6543081</td>\n",
       "      <td>1901566</td>\n",
       "      <td>2102350</td>\n",
       "      <td>261275</td>\n",
       "    </tr>\n",
       "  </tbody>\n",
       "</table>\n",
       "</div>"
      ],
      "text/plain": [
       "                           3          4          5         6          7   \\\n",
       "cylinder253803r300  178734851   99525261  295441654  28182635   67881009   \n",
       "cylinder128660r300  142487344   88036575  197200061  21620821   50392340   \n",
       "cylinder109262r300  253127189  135220160  372205140  42703472   85314472   \n",
       "cylinder216679r300  394273166  224272293  489437529  62357294  116354430   \n",
       "cylinder269358r300  167341604   91404836  274651330  27758150   60543269   \n",
       "cylinder329179r300  354487798  194955305  448651532  57011264  105494498   \n",
       "cylinder299049r300  288746366  161817464  493848463  51079900  107533606   \n",
       "cylinder397485r300  309895393  168698759  384096498  48340938   93939392   \n",
       "cylinder300         162025739   90327698  248200864  26151493   58563579   \n",
       "cylinder297714r300  168271636   92580400  291512770  27001356   70569521   \n",
       "\n",
       "                          8        9        10       11        12       13  \\\n",
       "cylinder253803r300  22492307  2605358  4356238  3720892   6337554  1865368   \n",
       "cylinder128660r300  20395426  2101345  3833357  3121825   4658357  1614183   \n",
       "cylinder109262r300  28438655  3012173  5514923  5034203   8435787  2666085   \n",
       "cylinder216679r300  46267547  4603009  8242205  7399145  11515878  4129137   \n",
       "cylinder269358r300  20513856  2290958  3963979  3465058   5750610  1825413   \n",
       "cylinder329179r300  38869962  3758723  7203242  6525832  10514357  3515083   \n",
       "cylinder299049r300  33450093  3889696  6522452  6190598  10461618  3317235   \n",
       "cylinder397485r300  35881945  3752144  6800374  6121797   9198090  3168135   \n",
       "cylinder300         19939329  2211349  3976892  3382804   5457691  1721108   \n",
       "cylinder297714r300  23884861  2598737  4838829  3875263   6543081  1901566   \n",
       "\n",
       "                         14      15  \n",
       "cylinder253803r300  1971033  254306  \n",
       "cylinder128660r300  1642341  205584  \n",
       "cylinder109262r300  2645271  319716  \n",
       "cylinder216679r300  3882572  463493  \n",
       "cylinder269358r300  1759504  214859  \n",
       "cylinder329179r300  3455968  421153  \n",
       "cylinder299049r300  3274530  424817  \n",
       "cylinder397485r300  3145564  377087  \n",
       "cylinder300         1735092  206611  \n",
       "cylinder297714r300  2102350  261275  "
      ]
     },
     "execution_count": 100,
     "metadata": {},
     "output_type": "execute_result"
    }
   ],
   "source": [
    "df.iloc[:,3:]"
   ]
  },
  {
   "cell_type": "code",
   "execution_count": 79,
   "metadata": {
    "collapsed": true,
    "jupyter": {
     "outputs_hidden": true
    }
   },
   "outputs": [
    {
     "data": {
      "text/html": [
       "<div>\n",
       "<style scoped>\n",
       "    .dataframe tbody tr th:only-of-type {\n",
       "        vertical-align: middle;\n",
       "    }\n",
       "\n",
       "    .dataframe tbody tr th {\n",
       "        vertical-align: top;\n",
       "    }\n",
       "\n",
       "    .dataframe thead th {\n",
       "        text-align: right;\n",
       "    }\n",
       "</style>\n",
       "<table border=\"1\" class=\"dataframe\">\n",
       "  <thead>\n",
       "    <tr style=\"text-align: right;\">\n",
       "      <th></th>\n",
       "      <th>0</th>\n",
       "      <th>1</th>\n",
       "      <th>2</th>\n",
       "      <th>3</th>\n",
       "      <th>4</th>\n",
       "      <th>5</th>\n",
       "      <th>6</th>\n",
       "      <th>7</th>\n",
       "      <th>8</th>\n",
       "      <th>9</th>\n",
       "      <th>10</th>\n",
       "      <th>11</th>\n",
       "      <th>12</th>\n",
       "      <th>13</th>\n",
       "      <th>14</th>\n",
       "      <th>15</th>\n",
       "    </tr>\n",
       "  </thead>\n",
       "  <tbody>\n",
       "    <tr>\n",
       "      <th>count</th>\n",
       "      <td>10.0</td>\n",
       "      <td>10.0</td>\n",
       "      <td>10.0</td>\n",
       "      <td>1.000000e+01</td>\n",
       "      <td>1.000000e+01</td>\n",
       "      <td>1.000000e+01</td>\n",
       "      <td>1.000000e+01</td>\n",
       "      <td>1.000000e+01</td>\n",
       "      <td>1.000000e+01</td>\n",
       "      <td>1.000000e+01</td>\n",
       "      <td>1.000000e+01</td>\n",
       "      <td>1.000000e+01</td>\n",
       "      <td>1.000000e+01</td>\n",
       "      <td>1.000000e+01</td>\n",
       "      <td>1.000000e+01</td>\n",
       "      <td>10.00000</td>\n",
       "    </tr>\n",
       "    <tr>\n",
       "      <th>mean</th>\n",
       "      <td>-1.0</td>\n",
       "      <td>-1.0</td>\n",
       "      <td>-1.0</td>\n",
       "      <td>2.419391e+08</td>\n",
       "      <td>1.346839e+08</td>\n",
       "      <td>3.495246e+08</td>\n",
       "      <td>3.922073e+07</td>\n",
       "      <td>8.165861e+07</td>\n",
       "      <td>2.901340e+07</td>\n",
       "      <td>3.082349e+06</td>\n",
       "      <td>5.525249e+06</td>\n",
       "      <td>4.883742e+06</td>\n",
       "      <td>7.887302e+06</td>\n",
       "      <td>2.572331e+06</td>\n",
       "      <td>2.561422e+06</td>\n",
       "      <td>314890.10000</td>\n",
       "    </tr>\n",
       "    <tr>\n",
       "      <th>std</th>\n",
       "      <td>0.0</td>\n",
       "      <td>0.0</td>\n",
       "      <td>0.0</td>\n",
       "      <td>9.071952e+07</td>\n",
       "      <td>5.008616e+07</td>\n",
       "      <td>1.039799e+08</td>\n",
       "      <td>1.479811e+07</td>\n",
       "      <td>2.327434e+07</td>\n",
       "      <td>9.187709e+06</td>\n",
       "      <td>8.617784e+05</td>\n",
       "      <td>1.575973e+06</td>\n",
       "      <td>1.564398e+06</td>\n",
       "      <td>2.445342e+06</td>\n",
       "      <td>9.056193e+05</td>\n",
       "      <td>8.254517e+05</td>\n",
       "      <td>99762.89274</td>\n",
       "    </tr>\n",
       "    <tr>\n",
       "      <th>min</th>\n",
       "      <td>-1.0</td>\n",
       "      <td>-1.0</td>\n",
       "      <td>-1.0</td>\n",
       "      <td>1.424873e+08</td>\n",
       "      <td>8.803658e+07</td>\n",
       "      <td>1.972001e+08</td>\n",
       "      <td>2.162082e+07</td>\n",
       "      <td>5.039234e+07</td>\n",
       "      <td>1.993933e+07</td>\n",
       "      <td>2.101345e+06</td>\n",
       "      <td>3.833357e+06</td>\n",
       "      <td>3.121825e+06</td>\n",
       "      <td>4.658357e+06</td>\n",
       "      <td>1.614183e+06</td>\n",
       "      <td>1.642341e+06</td>\n",
       "      <td>205584.00000</td>\n",
       "    </tr>\n",
       "    <tr>\n",
       "      <th>25%</th>\n",
       "      <td>-1.0</td>\n",
       "      <td>-1.0</td>\n",
       "      <td>-1.0</td>\n",
       "      <td>1.675741e+08</td>\n",
       "      <td>9.169873e+07</td>\n",
       "      <td>2.788667e+08</td>\n",
       "      <td>2.719055e+07</td>\n",
       "      <td>6.237770e+07</td>\n",
       "      <td>2.100847e+07</td>\n",
       "      <td>2.367903e+06</td>\n",
       "      <td>4.071728e+06</td>\n",
       "      <td>3.529016e+06</td>\n",
       "      <td>5.897346e+06</td>\n",
       "      <td>1.835402e+06</td>\n",
       "      <td>1.812386e+06</td>\n",
       "      <td>224720.75000</td>\n",
       "    </tr>\n",
       "    <tr>\n",
       "      <th>50%</th>\n",
       "      <td>-1.0</td>\n",
       "      <td>-1.0</td>\n",
       "      <td>-1.0</td>\n",
       "      <td>2.159310e+08</td>\n",
       "      <td>1.173727e+08</td>\n",
       "      <td>3.338234e+08</td>\n",
       "      <td>3.544305e+07</td>\n",
       "      <td>7.794200e+07</td>\n",
       "      <td>2.616176e+07</td>\n",
       "      <td>2.808766e+06</td>\n",
       "      <td>5.176876e+06</td>\n",
       "      <td>4.454733e+06</td>\n",
       "      <td>7.489434e+06</td>\n",
       "      <td>2.283826e+06</td>\n",
       "      <td>2.373810e+06</td>\n",
       "      <td>290495.50000</td>\n",
       "    </tr>\n",
       "    <tr>\n",
       "      <th>75%</th>\n",
       "      <td>-1.0</td>\n",
       "      <td>-1.0</td>\n",
       "      <td>-1.0</td>\n",
       "      <td>3.046081e+08</td>\n",
       "      <td>1.669784e+08</td>\n",
       "      <td>4.325128e+08</td>\n",
       "      <td>5.039516e+07</td>\n",
       "      <td>1.026057e+08</td>\n",
       "      <td>3.527398e+07</td>\n",
       "      <td>3.757078e+06</td>\n",
       "      <td>6.730894e+06</td>\n",
       "      <td>6.173398e+06</td>\n",
       "      <td>1.014574e+07</td>\n",
       "      <td>3.279960e+06</td>\n",
       "      <td>3.242288e+06</td>\n",
       "      <td>410136.50000</td>\n",
       "    </tr>\n",
       "    <tr>\n",
       "      <th>max</th>\n",
       "      <td>-1.0</td>\n",
       "      <td>-1.0</td>\n",
       "      <td>-1.0</td>\n",
       "      <td>3.942732e+08</td>\n",
       "      <td>2.242723e+08</td>\n",
       "      <td>4.938485e+08</td>\n",
       "      <td>6.235729e+07</td>\n",
       "      <td>1.163544e+08</td>\n",
       "      <td>4.626755e+07</td>\n",
       "      <td>4.603009e+06</td>\n",
       "      <td>8.242205e+06</td>\n",
       "      <td>7.399145e+06</td>\n",
       "      <td>1.151588e+07</td>\n",
       "      <td>4.129137e+06</td>\n",
       "      <td>3.882572e+06</td>\n",
       "      <td>463493.00000</td>\n",
       "    </tr>\n",
       "  </tbody>\n",
       "</table>\n",
       "</div>"
      ],
      "text/plain": [
       "         0     1     2             3             4             5   \\\n",
       "count  10.0  10.0  10.0  1.000000e+01  1.000000e+01  1.000000e+01   \n",
       "mean   -1.0  -1.0  -1.0  2.419391e+08  1.346839e+08  3.495246e+08   \n",
       "std     0.0   0.0   0.0  9.071952e+07  5.008616e+07  1.039799e+08   \n",
       "min    -1.0  -1.0  -1.0  1.424873e+08  8.803658e+07  1.972001e+08   \n",
       "25%    -1.0  -1.0  -1.0  1.675741e+08  9.169873e+07  2.788667e+08   \n",
       "50%    -1.0  -1.0  -1.0  2.159310e+08  1.173727e+08  3.338234e+08   \n",
       "75%    -1.0  -1.0  -1.0  3.046081e+08  1.669784e+08  4.325128e+08   \n",
       "max    -1.0  -1.0  -1.0  3.942732e+08  2.242723e+08  4.938485e+08   \n",
       "\n",
       "                 6             7             8             9             10  \\\n",
       "count  1.000000e+01  1.000000e+01  1.000000e+01  1.000000e+01  1.000000e+01   \n",
       "mean   3.922073e+07  8.165861e+07  2.901340e+07  3.082349e+06  5.525249e+06   \n",
       "std    1.479811e+07  2.327434e+07  9.187709e+06  8.617784e+05  1.575973e+06   \n",
       "min    2.162082e+07  5.039234e+07  1.993933e+07  2.101345e+06  3.833357e+06   \n",
       "25%    2.719055e+07  6.237770e+07  2.100847e+07  2.367903e+06  4.071728e+06   \n",
       "50%    3.544305e+07  7.794200e+07  2.616176e+07  2.808766e+06  5.176876e+06   \n",
       "75%    5.039516e+07  1.026057e+08  3.527398e+07  3.757078e+06  6.730894e+06   \n",
       "max    6.235729e+07  1.163544e+08  4.626755e+07  4.603009e+06  8.242205e+06   \n",
       "\n",
       "                 11            12            13            14            15  \n",
       "count  1.000000e+01  1.000000e+01  1.000000e+01  1.000000e+01      10.00000  \n",
       "mean   4.883742e+06  7.887302e+06  2.572331e+06  2.561422e+06  314890.10000  \n",
       "std    1.564398e+06  2.445342e+06  9.056193e+05  8.254517e+05   99762.89274  \n",
       "min    3.121825e+06  4.658357e+06  1.614183e+06  1.642341e+06  205584.00000  \n",
       "25%    3.529016e+06  5.897346e+06  1.835402e+06  1.812386e+06  224720.75000  \n",
       "50%    4.454733e+06  7.489434e+06  2.283826e+06  2.373810e+06  290495.50000  \n",
       "75%    6.173398e+06  1.014574e+07  3.279960e+06  3.242288e+06  410136.50000  \n",
       "max    7.399145e+06  1.151588e+07  4.129137e+06  3.882572e+06  463493.00000  "
      ]
     },
     "execution_count": 79,
     "metadata": {},
     "output_type": "execute_result"
    }
   ],
   "source": [
    "df.describe()"
   ]
  },
  {
   "cell_type": "code",
   "execution_count": 124,
   "metadata": {
    "collapsed": true,
    "jupyter": {
     "outputs_hidden": true
    }
   },
   "outputs": [
    {
     "data": {
      "text/html": [
       "<div>\n",
       "<style scoped>\n",
       "    .dataframe tbody tr th:only-of-type {\n",
       "        vertical-align: middle;\n",
       "    }\n",
       "\n",
       "    .dataframe tbody tr th {\n",
       "        vertical-align: top;\n",
       "    }\n",
       "\n",
       "    .dataframe thead th {\n",
       "        text-align: right;\n",
       "    }\n",
       "</style>\n",
       "<table border=\"1\" class=\"dataframe\">\n",
       "  <thead>\n",
       "    <tr style=\"text-align: right;\">\n",
       "      <th></th>\n",
       "      <th>1</th>\n",
       "      <th>2</th>\n",
       "      <th>3</th>\n",
       "      <th>4</th>\n",
       "      <th>5</th>\n",
       "      <th>6</th>\n",
       "      <th>7</th>\n",
       "      <th>8</th>\n",
       "      <th>9</th>\n",
       "      <th>10</th>\n",
       "      <th>11</th>\n",
       "      <th>12</th>\n",
       "      <th>13</th>\n",
       "    </tr>\n",
       "  </thead>\n",
       "  <tbody>\n",
       "    <tr>\n",
       "      <th>cylinder253803r300</th>\n",
       "      <td>8.252209</td>\n",
       "      <td>7.997933</td>\n",
       "      <td>8.470472</td>\n",
       "      <td>7.449982</td>\n",
       "      <td>7.831748</td>\n",
       "      <td>7.352034</td>\n",
       "      <td>6.415867</td>\n",
       "      <td>6.639112</td>\n",
       "      <td>6.570647</td>\n",
       "      <td>6.801922</td>\n",
       "      <td>6.270765</td>\n",
       "      <td>6.294694</td>\n",
       "      <td>5.405357</td>\n",
       "    </tr>\n",
       "    <tr>\n",
       "      <th>cylinder128660r300</th>\n",
       "      <td>8.153776</td>\n",
       "      <td>7.944663</td>\n",
       "      <td>8.294907</td>\n",
       "      <td>7.334872</td>\n",
       "      <td>7.702365</td>\n",
       "      <td>7.309533</td>\n",
       "      <td>6.322497</td>\n",
       "      <td>6.583579</td>\n",
       "      <td>6.494409</td>\n",
       "      <td>6.668233</td>\n",
       "      <td>6.207953</td>\n",
       "      <td>6.215463</td>\n",
       "      <td>5.312989</td>\n",
       "    </tr>\n",
       "    <tr>\n",
       "      <th>cylinder109262r300</th>\n",
       "      <td>8.403339</td>\n",
       "      <td>8.131041</td>\n",
       "      <td>8.570782</td>\n",
       "      <td>7.630463</td>\n",
       "      <td>7.931023</td>\n",
       "      <td>7.453909</td>\n",
       "      <td>6.478880</td>\n",
       "      <td>6.741539</td>\n",
       "      <td>6.701931</td>\n",
       "      <td>6.926126</td>\n",
       "      <td>6.425874</td>\n",
       "      <td>6.422470</td>\n",
       "      <td>5.504764</td>\n",
       "    </tr>\n",
       "    <tr>\n",
       "      <th>cylinder216679r300</th>\n",
       "      <td>8.595797</td>\n",
       "      <td>8.350776</td>\n",
       "      <td>8.689697</td>\n",
       "      <td>7.794887</td>\n",
       "      <td>8.065783</td>\n",
       "      <td>7.665276</td>\n",
       "      <td>6.663042</td>\n",
       "      <td>6.916043</td>\n",
       "      <td>6.869182</td>\n",
       "      <td>7.061297</td>\n",
       "      <td>6.615859</td>\n",
       "      <td>6.589120</td>\n",
       "      <td>5.666043</td>\n",
       "    </tr>\n",
       "    <tr>\n",
       "      <th>cylinder269358r300</th>\n",
       "      <td>8.223604</td>\n",
       "      <td>7.960969</td>\n",
       "      <td>8.438782</td>\n",
       "      <td>7.443391</td>\n",
       "      <td>7.782066</td>\n",
       "      <td>7.312047</td>\n",
       "      <td>6.360017</td>\n",
       "      <td>6.598131</td>\n",
       "      <td>6.539711</td>\n",
       "      <td>6.759714</td>\n",
       "      <td>6.261361</td>\n",
       "      <td>6.245390</td>\n",
       "      <td>5.332154</td>\n",
       "    </tr>\n",
       "    <tr>\n",
       "      <th>cylinder329179r300</th>\n",
       "      <td>8.549601</td>\n",
       "      <td>8.289935</td>\n",
       "      <td>8.651909</td>\n",
       "      <td>7.755961</td>\n",
       "      <td>8.023230</td>\n",
       "      <td>7.589614</td>\n",
       "      <td>6.575040</td>\n",
       "      <td>6.857528</td>\n",
       "      <td>6.814636</td>\n",
       "      <td>7.021783</td>\n",
       "      <td>6.545936</td>\n",
       "      <td>6.538570</td>\n",
       "      <td>5.624440</td>\n",
       "    </tr>\n",
       "    <tr>\n",
       "      <th>cylinder299049r300</th>\n",
       "      <td>8.460517</td>\n",
       "      <td>8.209025</td>\n",
       "      <td>8.693594</td>\n",
       "      <td>7.708250</td>\n",
       "      <td>8.031544</td>\n",
       "      <td>7.524397</td>\n",
       "      <td>6.589916</td>\n",
       "      <td>6.814411</td>\n",
       "      <td>6.791733</td>\n",
       "      <td>7.019599</td>\n",
       "      <td>6.520776</td>\n",
       "      <td>6.515149</td>\n",
       "      <td>5.628202</td>\n",
       "    </tr>\n",
       "    <tr>\n",
       "      <th>cylinder397485r300</th>\n",
       "      <td>8.491215</td>\n",
       "      <td>8.227112</td>\n",
       "      <td>8.584440</td>\n",
       "      <td>7.684315</td>\n",
       "      <td>7.972848</td>\n",
       "      <td>7.554876</td>\n",
       "      <td>6.574279</td>\n",
       "      <td>6.832533</td>\n",
       "      <td>6.786879</td>\n",
       "      <td>6.963698</td>\n",
       "      <td>6.500804</td>\n",
       "      <td>6.497699</td>\n",
       "      <td>5.576442</td>\n",
       "    </tr>\n",
       "    <tr>\n",
       "      <th>cylinder300</th>\n",
       "      <td>8.209584</td>\n",
       "      <td>7.955821</td>\n",
       "      <td>8.394803</td>\n",
       "      <td>7.417496</td>\n",
       "      <td>7.767628</td>\n",
       "      <td>7.299711</td>\n",
       "      <td>6.344657</td>\n",
       "      <td>6.599544</td>\n",
       "      <td>6.529277</td>\n",
       "      <td>6.737009</td>\n",
       "      <td>6.235808</td>\n",
       "      <td>6.239323</td>\n",
       "      <td>5.315153</td>\n",
       "    </tr>\n",
       "    <tr>\n",
       "      <th>cylinder297714r300</th>\n",
       "      <td>8.226011</td>\n",
       "      <td>7.966519</td>\n",
       "      <td>8.464658</td>\n",
       "      <td>7.431386</td>\n",
       "      <td>7.848617</td>\n",
       "      <td>7.378123</td>\n",
       "      <td>6.414762</td>\n",
       "      <td>6.684740</td>\n",
       "      <td>6.588301</td>\n",
       "      <td>6.815782</td>\n",
       "      <td>6.279111</td>\n",
       "      <td>6.322705</td>\n",
       "      <td>5.417098</td>\n",
       "    </tr>\n",
       "  </tbody>\n",
       "</table>\n",
       "</div>"
      ],
      "text/plain": [
       "                          1         2         3         4         5   \\\n",
       "cylinder253803r300  8.252209  7.997933  8.470472  7.449982  7.831748   \n",
       "cylinder128660r300  8.153776  7.944663  8.294907  7.334872  7.702365   \n",
       "cylinder109262r300  8.403339  8.131041  8.570782  7.630463  7.931023   \n",
       "cylinder216679r300  8.595797  8.350776  8.689697  7.794887  8.065783   \n",
       "cylinder269358r300  8.223604  7.960969  8.438782  7.443391  7.782066   \n",
       "cylinder329179r300  8.549601  8.289935  8.651909  7.755961  8.023230   \n",
       "cylinder299049r300  8.460517  8.209025  8.693594  7.708250  8.031544   \n",
       "cylinder397485r300  8.491215  8.227112  8.584440  7.684315  7.972848   \n",
       "cylinder300         8.209584  7.955821  8.394803  7.417496  7.767628   \n",
       "cylinder297714r300  8.226011  7.966519  8.464658  7.431386  7.848617   \n",
       "\n",
       "                          6         7         8         9         10  \\\n",
       "cylinder253803r300  7.352034  6.415867  6.639112  6.570647  6.801922   \n",
       "cylinder128660r300  7.309533  6.322497  6.583579  6.494409  6.668233   \n",
       "cylinder109262r300  7.453909  6.478880  6.741539  6.701931  6.926126   \n",
       "cylinder216679r300  7.665276  6.663042  6.916043  6.869182  7.061297   \n",
       "cylinder269358r300  7.312047  6.360017  6.598131  6.539711  6.759714   \n",
       "cylinder329179r300  7.589614  6.575040  6.857528  6.814636  7.021783   \n",
       "cylinder299049r300  7.524397  6.589916  6.814411  6.791733  7.019599   \n",
       "cylinder397485r300  7.554876  6.574279  6.832533  6.786879  6.963698   \n",
       "cylinder300         7.299711  6.344657  6.599544  6.529277  6.737009   \n",
       "cylinder297714r300  7.378123  6.414762  6.684740  6.588301  6.815782   \n",
       "\n",
       "                          11        12        13  \n",
       "cylinder253803r300  6.270765  6.294694  5.405357  \n",
       "cylinder128660r300  6.207953  6.215463  5.312989  \n",
       "cylinder109262r300  6.425874  6.422470  5.504764  \n",
       "cylinder216679r300  6.615859  6.589120  5.666043  \n",
       "cylinder269358r300  6.261361  6.245390  5.332154  \n",
       "cylinder329179r300  6.545936  6.538570  5.624440  \n",
       "cylinder299049r300  6.520776  6.515149  5.628202  \n",
       "cylinder397485r300  6.500804  6.497699  5.576442  \n",
       "cylinder300         6.235808  6.239323  5.315153  \n",
       "cylinder297714r300  6.279111  6.322705  5.417098  "
      ]
     },
     "execution_count": 124,
     "metadata": {},
     "output_type": "execute_result"
    }
   ],
   "source": [
    "df2 = df.copy()\n",
    "df2 = df2.iloc[:,3:]\n",
    "df2 = np.log10(df2)\n",
    "df2.columns = np.arange(1,14)\n",
    "df2"
   ]
  },
  {
   "cell_type": "code",
   "execution_count": 115,
   "metadata": {
    "collapsed": true,
    "jupyter": {
     "outputs_hidden": true
    }
   },
   "outputs": [
    {
     "data": {
      "text/html": [
       "<div>\n",
       "<style scoped>\n",
       "    .dataframe tbody tr th:only-of-type {\n",
       "        vertical-align: middle;\n",
       "    }\n",
       "\n",
       "    .dataframe tbody tr th {\n",
       "        vertical-align: top;\n",
       "    }\n",
       "\n",
       "    .dataframe thead th {\n",
       "        text-align: right;\n",
       "    }\n",
       "</style>\n",
       "<table border=\"1\" class=\"dataframe\">\n",
       "  <thead>\n",
       "    <tr style=\"text-align: right;\">\n",
       "      <th></th>\n",
       "      <th>1</th>\n",
       "      <th>2</th>\n",
       "      <th>3</th>\n",
       "      <th>4</th>\n",
       "      <th>5</th>\n",
       "      <th>6</th>\n",
       "      <th>7</th>\n",
       "      <th>8</th>\n",
       "      <th>9</th>\n",
       "      <th>10</th>\n",
       "      <th>11</th>\n",
       "      <th>12</th>\n",
       "      <th>13</th>\n",
       "    </tr>\n",
       "  </thead>\n",
       "  <tbody>\n",
       "    <tr>\n",
       "      <th>cylinder253803r300</th>\n",
       "      <td>1.787349</td>\n",
       "      <td>0.995253</td>\n",
       "      <td>2.954417</td>\n",
       "      <td>0.281826</td>\n",
       "      <td>0.678810</td>\n",
       "      <td>0.224923</td>\n",
       "      <td>0.026054</td>\n",
       "      <td>0.043562</td>\n",
       "      <td>0.037209</td>\n",
       "      <td>0.063376</td>\n",
       "      <td>0.018654</td>\n",
       "      <td>0.019710</td>\n",
       "      <td>0.002543</td>\n",
       "    </tr>\n",
       "    <tr>\n",
       "      <th>cylinder128660r300</th>\n",
       "      <td>1.424873</td>\n",
       "      <td>0.880366</td>\n",
       "      <td>1.972001</td>\n",
       "      <td>0.216208</td>\n",
       "      <td>0.503923</td>\n",
       "      <td>0.203954</td>\n",
       "      <td>0.021013</td>\n",
       "      <td>0.038334</td>\n",
       "      <td>0.031218</td>\n",
       "      <td>0.046584</td>\n",
       "      <td>0.016142</td>\n",
       "      <td>0.016423</td>\n",
       "      <td>0.002056</td>\n",
       "    </tr>\n",
       "    <tr>\n",
       "      <th>cylinder109262r300</th>\n",
       "      <td>2.531272</td>\n",
       "      <td>1.352202</td>\n",
       "      <td>3.722051</td>\n",
       "      <td>0.427035</td>\n",
       "      <td>0.853145</td>\n",
       "      <td>0.284387</td>\n",
       "      <td>0.030122</td>\n",
       "      <td>0.055149</td>\n",
       "      <td>0.050342</td>\n",
       "      <td>0.084358</td>\n",
       "      <td>0.026661</td>\n",
       "      <td>0.026453</td>\n",
       "      <td>0.003197</td>\n",
       "    </tr>\n",
       "    <tr>\n",
       "      <th>cylinder216679r300</th>\n",
       "      <td>3.942732</td>\n",
       "      <td>2.242723</td>\n",
       "      <td>4.894375</td>\n",
       "      <td>0.623573</td>\n",
       "      <td>1.163544</td>\n",
       "      <td>0.462675</td>\n",
       "      <td>0.046030</td>\n",
       "      <td>0.082422</td>\n",
       "      <td>0.073991</td>\n",
       "      <td>0.115159</td>\n",
       "      <td>0.041291</td>\n",
       "      <td>0.038826</td>\n",
       "      <td>0.004635</td>\n",
       "    </tr>\n",
       "    <tr>\n",
       "      <th>cylinder269358r300</th>\n",
       "      <td>1.673416</td>\n",
       "      <td>0.914048</td>\n",
       "      <td>2.746513</td>\n",
       "      <td>0.277581</td>\n",
       "      <td>0.605433</td>\n",
       "      <td>0.205139</td>\n",
       "      <td>0.022910</td>\n",
       "      <td>0.039640</td>\n",
       "      <td>0.034651</td>\n",
       "      <td>0.057506</td>\n",
       "      <td>0.018254</td>\n",
       "      <td>0.017595</td>\n",
       "      <td>0.002149</td>\n",
       "    </tr>\n",
       "    <tr>\n",
       "      <th>cylinder329179r300</th>\n",
       "      <td>3.544878</td>\n",
       "      <td>1.949553</td>\n",
       "      <td>4.486515</td>\n",
       "      <td>0.570113</td>\n",
       "      <td>1.054945</td>\n",
       "      <td>0.388700</td>\n",
       "      <td>0.037587</td>\n",
       "      <td>0.072032</td>\n",
       "      <td>0.065258</td>\n",
       "      <td>0.105144</td>\n",
       "      <td>0.035151</td>\n",
       "      <td>0.034560</td>\n",
       "      <td>0.004212</td>\n",
       "    </tr>\n",
       "    <tr>\n",
       "      <th>cylinder299049r300</th>\n",
       "      <td>2.887464</td>\n",
       "      <td>1.618175</td>\n",
       "      <td>4.938485</td>\n",
       "      <td>0.510799</td>\n",
       "      <td>1.075336</td>\n",
       "      <td>0.334501</td>\n",
       "      <td>0.038897</td>\n",
       "      <td>0.065225</td>\n",
       "      <td>0.061906</td>\n",
       "      <td>0.104616</td>\n",
       "      <td>0.033172</td>\n",
       "      <td>0.032745</td>\n",
       "      <td>0.004248</td>\n",
       "    </tr>\n",
       "    <tr>\n",
       "      <th>cylinder397485r300</th>\n",
       "      <td>3.098954</td>\n",
       "      <td>1.686988</td>\n",
       "      <td>3.840965</td>\n",
       "      <td>0.483409</td>\n",
       "      <td>0.939394</td>\n",
       "      <td>0.358819</td>\n",
       "      <td>0.037521</td>\n",
       "      <td>0.068004</td>\n",
       "      <td>0.061218</td>\n",
       "      <td>0.091981</td>\n",
       "      <td>0.031681</td>\n",
       "      <td>0.031456</td>\n",
       "      <td>0.003771</td>\n",
       "    </tr>\n",
       "    <tr>\n",
       "      <th>cylinder300</th>\n",
       "      <td>1.620257</td>\n",
       "      <td>0.903277</td>\n",
       "      <td>2.482009</td>\n",
       "      <td>0.261515</td>\n",
       "      <td>0.585636</td>\n",
       "      <td>0.199393</td>\n",
       "      <td>0.022113</td>\n",
       "      <td>0.039769</td>\n",
       "      <td>0.033828</td>\n",
       "      <td>0.054577</td>\n",
       "      <td>0.017211</td>\n",
       "      <td>0.017351</td>\n",
       "      <td>0.002066</td>\n",
       "    </tr>\n",
       "    <tr>\n",
       "      <th>cylinder297714r300</th>\n",
       "      <td>1.682716</td>\n",
       "      <td>0.925804</td>\n",
       "      <td>2.915128</td>\n",
       "      <td>0.270014</td>\n",
       "      <td>0.705695</td>\n",
       "      <td>0.238849</td>\n",
       "      <td>0.025987</td>\n",
       "      <td>0.048388</td>\n",
       "      <td>0.038753</td>\n",
       "      <td>0.065431</td>\n",
       "      <td>0.019016</td>\n",
       "      <td>0.021024</td>\n",
       "      <td>0.002613</td>\n",
       "    </tr>\n",
       "  </tbody>\n",
       "</table>\n",
       "</div>"
      ],
      "text/plain": [
       "                          1         2         3         4         5   \\\n",
       "cylinder253803r300  1.787349  0.995253  2.954417  0.281826  0.678810   \n",
       "cylinder128660r300  1.424873  0.880366  1.972001  0.216208  0.503923   \n",
       "cylinder109262r300  2.531272  1.352202  3.722051  0.427035  0.853145   \n",
       "cylinder216679r300  3.942732  2.242723  4.894375  0.623573  1.163544   \n",
       "cylinder269358r300  1.673416  0.914048  2.746513  0.277581  0.605433   \n",
       "cylinder329179r300  3.544878  1.949553  4.486515  0.570113  1.054945   \n",
       "cylinder299049r300  2.887464  1.618175  4.938485  0.510799  1.075336   \n",
       "cylinder397485r300  3.098954  1.686988  3.840965  0.483409  0.939394   \n",
       "cylinder300         1.620257  0.903277  2.482009  0.261515  0.585636   \n",
       "cylinder297714r300  1.682716  0.925804  2.915128  0.270014  0.705695   \n",
       "\n",
       "                          6         7         8         9         10  \\\n",
       "cylinder253803r300  0.224923  0.026054  0.043562  0.037209  0.063376   \n",
       "cylinder128660r300  0.203954  0.021013  0.038334  0.031218  0.046584   \n",
       "cylinder109262r300  0.284387  0.030122  0.055149  0.050342  0.084358   \n",
       "cylinder216679r300  0.462675  0.046030  0.082422  0.073991  0.115159   \n",
       "cylinder269358r300  0.205139  0.022910  0.039640  0.034651  0.057506   \n",
       "cylinder329179r300  0.388700  0.037587  0.072032  0.065258  0.105144   \n",
       "cylinder299049r300  0.334501  0.038897  0.065225  0.061906  0.104616   \n",
       "cylinder397485r300  0.358819  0.037521  0.068004  0.061218  0.091981   \n",
       "cylinder300         0.199393  0.022113  0.039769  0.033828  0.054577   \n",
       "cylinder297714r300  0.238849  0.025987  0.048388  0.038753  0.065431   \n",
       "\n",
       "                          11        12        13  \n",
       "cylinder253803r300  0.018654  0.019710  0.002543  \n",
       "cylinder128660r300  0.016142  0.016423  0.002056  \n",
       "cylinder109262r300  0.026661  0.026453  0.003197  \n",
       "cylinder216679r300  0.041291  0.038826  0.004635  \n",
       "cylinder269358r300  0.018254  0.017595  0.002149  \n",
       "cylinder329179r300  0.035151  0.034560  0.004212  \n",
       "cylinder299049r300  0.033172  0.032745  0.004248  \n",
       "cylinder397485r300  0.031681  0.031456  0.003771  \n",
       "cylinder300         0.017211  0.017351  0.002066  \n",
       "cylinder297714r300  0.019016  0.021024  0.002613  "
      ]
     },
     "execution_count": 115,
     "metadata": {},
     "output_type": "execute_result"
    }
   ],
   "source": [
    "df3 = df.copy()\n",
    "df3 = df3.iloc[:,3:]\n",
    "df3 = np.divide(df3,1e8)\n",
    "df3.columns = np.arange(1,14)\n",
    "df3"
   ]
  },
  {
   "cell_type": "code",
   "execution_count": 15,
   "metadata": {},
   "outputs": [
    {
     "data": {
      "text/plain": [
       "[Text(-2.0, 0, '0'),\n",
       " Text(0.0, 0, '1'),\n",
       " Text(2.0, 0, '2'),\n",
       " Text(4.0, 0, '3'),\n",
       " Text(6.0, 0, '4'),\n",
       " Text(8.0, 0, '5'),\n",
       " Text(10.0, 0, '6')]"
      ]
     },
     "execution_count": 15,
     "metadata": {},
     "output_type": "execute_result"
    },
    {
     "data": {
      "image/png": "[encoded data removed]",
      "text/plain": [
       "<Figure size 720x720 with 1 Axes>"
      ]
     },
     "metadata": {
      "needs_background": "light"
     },
     "output_type": "display_data"
    }
   ],
   "source": [
    "ax = df.plot.area(figsize=(10,10))\n",
    "ax.set_xticklabels(np.arange(7))"
   ]
  },
  {
   "cell_type": "code",
   "execution_count": 17,
   "metadata": {},
   "outputs": [
    {
     "data": {
      "text/plain": [
       "Index(['cylinder253803r300', 'cylinder128660r300', 'cylinder109262r300',\n",
       "       'cylinder216679r300', 'cylinder269358r300', 'cylinder329179r300',\n",
       "       'cylinder299049r300', 'cylinder397485r300', 'cylinder300',\n",
       "       'cylinder297714r300'],\n",
       "      dtype='object')"
      ]
     },
     "execution_count": 17,
     "metadata": {},
     "output_type": "execute_result"
    }
   ],
   "source": [
    "df.index"
   ]
  },
  {
   "cell_type": "code",
   "execution_count": 125,
   "metadata": {},
   "outputs": [
    {
     "data": {
      "text/plain": [
       "Text(0.5, 1.0, 'Motifs distribution in cylinders (n=10)')"
      ]
     },
     "execution_count": 125,
     "metadata": {},
     "output_type": "execute_result"
    },
    {
     "data": {
      "image/png": "[encoded data removed]",
      "text/plain": [
       "<Figure size 432x288 with 1 Axes>"
      ]
     },
     "metadata": {
      "needs_background": "light"
     },
     "output_type": "display_data"
    }
   ],
   "source": [
    "fig, axes = plt.subplots()\n",
    "# plot violin. 'Scenario' is according to x axis, \n",
    "# 'LMP' is y axis, data is your dataframe. ax - is axes instance\n",
    "sns.violinplot(data=df2, ax = axes)\n",
    "plt.xlabel('Motifs')\n",
    "plt.ylabel('Log(Occurences)')\n",
    "plt.title('Motifs distribution in cylinders (n=10)')"
   ]
  },
  {
   "cell_type": "code",
   "execution_count": 122,
   "metadata": {},
   "outputs": [
    {
     "data": {
      "text/plain": [
       "Text(0.5, 1.0, 'Motifs distribution in cylinders (n=10)')"
      ]
     },
     "execution_count": 122,
     "metadata": {},
     "output_type": "execute_result"
    },
    {
     "data": {
      "image/png": "[encoded data removed]",
      "text/plain": [
       "<Figure size 432x288 with 1 Axes>"
      ]
     },
     "metadata": {
      "needs_background": "light"
     },
     "output_type": "display_data"
    }
   ],
   "source": [
    "fig, axes = plt.subplots()\n",
    "# plot violin. 'Scenario' is according to x axis, \n",
    "# 'LMP' is y axis, data is your dataframe. ax - is axes instance\n",
    "sns.violinplot(data=df3, ax = axes)\n",
    "plt.xlabel('Motifs')\n",
    "plt.ylabel('Occurences x 10^8')\n",
    "plt.title('Motifs distribution in cylinders (n=10)')"
   ]
  },
  {
   "cell_type": "markdown",
   "metadata": {},
   "source": [
    "# Random Graph (average of 10 cylinders)"
   ]
  },
  {
   "cell_type": "code",
   "execution_count": 20,
   "metadata": {},
   "outputs": [],
   "source": [
    "n = 6213 # num of cells in cylinder300\n",
    "p = 0.015"
   ]
  },
  {
   "cell_type": "code",
   "execution_count": 63,
   "metadata": {},
   "outputs": [],
   "source": [
    "sparsities = []\n",
    "num_nodes = []\n",
    "num_edges = []\n",
    "for cylinder,value in data_dict.items():\n",
    "    num_edges.append(len(np.where(data_dict[cylinder]!=0)[0]))\n",
    "    num_nodes.append(data_dict[cylinder].shape[0])\n",
    "    sparsities.append(len(np.where(data_dict[cylinder]!=0)[0]) / data_dict[cylinder].size) # divide nonzeros in adj matrix to its size to get its sparsity"
   ]
  },
  {
   "cell_type": "code",
   "execution_count": 72,
   "metadata": {},
   "outputs": [
    {
     "name": "stdout",
     "output_type": "stream",
     "text": [
      "6894 0.03293146288255226\n"
     ]
    }
   ],
   "source": [
    "n = int(np.mean(num_nodes))\n",
    "p = np.mean(sparsities)\n",
    "print(n,p)"
   ]
  },
  {
   "cell_type": "code",
   "execution_count": 73,
   "metadata": {},
   "outputs": [],
   "source": [
    "erdos_mean = nsr.erdos_renyi(n, p)\n",
    "erdos_motifs_mean = nsm.motifs(erdos_mean, algorithm='louzoun')"
   ]
  },
  {
   "cell_type": "code",
   "execution_count": 75,
   "metadata": {},
   "outputs": [
    {
     "name": "stdout",
     "output_type": "stream",
     "text": [
      "[ 1  2  3  4  5  6  7  8  9 10 11 12 13]\n"
     ]
    },
    {
     "data": {
      "text/plain": [
       "[<AxesSubplot:title={'center':'Random Graph with n=6894, p=0.033'}>,\n",
       " <AxesSubplot:>]"
      ]
     },
     "execution_count": 75,
     "metadata": {},
     "output_type": "execute_result"
    },
    {
     "data": {
      "image/png": "[encoded data removed]",
      "text/plain": [
       "<Figure size 432x288 with 2 Axes>"
      ]
     },
     "metadata": {
      "needs_background": "light"
     },
     "output_type": "display_data"
    }
   ],
   "source": [
    "nsv.bar_motifs(erdos_motifs_mean,title=f'Random Graph with n={n}, p={np.round(p,3)}')"
   ]
  },
  {
   "cell_type": "markdown",
   "metadata": {},
   "source": [
    "# For cylinder300"
   ]
  },
  {
   "cell_type": "code",
   "execution_count": 123,
   "metadata": {},
   "outputs": [],
   "source": [
    "n = 6213 # num of cells in cylinder300\n",
    "#p = 0.015 # based on PCs only\n",
    "p = len(np.where(data_dict['cylinder300'] == 1)[0]) / n**2\n",
    "erdos = nsr.erdos_renyi(n, p)"
   ]
  },
  {
   "cell_type": "code",
   "execution_count": 27,
   "metadata": {},
   "outputs": [],
   "source": [
    "erdos_motifs = nsm.motifs(erdos, algorithm='louzoun')"
   ]
  },
  {
   "cell_type": "code",
   "execution_count": 35,
   "metadata": {},
   "outputs": [
    {
     "name": "stdout",
     "output_type": "stream",
     "text": [
      "[ 1  2  3  4  5  6  7  8  9 10 11 12 13]\n"
     ]
    },
    {
     "data": {
      "text/plain": [
       "[<AxesSubplot:title={'center':'ER Graph (cylinder300) with n=6213, p=0.032'}>,\n",
       " <AxesSubplot:>]"
      ]
     },
     "execution_count": 35,
     "metadata": {},
     "output_type": "execute_result"
    },
    {
     "data": {
      "image/png": "[encoded data removed]",
      "text/plain": [
       "<Figure size 432x288 with 2 Axes>"
      ]
     },
     "metadata": {
      "needs_background": "light"
     },
     "output_type": "display_data"
    }
   ],
   "source": [
    "nsv.bar_motifs(erdos_motifs,title=f'ER Graph (cylinder300) with n={n}, p={np.round(p,3)}')"
   ]
  },
  {
   "cell_type": "code",
   "execution_count": 29,
   "metadata": {},
   "outputs": [
    {
     "name": "stdout",
     "output_type": "stream",
     "text": [
      "[ 1  2  3  4  5  6  7  8  9 10 11 12 13]\n"
     ]
    },
    {
     "data": {
      "text/plain": [
       "(0.0, 400000000.0)"
      ]
     },
     "execution_count": 29,
     "metadata": {},
     "output_type": "execute_result"
    },
    {
     "data": {
      "image/png": "[encoded data removed]",
      "text/plain": [
       "<Figure size 432x288 with 2 Axes>"
      ]
     },
     "metadata": {
      "needs_background": "light"
     },
     "output_type": "display_data"
    }
   ],
   "source": [
    "ax0, ax1 = nsv.bar_motifs(erdos_motifs,title=f'Random Graph with n={n}, p={np.round(p,3)}')\n",
    "ax0.set_ylim([0,4e8])"
   ]
  },
  {
   "cell_type": "markdown",
   "metadata": {},
   "source": [
    "# Dense ER"
   ]
  },
  {
   "cell_type": "code",
   "execution_count": 147,
   "metadata": {},
   "outputs": [],
   "source": [
    "erdos_dense = nsr.erdos_renyi(n, 0.1)\n",
    "erdos_motifs_dense = nsm.motifs(erdos_dense, algorithm='louzoun')"
   ]
  },
  {
   "cell_type": "code",
   "execution_count": 148,
   "metadata": {},
   "outputs": [
    {
     "name": "stdout",
     "output_type": "stream",
     "text": [
      "[ 1  2  3  4  5  6  7  8  9 10 11 12 13]\n"
     ]
    },
    {
     "data": {
      "text/plain": [
       "[<AxesSubplot:title={'center':'Random Graph p=0.1'}>, <AxesSubplot:>]"
      ]
     },
     "execution_count": 148,
     "metadata": {},
     "output_type": "execute_result"
    },
    {
     "data": {
      "image/png": "[encoded data removed]",
      "text/plain": [
       "<Figure size 432x288 with 2 Axes>"
      ]
     },
     "metadata": {
      "needs_background": "light"
     },
     "output_type": "display_data"
    }
   ],
   "source": [
    "nsv.bar_motifs(erdos_motifs_dense,title='Random Graph p=0.1')"
   ]
  },
  {
   "cell_type": "markdown",
   "metadata": {},
   "source": [
    "# Z score"
   ]
  },
  {
   "cell_type": "code",
   "execution_count": 37,
   "metadata": {},
   "outputs": [
    {
     "data": {
      "text/plain": [
       "6213"
      ]
     },
     "execution_count": 37,
     "metadata": {},
     "output_type": "execute_result"
    }
   ],
   "source": [
    "data_dict['cylinder300'].shape[0]"
   ]
  },
  {
   "cell_type": "markdown",
   "metadata": {},
   "source": [
    "First, we need to calculate motifs for ER and dd networks 1000 times. then use their mean and std of motif structures to normalize our motifs"
   ]
  },
  {
   "cell_type": "code",
   "execution_count": null,
   "metadata": {},
   "outputs": [],
   "source": [
    "num_repetitions = 1000\n",
    "motifs = []\n",
    "n = data_dict['cylinder300'].shape[0] # num of cells in cylinder300 = 6213\n",
    "p = len(np.where(data_dict['cylinder300'] == 1)[0]) / n**2 # p = 0.032\n",
    "for rep in range(num_repetitions):\n",
    "    cur_erdos = nsr.erdos_renyi(n, p)\n",
    "    cur_motifs = nsm.motifs(cur_erdos, algorithm='louzoun')\n",
    "    motifs.append(cur_motifs)\n",
    "np.save('ER_motifs',motifs)"
   ]
  },
  {
   "cell_type": "code",
   "execution_count": 30,
   "metadata": {},
   "outputs": [
    {
     "data": {
      "text/html": [
       "<div>\n",
       "<style scoped>\n",
       "    .dataframe tbody tr th:only-of-type {\n",
       "        vertical-align: middle;\n",
       "    }\n",
       "\n",
       "    .dataframe tbody tr th {\n",
       "        vertical-align: top;\n",
       "    }\n",
       "\n",
       "    .dataframe thead th {\n",
       "        text-align: right;\n",
       "    }\n",
       "</style>\n",
       "<table border=\"1\" class=\"dataframe\">\n",
       "  <thead>\n",
       "    <tr style=\"text-align: right;\">\n",
       "      <th></th>\n",
       "      <th>0</th>\n",
       "      <th>1</th>\n",
       "      <th>2</th>\n",
       "      <th>3</th>\n",
       "      <th>4</th>\n",
       "      <th>5</th>\n",
       "      <th>6</th>\n",
       "      <th>7</th>\n",
       "      <th>8</th>\n",
       "      <th>9</th>\n",
       "      <th>10</th>\n",
       "      <th>11</th>\n",
       "      <th>12</th>\n",
       "      <th>13</th>\n",
       "      <th>14</th>\n",
       "      <th>15</th>\n",
       "    </tr>\n",
       "  </thead>\n",
       "  <tbody>\n",
       "    <tr>\n",
       "      <th>cylinder253803r300</th>\n",
       "      <td>-1.0</td>\n",
       "      <td>-1.0</td>\n",
       "      <td>-1.0</td>\n",
       "      <td>1.787349e+08</td>\n",
       "      <td>9.952526e+07</td>\n",
       "      <td>2.954417e+08</td>\n",
       "      <td>2.818264e+07</td>\n",
       "      <td>6.788101e+07</td>\n",
       "      <td>2.249231e+07</td>\n",
       "      <td>2.605358e+06</td>\n",
       "      <td>4.356238e+06</td>\n",
       "      <td>3.720892e+06</td>\n",
       "      <td>6.337554e+06</td>\n",
       "      <td>1.865368e+06</td>\n",
       "      <td>1.971033e+06</td>\n",
       "      <td>254306.000000</td>\n",
       "    </tr>\n",
       "    <tr>\n",
       "      <th>cylinder128660r300</th>\n",
       "      <td>-1.0</td>\n",
       "      <td>-1.0</td>\n",
       "      <td>-1.0</td>\n",
       "      <td>1.424873e+08</td>\n",
       "      <td>8.803658e+07</td>\n",
       "      <td>1.972001e+08</td>\n",
       "      <td>2.162082e+07</td>\n",
       "      <td>5.039234e+07</td>\n",
       "      <td>2.039543e+07</td>\n",
       "      <td>2.101345e+06</td>\n",
       "      <td>3.833357e+06</td>\n",
       "      <td>3.121825e+06</td>\n",
       "      <td>4.658357e+06</td>\n",
       "      <td>1.614183e+06</td>\n",
       "      <td>1.642341e+06</td>\n",
       "      <td>205584.000000</td>\n",
       "    </tr>\n",
       "    <tr>\n",
       "      <th>cylinder109262r300</th>\n",
       "      <td>-1.0</td>\n",
       "      <td>-1.0</td>\n",
       "      <td>-1.0</td>\n",
       "      <td>2.531272e+08</td>\n",
       "      <td>1.352202e+08</td>\n",
       "      <td>3.722051e+08</td>\n",
       "      <td>4.270347e+07</td>\n",
       "      <td>8.531447e+07</td>\n",
       "      <td>2.843866e+07</td>\n",
       "      <td>3.012173e+06</td>\n",
       "      <td>5.514923e+06</td>\n",
       "      <td>5.034203e+06</td>\n",
       "      <td>8.435787e+06</td>\n",
       "      <td>2.666085e+06</td>\n",
       "      <td>2.645271e+06</td>\n",
       "      <td>319716.000000</td>\n",
       "    </tr>\n",
       "    <tr>\n",
       "      <th>cylinder216679r300</th>\n",
       "      <td>-1.0</td>\n",
       "      <td>-1.0</td>\n",
       "      <td>-1.0</td>\n",
       "      <td>3.942732e+08</td>\n",
       "      <td>2.242723e+08</td>\n",
       "      <td>4.894375e+08</td>\n",
       "      <td>6.235729e+07</td>\n",
       "      <td>1.163544e+08</td>\n",
       "      <td>4.626755e+07</td>\n",
       "      <td>4.603009e+06</td>\n",
       "      <td>8.242205e+06</td>\n",
       "      <td>7.399145e+06</td>\n",
       "      <td>1.151588e+07</td>\n",
       "      <td>4.129137e+06</td>\n",
       "      <td>3.882572e+06</td>\n",
       "      <td>463493.000000</td>\n",
       "    </tr>\n",
       "    <tr>\n",
       "      <th>cylinder269358r300</th>\n",
       "      <td>-1.0</td>\n",
       "      <td>-1.0</td>\n",
       "      <td>-1.0</td>\n",
       "      <td>1.673416e+08</td>\n",
       "      <td>9.140484e+07</td>\n",
       "      <td>2.746513e+08</td>\n",
       "      <td>2.775815e+07</td>\n",
       "      <td>6.054327e+07</td>\n",
       "      <td>2.051386e+07</td>\n",
       "      <td>2.290958e+06</td>\n",
       "      <td>3.963979e+06</td>\n",
       "      <td>3.465058e+06</td>\n",
       "      <td>5.750610e+06</td>\n",
       "      <td>1.825413e+06</td>\n",
       "      <td>1.759504e+06</td>\n",
       "      <td>214859.000000</td>\n",
       "    </tr>\n",
       "    <tr>\n",
       "      <th>cylinder329179r300</th>\n",
       "      <td>-1.0</td>\n",
       "      <td>-1.0</td>\n",
       "      <td>-1.0</td>\n",
       "      <td>3.544878e+08</td>\n",
       "      <td>1.949553e+08</td>\n",
       "      <td>4.486515e+08</td>\n",
       "      <td>5.701126e+07</td>\n",
       "      <td>1.054945e+08</td>\n",
       "      <td>3.886996e+07</td>\n",
       "      <td>3.758723e+06</td>\n",
       "      <td>7.203242e+06</td>\n",
       "      <td>6.525832e+06</td>\n",
       "      <td>1.051436e+07</td>\n",
       "      <td>3.515083e+06</td>\n",
       "      <td>3.455968e+06</td>\n",
       "      <td>421153.000000</td>\n",
       "    </tr>\n",
       "    <tr>\n",
       "      <th>cylinder299049r300</th>\n",
       "      <td>-1.0</td>\n",
       "      <td>-1.0</td>\n",
       "      <td>-1.0</td>\n",
       "      <td>2.887464e+08</td>\n",
       "      <td>1.618175e+08</td>\n",
       "      <td>4.938485e+08</td>\n",
       "      <td>5.107990e+07</td>\n",
       "      <td>1.075336e+08</td>\n",
       "      <td>3.345009e+07</td>\n",
       "      <td>3.889696e+06</td>\n",
       "      <td>6.522452e+06</td>\n",
       "      <td>6.190598e+06</td>\n",
       "      <td>1.046162e+07</td>\n",
       "      <td>3.317235e+06</td>\n",
       "      <td>3.274530e+06</td>\n",
       "      <td>424817.000000</td>\n",
       "    </tr>\n",
       "    <tr>\n",
       "      <th>cylinder397485r300</th>\n",
       "      <td>-1.0</td>\n",
       "      <td>-1.0</td>\n",
       "      <td>-1.0</td>\n",
       "      <td>3.098954e+08</td>\n",
       "      <td>1.686988e+08</td>\n",
       "      <td>3.840965e+08</td>\n",
       "      <td>4.834094e+07</td>\n",
       "      <td>9.393939e+07</td>\n",
       "      <td>3.588194e+07</td>\n",
       "      <td>3.752144e+06</td>\n",
       "      <td>6.800374e+06</td>\n",
       "      <td>6.121797e+06</td>\n",
       "      <td>9.198090e+06</td>\n",
       "      <td>3.168135e+06</td>\n",
       "      <td>3.145564e+06</td>\n",
       "      <td>377087.000000</td>\n",
       "    </tr>\n",
       "    <tr>\n",
       "      <th>cylinder300</th>\n",
       "      <td>-1.0</td>\n",
       "      <td>-1.0</td>\n",
       "      <td>-1.0</td>\n",
       "      <td>1.620257e+08</td>\n",
       "      <td>9.032770e+07</td>\n",
       "      <td>2.482009e+08</td>\n",
       "      <td>2.615149e+07</td>\n",
       "      <td>5.856358e+07</td>\n",
       "      <td>1.993933e+07</td>\n",
       "      <td>2.211349e+06</td>\n",
       "      <td>3.976892e+06</td>\n",
       "      <td>3.382804e+06</td>\n",
       "      <td>5.457691e+06</td>\n",
       "      <td>1.721108e+06</td>\n",
       "      <td>1.735092e+06</td>\n",
       "      <td>206611.000000</td>\n",
       "    </tr>\n",
       "    <tr>\n",
       "      <th>cylinder297714r300</th>\n",
       "      <td>-1.0</td>\n",
       "      <td>-1.0</td>\n",
       "      <td>-1.0</td>\n",
       "      <td>1.682716e+08</td>\n",
       "      <td>9.258040e+07</td>\n",
       "      <td>2.915128e+08</td>\n",
       "      <td>2.700136e+07</td>\n",
       "      <td>7.056952e+07</td>\n",
       "      <td>2.388486e+07</td>\n",
       "      <td>2.598737e+06</td>\n",
       "      <td>4.838829e+06</td>\n",
       "      <td>3.875263e+06</td>\n",
       "      <td>6.543081e+06</td>\n",
       "      <td>1.901566e+06</td>\n",
       "      <td>2.102350e+06</td>\n",
       "      <td>261275.000000</td>\n",
       "    </tr>\n",
       "    <tr>\n",
       "      <th>mean</th>\n",
       "      <td>-1.0</td>\n",
       "      <td>-1.0</td>\n",
       "      <td>-1.0</td>\n",
       "      <td>2.419391e+08</td>\n",
       "      <td>1.346839e+08</td>\n",
       "      <td>3.495246e+08</td>\n",
       "      <td>3.922073e+07</td>\n",
       "      <td>8.165861e+07</td>\n",
       "      <td>2.901340e+07</td>\n",
       "      <td>3.082349e+06</td>\n",
       "      <td>5.525249e+06</td>\n",
       "      <td>4.883742e+06</td>\n",
       "      <td>7.887302e+06</td>\n",
       "      <td>2.572331e+06</td>\n",
       "      <td>2.561422e+06</td>\n",
       "      <td>314890.100000</td>\n",
       "    </tr>\n",
       "    <tr>\n",
       "      <th>std</th>\n",
       "      <td>0.0</td>\n",
       "      <td>0.0</td>\n",
       "      <td>0.0</td>\n",
       "      <td>8.606409e+07</td>\n",
       "      <td>4.751590e+07</td>\n",
       "      <td>9.864400e+07</td>\n",
       "      <td>1.403872e+07</td>\n",
       "      <td>2.207998e+07</td>\n",
       "      <td>8.716226e+06</td>\n",
       "      <td>8.175548e+05</td>\n",
       "      <td>1.495099e+06</td>\n",
       "      <td>1.484119e+06</td>\n",
       "      <td>2.319855e+06</td>\n",
       "      <td>8.591459e+05</td>\n",
       "      <td>7.830923e+05</td>\n",
       "      <td>94643.390108</td>\n",
       "    </tr>\n",
       "    <tr>\n",
       "      <th>ER_mean_cylinders</th>\n",
       "      <td>-1.0</td>\n",
       "      <td>-1.0</td>\n",
       "      <td>-1.0</td>\n",
       "      <td>3.102139e+08</td>\n",
       "      <td>1.550926e+08</td>\n",
       "      <td>1.551218e+08</td>\n",
       "      <td>1.054965e+07</td>\n",
       "      <td>1.055250e+07</td>\n",
       "      <td>1.054753e+07</td>\n",
       "      <td>3.515837e+06</td>\n",
       "      <td>1.803910e+05</td>\n",
       "      <td>3.594770e+05</td>\n",
       "      <td>1.788650e+05</td>\n",
       "      <td>1.792600e+05</td>\n",
       "      <td>1.206600e+04</td>\n",
       "      <td>61.000000</td>\n",
       "    </tr>\n",
       "  </tbody>\n",
       "</table>\n",
       "</div>"
      ],
      "text/plain": [
       "                      0    1    2             3             4             5  \\\n",
       "cylinder253803r300 -1.0 -1.0 -1.0  1.787349e+08  9.952526e+07  2.954417e+08   \n",
       "cylinder128660r300 -1.0 -1.0 -1.0  1.424873e+08  8.803658e+07  1.972001e+08   \n",
       "cylinder109262r300 -1.0 -1.0 -1.0  2.531272e+08  1.352202e+08  3.722051e+08   \n",
       "cylinder216679r300 -1.0 -1.0 -1.0  3.942732e+08  2.242723e+08  4.894375e+08   \n",
       "cylinder269358r300 -1.0 -1.0 -1.0  1.673416e+08  9.140484e+07  2.746513e+08   \n",
       "cylinder329179r300 -1.0 -1.0 -1.0  3.544878e+08  1.949553e+08  4.486515e+08   \n",
       "cylinder299049r300 -1.0 -1.0 -1.0  2.887464e+08  1.618175e+08  4.938485e+08   \n",
       "cylinder397485r300 -1.0 -1.0 -1.0  3.098954e+08  1.686988e+08  3.840965e+08   \n",
       "cylinder300        -1.0 -1.0 -1.0  1.620257e+08  9.032770e+07  2.482009e+08   \n",
       "cylinder297714r300 -1.0 -1.0 -1.0  1.682716e+08  9.258040e+07  2.915128e+08   \n",
       "mean               -1.0 -1.0 -1.0  2.419391e+08  1.346839e+08  3.495246e+08   \n",
       "std                 0.0  0.0  0.0  8.606409e+07  4.751590e+07  9.864400e+07   \n",
       "ER_mean_cylinders  -1.0 -1.0 -1.0  3.102139e+08  1.550926e+08  1.551218e+08   \n",
       "\n",
       "                               6             7             8             9  \\\n",
       "cylinder253803r300  2.818264e+07  6.788101e+07  2.249231e+07  2.605358e+06   \n",
       "cylinder128660r300  2.162082e+07  5.039234e+07  2.039543e+07  2.101345e+06   \n",
       "cylinder109262r300  4.270347e+07  8.531447e+07  2.843866e+07  3.012173e+06   \n",
       "cylinder216679r300  6.235729e+07  1.163544e+08  4.626755e+07  4.603009e+06   \n",
       "cylinder269358r300  2.775815e+07  6.054327e+07  2.051386e+07  2.290958e+06   \n",
       "cylinder329179r300  5.701126e+07  1.054945e+08  3.886996e+07  3.758723e+06   \n",
       "cylinder299049r300  5.107990e+07  1.075336e+08  3.345009e+07  3.889696e+06   \n",
       "cylinder397485r300  4.834094e+07  9.393939e+07  3.588194e+07  3.752144e+06   \n",
       "cylinder300         2.615149e+07  5.856358e+07  1.993933e+07  2.211349e+06   \n",
       "cylinder297714r300  2.700136e+07  7.056952e+07  2.388486e+07  2.598737e+06   \n",
       "mean                3.922073e+07  8.165861e+07  2.901340e+07  3.082349e+06   \n",
       "std                 1.403872e+07  2.207998e+07  8.716226e+06  8.175548e+05   \n",
       "ER_mean_cylinders   1.054965e+07  1.055250e+07  1.054753e+07  3.515837e+06   \n",
       "\n",
       "                              10            11            12            13  \\\n",
       "cylinder253803r300  4.356238e+06  3.720892e+06  6.337554e+06  1.865368e+06   \n",
       "cylinder128660r300  3.833357e+06  3.121825e+06  4.658357e+06  1.614183e+06   \n",
       "cylinder109262r300  5.514923e+06  5.034203e+06  8.435787e+06  2.666085e+06   \n",
       "cylinder216679r300  8.242205e+06  7.399145e+06  1.151588e+07  4.129137e+06   \n",
       "cylinder269358r300  3.963979e+06  3.465058e+06  5.750610e+06  1.825413e+06   \n",
       "cylinder329179r300  7.203242e+06  6.525832e+06  1.051436e+07  3.515083e+06   \n",
       "cylinder299049r300  6.522452e+06  6.190598e+06  1.046162e+07  3.317235e+06   \n",
       "cylinder397485r300  6.800374e+06  6.121797e+06  9.198090e+06  3.168135e+06   \n",
       "cylinder300         3.976892e+06  3.382804e+06  5.457691e+06  1.721108e+06   \n",
       "cylinder297714r300  4.838829e+06  3.875263e+06  6.543081e+06  1.901566e+06   \n",
       "mean                5.525249e+06  4.883742e+06  7.887302e+06  2.572331e+06   \n",
       "std                 1.495099e+06  1.484119e+06  2.319855e+06  8.591459e+05   \n",
       "ER_mean_cylinders   1.803910e+05  3.594770e+05  1.788650e+05  1.792600e+05   \n",
       "\n",
       "                              14             15  \n",
       "cylinder253803r300  1.971033e+06  254306.000000  \n",
       "cylinder128660r300  1.642341e+06  205584.000000  \n",
       "cylinder109262r300  2.645271e+06  319716.000000  \n",
       "cylinder216679r300  3.882572e+06  463493.000000  \n",
       "cylinder269358r300  1.759504e+06  214859.000000  \n",
       "cylinder329179r300  3.455968e+06  421153.000000  \n",
       "cylinder299049r300  3.274530e+06  424817.000000  \n",
       "cylinder397485r300  3.145564e+06  377087.000000  \n",
       "cylinder300         1.735092e+06  206611.000000  \n",
       "cylinder297714r300  2.102350e+06  261275.000000  \n",
       "mean                2.561422e+06  314890.100000  \n",
       "std                 7.830923e+05   94643.390108  \n",
       "ER_mean_cylinders   1.206600e+04      61.000000  "
      ]
     },
     "execution_count": 30,
     "metadata": {},
     "output_type": "execute_result"
    }
   ],
   "source": [
    "df2 = pd.read_csv('motifs_exp_control.csv',index_col=0)\n",
    "df2"
   ]
  },
  {
   "cell_type": "code",
   "execution_count": 62,
   "metadata": {},
   "outputs": [],
   "source": [
    "dd_motifs = np.array([206002585, 103002838, 103030367,   8864003,  12187251,  12178900,\n",
    "         2955388,    358112,    601756,    301333,    300414,     44187,\n",
    "             590])"
   ]
  },
  {
   "cell_type": "code",
   "execution_count": 37,
   "metadata": {},
   "outputs": [],
   "source": [
    "all_motifs_dd = np.load('10_motifs_dd.npy')\n",
    "dd_mean = np.mean(all_motifs_dd,axis=0)[3:]\n",
    "dd_std = np.std(all_motifs_dd,axis=0)[3:]"
   ]
  },
  {
   "cell_type": "code",
   "execution_count": 38,
   "metadata": {},
   "outputs": [],
   "source": [
    "z_dd = (df2.loc['cylinder300'][3:].values - dd_mean) / dd_std"
   ]
  },
  {
   "cell_type": "code",
   "execution_count": 39,
   "metadata": {},
   "outputs": [
    {
     "name": "stdout",
     "output_type": "stream",
     "text": [
      "[ 1  2  3  4  5  6  7  8  9 10 11 12 13]\n"
     ]
    },
    {
     "data": {
      "text/plain": [
       "[<AxesSubplot:title={'center':'Z-score based on DD-graph'}>, <AxesSubplot:>]"
      ]
     },
     "execution_count": 39,
     "metadata": {},
     "output_type": "execute_result"
    },
    {
     "data": {
      "image/png": "[encoded data removed]",
      "text/plain": [
       "<Figure size 432x288 with 2 Axes>"
      ]
     },
     "metadata": {
      "needs_background": "light"
     },
     "output_type": "display_data"
    }
   ],
   "source": [
    "nsv.bar_motifs(np.hstack([-np.ones(3),z_dd]),title='Z-score based on DD-graph')"
   ]
  },
  {
   "cell_type": "code",
   "execution_count": 135,
   "metadata": {},
   "outputs": [],
   "source": [
    "from matplotlib import pyplot as plt, gridspec\n",
    "from netsci.metrics.motifs import *"
   ]
  },
  {
   "cell_type": "code",
   "execution_count": 136,
   "metadata": {},
   "outputs": [],
   "source": [
    "from netsci.visualization.motifs import *"
   ]
  },
  {
   "cell_type": "code",
   "execution_count": 42,
   "metadata": {},
   "outputs": [
    {
     "data": {
      "text/plain": [
       "(-0.04000000000000015, 14.040000000000001, -0.2825125000000001, 0.4327625)"
      ]
     },
     "execution_count": 42,
     "metadata": {},
     "output_type": "execute_result"
    },
    {
     "data": {
      "image/png": "[encoded data removed]",
      "text/plain": [
       "<Figure size 432x288 with 2 Axes>"
      ]
     },
     "metadata": {
      "needs_background": "light"
     },
     "output_type": "display_data"
    }
   ],
   "source": [
    "order = range(len(z_dd))\n",
    "x = 1 + np.arange(len(order))\n",
    "plt.figure()\n",
    "gs = gridspec.GridSpec(2, 1, height_ratios=[10, 3])\n",
    "ax0 = plt.subplot(gs[0])\n",
    "ax0.bar(x, z_dd[order])\n",
    "_=plt.xticks(x)\n",
    "\n",
    "ax1 = plt.subplot(gs[1], sharex=ax0)\n",
    "plot_all_triads(range(3,16), ax=ax1, label=False)\n",
    "plt.axis('off')"
   ]
  },
  {
   "cell_type": "code",
   "execution_count": 185,
   "metadata": {},
   "outputs": [
    {
     "name": "stdout",
     "output_type": "stream",
     "text": [
      "[ 1  2  3  4  5  6  7  8  9 10 11 12 13]\n"
     ]
    },
    {
     "data": {
      "text/plain": [
       "[<AxesSubplot:title={'center':'Triplets in Distance Dependent Graph (n=10)'}>,\n",
       " <AxesSubplot:>]"
      ]
     },
     "execution_count": 185,
     "metadata": {},
     "output_type": "execute_result"
    },
    {
     "data": {
      "image/png": "[encoded data removed]",
      "text/plain": [
       "<Figure size 432x288 with 2 Axes>"
      ]
     },
     "metadata": {
      "needs_background": "light"
     },
     "output_type": "display_data"
    }
   ],
   "source": [
    "nsv.bar_motifs(np.hstack([-np.ones(3),dd_mean]),title='Triplets in Distance Dependent Graph (n=10)')"
   ]
  },
  {
   "cell_type": "code",
   "execution_count": 43,
   "metadata": {},
   "outputs": [
    {
     "data": {
      "text/plain": [
       "(0.018472508362765594, 13.981527491637234, -0.2825125000000001, 0.4327625)"
      ]
     },
     "execution_count": 43,
     "metadata": {},
     "output_type": "execute_result"
    },
    {
     "data": {
      "image/png": "[encoded data removed]",
      "text/plain": [
       "<Figure size 432x288 with 2 Axes>"
      ]
     },
     "metadata": {
      "needs_background": "light"
     },
     "output_type": "display_data"
    }
   ],
   "source": [
    "gs = gridspec.GridSpec(2, 1, height_ratios=[10, 3])\n",
    "ax0 = plt.subplot(gs[0])\n",
    "plt.plot(x,z_dd,'k')\n",
    "_=plt.xticks(x)\n",
    "plt.legend(['dd'],loc='best')\n",
    "plt.ylabel('z-score')\n",
    "\n",
    "# after plotting the data, format the labels\n",
    "#current_values = plt.gca().get_yticks()\n",
    "# using format string '{:.0f}' here but you can choose others\n",
    "#plt.gca().set_yticklabels(['{:.0f}'.format(x) for x in current_values])\n",
    "plt.ticklabel_format(axis=\"y\", style=\"sci\", scilimits=(0,0))\n",
    "\n",
    "\n",
    "ax1 = plt.subplot(gs[1], sharex=ax0)\n",
    "_=plt.xticks(np.arange(1,14))\n",
    "plot_all_triads(range(3,16), ax=ax1, label=False)\n",
    "plt.axis('off')\n",
    "\n"
   ]
  },
  {
   "cell_type": "code",
   "execution_count": null,
   "metadata": {},
   "outputs": [],
   "source": []
  },
  {
   "cell_type": "code",
   "execution_count": 15,
   "metadata": {},
   "outputs": [],
   "source": [
    "motifs_ER = []\n",
    "for i in range(100,1100,100):\n",
    "    cur_file = np.load(f'ER_motifs_{i}.npy')\n",
    "    motifs_ER.extend(cur_file)\n",
    "motifs_ER = np.array(motifs_ER)"
   ]
  },
  {
   "cell_type": "code",
   "execution_count": 24,
   "metadata": {},
   "outputs": [],
   "source": [
    "mean_motifs_ER = np.mean(motifs_ER,axis=0)\n",
    "std_motifs_ER = np.std(motifs_ER,axis=0)"
   ]
  },
  {
   "cell_type": "code",
   "execution_count": 29,
   "metadata": {},
   "outputs": [
    {
     "name": "stdout",
     "output_type": "stream",
     "text": [
      "[ 1  2  3  4  5  6  7  8  9 10 11 12 13]\n"
     ]
    },
    {
     "data": {
      "text/plain": [
       "[<AxesSubplot:title={'center':'ER Graph, n=6213, p=0.032 (N=1000)'}>,\n",
       " <AxesSubplot:>]"
      ]
     },
     "execution_count": 29,
     "metadata": {},
     "output_type": "execute_result"
    },
    {
     "data": {
      "image/png": "[encoded data removed]",
      "text/plain": [
       "<Figure size 432x288 with 2 Axes>"
      ]
     },
     "metadata": {
      "needs_background": "light"
     },
     "output_type": "display_data"
    }
   ],
   "source": [
    "nsv.bar_motifs(mean_motifs_ER,title='ER Graph, n=6213, p=0.032 (N=1000)')"
   ]
  },
  {
   "cell_type": "code",
   "execution_count": 32,
   "metadata": {},
   "outputs": [],
   "source": [
    "z_ER = (df2.loc['cylinder300'][3:].values - mean_motifs_ER[3:]) / std_motifs_ER[3:]"
   ]
  },
  {
   "cell_type": "code",
   "execution_count": 53,
   "metadata": {},
   "outputs": [
    {
     "data": {
      "image/png": "[encoded data removed]",
      "text/plain": [
       "<Figure size 720x360 with 2 Axes>"
      ]
     },
     "metadata": {
      "needs_background": "light"
     },
     "output_type": "display_data"
    }
   ],
   "source": [
    "fig = plt.figure(figsize=(10,5))\n",
    "gs = gridspec.GridSpec(2, 1, height_ratios=[10, 3],figure=fig)\n",
    "ax0 = plt.subplot(gs[0])\n",
    "plt.plot(x,z_dd,'k')\n",
    "plt.plot(x,z_ER,'gray')\n",
    "\n",
    "_=plt.xticks(x)\n",
    "plt.legend(['dd','ER'],loc='best')\n",
    "plt.ylabel('z-score')\n",
    "\n",
    "# after plotting the data, format the labels\n",
    "#current_values = plt.gca().get_yticks()\n",
    "# using format string '{:.0f}' here but you can choose others\n",
    "#plt.gca().set_yticklabels(['{:.0f}'.format(x) for x in current_values])\n",
    "plt.ticklabel_format(axis=\"y\", style=\"sci\", scilimits=(0,0))\n",
    "\n",
    "\n",
    "ax1 = plt.subplot(gs[1], sharex=ax0)\n",
    "_=plt.xticks(np.arange(1,14))\n",
    "plot_all_triads(range(3,16), ax=ax1, label=False)\n",
    "plt.axis('off')\n",
    "plt.savefig('CA1_ER_dd_triads_zscore.png')\n",
    "\n"
   ]
  },
  {
   "cell_type": "markdown",
   "metadata": {},
   "source": [
    "# Reciprocal ER"
   ]
  },
  {
   "cell_type": "code",
   "execution_count": 100,
   "metadata": {},
   "outputs": [],
   "source": [
    "reciprocal_conns_list = []\n",
    "for i in range(data_dict['cylinder300'].shape[0]):\n",
    "    for j in range(data_dict['cylinder300'].shape[1]):\n",
    "        if i != j:\n",
    "            if data_dict['cylinder300'][i,j] == data_dict['cylinder300'][j,i]:\n",
    "                if data_dict['cylinder300'][i,j] != 0:\n",
    "                    reciprocal_conns_list.append([i,j])"
   ]
  },
  {
   "cell_type": "code",
   "execution_count": 101,
   "metadata": {},
   "outputs": [
    {
     "data": {
      "text/plain": [
       "129792"
      ]
     },
     "execution_count": 101,
     "metadata": {},
     "output_type": "execute_result"
    }
   ],
   "source": [
    "len(reciprocal_conns_list)"
   ]
  },
  {
   "cell_type": "code",
   "execution_count": 102,
   "metadata": {},
   "outputs": [],
   "source": [
    "data = {tuple(sorted(item)) for item in reciprocal_conns_list}"
   ]
  },
  {
   "cell_type": "code",
   "execution_count": 103,
   "metadata": {},
   "outputs": [
    {
     "data": {
      "text/plain": [
       "64896"
      ]
     },
     "execution_count": 103,
     "metadata": {},
     "output_type": "execute_result"
    }
   ],
   "source": [
    "len(data)"
   ]
  },
  {
   "cell_type": "code",
   "execution_count": 106,
   "metadata": {},
   "outputs": [
    {
     "data": {
      "text/plain": [
       "0.003362367795815739"
      ]
     },
     "execution_count": 106,
     "metadata": {},
     "output_type": "execute_result"
    }
   ],
   "source": [
    "p_reciprocal = len(reciprocal_conns_list) / data_dict['cylinder300'].shape[0]**2\n",
    "p_reciprocal"
   ]
  },
  {
   "cell_type": "code",
   "execution_count": 125,
   "metadata": {},
   "outputs": [],
   "source": [
    "n = 6213 # num of cells in cylinder300\n",
    "p = len(np.where(data_dict['cylinder300'] == 1)[0]) / n**2\n",
    "p_reciprocal = len(reciprocal_conns_list) / data_dict['cylinder300'].shape[0]**2\n",
    "\n",
    "ER_reciprocal = nsr.erdos_renyi_reciprocal(n, p,p_reciprocal)"
   ]
  },
  {
   "cell_type": "code",
   "execution_count": 121,
   "metadata": {},
   "outputs": [
    {
     "name": "stdout",
     "output_type": "stream",
     "text": [
      "6213 0.015 0.003362367795815739\n"
     ]
    }
   ],
   "source": [
    "print(n,p,p_reciprocal)"
   ]
  },
  {
   "cell_type": "code",
   "execution_count": 127,
   "metadata": {},
   "outputs": [],
   "source": [
    "ER_reciprocal_motifs = nsm.motifs(ER_reciprocal, algorithm='louzoun')"
   ]
  },
  {
   "cell_type": "code",
   "execution_count": 129,
   "metadata": {},
   "outputs": [
    {
     "name": "stdout",
     "output_type": "stream",
     "text": [
      "[ 1  2  3  4  5  6  7  8  9 10 11 12 13]\n"
     ]
    },
    {
     "data": {
      "text/plain": [
       "[<AxesSubplot:title={'center':'ER Reciprocal n:6213, p=0.032, r=0.003'}>,\n",
       " <AxesSubplot:>]"
      ]
     },
     "execution_count": 129,
     "metadata": {},
     "output_type": "execute_result"
    },
    {
     "data": {
      "image/png": "[encoded data removed]",
      "text/plain": [
       "<Figure size 432x288 with 2 Axes>"
      ]
     },
     "metadata": {
      "needs_background": "light"
     },
     "output_type": "display_data"
    }
   ],
   "source": [
    "nsv.bar_motifs(ER_reciprocal_motifs,title=f'ER Reciprocal n:{n}, p={np.round(p,3)}, r={np.round(p_reciprocal,3)}')"
   ]
  },
  {
   "cell_type": "code",
   "execution_count": 137,
   "metadata": {},
   "outputs": [],
   "source": [
    "reciprocal_ER_motifs = np.load('ER_motifs_reciprocal.npy')"
   ]
  },
  {
   "cell_type": "code",
   "execution_count": 138,
   "metadata": {},
   "outputs": [
    {
     "name": "stdout",
     "output_type": "stream",
     "text": [
      "[ 1  2  3  4  5  6  7  8  9 10 11 12 13]\n"
     ]
    },
    {
     "data": {
      "text/plain": [
       "[<AxesSubplot:title={'center':'ER Graph, n=6213, p=0.032 (N=1000)'}>,\n",
       " <AxesSubplot:>]"
      ]
     },
     "execution_count": 138,
     "metadata": {},
     "output_type": "execute_result"
    },
    {
     "data": {
      "image/png": "[encoded data removed]",
      "text/plain": [
       "<Figure size 432x288 with 2 Axes>"
      ]
     },
     "metadata": {
      "needs_background": "light"
     },
     "output_type": "display_data"
    }
   ],
   "source": [
    "mean_motifs_ER_recip = np.mean(reciprocal_ER_motifs,axis=0)\n",
    "std_motifs_ER_recip = np.std(reciprocal_ER_motifs,axis=0)\n",
    "nsv.bar_motifs(mean_motifs_ER_recip,title='ER Graph, n=6213, p=0.032 (N=1000)')"
   ]
  },
  {
   "cell_type": "code",
   "execution_count": 139,
   "metadata": {},
   "outputs": [],
   "source": [
    "z_ER_reciprocal = (df2.loc['cylinder300'][3:].values - mean_motifs_ER_recip[3:]) / std_motifs_ER_recip[3:]"
   ]
  },
  {
   "cell_type": "code",
   "execution_count": 174,
   "metadata": {},
   "outputs": [
    {
     "data": {
      "image/png": "[encoded data removed]",
      "text/plain": [
       "<Figure size 720x360 with 2 Axes>"
      ]
     },
     "metadata": {
      "needs_background": "light"
     },
     "output_type": "display_data"
    }
   ],
   "source": [
    "fig = plt.figure(figsize=(10,5))\n",
    "gs = gridspec.GridSpec(2, 1, height_ratios=[10, 3],figure=fig)\n",
    "ax0 = plt.subplot(gs[0])\n",
    "plt.plot(x,z_dd,'k')\n",
    "plt.plot(x,z_ER,'gray')\n",
    "plt.plot(x,z_ER_reciprocal,'silver')\n",
    "\n",
    "\n",
    "_=plt.xticks(x)\n",
    "plt.legend(['dd','ER','ER_reciprocal'],loc='best')\n",
    "plt.ylabel('z-score')\n",
    "plt.title('Comparison of CA1 triad motifs with different random models (cylinder300)')\n",
    "# after plotting the data, format the labels\n",
    "#current_values = plt.gca().get_yticks()\n",
    "# using format string '{:.0f}' here but you can choose others\n",
    "#plt.gca().set_yticklabels(['{:.0f}'.format(x) for x in current_values])\n",
    "plt.ticklabel_format(axis=\"y\", style=\"sci\", scilimits=(3,3))\n",
    "\n",
    "ax1 = plt.subplot(gs[1], sharex=ax0)\n",
    "_=plt.xticks(np.arange(1,14))\n",
    "plot_all_triads(range(3,16), ax=ax1, label=False)\n",
    "plt.axis('off')\n",
    "plt.savefig('CA1_ER_dd_triads_zscore.png')\n",
    "\n"
   ]
  },
  {
   "cell_type": "code",
   "execution_count": 170,
   "metadata": {},
   "outputs": [],
   "source": [
    "def normalize(z):\n",
    "    return z/np.sqrt(np.sum(np.square(z)))"
   ]
  },
  {
   "cell_type": "code",
   "execution_count": 177,
   "metadata": {},
   "outputs": [
    {
     "data": {
      "image/png": "[encoded data removed]",
      "text/plain": [
       "<Figure size 720x360 with 2 Axes>"
      ]
     },
     "metadata": {
      "needs_background": "light"
     },
     "output_type": "display_data"
    }
   ],
   "source": [
    "fig = plt.figure(figsize=(10,5))\n",
    "gs = gridspec.GridSpec(2, 1, height_ratios=[10, 3],figure=fig)\n",
    "ax0 = plt.subplot(gs[0])\n",
    "plt.plot(x,normalize(z_dd),'k')\n",
    "plt.plot(x,normalize(z_ER),'gray')\n",
    "plt.plot(x,normalize(z_ER_reciprocal),'silver')\n",
    "\n",
    "\n",
    "_=plt.xticks(x)\n",
    "plt.legend(['dd','ER','ER_reciprocal'],loc='best')\n",
    "plt.ylabel('Normalized z-score')\n",
    "plt.title('(Normalized) Comparison of CA1 triad motifs with different random models (cylinder300)')\n",
    "# after plotting the data, format the labels\n",
    "#current_values = plt.gca().get_yticks()\n",
    "# using format string '{:.0f}' here but you can choose others\n",
    "#plt.gca().set_yticklabels(['{:.0f}'.format(x) for x in current_values])\n",
    "#plt.ticklabel_format(axis=\"y\", style=\"sci\", scilimits=(0,0))\n",
    "\n",
    "ax1 = plt.subplot(gs[1], sharex=ax0)\n",
    "_=plt.xticks(np.arange(1,14))\n",
    "plot_all_triads(range(3,16), ax=ax1, label=False)\n",
    "plt.axis('off')\n",
    "plt.savefig('CA1_ER_dd_triads_zscore_norm.png')\n",
    "\n"
   ]
  },
  {
   "cell_type": "code",
   "execution_count": null,
   "metadata": {},
   "outputs": [],
   "source": []
  }
 ],
 "metadata": {
  "kernelspec": {
   "display_name": "venv2022",
   "language": "python",
   "name": "venv2022"
  },
  "language_info": {
   "codemirror_mode": {
    "name": "ipython",
    "version": 3
   },
   "file_extension": ".py",
   "mimetype": "text/x-python",
   "name": "python",
   "nbconvert_exporter": "python",
   "pygments_lexer": "ipython3",
   "version": "3.8.3"
  }
 },
 "nbformat": 4,
 "nbformat_minor": 4
}
