{
 "cells": [
  {
   "cell_type": "code",
   "execution_count": 5,
   "metadata": {},
   "outputs": [],
   "source": [
    "import numpy as np\n",
    "import pandas as pd \n",
    "import bluepy\n",
    "from pathlib import Path\n",
    "import logging\n",
    "from tqdm import tqdm\n",
    "from voxcell import VoxelData\n",
    "from voxcell.nexus.voxelbrain import Atlas\n",
    "from shutil import copyfile\n",
    "\n",
    "def generate_nrrd_from_target(target_name,circuit_dir):\n",
    "    ''' Creates nrrd mask from the target in the bluepy Curcuit but only for the voxels belonging to gids. Not a cylinder mask'''\n",
    "    #CIRCUIT_DIR = Path('/gpfs/bbp.cscs.ch/project/proj112/scratch/circuits/20211026-BioM_test4/')\n",
    "    c = bluepy.Circuit((circuit_dir / 'CircuitConfig_struct').as_posix())\n",
    "    df = c.cells.get(target_name)\n",
    "    atlas = Atlas.open(ATLAS_DIR.as_posix())\n",
    "    orientation = atlas.load_data(\"orientation\")\n",
    "    mask_indices = orientation.positions_to_indices(df[['x','y','z']].values)\n",
    "    data = np.full(orientation.shape, False) # make an array of Falses with the shape of the orientation\n",
    "    for i in mask_indices: # change indices to True by looking into mask_indices\n",
    "        data[i[0],i[1],i[2]] = True\n",
    "    generated_mask = orientation.with_data(np.asarray(data, dtype=np.uint8)).save_nrrd(target_name+'.nrrd')  # pick the smallest integer type\n",
    "    return generated_mask\n",
    "\n",
    "def get_voxel_positions(atlas_dir):\n",
    "    '''Loads an nrrd file and returns a pandas df with indices as voxel coordinates and positions as values'''\n",
    "    atlas = Atlas.open(atlas_dir)\n",
    "    orientation = atlas.load_data(\"orientation\")\n",
    "    ndindex = list(np.ndindex(orientation.shape))\n",
    "    pos_per_voxel = orientation.indices_to_positions(ndindex)\n",
    "    return pos_per_voxel\n",
    "\n",
    "def mask_voxels_in_cylinder(of_radius, in_atlas, centered_at, with_axis_along):\n",
    "    \"\"\"...\"\"\"\n",
    "    voxel_positions = get_voxel_positions(in_atlas)\n",
    "    c = np.cross(voxel_positions - centered_at, with_axis_along)\n",
    "    distances = np.linalg.norm(c,axis=1) / np.linalg.norm(with_axis_along)\n",
    "    return distances <= of_radius\n",
    "\n",
    "def get_gids_from_mask(mask_name,circuit_path):\n",
    "    c = bluepy.Circuit(circuit_path + '/CircuitConfig_struct')\n",
    "    atlas = Atlas.open('.')\n",
    "    mask = atlas.load_data(mask_name)\n",
    "    in_target = mask.lookup(c.cells.get(properties=list(\"xyz\")).values)\n",
    "    gids_in_target = c.cells.get().index.values[np.where(in_target==1)] #assuming mask is 0/1\n",
    "    return gids_in_target\n"
   ]
  },
  {
   "cell_type": "code",
   "execution_count": 6,
   "metadata": {},
   "outputs": [],
   "source": [
    "def update_user_target(filename, gids, target_name, notes=''):\n",
    "    with open(filename, 'a') as f:\n",
    "        f.write(notes)\n",
    "        f.write('\\n')\n",
    "        f.write('Target Cell %s\\n{\\n' % target_name)\n",
    "        f.write(' '.join(['a%d' % gid for gid in gids]))\n",
    "        f.write('\\n}\\n\\n')"
   ]
  },
  {
   "cell_type": "code",
   "execution_count": 7,
   "metadata": {},
   "outputs": [],
   "source": [
    "def check_cylinder(df,target_name,low_threshold=2400,high_threshold=6000):\n",
    "    cylinder_df = df[df[target_name] == True]\n",
    "    #gids = get_gids_in_voxel(mask,circuit) #\n",
    "    total = 0\n",
    "    mtypes = circuit.cells.mtypes\n",
    "    for mtype in mtypes:\n",
    "        ncells = len(cylinder_df[cylinder_df[\"mtype\"]==mtype])\n",
    "        total += ncells\n",
    "        #print(mtype, ncells)\n",
    "        if ncells < 1:\n",
    "            print(f'Validatian failed. {mtype} is not in the circuit.')\n",
    "            return False\n",
    "    if total < low_threshold:\n",
    "        print(f'Validatian failed. There are fewer cells than expected ({total})')\n",
    "        return False\n",
    "    return True"
   ]
  },
  {
   "cell_type": "code",
   "execution_count": 8,
   "metadata": {},
   "outputs": [],
   "source": [
    "def get_points_in_cylinder(point_id, distance, df, target_name):\n",
    "    point_row = df.loc[point_id]\n",
    "    point = np.array([point_row['x'], point_row['y'], point_row['z']])\n",
    "    vector_line = p.loc[point_id]['orientation'][:,1]\n",
    "    def is_in_cylinder(row):\n",
    "        candidate = np.array([row['x'], row['y'], row['z']])\n",
    "        return distance > distance_to_cylinder(point, vector_line, candidate)\n",
    "    df[target_name] = df.apply(is_in_cylinder, axis=1)"
   ]
  },
  {
   "cell_type": "code",
   "execution_count": 9,
   "metadata": {},
   "outputs": [],
   "source": [
    "def generate_cylinder_mask(circuit,reference_gid,cylinder_radius,mask_name):\n",
    "    # GENERATE GEOMETRIC MASK FROM TARGET CELL (no gaps in between)\n",
    "    # Look for the all voxel's positions and get the indices of the ones closer than 300 um from the center of cylinder.\n",
    "    cells =  circuit.cells.get()\n",
    "    point_row = cells.loc[reference_gid]\n",
    "    center_point = np.array([point_row['x'], point_row['y'], point_row['z']])\n",
    "    center_vector_line = cells.loc[reference_gid]['orientation'][:,1]\n",
    "    masked_cylinder = mask_voxels_in_cylinder(cylinder_radius,ATLAS_DIR.as_posix(),center_point,center_vector_line)\n",
    "    masked_cylinder_reshaped = masked_cylinder.reshape(orientation.shape)\n",
    "    return masked_cylinder_reshaped"
   ]
  },
  {
   "cell_type": "code",
   "execution_count": 10,
   "metadata": {},
   "outputs": [],
   "source": [
    "def get_gids_in_voxel(mask,circuit):\n",
    "    in_target = mask.lookup(circuit.cells.get(properties=list(\"xyz\")).values)\n",
    "    gids_in_target = circuit.cells.get().index.values[np.where(in_target==1)]\n",
    "    return gids_in_target"
   ]
  },
  {
   "cell_type": "code",
   "execution_count": 11,
   "metadata": {},
   "outputs": [],
   "source": [
    "def check_cylinder_voxel_mask(mask,circuit,low_threshold=2400):\n",
    "    temp = orientation.with_data(np.asarray(mask, dtype=np.uint8))\n",
    "    temp_gids = get_gids_in_voxel(temp,circuit)\n",
    "    mtypes = circuit.cells.mtypes\n",
    "    temp_cylinder = circuit.cells.get(temp_gids)\n",
    "    total = 0\n",
    "    \n",
    "    for mtype in mtypes:\n",
    "        ncells = len(temp_cylinder[temp_cylinder[\"mtype\"]==mtype])\n",
    "        total += ncells\n",
    "        #print(mtype, ncells)\n",
    "        if ncells < 1:\n",
    "            print(f'Validatian failed. {mtype} is not in the circuit.')\n",
    "            return False\n",
    "    if total < low_threshold:\n",
    "        print(f'Validatian failed. There are fewer cells than expected ({total})')\n",
    "        return False\n",
    "    return True"
   ]
  },
  {
   "cell_type": "code",
   "execution_count": 12,
   "metadata": {},
   "outputs": [],
   "source": [
    "np.random.seed(123)"
   ]
  },
  {
   "cell_type": "code",
   "execution_count": 13,
   "metadata": {},
   "outputs": [],
   "source": [
    "CIRCUIT_DIR = Path('/gpfs/bbp.cscs.ch/project/proj112/circuits/CA1/20211110-BioM/')\n",
    "ATLAS_DIR = Path(\"/gpfs/bbp.cscs.ch/project/proj112/entities/atlas/20211004_BioM/\")\n",
    "#reference_gid = 145562\n",
    "target_name = 'cylinder300'\n",
    "region_name = 'CA1'\n",
    "cylinder_radius = 150\n",
    "\n",
    "c = bluepy.Circuit((CIRCUIT_DIR / 'CircuitConfig_struct').as_posix())\n",
    "atlas = Atlas.open(ATLAS_DIR.as_posix())\n",
    "orientation = atlas.load_data(\"orientation\")"
   ]
  },
  {
   "cell_type": "markdown",
   "metadata": {},
   "source": [
    "# If central gid is not selected yet"
   ]
  },
  {
   "cell_type": "code",
   "execution_count": 14,
   "metadata": {},
   "outputs": [],
   "source": [
    "from coordinate_query import CoordinateQuery, enriched_cells_positions, query_enriched_positions, LON, TRA, RAD\n",
    "\n",
    "file_path = ATLAS_DIR / 'coordinates.nrrd'\n",
    "p = c.cells.get(properties=['mtype', 'x', 'y', 'z', 'orientation'])\n",
    "q = CoordinateQuery(file_path.as_posix())\n",
    "xyz = enriched_cells_positions(c, q)\n",
    "\n",
    "\n",
    "# this will query gids with l1 < Long < l2, t1 < Transverse < t2 and r1 < radial < r2\n",
    "#gids = query_enriched_positions(xyz, l1, l2, 0.48, 0.52, 0., 1.0)\n",
    "#reference_gid = np.random.choice(gids)\n",
    "#reference_gid"
   ]
  },
  {
   "cell_type": "code",
   "execution_count": 30,
   "metadata": {},
   "outputs": [],
   "source": [
    "xyz = xyz.sort_values(by = ['l','t','r'])"
   ]
  },
  {
   "cell_type": "code",
   "execution_count": 64,
   "metadata": {},
   "outputs": [
    {
     "data": {
      "text/plain": [
       "125686"
      ]
     },
     "execution_count": 64,
     "metadata": {},
     "output_type": "execute_result"
    }
   ],
   "source": [
    "np.count_nonzero(xyz.l.value_counts().values > 1)"
   ]
  },
  {
   "cell_type": "code",
   "execution_count": 65,
   "metadata": {},
   "outputs": [
    {
     "data": {
      "text/plain": [
       "267184"
      ]
     },
     "execution_count": 65,
     "metadata": {},
     "output_type": "execute_result"
    }
   ],
   "source": [
    "len(xyz.l.value_counts().values > 1)"
   ]
  },
  {
   "cell_type": "code",
   "execution_count": null,
   "metadata": {},
   "outputs": [],
   "source": [
    "l1_range = np.arange(0,1,0.01)\n",
    "mid_range_low = 0\n",
    "mid_range_high = 1\n",
    "threshold_drop = 10\n",
    "l_interval = 0.001\n",
    "for idx,l1 in enumerate(l1_range):\n",
    "    l2 = l1+l_interval\n",
    "\n",
    "    # this will query gids with l1 < Long < l2, t1 < Transverse < t2 and r1 < radial < r2\n",
    "    gids = query_enriched_positions(xyz, l1, l2, mid_range_low, mid_range_high, 0., 1.0)\n",
    "    np.random.shuffle(gids)\n",
    "    print(f'There are {len(gids)} candidate ref gids for cylinder no {idx+1}')\n",
    "    \n",
    "    for i in range(threshold_drop):\n",
    "        reference_gid = gids[i]\n",
    "        target_name = 'cylinder' + str(reference_gid) + 'r' + str(cylinder_radius)\n",
    "        print('Trying ref gid:',target_name)\n",
    "        #get_points_in_cylinder(reference_gid, radius, p, target_name)\n",
    "        cylinder_mask = generate_cylinder_mask(c,reference_gid,cylinder_radius,target_name)\n",
    "        # copy nrrd to atlas dir for later steps or load data from here\n",
    "        \n",
    "        if check_cylinder_voxel_mask(cylinder_mask,c,low_threshold=600):\n",
    "            orientation.with_data(np.asarray(cylinder_mask, dtype=np.uint8)).save_nrrd(target_name+'.nrrd')\n",
    "            int_mask = Atlas.open('.').load_data(target_name)\n",
    "            mask_gids = get_gids_in_voxel(int_mask,c)\n",
    "            notes = '# reference_gid = ' + str(reference_gid) + ', radius = ' + str(cylinder_radius) + ', longitudinal position = ' + str(l1)\n",
    "            #update_user_target(CIRCUIT_DIR.as_posix() + '/user.target', mask_gids, target_name, notes)\n",
    "            update_user_target('tile.target', mask_gids, target_name, notes)\n",
    "            break\n",
    "        else:\n",
    "            del p[target_name]\n",
    "        if i==threshold_drop-1:\n",
    "            print(f'Couldnt find a target between {l1}-{l2}.',end='\\n\\n')\n",
    "    \n",
    "    # Check if the cylinder is roughly perpendicular to the CA1 and is centered along the transverse axis\n",
    "    # If everything looks good, you can proceed to copt the target into the circuit\n",
    "    \n",
    "\n"
   ]
  },
  {
   "cell_type": "code",
   "execution_count": null,
   "metadata": {},
   "outputs": [],
   "source": [
    "!grep 'cylinder' user.target"
   ]
  },
  {
   "cell_type": "code",
   "execution_count": null,
   "metadata": {},
   "outputs": [],
   "source": [
    "import re"
   ]
  },
  {
   "cell_type": "code",
   "execution_count": null,
   "metadata": {},
   "outputs": [],
   "source": [
    "cylinders = []\n",
    "with open(\"user.target\",\"r\") as file:\n",
    "    for line in file:\n",
    "        if re.search('cylinder', line):\n",
    "            cylinders.append(line.split()[2])\n",
    "cylinders"
   ]
  },
  {
   "cell_type": "code",
   "execution_count": null,
   "metadata": {},
   "outputs": [],
   "source": [
    "def add_cylinders_to_target(filename, gids, target_name, notes=''):\n",
    "    with open(filename, 'a') as f:\n",
    "        f.write(notes)\n",
    "        f.write('\\n')\n",
    "        f.write('Target Cell %s\\n{\\n' % target_name)\n",
    "        f.write(' '.join(['a%d' % gid for gid in gids]))\n",
    "        f.write('\\n}\\n\\n')"
   ]
  },
  {
   "cell_type": "code",
   "execution_count": null,
   "metadata": {},
   "outputs": [],
   "source": [
    "target_str = ''\n",
    "for i in cylinders:\n",
    "    target_str += i\n",
    "    target_str += ' '\n",
    "target_str"
   ]
  },
  {
   "cell_type": "code",
   "execution_count": null,
   "metadata": {},
   "outputs": [],
   "source": [
    "with open('user.target','a') as f:\n",
    "    f.write('Target Cell %s\\n{\\n' % 'cylinders')\n",
    "    f.write(' '.join(['%s' % c for c in cylinders]))\n",
    "    f.write('\\n}\\n\\n')"
   ]
  },
  {
   "cell_type": "code",
   "execution_count": null,
   "metadata": {},
   "outputs": [],
   "source": [
    "copyfile(target_name+'.nrrd', ATLAS_DIR / ('cylinders' + target_name + '.nrrd'))"
   ]
  },
  {
   "cell_type": "markdown",
   "metadata": {},
   "source": [
    "# Generate gids from voxel mask"
   ]
  },
  {
   "cell_type": "code",
   "execution_count": null,
   "metadata": {},
   "outputs": [],
   "source": [
    "int_mask = Atlas.open('.').load_data(target_name)\n",
    "mask = np.asarray(int_mask.raw, dtype=bool)\n",
    "#cylinder300_gids = list(c.cells.get(target_name).index.values)\n",
    "ca1_mask = atlas.get_region_mask('CA1').raw\n",
    "intersection_mask = np.logical_and(mask,ca1_mask) # raw\n",
    "intersection_mask_raw = np.asarray(intersection_mask, dtype=bool)\n",
    "intersection_mask = orientation.with_data(np.asarray(intersection_mask_raw, dtype=np.uint8)) # get voxeldata format"
   ]
  },
  {
   "cell_type": "code",
   "execution_count": null,
   "metadata": {},
   "outputs": [],
   "source": [
    "intersection_mask.save_nrrd(target_name+'_intersection_ca1.nrrd')"
   ]
  },
  {
   "cell_type": "code",
   "execution_count": null,
   "metadata": {},
   "outputs": [],
   "source": [
    "#positions = c.cells.get(target_name, list(\"xyz\"))\n",
    "in_target = intersection_mask.lookup(c.cells.get(properties=list(\"xyz\")).values)\n",
    "not_in_target = np.logical_not(in_target)\n",
    "gids_in_target = c.cells.get().index.values[np.where(in_target==1)]\n",
    "gids_not_in_target = c.cells.get().index.values[np.where(not_in_target==True)]"
   ]
  },
  {
   "cell_type": "code",
   "execution_count": null,
   "metadata": {},
   "outputs": [],
   "source": [
    "gids_in_target"
   ]
  },
  {
   "cell_type": "code",
   "execution_count": null,
   "metadata": {},
   "outputs": [],
   "source": [
    "def get_gids_in_voxel(mask,circuit):\n",
    "    in_target = mask.lookup(circuit.cells.get(properties=list(\"xyz\")).values)\n",
    "    gids_in_target = circuit.cells.get().index.values[np.where(in_target==1)]\n",
    "    return gids_in_target"
   ]
  },
  {
   "cell_type": "code",
   "execution_count": null,
   "metadata": {},
   "outputs": [],
   "source": [
    "mask_gids = get_gids_in_voxel(int_mask,c)\n",
    "intersection_gids = get_gids_in_voxel(intersection_mask,c)"
   ]
  },
  {
   "cell_type": "code",
   "execution_count": null,
   "metadata": {},
   "outputs": [],
   "source": [
    "mask_gids"
   ]
  },
  {
   "cell_type": "code",
   "execution_count": null,
   "metadata": {},
   "outputs": [],
   "source": [
    "np.array_equal(mask_gids,intersection_gids)"
   ]
  },
  {
   "cell_type": "code",
   "execution_count": null,
   "metadata": {},
   "outputs": [],
   "source": [
    "l1 = 0.25\n",
    "notes = '# reference_gid = ' + str(reference_gid) + ', radius = ' + str(cylinder_radius) + ', longitudinal position = ' + str(l1)\n",
    "update_user_target(CIRCUIT_DIR.as_posix() + '/user.target', mask_gids, target_name, notes)"
   ]
  },
  {
   "cell_type": "markdown",
   "metadata": {},
   "source": [
    "## Check if gids in cylinder300 are the same in test4 and 20211110"
   ]
  },
  {
   "cell_type": "code",
   "execution_count": null,
   "metadata": {},
   "outputs": [],
   "source": [
    "CIRCUIT_DIR2 = Path('/gpfs/bbp.cscs.ch/project/proj112/scratch/circuits/20211026-BioM_test4/')\n",
    "c2 = bluepy.Circuit((CIRCUIT_DIR2 / 'CircuitConfig_struct').as_posix())"
   ]
  },
  {
   "cell_type": "code",
   "execution_count": null,
   "metadata": {},
   "outputs": [],
   "source": [
    "# reload circuit again\n",
    "np.array_equal(c.cells.ids('cylinder300'),c2.cells.ids('cylinder300'))"
   ]
  },
  {
   "cell_type": "code",
   "execution_count": null,
   "metadata": {},
   "outputs": [],
   "source": []
  }
 ],
 "metadata": {
  "kernelspec": {
   "display_name": "venv3-lab",
   "language": "python",
   "name": "venv3-lab"
  },
  "language_info": {
   "codemirror_mode": {
    "name": "ipython",
    "version": 3
   },
   "file_extension": ".py",
   "mimetype": "text/x-python",
   "name": "python",
   "nbconvert_exporter": "python",
   "pygments_lexer": "ipython3",
   "version": "3.7.4"
  }
 },
 "nbformat": 4,
 "nbformat_minor": 4
}
