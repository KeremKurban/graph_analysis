{
 "cells": [
  {
   "cell_type": "code",
   "execution_count": 1,
   "metadata": {},
   "outputs": [],
   "source": [
    "import bluepy\n",
    "import netsci.visualization as nsv\n",
    "import numpy as np\n",
    "import scipy\n",
    "import netsci.metrics.motifs as nsm\n",
    "import networkx\n",
    "import matplotlib.pyplot as plt\n",
    "import netsci.models.random as nsr\n",
    "import glob, os\n",
    "from pathlib import Path\n",
    "import pandas as pd\n",
    "import seaborn as sns\n",
    "from scipy import sparse"
   ]
  },
  {
   "cell_type": "code",
   "execution_count": 2,
   "metadata": {},
   "outputs": [],
   "source": [
    "circ=bluepy.Circuit('/gpfs/bbp.cscs.ch/project/proj112/circuits/CA1/20211110-BioM/CircuitConfig')"
   ]
  },
  {
   "cell_type": "markdown",
   "metadata": {},
   "source": [
    "cylinders = [i for i in circ.cells.targets if i.startswith('cylinder') ]\n",
    "cylinders.remove('cylinders')\n",
    "cylinders"
   ]
  },
  {
   "cell_type": "code",
   "execution_count": null,
   "metadata": {},
   "outputs": [],
   "source": [
    "data_dict = {}"
   ]
  },
  {
   "cell_type": "code",
   "execution_count": 60,
   "metadata": {},
   "outputs": [
    {
     "data": {
      "text/plain": [
       "{'mosaic': <456378x456378 sparse matrix of type '<class 'numpy.bool_'>'\n",
       " \twith 156661043 stored elements in Compressed Sparse Column format>,\n",
       " 'cylinder300': <6213x6213 sparse matrix of type '<class 'numpy.bool_'>'\n",
       " \twith 1236142 stored elements in Compressed Sparse Column format>}"
      ]
     },
     "execution_count": 60,
     "metadata": {},
     "output_type": "execute_result"
    }
   ],
   "source": [
    "data_dict"
   ]
  },
  {
   "cell_type": "code",
   "execution_count": 48,
   "metadata": {},
   "outputs": [],
   "source": [
    "cur_path = os.getcwd()\n",
    "target = 'cylinder300'\n",
    "cur_conn_path = os.path.join(cur_path,f'cylinders_analysis/{target}/data/connectivity.npz')\n",
    "#data_dict['mosaic'] = np.array(1*scipy.sparse.load_npz(cur_conn_path).todense())"
   ]
  },
  {
   "cell_type": "code",
   "execution_count": 49,
   "metadata": {},
   "outputs": [],
   "source": [
    "data_dict[target] = scipy.sparse.load_npz(cur_conn_path)\n",
    "sparse_matrix = data_dict[target]"
   ]
  },
  {
   "cell_type": "code",
   "execution_count": 50,
   "metadata": {},
   "outputs": [
    {
     "data": {
      "text/plain": [
       "<6213x6213 sparse matrix of type '<class 'numpy.bool_'>'\n",
       "\twith 1236142 stored elements in Compressed Sparse Column format>"
      ]
     },
     "execution_count": 50,
     "metadata": {},
     "output_type": "execute_result"
    }
   ],
   "source": [
    "sparse_matrix"
   ]
  },
  {
   "cell_type": "code",
   "execution_count": 51,
   "metadata": {},
   "outputs": [
    {
     "data": {
      "text/plain": [
       "(6213, 6213)"
      ]
     },
     "execution_count": 51,
     "metadata": {},
     "output_type": "execute_result"
    }
   ],
   "source": [
    "sparse_matrix.shape"
   ]
  },
  {
   "cell_type": "code",
   "execution_count": 52,
   "metadata": {},
   "outputs": [],
   "source": [
    "nonzero_vals = sparse_matrix.count_nonzero()"
   ]
  },
  {
   "cell_type": "code",
   "execution_count": 53,
   "metadata": {},
   "outputs": [
    {
     "data": {
      "text/plain": [
       "1236142"
      ]
     },
     "execution_count": 53,
     "metadata": {},
     "output_type": "execute_result"
    }
   ],
   "source": [
    "nonzero_vals"
   ]
  },
  {
   "cell_type": "code",
   "execution_count": 46,
   "metadata": {},
   "outputs": [],
   "source": [
    "conn_prob_mosaic = nonzero_vals / (sparse_matrix.shape[0]*sparse_matrix.shape[0]-1)"
   ]
  },
  {
   "cell_type": "code",
   "execution_count": 38,
   "metadata": {},
   "outputs": [
    {
     "data": {
      "text/plain": [
       "0.032023269227142416"
      ]
     },
     "execution_count": 38,
     "metadata": {},
     "output_type": "execute_result"
    }
   ],
   "source": [
    "conn_prob_mosaic"
   ]
  },
  {
   "cell_type": "code",
   "execution_count": 39,
   "metadata": {},
   "outputs": [],
   "source": [
    "from scipy.sparse import random"
   ]
  },
  {
   "cell_type": "code",
   "execution_count": 40,
   "metadata": {},
   "outputs": [
    {
     "data": {
      "text/plain": [
       "104"
      ]
     },
     "execution_count": 40,
     "metadata": {},
     "output_type": "execute_result"
    }
   ],
   "source": [
    "np.random.randint(low=100,high=105)"
   ]
  },
  {
   "cell_type": "code",
   "execution_count": 13,
   "metadata": {},
   "outputs": [],
   "source": [
    "n = 50\n",
    "p = 0.1\n",
    "seed = 123\n",
    "S = random(n,n,density=p,random_state=seed)\n",
    "sparse.save_npz('test_sparse',S)"
   ]
  },
  {
   "cell_type": "code",
   "execution_count": null,
   "metadata": {},
   "outputs": [],
   "source": []
  },
  {
   "cell_type": "code",
   "execution_count": null,
   "metadata": {},
   "outputs": [],
   "source": []
  },
  {
   "cell_type": "code",
   "execution_count": 14,
   "metadata": {},
   "outputs": [],
   "source": [
    "c300_conn_path = os.path.join(cur_path,'cylinders_analysis/cylinder300/data/connectivity.npz')\n",
    "c300_sparse = scipy.sparse.load_npz(c300_conn_path)\n",
    "conn_prob_cylinder300 = c300_sparse.count_nonzero() / (c300_sparse.shape[0]*(c300_sparse.shape[0]-1))"
   ]
  },
  {
   "cell_type": "code",
   "execution_count": 47,
   "metadata": {},
   "outputs": [
    {
     "data": {
      "text/plain": [
       "5396.554916969373"
      ]
     },
     "execution_count": 47,
     "metadata": {},
     "output_type": "execute_result"
    }
   ],
   "source": [
    "conn_prob_cylinder300 / conn_prob_mosaic"
   ]
  },
  {
   "cell_type": "code",
   "execution_count": 54,
   "metadata": {},
   "outputs": [],
   "source": [
    "sparse_matrix_csr = sparse_matrix.tocsr()"
   ]
  },
  {
   "cell_type": "code",
   "execution_count": 55,
   "metadata": {},
   "outputs": [],
   "source": [
    "reciprocal_matrix = sparse_matrix_csr.multiply(sparse_matrix_csr.transpose())"
   ]
  },
  {
   "cell_type": "code",
   "execution_count": 56,
   "metadata": {},
   "outputs": [
    {
     "data": {
      "text/plain": [
       "129792"
      ]
     },
     "execution_count": 56,
     "metadata": {},
     "output_type": "execute_result"
    }
   ],
   "source": [
    "num_reciprocals_both_diagonal = reciprocal_matrix.count_nonzero()\n",
    "num_reciprocals_both_diagonal"
   ]
  },
  {
   "cell_type": "code",
   "execution_count": 57,
   "metadata": {},
   "outputs": [],
   "source": [
    "reciprocality_ca1 = num_reciprocals_both_diagonal / (sparse_matrix.shape[0]*sparse_matrix.shape[0]-1)"
   ]
  },
  {
   "cell_type": "code",
   "execution_count": 58,
   "metadata": {},
   "outputs": [
    {
     "data": {
      "text/plain": [
       "0.003362367882920626"
      ]
     },
     "execution_count": 58,
     "metadata": {},
     "output_type": "execute_result"
    }
   ],
   "source": [
    "reciprocality_ca1"
   ]
  },
  {
   "cell_type": "code",
   "execution_count": 20,
   "metadata": {},
   "outputs": [
    {
     "data": {
      "text/plain": [
       "6.56651732667348e-05"
      ]
     },
     "execution_count": 20,
     "metadata": {},
     "output_type": "execute_result"
    }
   ],
   "source": [
    "reciprocality_ca1"
   ]
  },
  {
   "cell_type": "code",
   "execution_count": 61,
   "metadata": {},
   "outputs": [
    {
     "name": "stdout",
     "output_type": "stream",
     "text": [
      "cylinder300: [       -1        -1        -1 162025739  90327698 248200864  26151493\n",
      "  58563579  19939329   2211349   3976892   3382804   5457691   1721108\n",
      "   1735092    206611]\n"
     ]
    }
   ],
   "source": [
    "# takes some time\n",
    "motifs_dict = {}\n",
    "for key,value in data_dict.items():\n",
    "    if key=='mosaic':\n",
    "        continue\n",
    "    cur_motifs =  nsm.motifs(1*value.todense(), algorithm='louzoun')\n",
    "    motifs_dict[key] = cur_motifs\n",
    "    print(key, cur_motifs,sep=': ')"
   ]
  },
  {
   "cell_type": "code",
   "execution_count": null,
   "metadata": {},
   "outputs": [],
   "source": [
    "motifs_dict"
   ]
  },
  {
   "cell_type": "code",
   "execution_count": null,
   "metadata": {},
   "outputs": [],
   "source": [
    "df = pd.read_csv('cylinder_motifs.csv',index_col=0).T\n",
    "df"
   ]
  },
  {
   "cell_type": "code",
   "execution_count": null,
   "metadata": {},
   "outputs": [],
   "source": [
    "df = pd.DataFrame(motifs_dict)\n",
    "df.T"
   ]
  },
  {
   "cell_type": "code",
   "execution_count": null,
   "metadata": {},
   "outputs": [],
   "source": [
    "df = df.T"
   ]
  },
  {
   "cell_type": "code",
   "execution_count": null,
   "metadata": {},
   "outputs": [],
   "source": [
    "df.iloc[:,3:]"
   ]
  },
  {
   "cell_type": "code",
   "execution_count": null,
   "metadata": {},
   "outputs": [],
   "source": [
    "df.describe()"
   ]
  },
  {
   "cell_type": "code",
   "execution_count": null,
   "metadata": {},
   "outputs": [],
   "source": [
    "df2 = df.copy()\n",
    "df2 = df2.iloc[:,3:]\n",
    "df2 = np.log10(df2)\n",
    "df2.columns = np.arange(1,14)\n",
    "df2"
   ]
  },
  {
   "cell_type": "code",
   "execution_count": null,
   "metadata": {},
   "outputs": [],
   "source": [
    "df3 = df.copy()\n",
    "df3 = df3.iloc[:,3:]\n",
    "df3 = np.divide(df3,1e8)\n",
    "df3.columns = np.arange(1,14)\n",
    "df3"
   ]
  },
  {
   "cell_type": "code",
   "execution_count": null,
   "metadata": {},
   "outputs": [],
   "source": [
    "ax = df.plot.area(figsize=(10,10))\n",
    "ax.set_xticklabels(np.arange(7))"
   ]
  },
  {
   "cell_type": "code",
   "execution_count": null,
   "metadata": {},
   "outputs": [],
   "source": [
    "df.index"
   ]
  },
  {
   "cell_type": "code",
   "execution_count": null,
   "metadata": {},
   "outputs": [],
   "source": [
    "fig, axes = plt.subplots()\n",
    "# plot violin. 'Scenario' is according to x axis, \n",
    "# 'LMP' is y axis, data is your dataframe. ax - is axes instance\n",
    "sns.violinplot(data=df2, ax = axes)\n",
    "plt.xlabel('Motifs')\n",
    "plt.ylabel('Log(Occurences)')\n",
    "plt.title('Motifs distribution in cylinders (n=10)')"
   ]
  },
  {
   "cell_type": "code",
   "execution_count": null,
   "metadata": {},
   "outputs": [],
   "source": [
    "fig, axes = plt.subplots()\n",
    "# plot violin. 'Scenario' is according to x axis, \n",
    "# 'LMP' is y axis, data is your dataframe. ax - is axes instance\n",
    "sns.violinplot(data=df3, ax = axes)\n",
    "plt.xlabel('Motifs')\n",
    "plt.ylabel('Occurences x 10^8')\n",
    "plt.title('Motifs distribution in cylinders (n=10)')"
   ]
  },
  {
   "cell_type": "markdown",
   "metadata": {},
   "source": [
    "# Random Graph (average of 10 cylinders)"
   ]
  },
  {
   "cell_type": "code",
   "execution_count": null,
   "metadata": {},
   "outputs": [],
   "source": [
    "n = 6213 # num of cells in cylinder300\n",
    "p = 0.015"
   ]
  },
  {
   "cell_type": "code",
   "execution_count": null,
   "metadata": {},
   "outputs": [],
   "source": [
    "sparsities = []\n",
    "num_nodes = []\n",
    "num_edges = []\n",
    "for cylinder,value in data_dict.items():\n",
    "    num_edges.append(len(np.where(data_dict[cylinder]!=0)[0]))\n",
    "    num_nodes.append(data_dict[cylinder].shape[0])\n",
    "    sparsities.append(len(np.where(data_dict[cylinder]!=0)[0]) / data_dict[cylinder].size) # divide nonzeros in adj matrix to its size to get its sparsity"
   ]
  },
  {
   "cell_type": "code",
   "execution_count": null,
   "metadata": {},
   "outputs": [],
   "source": [
    "n = int(np.mean(num_nodes))\n",
    "p = np.mean(sparsities)\n",
    "print(n,p)"
   ]
  },
  {
   "cell_type": "code",
   "execution_count": null,
   "metadata": {},
   "outputs": [],
   "source": [
    "erdos_mean = nsr.erdos_renyi(n, p)\n",
    "erdos_motifs_mean = nsm.motifs(erdos_mean, algorithm='louzoun')"
   ]
  },
  {
   "cell_type": "code",
   "execution_count": null,
   "metadata": {},
   "outputs": [],
   "source": [
    "nsv.bar_motifs(erdos_motifs_mean,title=f'Random Graph with n={n}, p={np.round(p,3)}')"
   ]
  },
  {
   "cell_type": "markdown",
   "metadata": {},
   "source": [
    "# For cylinder300"
   ]
  },
  {
   "cell_type": "code",
   "execution_count": null,
   "metadata": {},
   "outputs": [],
   "source": [
    "n = 6213 # num of cells in cylinder300\n",
    "#p = 0.015 # based on PCs only\n",
    "p = len(np.where(data_dict['cylinder300'] == 1)[0]) / n**2\n",
    "erdos = nsr.erdos_renyi(n, p)"
   ]
  },
  {
   "cell_type": "code",
   "execution_count": null,
   "metadata": {},
   "outputs": [],
   "source": [
    "erdos_motifs = nsm.motifs(erdos, algorithm='louzoun')"
   ]
  },
  {
   "cell_type": "code",
   "execution_count": null,
   "metadata": {},
   "outputs": [],
   "source": [
    "nsv.bar_motifs(erdos_motifs,title=f'ER Graph (cylinder300) with n={n}, p={np.round(p,3)}')"
   ]
  },
  {
   "cell_type": "code",
   "execution_count": null,
   "metadata": {},
   "outputs": [],
   "source": [
    "ax0, ax1 = nsv.bar_motifs(erdos_motifs,title=f'Random Graph with n={n}, p={np.round(p,3)}')\n",
    "ax0.set_ylim([0,4e8])"
   ]
  },
  {
   "cell_type": "markdown",
   "metadata": {},
   "source": [
    "# Dense ER"
   ]
  },
  {
   "cell_type": "code",
   "execution_count": null,
   "metadata": {},
   "outputs": [],
   "source": [
    "erdos_dense = nsr.erdos_renyi(n, 0.1)\n",
    "erdos_motifs_dense = nsm.motifs(erdos_dense, algorithm='louzoun')"
   ]
  },
  {
   "cell_type": "code",
   "execution_count": null,
   "metadata": {},
   "outputs": [],
   "source": [
    "nsv.bar_motifs(erdos_motifs_dense,title='Random Graph p=0.1')"
   ]
  },
  {
   "cell_type": "markdown",
   "metadata": {},
   "source": [
    "# Z score"
   ]
  },
  {
   "cell_type": "code",
   "execution_count": null,
   "metadata": {},
   "outputs": [],
   "source": [
    "data_dict['cylinder300'].shape[0]"
   ]
  },
  {
   "cell_type": "markdown",
   "metadata": {},
   "source": [
    "First, we need to calculate motifs for ER and dd networks 1000 times. then use their mean and std of motif structures to normalize our motifs"
   ]
  },
  {
   "cell_type": "code",
   "execution_count": null,
   "metadata": {},
   "outputs": [],
   "source": [
    "num_repetitions = 1000\n",
    "motifs = []\n",
    "n = data_dict['cylinder300'].shape[0] # num of cells in cylinder300 = 6213\n",
    "p = len(np.where(data_dict['cylinder300'] == 1)[0]) / n**2 # p = 0.032\n",
    "for rep in range(num_repetitions):\n",
    "    cur_erdos = nsr.erdos_renyi(n, p)\n",
    "    cur_motifs = nsm.motifs(cur_erdos, algorithm='louzoun')\n",
    "    motifs.append(cur_motifs)\n",
    "np.save('ER_motifs',motifs)"
   ]
  },
  {
   "cell_type": "code",
   "execution_count": null,
   "metadata": {},
   "outputs": [],
   "source": [
    "df2 = pd.read_csv('motifs_exp_control.csv',index_col=0)\n",
    "df2"
   ]
  },
  {
   "cell_type": "code",
   "execution_count": null,
   "metadata": {},
   "outputs": [],
   "source": [
    "dd_motifs = np.array([206002585, 103002838, 103030367,   8864003,  12187251,  12178900,\n",
    "         2955388,    358112,    601756,    301333,    300414,     44187,\n",
    "             590])"
   ]
  },
  {
   "cell_type": "code",
   "execution_count": null,
   "metadata": {},
   "outputs": [],
   "source": [
    "all_motifs_dd = np.load('10_motifs_dd.npy')\n",
    "dd_mean = np.mean(all_motifs_dd,axis=0)[3:]\n",
    "dd_std = np.std(all_motifs_dd,axis=0)[3:]"
   ]
  },
  {
   "cell_type": "code",
   "execution_count": null,
   "metadata": {},
   "outputs": [],
   "source": [
    "z_dd = (df2.loc['cylinder300'][3:].values - dd_mean) / dd_std"
   ]
  },
  {
   "cell_type": "code",
   "execution_count": null,
   "metadata": {},
   "outputs": [],
   "source": [
    "nsv.bar_motifs(np.hstack([-np.ones(3),z_dd]),title='Z-score based on DD-graph')"
   ]
  },
  {
   "cell_type": "code",
   "execution_count": null,
   "metadata": {},
   "outputs": [],
   "source": [
    "from matplotlib import pyplot as plt, gridspec\n",
    "from netsci.metrics.motifs import *"
   ]
  },
  {
   "cell_type": "code",
   "execution_count": null,
   "metadata": {},
   "outputs": [],
   "source": [
    "from netsci.visualization.motifs import *"
   ]
  },
  {
   "cell_type": "code",
   "execution_count": null,
   "metadata": {},
   "outputs": [],
   "source": [
    "order = range(len(z_dd))\n",
    "x = 1 + np.arange(len(order))\n",
    "plt.figure()\n",
    "gs = gridspec.GridSpec(2, 1, height_ratios=[10, 3])\n",
    "ax0 = plt.subplot(gs[0])\n",
    "ax0.bar(x, z_dd[order])\n",
    "_=plt.xticks(x)\n",
    "\n",
    "ax1 = plt.subplot(gs[1], sharex=ax0)\n",
    "plot_all_triads(range(3,16), ax=ax1, label=False)\n",
    "plt.axis('off')"
   ]
  },
  {
   "cell_type": "code",
   "execution_count": null,
   "metadata": {},
   "outputs": [],
   "source": [
    "nsv.bar_motifs(np.hstack([-np.ones(3),dd_mean]),title='Triplets in Distance Dependent Graph (n=10)')"
   ]
  },
  {
   "cell_type": "code",
   "execution_count": null,
   "metadata": {},
   "outputs": [],
   "source": [
    "gs = gridspec.GridSpec(2, 1, height_ratios=[10, 3])\n",
    "ax0 = plt.subplot(gs[0])\n",
    "plt.plot(x,z_dd,'k')\n",
    "_=plt.xticks(x)\n",
    "plt.legend(['dd'],loc='best')\n",
    "plt.ylabel('z-score')\n",
    "\n",
    "# after plotting the data, format the labels\n",
    "#current_values = plt.gca().get_yticks()\n",
    "# using format string '{:.0f}' here but you can choose others\n",
    "#plt.gca().set_yticklabels(['{:.0f}'.format(x) for x in current_values])\n",
    "plt.ticklabel_format(axis=\"y\", style=\"sci\", scilimits=(0,0))\n",
    "\n",
    "\n",
    "ax1 = plt.subplot(gs[1], sharex=ax0)\n",
    "_=plt.xticks(np.arange(1,14))\n",
    "plot_all_triads(range(3,16), ax=ax1, label=False)\n",
    "plt.axis('off')\n",
    "\n"
   ]
  },
  {
   "cell_type": "code",
   "execution_count": null,
   "metadata": {},
   "outputs": [],
   "source": []
  },
  {
   "cell_type": "code",
   "execution_count": null,
   "metadata": {},
   "outputs": [],
   "source": [
    "motifs_ER = []\n",
    "for i in range(100,1100,100):\n",
    "    cur_file = np.load(f'ER_motifs_{i}.npy')\n",
    "    motifs_ER.extend(cur_file)\n",
    "motifs_ER = np.array(motifs_ER)"
   ]
  },
  {
   "cell_type": "code",
   "execution_count": null,
   "metadata": {},
   "outputs": [],
   "source": [
    "mean_motifs_ER = np.mean(motifs_ER,axis=0)\n",
    "std_motifs_ER = np.std(motifs_ER,axis=0)"
   ]
  },
  {
   "cell_type": "code",
   "execution_count": null,
   "metadata": {},
   "outputs": [],
   "source": [
    "nsv.bar_motifs(mean_motifs_ER,title='ER Graph, n=6213, p=0.032 (N=1000)')"
   ]
  },
  {
   "cell_type": "code",
   "execution_count": null,
   "metadata": {},
   "outputs": [],
   "source": [
    "z_ER = (df2.loc['cylinder300'][3:].values - mean_motifs_ER[3:]) / std_motifs_ER[3:]"
   ]
  },
  {
   "cell_type": "code",
   "execution_count": null,
   "metadata": {},
   "outputs": [],
   "source": [
    "fig = plt.figure(figsize=(10,5))\n",
    "gs = gridspec.GridSpec(2, 1, height_ratios=[10, 3],figure=fig)\n",
    "ax0 = plt.subplot(gs[0])\n",
    "plt.plot(x,z_dd,'k')\n",
    "plt.plot(x,z_ER,'gray')\n",
    "\n",
    "_=plt.xticks(x)\n",
    "plt.legend(['dd','ER'],loc='best')\n",
    "plt.ylabel('z-score')\n",
    "\n",
    "# after plotting the data, format the labels\n",
    "#current_values = plt.gca().get_yticks()\n",
    "# using format string '{:.0f}' here but you can choose others\n",
    "#plt.gca().set_yticklabels(['{:.0f}'.format(x) for x in current_values])\n",
    "plt.ticklabel_format(axis=\"y\", style=\"sci\", scilimits=(0,0))\n",
    "\n",
    "\n",
    "ax1 = plt.subplot(gs[1], sharex=ax0)\n",
    "_=plt.xticks(np.arange(1,14))\n",
    "plot_all_triads(range(3,16), ax=ax1, label=False)\n",
    "plt.axis('off')\n",
    "plt.savefig('CA1_ER_dd_triads_zscore.png')\n",
    "\n"
   ]
  },
  {
   "cell_type": "markdown",
   "metadata": {},
   "source": [
    "# Reciprocal ER"
   ]
  },
  {
   "cell_type": "code",
   "execution_count": null,
   "metadata": {},
   "outputs": [],
   "source": [
    "reciprocal_conns_list = []\n",
    "for i in range(data_dict['cylinder300'].shape[0]):\n",
    "    for j in range(data_dict['cylinder300'].shape[1]):\n",
    "        if i != j:\n",
    "            if data_dict['cylinder300'][i,j] == data_dict['cylinder300'][j,i]:\n",
    "                if data_dict['cylinder300'][i,j] != 0:\n",
    "                    reciprocal_conns_list.append([i,j])"
   ]
  },
  {
   "cell_type": "code",
   "execution_count": null,
   "metadata": {},
   "outputs": [],
   "source": [
    "len(reciprocal_conns_list)"
   ]
  },
  {
   "cell_type": "code",
   "execution_count": null,
   "metadata": {},
   "outputs": [],
   "source": [
    "data = {tuple(sorted(item)) for item in reciprocal_conns_list}"
   ]
  },
  {
   "cell_type": "code",
   "execution_count": null,
   "metadata": {},
   "outputs": [],
   "source": [
    "len(data)"
   ]
  },
  {
   "cell_type": "code",
   "execution_count": null,
   "metadata": {},
   "outputs": [],
   "source": [
    "p_reciprocal = len(reciprocal_conns_list) / data_dict['cylinder300'].shape[0]**2\n",
    "p_reciprocal"
   ]
  },
  {
   "cell_type": "code",
   "execution_count": null,
   "metadata": {},
   "outputs": [],
   "source": [
    "n = 6213 # num of cells in cylinder300\n",
    "p = len(np.where(data_dict['cylinder300'] == 1)[0]) / n**2\n",
    "p_reciprocal = len(reciprocal_conns_list) / data_dict['cylinder300'].shape[0]**2\n",
    "\n",
    "ER_reciprocal = nsr.erdos_renyi_reciprocal(n, p,p_reciprocal)"
   ]
  },
  {
   "cell_type": "code",
   "execution_count": null,
   "metadata": {},
   "outputs": [],
   "source": [
    "print(n,p,p_reciprocal)"
   ]
  },
  {
   "cell_type": "code",
   "execution_count": null,
   "metadata": {},
   "outputs": [],
   "source": [
    "ER_reciprocal_motifs = nsm.motifs(ER_reciprocal, algorithm='louzoun')"
   ]
  },
  {
   "cell_type": "code",
   "execution_count": null,
   "metadata": {},
   "outputs": [],
   "source": [
    "nsv.bar_motifs(ER_reciprocal_motifs,title=f'ER Reciprocal n:{n}, p={np.round(p,3)}, r={np.round(p_reciprocal,3)}')"
   ]
  },
  {
   "cell_type": "code",
   "execution_count": null,
   "metadata": {},
   "outputs": [],
   "source": [
    "reciprocal_ER_motifs = np.load('ER_motifs_reciprocal.npy')"
   ]
  },
  {
   "cell_type": "code",
   "execution_count": null,
   "metadata": {},
   "outputs": [],
   "source": [
    "mean_motifs_ER_recip = np.mean(reciprocal_ER_motifs,axis=0)\n",
    "std_motifs_ER_recip = np.std(reciprocal_ER_motifs,axis=0)\n",
    "nsv.bar_motifs(mean_motifs_ER_recip,title='ER Graph, n=6213, p=0.032 (N=1000)')"
   ]
  },
  {
   "cell_type": "code",
   "execution_count": null,
   "metadata": {},
   "outputs": [],
   "source": [
    "z_ER_reciprocal = (df2.loc['cylinder300'][3:].values - mean_motifs_ER_recip[3:]) / std_motifs_ER_recip[3:]"
   ]
  },
  {
   "cell_type": "code",
   "execution_count": null,
   "metadata": {},
   "outputs": [],
   "source": [
    "fig = plt.figure(figsize=(10,5))\n",
    "gs = gridspec.GridSpec(2, 1, height_ratios=[10, 3],figure=fig)\n",
    "ax0 = plt.subplot(gs[0])\n",
    "plt.plot(x,z_dd,'k')\n",
    "plt.plot(x,z_ER,'gray')\n",
    "plt.plot(x,z_ER_reciprocal,'silver')\n",
    "\n",
    "\n",
    "_=plt.xticks(x)\n",
    "plt.legend(['dd','ER','ER_reciprocal'],loc='best')\n",
    "plt.ylabel('z-score')\n",
    "plt.title('Comparison of CA1 triad motifs with different random models (cylinder300)')\n",
    "# after plotting the data, format the labels\n",
    "#current_values = plt.gca().get_yticks()\n",
    "# using format string '{:.0f}' here but you can choose others\n",
    "#plt.gca().set_yticklabels(['{:.0f}'.format(x) for x in current_values])\n",
    "plt.ticklabel_format(axis=\"y\", style=\"sci\", scilimits=(3,3))\n",
    "\n",
    "ax1 = plt.subplot(gs[1], sharex=ax0)\n",
    "_=plt.xticks(np.arange(1,14))\n",
    "plot_all_triads(range(3,16), ax=ax1, label=False)\n",
    "plt.axis('off')\n",
    "plt.savefig('CA1_ER_dd_triads_zscore.png')\n",
    "\n"
   ]
  },
  {
   "cell_type": "code",
   "execution_count": null,
   "metadata": {},
   "outputs": [],
   "source": [
    "def normalize(z):\n",
    "    return z/np.sqrt(np.sum(np.square(z)))"
   ]
  },
  {
   "cell_type": "code",
   "execution_count": null,
   "metadata": {},
   "outputs": [],
   "source": [
    "fig = plt.figure(figsize=(10,5))\n",
    "gs = gridspec.GridSpec(2, 1, height_ratios=[10, 3],figure=fig)\n",
    "ax0 = plt.subplot(gs[0])\n",
    "plt.plot(x,normalize(z_dd),'k')\n",
    "plt.plot(x,normalize(z_ER),'gray')\n",
    "plt.plot(x,normalize(z_ER_reciprocal),'silver')\n",
    "\n",
    "\n",
    "_=plt.xticks(x)\n",
    "plt.legend(['dd','ER','ER_reciprocal'],loc='best')\n",
    "plt.ylabel('Normalized z-score')\n",
    "plt.title('(Normalized) Comparison of CA1 triad motifs with different random models (cylinder300)')\n",
    "# after plotting the data, format the labels\n",
    "#current_values = plt.gca().get_yticks()\n",
    "# using format string '{:.0f}' here but you can choose others\n",
    "#plt.gca().set_yticklabels(['{:.0f}'.format(x) for x in current_values])\n",
    "#plt.ticklabel_format(axis=\"y\", style=\"sci\", scilimits=(0,0))\n",
    "\n",
    "ax1 = plt.subplot(gs[1], sharex=ax0)\n",
    "_=plt.xticks(np.arange(1,14))\n",
    "plot_all_triads(range(3,16), ax=ax1, label=False)\n",
    "plt.axis('off')\n",
    "plt.savefig('CA1_ER_dd_triads_zscore_norm.png')\n",
    "\n"
   ]
  },
  {
   "cell_type": "code",
   "execution_count": null,
   "metadata": {},
   "outputs": [],
   "source": []
  }
 ],
 "metadata": {
  "kernelspec": {
   "display_name": "venv3-lab",
   "language": "python",
   "name": "venv3-lab"
  },
  "language_info": {
   "codemirror_mode": {
    "name": "ipython",
    "version": 3
   },
   "file_extension": ".py",
   "mimetype": "text/x-python",
   "name": "python",
   "nbconvert_exporter": "python",
   "pygments_lexer": "ipython3",
   "version": "3.7.4"
  }
 },
 "nbformat": 4,
 "nbformat_minor": 4
}
