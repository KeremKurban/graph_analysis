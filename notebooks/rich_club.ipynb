{
 "cells": [
  {
   "cell_type": "code",
   "execution_count": 1,
   "metadata": {},
   "outputs": [],
   "source": [
    "import numpy as np\n",
    "# import igraph\n",
    "from scipy import sparse\n",
    "from scipy.sparse import csc_matrix\n",
    "import matplotlib.pyplot as plt\n",
    "from bluepysnap import Circuit\n",
    "# import matplotlib.patches as mpatches\n",
    "from scipy.sparse import csc_matrix\n",
    "import tqdm\n",
    "import os"
   ]
  },
  {
   "cell_type": "code",
   "execution_count": 2,
   "metadata": {},
   "outputs": [],
   "source": [
    "from graph_analysis.randomize import DistanceDependentConfigurationalModel\n",
    "from graph_analysis.rich_cub import RichClubAnalysis\n",
    "# from graph_analysis.randomize import ErdosRenyiModel"
   ]
  },
  {
   "cell_type": "code",
   "execution_count": 3,
   "metadata": {},
   "outputs": [],
   "source": [
    "dpi=300\n",
    "file_format = 'png'\n",
    "fig_save_dir = f'{os.getcwd()}/output/'"
   ]
  },
  {
   "cell_type": "code",
   "execution_count": 4,
   "metadata": {},
   "outputs": [],
   "source": [
    "adj_path = '/gpfs/bbp.cscs.ch/project/proj112/circuits/CA1/20211110-BioM/data/ca1_synaptome.npz'\n",
    "synaptome = sparse.load_npz(adj_path)\n",
    "connectome = synaptome.copy()\n",
    "connectome[connectome > 0] = 1"
   ]
  },
  {
   "cell_type": "code",
   "execution_count": 5,
   "metadata": {},
   "outputs": [],
   "source": [
    "target = 'slice10'\n",
    "\n",
    "CIRCUIT_DIR =  '/gpfs/bbp.cscs.ch/project/proj112/circuits/CA1/20211110-BioM/sonata/circuit_config.json'\n",
    "circuit = Circuit(CIRCUIT_DIR)\n",
    "nodes = circuit.nodes[\"hippocampus_neurons\"]\n",
    "edges = circuit.edges[\"hippocampus_neurons__hippocampus_neurons__chemical_synapse\"]\n",
    "target_indices = nodes.ids(target)\n",
    "\n",
    "target_synaptome = synaptome[target_indices,:][:,target_indices]\n",
    "# mtypes_by_gid = c.nodes['hippocampus_neurons'].get().mtype.values\n",
    "\n",
    "xyz = nodes.get(target)[['x','y','z']]"
   ]
  },
  {
   "cell_type": "code",
   "execution_count": 35,
   "metadata": {},
   "outputs": [],
   "source": [
    "target_connectome = target_synaptome.copy()\n",
    "target_connectome[target_connectome>1]=1"
   ]
  },
  {
   "cell_type": "code",
   "execution_count": 55,
   "metadata": {},
   "outputs": [],
   "source": [
    "indegrees = target_connectome.sum(axis=0)"
   ]
  },
  {
   "cell_type": "code",
   "execution_count": 36,
   "metadata": {},
   "outputs": [
    {
     "name": "stderr",
     "output_type": "stream",
     "text": [
      "12615it [00:05, 2129.23it/s]\n"
     ]
    }
   ],
   "source": [
    "model = DistanceDependentConfigurationalModel(target_connectome,xyz)\n",
    "dd_adj = model.generate()"
   ]
  },
  {
   "cell_type": "code",
   "execution_count": 13,
   "metadata": {
    "jupyter": {
     "source_hidden": true
    }
   },
   "outputs": [],
   "source": [
    "import dask\n",
    "import dask.bag as db\n",
    "from dask.distributed import Client\n",
    "import numpy as np\n",
    "\n",
    "class RichClubAnalysis:\n",
    "    \"\"\"\n",
    "    Class for performing rich club analysis on a square sparse CSC matrix.\n",
    "    \"\"\"\n",
    "    \n",
    "    def __init__(self, adjacency_matrix):\n",
    "        \"\"\"\n",
    "        Initialize the RichClubAnalysis object.\n",
    "        \n",
    "        Parameters:\n",
    "            adjacency_matrix (scipy.sparse.csc_matrix): Square sparse CSC matrix representing the graph adjacency.\n",
    "        \"\"\"\n",
    "        self.adjacency_matrix = adjacency_matrix\n",
    "        self.is_MultiGraph = np.any(self.adjacency_matrix.A > 1)\n",
    "        self.is_Directed = not np.array_equal(adjacency_matrix, adjacency_matrix.T)\n",
    "\n",
    "    def undirected_rich_club_coefficient(self, k):\n",
    "        \"\"\"\n",
    "        Calculate the rich club coefficient for a given degree threshold.\n",
    "        \n",
    "        Parameters:\n",
    "            k (int): Degree threshold.\n",
    "            \n",
    "        Returns:\n",
    "            float: Rich club coefficient.\n",
    "        \"\"\"\n",
    "        if self.is_Directed:\n",
    "            raise ValueError(\"Error: The graph is directed!\") \n",
    "\n",
    "        degrees = np.array(self.adjacency_matrix.sum(axis=0)).flatten()\n",
    "        k_degrees = degrees[degrees >= k]\n",
    "        kc = self.adjacency_matrix[degrees >= k, :][:, degrees >= k]\n",
    "        kc_indices = kc.nonzero()\n",
    "        kc_count = len(kc_indices[0])\n",
    "        kc_possible = len(k_degrees) * (len(k_degrees) - 1)\n",
    "        if kc_possible == 0:\n",
    "            return np.nan\n",
    "        return (2 * kc_count) / kc_possible\n",
    "    \n",
    "    def directed_rich_club_coefficient(self, k):\n",
    "        \"\"\"\n",
    "        Calculate the rich club coefficient for a given degree threshold.\n",
    "        \n",
    "        Parameters:\n",
    "            k (int): Degree threshold.\n",
    "            \n",
    "        Returns:\n",
    "            float: Rich club coefficient.\n",
    "        \"\"\"\n",
    "        if not self.is_Directed:\n",
    "            raise ValueError(\"Error: The graph is undirected! Use undirected_rich_club_coefficient\") \n",
    "            \n",
    "        degrees = np.array(self.adjacency_matrix.sum(axis=0)).flatten() + np.array(self.adjacency_matrix.sum(axis=1)).flatten() # out + indegrees per node\n",
    "        k_degrees = degrees[degrees >= k]\n",
    "        kc = self.adjacency_matrix[degrees >= k, :][:, degrees >= k]\n",
    "        kc_indices = kc.nonzero()\n",
    "        kc_count = len(kc_indices[0])\n",
    "        kc_possible = len(k_degrees) * (len(k_degrees) - 1)\n",
    "        if kc_possible == 0:\n",
    "            return np.nan\n",
    "        return (kc_count) / kc_possible\n",
    "    \n",
    "    def plot_rich_club(self):\n",
    "        \"\"\"\n",
    "        Plot the rich club coefficient for different degree thresholds.\n",
    "        \"\"\"\n",
    "        degrees = np.array(self.adjacency_matrix.sum(axis=0)).flatten()\n",
    "        k_values = np.unique(degrees)\n",
    "        rc_coefficients = [self.rich_club_coefficient(k) for k in k_values]\n",
    "        \n",
    "        plt.plot(k_values, rc_coefficients, 'o-')\n",
    "        plt.xlabel('Degree Threshold (k)')\n",
    "        plt.ylabel('Rich Club Coefficient')\n",
    "        plt.title('Rich Club Analysis')\n",
    "        plt.show()\n",
    "\n",
    "\n",
    "    def calculate_rc_coefficient(self,k):\n",
    "        rc_coefficient = self.directed_rich_club_coefficient(k)\n",
    "        return k, rc_coefficient\n",
    "\n",
    "    def calculate_rich_club_coefficients(self,degree):\n",
    "        '''\n",
    "        degree: either in or outdegree, given from outside class\n",
    "        '''\n",
    "        k_values = np.arange(1, np.max(degree))\n",
    "        k_dict = {}\n",
    "\n",
    "        # Create a Dask bag from the k_values\n",
    "        k_bag = db.from_sequence(k_values)\n",
    "\n",
    "        # Parallelize the calculation of rc_coefficient for each k\n",
    "        results = k_bag.map(self.calculate_rc_coefficient).compute()\n",
    "\n",
    "        # Collect the results into k_dict\n",
    "        for k, rc_coefficient in results:\n",
    "            k_dict[k] = rc_coefficient\n",
    "\n",
    "        return k_dict"
   ]
  },
  {
   "cell_type": "code",
   "execution_count": 38,
   "metadata": {},
   "outputs": [],
   "source": [
    "rca = RichClubAnalysis(target_connectome)"
   ]
  },
  {
   "cell_type": "code",
   "execution_count": 39,
   "metadata": {},
   "outputs": [],
   "source": [
    "import dask\n",
    "import dask.bag as db\n",
    "from dask.distributed import Client"
   ]
  },
  {
   "cell_type": "code",
   "execution_count": 43,
   "metadata": {},
   "outputs": [],
   "source": [
    "dd_adj = sparse.load_npz('../output/random_models/dd_configurational_slice10.npz')"
   ]
  },
  {
   "cell_type": "code",
   "execution_count": 47,
   "metadata": {},
   "outputs": [],
   "source": [
    "indegrees_dd = dd_adj.sum(axis=0)"
   ]
  },
  {
   "cell_type": "code",
   "execution_count": 10,
   "metadata": {},
   "outputs": [],
   "source": [
    "# num_syns_per_conn = target_synaptome.sum() / target_synaptome.count_nonzero()\n",
    "# num_syns_per_conn = np.round(num_syns_per_conn).astype(int)"
   ]
  },
  {
   "cell_type": "code",
   "execution_count": 11,
   "metadata": {},
   "outputs": [],
   "source": [
    "# dd_synaptme = dd_adj.copy().astype(int)\n",
    "# dd_synaptme *= num_syns_per_conn"
   ]
  },
  {
   "cell_type": "code",
   "execution_count": 44,
   "metadata": {},
   "outputs": [],
   "source": [
    "rca_dd = RichClubAnalysis(dd_adj.astype(int))"
   ]
  },
  {
   "cell_type": "code",
   "execution_count": null,
   "metadata": {},
   "outputs": [],
   "source": [
    "# model_outdegree = model.to_connectome(model.synaptome).sum(axis=1).flatten()\n",
    "# dd_outdegree = dd_adj.sum(axis=1).flatten()\n",
    "# np.testing.assert_array_equal(model_outdegree,dd_outdegree)\n",
    "\n",
    "# # save adjacency matrix\n",
    "# sparse.save_npz(f'{save_dir}/dd_configurational_{target}.npz',dd_adj)"
   ]
  },
  {
   "cell_type": "code",
   "execution_count": 15,
   "metadata": {},
   "outputs": [],
   "source": [
    "import networkx as nx"
   ]
  },
  {
   "cell_type": "code",
   "execution_count": 45,
   "metadata": {},
   "outputs": [],
   "source": [
    "num_nodes = target_synaptome.shape[1]"
   ]
  },
  {
   "cell_type": "code",
   "execution_count": 46,
   "metadata": {},
   "outputs": [],
   "source": [
    "conn_prob = target_synaptome.count_nonzero() / (target_synaptome.shape[0] * (target_synaptome.shape[0]-1))"
   ]
  },
  {
   "cell_type": "code",
   "execution_count": 32,
   "metadata": {},
   "outputs": [
    {
     "name": "stderr",
     "output_type": "stream",
     "text": [
      "/gpfs/bbp.cscs.ch/home/kurban/venv2022/lib/python3.8/site-packages/scipy/sparse/_base.py:752: VisibleDeprecationWarning: Please use `.todense()` instead\n",
      "  warn(np.VisibleDeprecationWarning(\n",
      "<__array_function__ internals>:200: SparseEfficiencyWarning: Comparing sparse matrices using == is inefficient, try using != instead.\n"
     ]
    }
   ],
   "source": [
    "target_er = nx.erdos_renyi_graph(num_nodes,conn_prob,seed=10,directed=True)\n",
    "adj_er = nx.adjacency_matrix(target_er)\n",
    "rca_er = RichClubAnalysis(adj_er)\n",
    "indegree_er = adj_er.sum(axis=0)"
   ]
  },
  {
   "cell_type": "code",
   "execution_count": 51,
   "metadata": {},
   "outputs": [
    {
     "data": {
      "text/plain": [
       "282"
      ]
     },
     "execution_count": 51,
     "metadata": {},
     "output_type": "execute_result"
    }
   ],
   "source": [
    "indegree_er.max()"
   ]
  },
  {
   "cell_type": "code",
   "execution_count": 53,
   "metadata": {},
   "outputs": [
    {
     "data": {
      "text/plain": [
       "378"
      ]
     },
     "execution_count": 53,
     "metadata": {},
     "output_type": "execute_result"
    }
   ],
   "source": [
    "indegrees_dd.max()"
   ]
  },
  {
   "cell_type": "code",
   "execution_count": 96,
   "metadata": {},
   "outputs": [
    {
     "data": {
      "text/plain": [
       "1493"
      ]
     },
     "execution_count": 96,
     "metadata": {},
     "output_type": "execute_result"
    }
   ],
   "source": [
    "np.squeeze(indegrees.A).astype(int).max()"
   ]
  },
  {
   "cell_type": "code",
   "execution_count": 103,
   "metadata": {},
   "outputs": [
    {
     "data": {
      "text/plain": [
       "array([390.,  22., 299., ..., 596., 347., 687.])"
      ]
     },
     "execution_count": 103,
     "metadata": {},
     "output_type": "execute_result"
    }
   ],
   "source": [
    "target_connectome.sum(axis=1).A.flatten()"
   ]
  },
  {
   "cell_type": "code",
   "execution_count": 105,
   "metadata": {},
   "outputs": [
    {
     "data": {
      "text/plain": [
       "1493.0"
      ]
     },
     "execution_count": 105,
     "metadata": {},
     "output_type": "execute_result"
    }
   ],
   "source": [
    "target_connectome.sum(axis=0).A.flatten().max() "
   ]
  },
  {
   "cell_type": "code",
   "execution_count": 107,
   "metadata": {},
   "outputs": [
    {
     "data": {
      "text/plain": [
       "3732.0"
      ]
     },
     "execution_count": 107,
     "metadata": {},
     "output_type": "execute_result"
    }
   ],
   "source": [
    "target_connectome.sum(axis=1).A.flatten().max() "
   ]
  },
  {
   "cell_type": "code",
   "execution_count": 94,
   "metadata": {},
   "outputs": [
    {
     "data": {
      "text/plain": [
       "True"
      ]
     },
     "execution_count": 94,
     "metadata": {},
     "output_type": "execute_result"
    }
   ],
   "source": [
    "# in or outdegree alone is not graphical so degree preserving randomization is not feasable\n",
    "# but total degree is\n",
    "dg = connectome.sum(axis=1).A.flatten() + connectome.sum(axis=0).A.flatten()\n",
    "nx.is_graphical(dg)"
   ]
  },
  {
   "cell_type": "code",
   "execution_count": 114,
   "metadata": {},
   "outputs": [],
   "source": [
    "M = target_synaptome.tocoo()\n",
    "M.col = np.random.permutation(M.col)"
   ]
  },
  {
   "cell_type": "code",
   "execution_count": 118,
   "metadata": {},
   "outputs": [],
   "source": [
    "np.testing.assert_array_almost_equal(M.sum(axis=0).A.flatten(),\n",
    "                              M.sum(axis=0).A.flatten())"
   ]
  },
  {
   "cell_type": "code",
   "execution_count": 95,
   "metadata": {
    "collapsed": true,
    "jupyter": {
     "outputs_hidden": true
    }
   },
   "outputs": [
    {
     "ename": "KeyboardInterrupt",
     "evalue": "",
     "output_type": "error",
     "traceback": [
      "\u001b[0;31m---------------------------------------------------------------------------\u001b[0m",
      "\u001b[0;31mKeyboardInterrupt\u001b[0m                         Traceback (most recent call last)",
      "Cell \u001b[0;32mIn[95], line 1\u001b[0m\n\u001b[0;32m----> 1\u001b[0m G_degree_preserving \u001b[38;5;241m=\u001b[39m \u001b[43mnx\u001b[49m\u001b[38;5;241;43m.\u001b[39;49m\u001b[43mrandom_degree_sequence_graph\u001b[49m\u001b[43m(\u001b[49m\u001b[43mdg\u001b[49m\u001b[43m,\u001b[49m\u001b[43m \u001b[49m\u001b[43mseed\u001b[49m\u001b[38;5;241;43m=\u001b[39;49m\u001b[38;5;241;43m42\u001b[39;49m\u001b[43m)\u001b[49m\n",
      "File \u001b[0;32m<class 'networkx.utils.decorators.argmap'> compilation 8:4\u001b[0m, in \u001b[0;36margmap_random_degree_sequence_graph_5\u001b[0;34m(sequence, seed, tries)\u001b[0m\n\u001b[1;32m      2\u001b[0m \u001b[38;5;28;01mimport\u001b[39;00m \u001b[38;5;21;01mcollections\u001b[39;00m\n\u001b[1;32m      3\u001b[0m \u001b[38;5;28;01mimport\u001b[39;00m \u001b[38;5;21;01mgzip\u001b[39;00m\n\u001b[0;32m----> 4\u001b[0m \u001b[38;5;28;01mimport\u001b[39;00m \u001b[38;5;21;01minspect\u001b[39;00m\n\u001b[1;32m      5\u001b[0m \u001b[38;5;28;01mimport\u001b[39;00m \u001b[38;5;21;01mitertools\u001b[39;00m\n\u001b[1;32m      6\u001b[0m \u001b[38;5;28;01mimport\u001b[39;00m \u001b[38;5;21;01mre\u001b[39;00m\n",
      "File \u001b[0;32m~/venv2022/lib/python3.8/site-packages/networkx/generators/degree_seq.py:744\u001b[0m, in \u001b[0;36mrandom_degree_sequence_graph\u001b[0;34m(sequence, seed, tries)\u001b[0m\n\u001b[1;32m    742\u001b[0m \u001b[38;5;28;01mfor\u001b[39;00m try_n \u001b[38;5;129;01min\u001b[39;00m \u001b[38;5;28mrange\u001b[39m(tries):\n\u001b[1;32m    743\u001b[0m     \u001b[38;5;28;01mtry\u001b[39;00m:\n\u001b[0;32m--> 744\u001b[0m         \u001b[38;5;28;01mreturn\u001b[39;00m \u001b[43mDSRG\u001b[49m\u001b[38;5;241;43m.\u001b[39;49m\u001b[43mgenerate\u001b[49m\u001b[43m(\u001b[49m\u001b[43m)\u001b[49m\n\u001b[1;32m    745\u001b[0m     \u001b[38;5;28;01mexcept\u001b[39;00m nx\u001b[38;5;241m.\u001b[39mNetworkXUnfeasible:\n\u001b[1;32m    746\u001b[0m         \u001b[38;5;28;01mpass\u001b[39;00m\n",
      "File \u001b[0;32m~/venv2022/lib/python3.8/site-packages/networkx/generators/degree_seq.py:777\u001b[0m, in \u001b[0;36mDegreeSequenceRandomGraph.generate\u001b[0;34m(self)\u001b[0m\n\u001b[1;32m    774\u001b[0m         \u001b[38;5;28;01mdel\u001b[39;00m \u001b[38;5;28mself\u001b[39m\u001b[38;5;241m.\u001b[39mremaining_degree[n]\n\u001b[1;32m    775\u001b[0m \u001b[38;5;28;01mif\u001b[39;00m \u001b[38;5;28mlen\u001b[39m(\u001b[38;5;28mself\u001b[39m\u001b[38;5;241m.\u001b[39mremaining_degree) \u001b[38;5;241m>\u001b[39m \u001b[38;5;241m0\u001b[39m:\n\u001b[1;32m    776\u001b[0m     \u001b[38;5;66;03m# build graph in three phases according to how many unmatched edges\u001b[39;00m\n\u001b[0;32m--> 777\u001b[0m     \u001b[38;5;28;43mself\u001b[39;49m\u001b[38;5;241;43m.\u001b[39;49m\u001b[43mphase1\u001b[49m\u001b[43m(\u001b[49m\u001b[43m)\u001b[49m\n\u001b[1;32m    778\u001b[0m     \u001b[38;5;28mself\u001b[39m\u001b[38;5;241m.\u001b[39mphase2()\n\u001b[1;32m    779\u001b[0m     \u001b[38;5;28mself\u001b[39m\u001b[38;5;241m.\u001b[39mphase3()\n",
      "File \u001b[0;32m~/venv2022/lib/python3.8/site-packages/networkx/generators/degree_seq.py:822\u001b[0m, in \u001b[0;36mDegreeSequenceRandomGraph.phase1\u001b[0;34m(self)\u001b[0m\n\u001b[1;32m    820\u001b[0m rem_deg \u001b[38;5;241m=\u001b[39m \u001b[38;5;28mself\u001b[39m\u001b[38;5;241m.\u001b[39mremaining_degree\n\u001b[1;32m    821\u001b[0m \u001b[38;5;28;01mwhile\u001b[39;00m \u001b[38;5;28msum\u001b[39m(rem_deg\u001b[38;5;241m.\u001b[39mvalues()) \u001b[38;5;241m>\u001b[39m\u001b[38;5;241m=\u001b[39m \u001b[38;5;241m2\u001b[39m \u001b[38;5;241m*\u001b[39m \u001b[38;5;28mself\u001b[39m\u001b[38;5;241m.\u001b[39mdmax\u001b[38;5;241m*\u001b[39m\u001b[38;5;241m*\u001b[39m\u001b[38;5;241m2\u001b[39m:\n\u001b[0;32m--> 822\u001b[0m     u, v \u001b[38;5;241m=\u001b[39m \u001b[38;5;28msorted\u001b[39m(\u001b[43mrandom_weighted_sample\u001b[49m\u001b[43m(\u001b[49m\u001b[43mrem_deg\u001b[49m\u001b[43m,\u001b[49m\u001b[43m \u001b[49m\u001b[38;5;241;43m2\u001b[39;49m\u001b[43m,\u001b[49m\u001b[43m \u001b[49m\u001b[38;5;28;43mself\u001b[39;49m\u001b[38;5;241;43m.\u001b[39;49m\u001b[43mrng\u001b[49m\u001b[43m)\u001b[49m)\n\u001b[1;32m    823\u001b[0m     \u001b[38;5;28;01mif\u001b[39;00m \u001b[38;5;28mself\u001b[39m\u001b[38;5;241m.\u001b[39mgraph\u001b[38;5;241m.\u001b[39mhas_edge(u, v):\n\u001b[1;32m    824\u001b[0m         \u001b[38;5;28;01mcontinue\u001b[39;00m\n",
      "File \u001b[0;32m<class 'networkx.utils.decorators.argmap'> compilation 12:4\u001b[0m, in \u001b[0;36margmap_random_weighted_sample_9\u001b[0;34m(mapping, k, seed)\u001b[0m\n\u001b[1;32m      2\u001b[0m \u001b[38;5;28;01mimport\u001b[39;00m \u001b[38;5;21;01mcollections\u001b[39;00m\n\u001b[1;32m      3\u001b[0m \u001b[38;5;28;01mimport\u001b[39;00m \u001b[38;5;21;01mgzip\u001b[39;00m\n\u001b[0;32m----> 4\u001b[0m \u001b[38;5;28;01mimport\u001b[39;00m \u001b[38;5;21;01minspect\u001b[39;00m\n\u001b[1;32m      5\u001b[0m \u001b[38;5;28;01mimport\u001b[39;00m \u001b[38;5;21;01mitertools\u001b[39;00m\n\u001b[1;32m      6\u001b[0m \u001b[38;5;28;01mimport\u001b[39;00m \u001b[38;5;21;01mre\u001b[39;00m\n",
      "File \u001b[0;32m~/venv2022/lib/python3.8/site-packages/networkx/utils/random_sequence.py:149\u001b[0m, in \u001b[0;36mrandom_weighted_sample\u001b[0;34m(mapping, k, seed)\u001b[0m\n\u001b[1;32m    147\u001b[0m sample \u001b[38;5;241m=\u001b[39m \u001b[38;5;28mset\u001b[39m()\n\u001b[1;32m    148\u001b[0m \u001b[38;5;28;01mwhile\u001b[39;00m \u001b[38;5;28mlen\u001b[39m(sample) \u001b[38;5;241m<\u001b[39m k:\n\u001b[0;32m--> 149\u001b[0m     sample\u001b[38;5;241m.\u001b[39madd(\u001b[43mweighted_choice\u001b[49m\u001b[43m(\u001b[49m\u001b[43mmapping\u001b[49m\u001b[43m,\u001b[49m\u001b[43m \u001b[49m\u001b[43mseed\u001b[49m\u001b[43m)\u001b[49m)\n\u001b[1;32m    150\u001b[0m \u001b[38;5;28;01mreturn\u001b[39;00m \u001b[38;5;28mlist\u001b[39m(sample)\n",
      "File \u001b[0;32m<class 'networkx.utils.decorators.argmap'> compilation 16:4\u001b[0m, in \u001b[0;36margmap_weighted_choice_13\u001b[0;34m(mapping, seed)\u001b[0m\n\u001b[1;32m      2\u001b[0m \u001b[38;5;28;01mimport\u001b[39;00m \u001b[38;5;21;01mcollections\u001b[39;00m\n\u001b[1;32m      3\u001b[0m \u001b[38;5;28;01mimport\u001b[39;00m \u001b[38;5;21;01mgzip\u001b[39;00m\n\u001b[0;32m----> 4\u001b[0m \u001b[38;5;28;01mimport\u001b[39;00m \u001b[38;5;21;01minspect\u001b[39;00m\n\u001b[1;32m      5\u001b[0m \u001b[38;5;28;01mimport\u001b[39;00m \u001b[38;5;21;01mitertools\u001b[39;00m\n\u001b[1;32m      6\u001b[0m \u001b[38;5;28;01mimport\u001b[39;00m \u001b[38;5;21;01mre\u001b[39;00m\n",
      "File \u001b[0;32m~/venv2022/lib/python3.8/site-packages/networkx/utils/random_sequence.py:163\u001b[0m, in \u001b[0;36mweighted_choice\u001b[0;34m(mapping, seed)\u001b[0m\n\u001b[1;32m    161\u001b[0m \u001b[38;5;28;01mfor\u001b[39;00m k, w \u001b[38;5;129;01min\u001b[39;00m mapping\u001b[38;5;241m.\u001b[39mitems():\n\u001b[1;32m    162\u001b[0m     rnd \u001b[38;5;241m-\u001b[39m\u001b[38;5;241m=\u001b[39m w\n\u001b[0;32m--> 163\u001b[0m     \u001b[38;5;28;01mif\u001b[39;00m \u001b[43mrnd\u001b[49m\u001b[43m \u001b[49m\u001b[38;5;241;43m<\u001b[39;49m\u001b[43m \u001b[49m\u001b[38;5;241;43m0\u001b[39;49m:\n\u001b[1;32m    164\u001b[0m         \u001b[38;5;28;01mreturn\u001b[39;00m k\n",
      "\u001b[0;31mKeyboardInterrupt\u001b[0m: "
     ]
    }
   ],
   "source": [
    "G_degree_preserving = nx.random_degree_sequence_graph(dg, seed=42)"
   ]
  },
  {
   "cell_type": "code",
   "execution_count": 48,
   "metadata": {},
   "outputs": [],
   "source": [
    "# Example usage\n",
    "\n",
    "# Start Dask client\n",
    "client = Client()\n",
    "\n",
    "k_dict_parallel_model = rca.calculate_rich_club_coefficients(indegrees)\n",
    "k_dict_parallel_dd = rca_dd.calculate_rich_club_coefficients(indegrees_dd)\n",
    "k_dict_parallel_er = rca_er.calculate_rich_club_coefficients(indegree_er)\n",
    "\n",
    "# Shutdown the Dask client\n",
    "client.shutdown()\n"
   ]
  },
  {
   "cell_type": "code",
   "execution_count": 50,
   "metadata": {},
   "outputs": [
    {
     "data": {
      "image/png": "[encoded data removed]",
      "text/plain": [
       "<Figure size 640x480 with 1 Axes>"
      ]
     },
     "metadata": {},
     "output_type": "display_data"
    }
   ],
   "source": [
    "plt.plot(k_dict_parallel_model.keys(),k_dict_parallel_model.values())\n",
    "plt.plot(k_dict_parallel_dd.keys(),k_dict_parallel_dd.values())\n",
    "plt.plot(k_dict_parallel_er.keys(),k_dict_parallel_er.values())\n",
    "\n",
    "plt.title('Rich Club Coefficients for slice10 connectome')\n",
    "plt.xlabel('k')\n",
    "plt.ylabel('Coefficient')\n",
    "plt.legend(['CA1 slice','distance-dependent random model','ER Model'])\n",
    "plt.savefig(f\"../output/rich_club_directed_indegree.png\", dpi=dpi, bbox_inches='tight')"
   ]
  },
  {
   "cell_type": "code",
   "execution_count": null,
   "metadata": {},
   "outputs": [],
   "source": [
    "plt.plot(k_dict_parallel_model.keys(),k_dict_parallel_model.values())\n",
    "plt.plot(k_dict_parallel_dd.keys(),k_dict_parallel_dd.values())\n",
    "plt.plot(k_dict_parallel_er.keys(),k_dict_parallel_er.values())\n",
    "\n",
    "plt.title('Rich Club Coefficients for slice10 connectome')\n",
    "plt.xlabel('k')\n",
    "plt.ylabel('Coefficient')\n",
    "plt.legend(['CA1 slice','distance-dependent random model','ER Model'])\n",
    "plt.savefig(f\"../output/rich_club_directed_indegree.png\", dpi=dpi, bbox_inches='tight')"
   ]
  },
  {
   "cell_type": "code",
   "execution_count": null,
   "metadata": {},
   "outputs": [],
   "source": [
    "# rc for indegree for synaptome \n",
    "rca = RichClubAnalysis(target_connectome)\n",
    "\n",
    "\n",
    "\n",
    "\n",
    "\n",
    "\n",
    "# Example usage\n",
    "\n",
    "# Start Dask client\n",
    "client = Client()\n",
    "\n",
    "k_dict_parallel_model = rca.calculate_rich_club_coefficients(indegrees)\n",
    "k_dict_parallel_dd = rca_dd.calculate_rich_club_coefficients(indegrees_dd)\n",
    "k_dict_parallel_er = rca_er.calculate_rich_club_coefficients(indegree_er)\n",
    "\n",
    "# Shutdown the Dask client\n",
    "client.shutdown()\n",
    "\n",
    "\n",
    "\n",
    "plt.plot(k_dict_parallel_model.keys(),k_dict_parallel_model.values())\n",
    "plt.plot(k_dict_parallel_dd.keys(),k_dict_parallel_dd.values())\n",
    "plt.plot(k_dict_parallel_er.keys(),k_dict_parallel_er.values())\n",
    "\n",
    "plt.title('Rich Club Coefficients for slice10 connectome')\n",
    "plt.xlabel('k')\n",
    "plt.ylabel('Coefficient')\n",
    "plt.legend(['CA1 slice','distance-dependent random model','ER Model'])\n",
    "plt.savefig(f\"../output/rich_club_directed_indegree.png\", dpi=dpi, bbox_inches='tight')\n"
   ]
  },
  {
   "cell_type": "code",
   "execution_count": 41,
   "metadata": {},
   "outputs": [
    {
     "data": {
      "image/png": "[encoded data removed]",
      "text/plain": [
       "<Figure size 640x480 with 1 Axes>"
      ]
     },
     "metadata": {},
     "output_type": "display_data"
    }
   ],
   "source": [
    "plt.plot(k_dict_parallel_model.keys(),k_dict_parallel_model.values())\n",
    "plt.plot(k_dict_parallel_dd.keys(),k_dict_parallel_dd.values())\n",
    "\n",
    "plt.title('Rich Club Coefficients for slice10')\n",
    "plt.xlabel('k')\n",
    "plt.ylabel('Coefficient')\n",
    "plt.legend(['CA1 slice','distance-dependent random model'])\n",
    "plt.savefig(f\"../output/rich_club_directed_indegree.png\", dpi=dpi, bbox_inches='tight')"
   ]
  },
  {
   "cell_type": "code",
   "execution_count": null,
   "metadata": {},
   "outputs": [],
   "source": [
    "# rc for total-degree for connectome \n"
   ]
  },
  {
   "cell_type": "code",
   "execution_count": null,
   "metadata": {},
   "outputs": [],
   "source": [
    "# rc for total-degree for synaptome \n"
   ]
  }
 ],
 "metadata": {
  "kernelspec": {
   "display_name": "venv2022",
   "language": "python",
   "name": "venv2022"
  },
  "language_info": {
   "codemirror_mode": {
    "name": "ipython",
    "version": 3
   },
   "file_extension": ".py",
   "mimetype": "text/x-python",
   "name": "python",
   "nbconvert_exporter": "python",
   "pygments_lexer": "ipython3",
   "version": "3.8.3"
  },
  "vscode": {
   "interpreter": {
    "hash": "4e7fcdc16c37278aa1aa2d217ebf3b3a1502b965886d3da577692cfb83477afa"
   }
  }
 },
 "nbformat": 4,
 "nbformat_minor": 4
}
