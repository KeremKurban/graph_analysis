{
 "cells": [
  {
   "cell_type": "markdown",
   "metadata": {},
   "source": [
    "# Replicate Fig7D from Rees et al 2016\n"
   ]
  },
  {
   "cell_type": "code",
   "execution_count": 1,
   "metadata": {},
   "outputs": [],
   "source": [
    "# from igraph import *\n",
    "# from bluepy.enums import Cell\n",
    "from scipy import sparse\n",
    "import bluepy\n",
    "from tqdm import tqdm\n",
    "import numpy as np\n",
    "import pandas as pd\n",
    "import matplotlib.pyplot as plt\n",
    "import os\n",
    "import sys\n",
    "import logging\n",
    "from graph_analysis.triplets import MotifReader, CA1MotifCalculator\n",
    "\n",
    "import networkx as nx\n",
    "from dotmotif import Motif, GrandIsoExecutor\n",
    "from graph_analysis import triplets"
   ]
  },
  {
   "cell_type": "code",
   "execution_count": 2,
   "metadata": {},
   "outputs": [],
   "source": [
    "all_motifs = ['-C','-B','-A','A','B','C','D','E','F','G','H','I','J','K','L','M']\n",
    "save_dir = '../../output/triplets'\n",
    "nodeset = 'cylinder300'"
   ]
  },
  {
   "cell_type": "code",
   "execution_count": 3,
   "metadata": {},
   "outputs": [],
   "source": [
    "complex_motif = Motif(\"\"\"\n",
    "# One-direction edge\n",
    "uniedge(n, m) {\n",
    "    n -> m\n",
    "    m !> n\n",
    "}\n",
    "\n",
    "# One-direction triangle\n",
    "unitriangle(x, y, z) {\n",
    "    uniedge(x, y)\n",
    "    uniedge(y, z)\n",
    "    uniedge(z, x)\n",
    "}\n",
    "\n",
    "unitriangle(A, B, C)\n",
    "\"\"\") # specific case not like motif2 where edges can also be biedge/uniedge"
   ]
  },
  {
   "cell_type": "code",
   "execution_count": 4,
   "metadata": {},
   "outputs": [],
   "source": [
    "file_path = '/gpfs/bbp.cscs.ch/project/proj142/home/kurban/GNNplayground/notebooks/cylinder300_synaptome.npz'\n",
    "target_adj = sparse.load_npz(file_path)"
   ]
  },
  {
   "cell_type": "code",
   "execution_count": 5,
   "metadata": {},
   "outputs": [],
   "source": [
    "from bluepysnap import Circuit\n",
    "\n",
    "c = Circuit('/gpfs/bbp.cscs.ch/project/proj112/circuits/CA1/20211110-BioM/sonata/circuit_config.json')\n",
    "nodes = c.nodes['hippocampus_neurons']"
   ]
  },
  {
   "cell_type": "code",
   "execution_count": 72,
   "metadata": {},
   "outputs": [
    {
     "data": {
      "text/plain": [
       "dict_keys(['All', 'Excitatory', 'Cylinder300', 'Inhibitory', 'SLM_PPA', 'SO_BP', 'SO_BS', 'SO_OLM', 'SO_Tri', 'SP_AA', 'SP_BS', 'SP_CCKBC', 'SP_Ivy', 'SP_PC', 'SP_PVBC', 'SR_SCA', 'bAC', 'cAC', 'cACpyr', 'cNAC', 'SLM', 'SO', 'SP', 'SR', 'BC', 'BS', 'CCK', 'PV', 'SOM', 'SP_INT', 'nonCCK', 'slice21', 'slice36', 'slice40', 'cylinder300_exc', 'slice8', 'slice41', 'slice4', 'target_single', 'slice33', 'cylinder300_inh', 'slice32', 'slice42', 'slice10', 'cylinder397485r300', 'Mosaic', 'slice19', 'cylinder253803r300', 'slice2', 'slice6', 'slice39', 'CA3_SP_PC', 'source_single', 'slice30', 'slice46', 'slice25', 'slice34', 'slice15', 'cylinder299049r300', 'slice12', 'cylinder300', 'slice16', 'slice27', 'cylinder109262r300', 'slice43', 'slice0', 'cylinder269358r300', 'slice26', 'CB1R_pos', 'slice14', 'slice7', 'source_cyl_unique', 'slice22', 'slice44', 'slice45', 'cylinder128660r300', 'slice38', 'slice37', 'slice29', 'slice28', 'cylinder329179r300', 'slice18', 'slice17', 'slice20', 'cylinders', 'slice35', '100_per_mtype', 'target_cyl_unique', 'LFPCompartments', 'CB1R_neg', 'slice24', 'slice5', 'cylinders300', 'slice23', 'destination_single', 'slice9', 'cylinder216679r300', 'slice11', 'slice400um', 'destination_cyl_unique', 'cylinder297714r300', 'slice13', 'slice3', 'slice31', 'slice1'])"
      ]
     },
     "execution_count": 72,
     "metadata": {},
     "output_type": "execute_result"
    }
   ],
   "source": [
    "c.node_sets.content.keys()"
   ]
  },
  {
   "cell_type": "code",
   "execution_count": 6,
   "metadata": {},
   "outputs": [],
   "source": [
    "nodeset_ids = nodes.ids(nodeset)"
   ]
  },
  {
   "cell_type": "code",
   "execution_count": 24,
   "metadata": {},
   "outputs": [],
   "source": [
    "check_mtypes = ['Inhibitory','Inhibitory','Inhibitory']"
   ]
  },
  {
   "cell_type": "code",
   "execution_count": 25,
   "metadata": {},
   "outputs": [],
   "source": [
    "assert len(np.unique(check_mtypes)) == 1"
   ]
  },
  {
   "cell_type": "code",
   "execution_count": 18,
   "metadata": {},
   "outputs": [],
   "source": [
    "nodeset_subids = np.intersect1d(nodeset_ids,nodes.ids('Inhibitory')) # to be changed for each, union operator if multiple mtypes"
   ]
  },
  {
   "cell_type": "code",
   "execution_count": 19,
   "metadata": {},
   "outputs": [],
   "source": [
    "local_indices_selected = np.where(np.isin(nodeset_ids,nodeset_subids))[0] # indices inside nodeset indices"
   ]
  },
  {
   "cell_type": "code",
   "execution_count": 20,
   "metadata": {},
   "outputs": [],
   "source": [
    "subset_adj = target_adj[local_indices_selected,:][:,local_indices_selected]"
   ]
  },
  {
   "cell_type": "code",
   "execution_count": 21,
   "metadata": {},
   "outputs": [],
   "source": [
    "subset_adj[subset_adj>1] = 1  # connectome"
   ]
  },
  {
   "cell_type": "code",
   "execution_count": 22,
   "metadata": {},
   "outputs": [],
   "source": [
    "target_graph = nx.from_scipy_sparse_array(subset_adj,create_using=nx.DiGraph())"
   ]
  },
  {
   "cell_type": "code",
   "execution_count": 23,
   "metadata": {},
   "outputs": [],
   "source": [
    "Executor = GrandIsoExecutor(graph=target_graph)"
   ]
  },
  {
   "cell_type": "code",
   "execution_count": 26,
   "metadata": {
    "collapsed": true,
    "jupyter": {
     "outputs_hidden": true
    }
   },
   "outputs": [
    {
     "name": "stderr",
     "output_type": "stream",
     "text": [
      "  0%|          | 0/16 [00:00<?, ?it/s]INFO:root:Running motif calculation for cylinder300 of motif -C of ['Inhibitory', 'Inhibitory', 'Inhibitory']...\n",
      "INFO:root:Running motif calculation for cylinder300 of motif -B of ['Inhibitory', 'Inhibitory', 'Inhibitory']...\n",
      "INFO:root:\n",
      "[[0 1 0]\n",
      " [0 0 0]\n",
      " [0 0 0]] \n",
      "\n",
      " dotmotif:\n",
      "A -> B\n",
      "\n",
      "\n",
      " 12%|█▎        | 2/16 [00:00<00:04,  2.96it/s]INFO:root:Running motif calculation for cylinder300 of motif -A of ['Inhibitory', 'Inhibitory', 'Inhibitory']...\n",
      "INFO:root:\n",
      "[[0 1 0]\n",
      " [1 0 0]\n",
      " [0 0 0]] \n",
      "\n",
      " dotmotif:\n",
      "A -> B\n",
      "B -> A\n",
      "\n",
      "\n",
      " 19%|█▉        | 3/16 [00:01<00:04,  2.73it/s]INFO:root:Running motif calculation for cylinder300 of motif A of ['Inhibitory', 'Inhibitory', 'Inhibitory']...\n",
      "INFO:root:\n",
      "[[0 0 0]\n",
      " [1 0 0]\n",
      " [1 0 0]] \n",
      "\n",
      " dotmotif:\n",
      "B -> A\n",
      "C -> A\n",
      "\n",
      "\n",
      " 25%|██▌       | 4/16 [04:23<19:36, 98.07s/it]INFO:root:Running motif calculation for cylinder300 of motif B of ['Inhibitory', 'Inhibitory', 'Inhibitory']...\n",
      "INFO:root:\n",
      "[[0 0 0]\n",
      " [1 0 0]\n",
      " [0 1 0]] \n",
      "\n",
      " dotmotif:\n",
      "B -> A\n",
      "C -> B\n",
      "\n",
      "\n",
      " 31%|███▏      | 5/16 [07:59<25:31, 139.24s/it]INFO:root:Running motif calculation for cylinder300 of motif C of ['Inhibitory', 'Inhibitory', 'Inhibitory']...\n",
      "INFO:root:\n",
      "[[0 0 0]\n",
      " [1 0 1]\n",
      " [0 0 0]] \n",
      "\n",
      " dotmotif:\n",
      "B -> A\n",
      "B -> C\n",
      "\n",
      "\n",
      " 38%|███▊      | 6/16 [09:51<21:41, 130.16s/it]INFO:root:Running motif calculation for cylinder300 of motif D of ['Inhibitory', 'Inhibitory', 'Inhibitory']...\n",
      "INFO:root:\n",
      "[[0 1 0]\n",
      " [1 0 0]\n",
      " [1 0 0]] \n",
      "\n",
      " dotmotif:\n",
      "A -> B\n",
      "B -> A\n",
      "C -> A\n",
      "\n",
      "\n",
      " 44%|████▍     | 7/16 [11:42<18:36, 124.01s/it]INFO:root:Running motif calculation for cylinder300 of motif E of ['Inhibitory', 'Inhibitory', 'Inhibitory']...\n",
      "INFO:root:\n",
      "[[0 0 0]\n",
      " [1 0 0]\n",
      " [1 1 0]] \n",
      "\n",
      " dotmotif:\n",
      "B -> A\n",
      "C -> A\n",
      "C -> B\n",
      "\n",
      "\n",
      " 50%|█████     | 8/16 [13:17<15:19, 114.93s/it]INFO:root:Running motif calculation for cylinder300 of motif F of ['Inhibitory', 'Inhibitory', 'Inhibitory']...\n",
      "INFO:root:\n",
      "[[0 1 1]\n",
      " [1 0 0]\n",
      " [0 0 0]] \n",
      "\n",
      " dotmotif:\n",
      "A -> B\n",
      "A -> C\n",
      "B -> A\n",
      "\n",
      "\n",
      " 56%|█████▋    | 9/16 [14:14<11:17, 96.77s/it] INFO:root:Running motif calculation for cylinder300 of motif G of ['Inhibitory', 'Inhibitory', 'Inhibitory']...\n",
      "INFO:root:\n",
      "[[0 0 1]\n",
      " [1 0 0]\n",
      " [0 1 0]] \n",
      "\n",
      " dotmotif:\n",
      "A -> C\n",
      "B -> A\n",
      "C -> B\n",
      "\n",
      "\n",
      " 62%|██████▎   | 10/16 [14:53<07:55, 79.21s/it]INFO:root:Running motif calculation for cylinder300 of motif H of ['Inhibitory', 'Inhibitory', 'Inhibitory']...\n",
      "INFO:root:\n",
      "[[0 1 0]\n",
      " [1 0 0]\n",
      " [1 1 0]] \n",
      "\n",
      " dotmotif:\n",
      "A -> B\n",
      "B -> A\n",
      "C -> A\n",
      "C -> B\n",
      "\n",
      "\n",
      " 69%|██████▉   | 11/16 [15:48<05:59, 71.83s/it]INFO:root:Running motif calculation for cylinder300 of motif I of ['Inhibitory', 'Inhibitory', 'Inhibitory']...\n",
      "INFO:root:\n",
      "[[0 1 1]\n",
      " [1 0 0]\n",
      " [1 0 0]] \n",
      "\n",
      " dotmotif:\n",
      "A -> B\n",
      "A -> C\n",
      "B -> A\n",
      "C -> A\n",
      "\n",
      "\n",
      " 75%|███████▌  | 12/16 [16:17<03:55, 58.86s/it]INFO:root:Running motif calculation for cylinder300 of motif J of ['Inhibitory', 'Inhibitory', 'Inhibitory']...\n",
      "INFO:root:\n",
      "[[0 1 0]\n",
      " [1 0 1]\n",
      " [1 0 0]] \n",
      "\n",
      " dotmotif:\n",
      "A -> B\n",
      "B -> A\n",
      "B -> C\n",
      "C -> A\n",
      "\n",
      "\n",
      " 81%|████████▏ | 13/16 [16:44<02:27, 49.19s/it]INFO:root:Running motif calculation for cylinder300 of motif K of ['Inhibitory', 'Inhibitory', 'Inhibitory']...\n",
      "INFO:root:\n",
      "[[0 0 0]\n",
      " [1 0 1]\n",
      " [1 1 0]] \n",
      "\n",
      " dotmotif:\n",
      "B -> A\n",
      "B -> C\n",
      "C -> A\n",
      "C -> B\n",
      "\n",
      "\n",
      " 88%|████████▊ | 14/16 [17:15<01:26, 43.48s/it]INFO:root:Running motif calculation for cylinder300 of motif L of ['Inhibitory', 'Inhibitory', 'Inhibitory']...\n",
      "INFO:root:\n",
      "[[0 1 1]\n",
      " [1 0 0]\n",
      " [1 1 0]] \n",
      "\n",
      " dotmotif:\n",
      "A -> B\n",
      "A -> C\n",
      "B -> A\n",
      "C -> A\n",
      "C -> B\n",
      "\n",
      "\n",
      " 94%|█████████▍| 15/16 [17:34<00:36, 36.09s/it]INFO:root:Running motif calculation for cylinder300 of motif M of ['Inhibitory', 'Inhibitory', 'Inhibitory']...\n",
      "INFO:root:\n",
      "[[0 1 1]\n",
      " [1 0 1]\n",
      " [1 1 0]] \n",
      "\n",
      " dotmotif:\n",
      "A -> B\n",
      "A -> C\n",
      "B -> A\n",
      "B -> C\n",
      "C -> A\n",
      "C -> B\n",
      "\n",
      "\n",
      "100%|██████████| 16/16 [17:47<00:00, 66.74s/it]\n"
     ]
    }
   ],
   "source": [
    "frequencies_inh = {}\n",
    "motif_reader = triplets.MotifReader()\n",
    "reader = triplets.DotMotifReader()\n",
    "\n",
    "for motif_name in tqdm(all_motifs):\n",
    "    logging.info(f\"Running motif calculation for {nodeset} of motif {motif_name} of {check_mtypes}...\")\n",
    "    CM = motif_reader.name_to_matrix(motif_name)\n",
    "    cur_triplet_motif = reader.matrix_to_dotmotif(CM)\n",
    "    if cur_triplet_motif == '':\n",
    "        continue\n",
    "    else:\n",
    "        logging.info(f\"\\n{CM} \\n\\n dotmotif:\\n{cur_triplet_motif}\\n\\n\")\n",
    "        cur_triplet_motif = Motif(cur_triplet_motif)\n",
    "\n",
    "    cur_results = Executor.find(cur_triplet_motif)\n",
    "    frequencies_inh[motif_name] = cur_results"
   ]
  },
  {
   "cell_type": "code",
   "execution_count": 33,
   "metadata": {},
   "outputs": [
    {
     "name": "stdout",
     "output_type": "stream",
     "text": [
      "-C not in frequencies\n"
     ]
    }
   ],
   "source": [
    "#SAVE \n",
    "\n",
    "target_motifs_inh = {}\n",
    "for i in all_motifs:\n",
    "    try:\n",
    "        cur_occurences = len(frequencies_inh[i])\n",
    "        target_motifs_inh[i] = cur_occurences\n",
    "    except:\n",
    "        print(f'{i} not in frequencies')\n",
    "        target_motifs_inh[i] = -1"
   ]
  },
  {
   "cell_type": "code",
   "execution_count": 70,
   "metadata": {},
   "outputs": [],
   "source": [
    "import pickle \n",
    "\n",
    "with open(f'{save_dir}/inhibitory_triplets_{nodeset}.pkl','wb') as f:\n",
    "    pickle.dump(frequencies_inh,f)"
   ]
  },
  {
   "cell_type": "code",
   "execution_count": 34,
   "metadata": {},
   "outputs": [
    {
     "data": {
      "text/plain": [
       "{'-C': -1,\n",
       " '-B': 82212,\n",
       " '-A': 35082,\n",
       " 'A': 12027662,\n",
       " 'B': 11167323,\n",
       " 'C': 12414160,\n",
       " 'D': 5177842,\n",
       " 'E': 4660246,\n",
       " 'F': 5370309,\n",
       " 'G': 3623334,\n",
       " 'H': 2507828,\n",
       " 'I': 2493918,\n",
       " 'J': 2198322,\n",
       " 'K': 2535490,\n",
       " 'L': 1370615,\n",
       " 'M': 877944}"
      ]
     },
     "execution_count": 34,
     "metadata": {},
     "output_type": "execute_result"
    }
   ],
   "source": [
    "target_motifs_inh"
   ]
  },
  {
   "cell_type": "code",
   "execution_count": 54,
   "metadata": {},
   "outputs": [],
   "source": [
    "target_motifs_exc = {'-C': -1,\n",
    " '-B': 555057,\n",
    " '-A': 10738,\n",
    " 'A': 75188930,\n",
    " 'B': 48277113,\n",
    " 'C': 72068488,\n",
    " 'D': 1170657,\n",
    " 'E': 3339580,\n",
    " 'F': 1285219,\n",
    " 'G': 391599,\n",
    " 'H': 107978,\n",
    " 'I': 31840,\n",
    " 'J': 33708,\n",
    " 'K': 103664,\n",
    " 'L': 2534,\n",
    " 'M': 156}"
   ]
  },
  {
   "cell_type": "markdown",
   "metadata": {},
   "source": [
    "# CA1 PYR:INT"
   ]
  },
  {
   "cell_type": "code",
   "execution_count": 55,
   "metadata": {},
   "outputs": [],
   "source": [
    "# nodeset_subids = np.intersect1d(nodeset_ids,nodes.ids('INT')) # to be changed for each, union operator if multiple mtypes\n",
    "# local_indices_selected = np.where(np.isin(nodeset_ids,nodeset_subids))[0] # indices inside nodeset indices\n",
    "# subset_adj = target_adj[local_indices_selected,:][:,local_indices_selected]\n",
    "# subset_adj[subset_adj>1] = 1  # connectome\n",
    "# target_graph = nx.from_scipy_sparse_array(subset_adj,create_using=nx.DiGraph())\n",
    "# Executor = GrandIsoExecutor(graph=target_graph)"
   ]
  },
  {
   "cell_type": "code",
   "execution_count": 56,
   "metadata": {},
   "outputs": [],
   "source": [
    "# frequencies_inh = {}\n",
    "\n",
    "# for motif_name in tqdm(all_motifs):\n",
    "#     logging.info(f\"Running motif calculation for {nodeset} of motif {motif_name} of {check_mtypes}...\")\n",
    "#     CM = motif_reader.name_to_matrix(motif_name)\n",
    "#     cur_triplet_motif = reader.matrix_to_dotmotif(CM)\n",
    "#     if cur_triplet_motif == '':\n",
    "#         continue\n",
    "#     else:\n",
    "#         logging.info(f\"\\n{CM} \\n\\n dotmotif:\\n{cur_triplet_motif}\\n\\n\")\n",
    "#         cur_triplet_motif = Motif(cur_triplet_motif)\n",
    "\n",
    "#     cur_results = Executor.find(cur_triplet_motif)\n",
    "#     frequencies_inh[motif_name] = cur_results"
   ]
  },
  {
   "cell_type": "code",
   "execution_count": 57,
   "metadata": {},
   "outputs": [],
   "source": [
    "# check_mtypes = ['SP_PC','SP_PC','SP_PC']\n",
    "# compare_to = ['INT','INT','INT']\n",
    "\n",
    "\n",
    "# target_motifs_exc = {}\n",
    "# target_motifs_inh = {}\n",
    "\n",
    "# for motif_name in tqdm(all_motifs):\n",
    "#     logging.info(f\"Running motif calculation for {target} of motif {motif_name} of {check_mtypes}...\")\n",
    "#     motif_reader = MotifReader()\n",
    "#     CM = motif_reader.name_to_matrix(motif_name)\n",
    "#     # logging.info(f\"Motif matrix:\\n{CM}\")\n",
    "# #     calculator = CA1MotifCalculator(target,check_mtypes, CM)\n",
    "# #     num_motifs = calculator.count_motifs()  # proj samples not used for local computations\n",
    "    \n",
    "\n",
    "# #     logging.info(f\"Running motif calculation for {target} of motif {motif_name} of {compare_to}...\")\n",
    "\n",
    "#     calculator2 = CA1MotifCalculator(target,compare_to, CM)\n",
    "#     num_motifs2 = calculator2.count_motifs()  # proj samples not used for local computations\n",
    "\n",
    "#     target_motifs_exc[motif_name] = num_motifs\n",
    "#     target_motifs_inh[motif_name] = num_motifs2"
   ]
  },
  {
   "cell_type": "code",
   "execution_count": 59,
   "metadata": {},
   "outputs": [],
   "source": [
    "df1 = pd.DataFrame.from_dict(target_motifs_exc, orient='index',columns=[f'{nodeset}_EXC'])\n",
    "df2 = pd.DataFrame.from_dict(target_motifs_inh, orient='index',columns=[f'{nodeset}_INH'])\n",
    "\n",
    "df_ei = pd.concat([df1,df2],axis=1)"
   ]
  },
  {
   "cell_type": "code",
   "execution_count": 60,
   "metadata": {},
   "outputs": [],
   "source": [
    "df_ei['ratio'] = df_ei[f'{nodeset}_EXC']/df_ei[f'{nodeset}_INH']"
   ]
  },
  {
   "cell_type": "code",
   "execution_count": 61,
   "metadata": {},
   "outputs": [
    {
     "data": {
      "text/html": [
       "<div>\n",
       "<style scoped>\n",
       "    .dataframe tbody tr th:only-of-type {\n",
       "        vertical-align: middle;\n",
       "    }\n",
       "\n",
       "    .dataframe tbody tr th {\n",
       "        vertical-align: top;\n",
       "    }\n",
       "\n",
       "    .dataframe thead th {\n",
       "        text-align: right;\n",
       "    }\n",
       "</style>\n",
       "<table border=\"1\" class=\"dataframe\">\n",
       "  <thead>\n",
       "    <tr style=\"text-align: right;\">\n",
       "      <th></th>\n",
       "      <th>cylinder300_EXC</th>\n",
       "      <th>cylinder300_INH</th>\n",
       "      <th>ratio</th>\n",
       "    </tr>\n",
       "  </thead>\n",
       "  <tbody>\n",
       "    <tr>\n",
       "      <th>-C</th>\n",
       "      <td>-1</td>\n",
       "      <td>-1</td>\n",
       "      <td>1.000000</td>\n",
       "    </tr>\n",
       "    <tr>\n",
       "      <th>-B</th>\n",
       "      <td>555057</td>\n",
       "      <td>82212</td>\n",
       "      <td>6.751533</td>\n",
       "    </tr>\n",
       "    <tr>\n",
       "      <th>-A</th>\n",
       "      <td>10738</td>\n",
       "      <td>35082</td>\n",
       "      <td>0.306083</td>\n",
       "    </tr>\n",
       "    <tr>\n",
       "      <th>A</th>\n",
       "      <td>75188930</td>\n",
       "      <td>12027662</td>\n",
       "      <td>6.251334</td>\n",
       "    </tr>\n",
       "    <tr>\n",
       "      <th>B</th>\n",
       "      <td>48277113</td>\n",
       "      <td>11167323</td>\n",
       "      <td>4.323069</td>\n",
       "    </tr>\n",
       "    <tr>\n",
       "      <th>C</th>\n",
       "      <td>72068488</td>\n",
       "      <td>12414160</td>\n",
       "      <td>5.805346</td>\n",
       "    </tr>\n",
       "    <tr>\n",
       "      <th>D</th>\n",
       "      <td>1170657</td>\n",
       "      <td>5177842</td>\n",
       "      <td>0.226090</td>\n",
       "    </tr>\n",
       "    <tr>\n",
       "      <th>E</th>\n",
       "      <td>3339580</td>\n",
       "      <td>4660246</td>\n",
       "      <td>0.716610</td>\n",
       "    </tr>\n",
       "    <tr>\n",
       "      <th>F</th>\n",
       "      <td>1285219</td>\n",
       "      <td>5370309</td>\n",
       "      <td>0.239319</td>\n",
       "    </tr>\n",
       "    <tr>\n",
       "      <th>G</th>\n",
       "      <td>391599</td>\n",
       "      <td>3623334</td>\n",
       "      <td>0.108077</td>\n",
       "    </tr>\n",
       "    <tr>\n",
       "      <th>H</th>\n",
       "      <td>107978</td>\n",
       "      <td>2507828</td>\n",
       "      <td>0.043056</td>\n",
       "    </tr>\n",
       "    <tr>\n",
       "      <th>I</th>\n",
       "      <td>31840</td>\n",
       "      <td>2493918</td>\n",
       "      <td>0.012767</td>\n",
       "    </tr>\n",
       "    <tr>\n",
       "      <th>J</th>\n",
       "      <td>33708</td>\n",
       "      <td>2198322</td>\n",
       "      <td>0.015334</td>\n",
       "    </tr>\n",
       "    <tr>\n",
       "      <th>K</th>\n",
       "      <td>103664</td>\n",
       "      <td>2535490</td>\n",
       "      <td>0.040885</td>\n",
       "    </tr>\n",
       "    <tr>\n",
       "      <th>L</th>\n",
       "      <td>2534</td>\n",
       "      <td>1370615</td>\n",
       "      <td>0.001849</td>\n",
       "    </tr>\n",
       "    <tr>\n",
       "      <th>M</th>\n",
       "      <td>156</td>\n",
       "      <td>877944</td>\n",
       "      <td>0.000178</td>\n",
       "    </tr>\n",
       "  </tbody>\n",
       "</table>\n",
       "</div>"
      ],
      "text/plain": [
       "    cylinder300_EXC  cylinder300_INH     ratio\n",
       "-C               -1               -1  1.000000\n",
       "-B           555057            82212  6.751533\n",
       "-A            10738            35082  0.306083\n",
       "A          75188930         12027662  6.251334\n",
       "B          48277113         11167323  4.323069\n",
       "C          72068488         12414160  5.805346\n",
       "D           1170657          5177842  0.226090\n",
       "E           3339580          4660246  0.716610\n",
       "F           1285219          5370309  0.239319\n",
       "G            391599          3623334  0.108077\n",
       "H            107978          2507828  0.043056\n",
       "I             31840          2493918  0.012767\n",
       "J             33708          2198322  0.015334\n",
       "K            103664          2535490  0.040885\n",
       "L              2534          1370615  0.001849\n",
       "M               156           877944  0.000178"
      ]
     },
     "execution_count": 61,
     "metadata": {},
     "output_type": "execute_result"
    }
   ],
   "source": [
    "df_ei"
   ]
  },
  {
   "cell_type": "code",
   "execution_count": 62,
   "metadata": {},
   "outputs": [
    {
     "name": "stdout",
     "output_type": "stream",
     "text": [
      "Number of INT cells: 677\n",
      "Number of EXC cells: 5536\n"
     ]
    }
   ],
   "source": [
    "from bluepysnap import Circuit\n",
    "c =Circuit('/gpfs/bbp.cscs.ch/project/proj112/circuits/CA1/20211110-BioM/sonata/circuit_config.json')\n",
    "nodes = c.nodes['hippocampus_neurons']\n",
    "target_nodes = nodes.get(nodeset)\n",
    "\n",
    "# count how many morph_class is INT\n",
    "num_int = target_nodes[target_nodes['morph_class']=='INT'].shape[0]\n",
    "num_exc = target_nodes[target_nodes['morph_class']=='PYR'].shape[0]\n",
    "print(f\"Number of INT cells: {num_int}\")\n",
    "print(f\"Number of EXC cells: {num_exc}\")"
   ]
  },
  {
   "cell_type": "code",
   "execution_count": 63,
   "metadata": {},
   "outputs": [],
   "source": [
    "def max_possible_triplet(num_cells):\n",
    "    return num_cells*(num_cells-1)*(num_cells-2)/6"
   ]
  },
  {
   "cell_type": "code",
   "execution_count": 64,
   "metadata": {},
   "outputs": [],
   "source": [
    "#normalize exc and inh values with max possible values\n",
    "df_ei['ratio_norm'] = df_ei['ratio'] * (max_possible_triplet(num_int) / max_possible_triplet(num_exc))"
   ]
  },
  {
   "cell_type": "code",
   "execution_count": 65,
   "metadata": {},
   "outputs": [
    {
     "data": {
      "text/plain": [
       "'../../output/triplets'"
      ]
     },
     "execution_count": 65,
     "metadata": {},
     "output_type": "execute_result"
    }
   ],
   "source": [
    "save_dir"
   ]
  },
  {
   "cell_type": "code",
   "execution_count": 67,
   "metadata": {},
   "outputs": [],
   "source": [
    "df_ei.to_csv(f'{save_dir}/{nodeset}_triplet_ratios_EI.csv')"
   ]
  },
  {
   "cell_type": "code",
   "execution_count": 68,
   "metadata": {},
   "outputs": [
    {
     "data": {
      "text/html": [
       "<div>\n",
       "<style scoped>\n",
       "    .dataframe tbody tr th:only-of-type {\n",
       "        vertical-align: middle;\n",
       "    }\n",
       "\n",
       "    .dataframe tbody tr th {\n",
       "        vertical-align: top;\n",
       "    }\n",
       "\n",
       "    .dataframe thead th {\n",
       "        text-align: right;\n",
       "    }\n",
       "</style>\n",
       "<table border=\"1\" class=\"dataframe\">\n",
       "  <thead>\n",
       "    <tr style=\"text-align: right;\">\n",
       "      <th></th>\n",
       "      <th>cylinder300_EXC</th>\n",
       "      <th>cylinder300_INH</th>\n",
       "      <th>ratio</th>\n",
       "      <th>ratio_norm</th>\n",
       "    </tr>\n",
       "  </thead>\n",
       "  <tbody>\n",
       "    <tr>\n",
       "      <th>-C</th>\n",
       "      <td>-1</td>\n",
       "      <td>-1</td>\n",
       "      <td>1.000000</td>\n",
       "      <td>1.821740e-03</td>\n",
       "    </tr>\n",
       "    <tr>\n",
       "      <th>-B</th>\n",
       "      <td>555057</td>\n",
       "      <td>82212</td>\n",
       "      <td>6.751533</td>\n",
       "      <td>1.229953e-02</td>\n",
       "    </tr>\n",
       "    <tr>\n",
       "      <th>-A</th>\n",
       "      <td>10738</td>\n",
       "      <td>35082</td>\n",
       "      <td>0.306083</td>\n",
       "      <td>5.576033e-04</td>\n",
       "    </tr>\n",
       "    <tr>\n",
       "      <th>A</th>\n",
       "      <td>75188930</td>\n",
       "      <td>12027662</td>\n",
       "      <td>6.251334</td>\n",
       "      <td>1.138830e-02</td>\n",
       "    </tr>\n",
       "    <tr>\n",
       "      <th>B</th>\n",
       "      <td>48277113</td>\n",
       "      <td>11167323</td>\n",
       "      <td>4.323069</td>\n",
       "      <td>7.875506e-03</td>\n",
       "    </tr>\n",
       "    <tr>\n",
       "      <th>C</th>\n",
       "      <td>72068488</td>\n",
       "      <td>12414160</td>\n",
       "      <td>5.805346</td>\n",
       "      <td>1.057583e-02</td>\n",
       "    </tr>\n",
       "    <tr>\n",
       "      <th>D</th>\n",
       "      <td>1170657</td>\n",
       "      <td>5177842</td>\n",
       "      <td>0.226090</td>\n",
       "      <td>4.118766e-04</td>\n",
       "    </tr>\n",
       "    <tr>\n",
       "      <th>E</th>\n",
       "      <td>3339580</td>\n",
       "      <td>4660246</td>\n",
       "      <td>0.716610</td>\n",
       "      <td>1.305477e-03</td>\n",
       "    </tr>\n",
       "    <tr>\n",
       "      <th>F</th>\n",
       "      <td>1285219</td>\n",
       "      <td>5370309</td>\n",
       "      <td>0.239319</td>\n",
       "      <td>4.359776e-04</td>\n",
       "    </tr>\n",
       "    <tr>\n",
       "      <th>G</th>\n",
       "      <td>391599</td>\n",
       "      <td>3623334</td>\n",
       "      <td>0.108077</td>\n",
       "      <td>1.968881e-04</td>\n",
       "    </tr>\n",
       "    <tr>\n",
       "      <th>H</th>\n",
       "      <td>107978</td>\n",
       "      <td>2507828</td>\n",
       "      <td>0.043056</td>\n",
       "      <td>7.843751e-05</td>\n",
       "    </tr>\n",
       "    <tr>\n",
       "      <th>I</th>\n",
       "      <td>31840</td>\n",
       "      <td>2493918</td>\n",
       "      <td>0.012767</td>\n",
       "      <td>2.325826e-05</td>\n",
       "    </tr>\n",
       "    <tr>\n",
       "      <th>J</th>\n",
       "      <td>33708</td>\n",
       "      <td>2198322</td>\n",
       "      <td>0.015334</td>\n",
       "      <td>2.793367e-05</td>\n",
       "    </tr>\n",
       "    <tr>\n",
       "      <th>K</th>\n",
       "      <td>103664</td>\n",
       "      <td>2535490</td>\n",
       "      <td>0.040885</td>\n",
       "      <td>7.448217e-05</td>\n",
       "    </tr>\n",
       "    <tr>\n",
       "      <th>L</th>\n",
       "      <td>2534</td>\n",
       "      <td>1370615</td>\n",
       "      <td>0.001849</td>\n",
       "      <td>3.368041e-06</td>\n",
       "    </tr>\n",
       "    <tr>\n",
       "      <th>M</th>\n",
       "      <td>156</td>\n",
       "      <td>877944</td>\n",
       "      <td>0.000178</td>\n",
       "      <td>3.237010e-07</td>\n",
       "    </tr>\n",
       "  </tbody>\n",
       "</table>\n",
       "</div>"
      ],
      "text/plain": [
       "    cylinder300_EXC  cylinder300_INH     ratio    ratio_norm\n",
       "-C               -1               -1  1.000000  1.821740e-03\n",
       "-B           555057            82212  6.751533  1.229953e-02\n",
       "-A            10738            35082  0.306083  5.576033e-04\n",
       "A          75188930         12027662  6.251334  1.138830e-02\n",
       "B          48277113         11167323  4.323069  7.875506e-03\n",
       "C          72068488         12414160  5.805346  1.057583e-02\n",
       "D           1170657          5177842  0.226090  4.118766e-04\n",
       "E           3339580          4660246  0.716610  1.305477e-03\n",
       "F           1285219          5370309  0.239319  4.359776e-04\n",
       "G            391599          3623334  0.108077  1.968881e-04\n",
       "H            107978          2507828  0.043056  7.843751e-05\n",
       "I             31840          2493918  0.012767  2.325826e-05\n",
       "J             33708          2198322  0.015334  2.793367e-05\n",
       "K            103664          2535490  0.040885  7.448217e-05\n",
       "L              2534          1370615  0.001849  3.368041e-06\n",
       "M               156           877944  0.000178  3.237010e-07"
      ]
     },
     "execution_count": 68,
     "metadata": {},
     "output_type": "execute_result"
    }
   ],
   "source": [
    "df_ei"
   ]
  },
  {
   "cell_type": "code",
   "execution_count": 69,
   "metadata": {},
   "outputs": [
    {
     "data": {
      "image/png": "[encoded data removed]",
      "text/plain": [
       "<Figure size 1000x500 with 1 Axes>"
      ]
     },
     "metadata": {},
     "output_type": "display_data"
    },
    {
     "data": {
      "image/png": "[encoded data removed]",
      "text/plain": [
       "<Figure size 1000x500 with 1 Axes>"
      ]
     },
     "metadata": {},
     "output_type": "display_data"
    }
   ],
   "source": [
    "chosen_df = df_ei.ratio[3:]\n",
    "chosen_df.plot(figsize=(10,5),title=f'{nodeset} motif ratio')\n",
    "# plot all xticklabels\n",
    "plt.xticks(np.arange(len(df_ei)-3), df_ei.index[3:])\n",
    "# horizontal line at y=1\n",
    "plt.axhline(y=1, color='r', linestyle='-')\n",
    "plt.ylabel('Normalized Ratio')\n",
    "# plt.savefig(f'{save_dir}/{target}_triplet_ratios_EI.png',dpi=300)\n",
    "plt.show()\n",
    "\n",
    "chosen_df.plot(figsize=(10,5),title=f'{nodeset} motif ratio')\n",
    "# plot all xticklabels\n",
    "plt.xticks(np.arange(len(df_ei)-3), df_ei.index[3:])\n",
    "# horizontal line at y=1\n",
    "plt.yscale('log')\n",
    "plt.axhline(y=1, color='r', linestyle='-')\n",
    "plt.ylabel('Normalized Ratio')\n",
    "# plt.savefig(f'{save_dir}/{target}_triplet_ratios_EI_log.png',dpi=300)\n",
    "plt.show()\n"
   ]
  },
  {
   "cell_type": "code",
   "execution_count": null,
   "metadata": {},
   "outputs": [],
   "source": [
    "chosen_df = df_ei.ratio_norm[3:]\n",
    "chosen_df.plot(figsize=(10,5),title=f'{target} motif ratio')\n",
    "# plot all xticklabels\n",
    "plt.xticks(np.arange(len(df_ei)-3), df_ei.index[3:])\n",
    "# horizontal line at y=1\n",
    "plt.axhline(y=1, color='r', linestyle='-')\n",
    "plt.ylabel('Normalized Ratio')\n",
    "plt.show()\n",
    "plt.savefig(f'{save_dir}/{target}_motif_ratio_EI.png')\n",
    "\n",
    "chosen_df.plot(figsize=(10,5),title=f'{target} motif ratio')\n",
    "# plot all xticklabels\n",
    "plt.xticks(np.arange(len(df_ei)-3), df_ei.index[3:])\n",
    "# horizontal line at y=1\n",
    "plt.yscale('log')\n",
    "plt.axhline(y=1, color='r', linestyle='-')\n",
    "plt.ylabel('Normalized Ratio')\n",
    "plt.show()\n"
   ]
  },
  {
   "cell_type": "markdown",
   "metadata": {},
   "source": [
    "# CA1 Perisomatic INT: Distal INT"
   ]
  },
  {
   "cell_type": "code",
   "execution_count": 77,
   "metadata": {},
   "outputs": [],
   "source": [
    "selected_nodesets = ['SP_AA','BC']\n",
    "selected_ids = np.concatenate([nodes.ids(i) for i in selected_nodesets])"
   ]
  },
  {
   "cell_type": "code",
   "execution_count": 79,
   "metadata": {},
   "outputs": [
    {
     "data": {
      "text/plain": [
       "array(['SP_AA', 'SP_CCKBC', 'SP_PVBC'], dtype=object)"
      ]
     },
     "execution_count": 79,
     "metadata": {},
     "output_type": "execute_result"
    }
   ],
   "source": [
    "np.unique(nodes.get(selected_ids).mtype)"
   ]
  },
  {
   "cell_type": "code",
   "execution_count": 80,
   "metadata": {},
   "outputs": [],
   "source": [
    "perisomatic_nodeset_ids = np.intersect1d(nodeset_ids,selected_ids) # to be changed for each, union operator if multiple mtypes\n",
    "local_indices_selected = np.where(np.isin(nodeset_ids,perisomatic_nodeset_ids))[0] # indices inside nodeset indices\n",
    "perisomatic_adj = target_adj[local_indices_selected,:][:,local_indices_selected]\n",
    "perisomatic_adj[perisomatic_adj>1] = 1  # connectome\n",
    "perisomatic_target_graph = nx.from_scipy_sparse_array(perisomatic_adj,create_using=nx.DiGraph())\n",
    "Executor = GrandIsoExecutor(graph=perisomatic_target_graph)"
   ]
  },
  {
   "cell_type": "code",
   "execution_count": 81,
   "metadata": {
    "collapsed": true,
    "jupyter": {
     "outputs_hidden": true
    }
   },
   "outputs": [
    {
     "name": "stderr",
     "output_type": "stream",
     "text": [
      "  0%|          | 0/16 [00:00<?, ?it/s]INFO:root:Running motif calculation for cylinder300 of motif -C of ['SP_AA', 'BC']...\n",
      "INFO:root:Running motif calculation for cylinder300 of motif -B of ['SP_AA', 'BC']...\n",
      "INFO:root:\n",
      "[[0 1 0]\n",
      " [0 0 0]\n",
      " [0 0 0]] \n",
      "\n",
      " dotmotif:\n",
      "A -> B\n",
      "\n",
      "\n",
      " 12%|█▎        | 2/16 [00:00<00:00, 14.58it/s]INFO:root:Running motif calculation for cylinder300 of motif -A of ['SP_AA', 'BC']...\n",
      "INFO:root:\n",
      "[[0 1 0]\n",
      " [1 0 0]\n",
      " [0 0 0]] \n",
      "\n",
      " dotmotif:\n",
      "A -> B\n",
      "B -> A\n",
      "\n",
      "\n",
      "INFO:root:Running motif calculation for cylinder300 of motif A of ['SP_AA', 'BC']...\n",
      "INFO:root:\n",
      "[[0 0 0]\n",
      " [1 0 0]\n",
      " [1 0 0]] \n",
      "\n",
      " dotmotif:\n",
      "B -> A\n",
      "C -> A\n",
      "\n",
      "\n",
      " 25%|██▌       | 4/16 [00:17<01:01,  5.13s/it]INFO:root:Running motif calculation for cylinder300 of motif B of ['SP_AA', 'BC']...\n",
      "INFO:root:\n",
      "[[0 0 0]\n",
      " [1 0 0]\n",
      " [0 1 0]] \n",
      "\n",
      " dotmotif:\n",
      "B -> A\n",
      "C -> B\n",
      "\n",
      "\n",
      " 31%|███▏      | 5/16 [00:30<01:20,  7.34s/it]INFO:root:Running motif calculation for cylinder300 of motif C of ['SP_AA', 'BC']...\n",
      "INFO:root:\n",
      "[[0 0 0]\n",
      " [1 0 1]\n",
      " [0 0 0]] \n",
      "\n",
      " dotmotif:\n",
      "B -> A\n",
      "B -> C\n",
      "\n",
      "\n",
      " 38%|███▊      | 6/16 [00:37<01:13,  7.35s/it]INFO:root:Running motif calculation for cylinder300 of motif D of ['SP_AA', 'BC']...\n",
      "INFO:root:\n",
      "[[0 1 0]\n",
      " [1 0 0]\n",
      " [1 0 0]] \n",
      "\n",
      " dotmotif:\n",
      "A -> B\n",
      "B -> A\n",
      "C -> A\n",
      "\n",
      "\n",
      " 44%|████▍     | 7/16 [00:44<01:06,  7.36s/it]INFO:root:Running motif calculation for cylinder300 of motif E of ['SP_AA', 'BC']...\n",
      "INFO:root:\n",
      "[[0 0 0]\n",
      " [1 0 0]\n",
      " [1 1 0]] \n",
      "\n",
      " dotmotif:\n",
      "B -> A\n",
      "C -> A\n",
      "C -> B\n",
      "\n",
      "\n",
      " 50%|█████     | 8/16 [00:51<00:58,  7.26s/it]INFO:root:Running motif calculation for cylinder300 of motif F of ['SP_AA', 'BC']...\n",
      "INFO:root:\n",
      "[[0 1 1]\n",
      " [1 0 0]\n",
      " [0 0 0]] \n",
      "\n",
      " dotmotif:\n",
      "A -> B\n",
      "A -> C\n",
      "B -> A\n",
      "\n",
      "\n",
      " 56%|█████▋    | 9/16 [00:55<00:42,  6.07s/it]INFO:root:Running motif calculation for cylinder300 of motif G of ['SP_AA', 'BC']...\n",
      "INFO:root:\n",
      "[[0 0 1]\n",
      " [1 0 0]\n",
      " [0 1 0]] \n",
      "\n",
      " dotmotif:\n",
      "A -> C\n",
      "B -> A\n",
      "C -> B\n",
      "\n",
      "\n",
      " 62%|██████▎   | 10/16 [00:58<00:31,  5.23s/it]INFO:root:Running motif calculation for cylinder300 of motif H of ['SP_AA', 'BC']...\n",
      "INFO:root:\n",
      "[[0 1 0]\n",
      " [1 0 0]\n",
      " [1 1 0]] \n",
      "\n",
      " dotmotif:\n",
      "A -> B\n",
      "B -> A\n",
      "C -> A\n",
      "C -> B\n",
      "\n",
      "\n",
      " 69%|██████▉   | 11/16 [01:01<00:23,  4.71s/it]INFO:root:Running motif calculation for cylinder300 of motif I of ['SP_AA', 'BC']...\n",
      "INFO:root:\n",
      "[[0 1 1]\n",
      " [1 0 0]\n",
      " [1 0 0]] \n",
      "\n",
      " dotmotif:\n",
      "A -> B\n",
      "A -> C\n",
      "B -> A\n",
      "C -> A\n",
      "\n",
      "\n",
      " 75%|███████▌  | 12/16 [01:04<00:15,  3.94s/it]INFO:root:Running motif calculation for cylinder300 of motif J of ['SP_AA', 'BC']...\n",
      "INFO:root:\n",
      "[[0 1 0]\n",
      " [1 0 1]\n",
      " [1 0 0]] \n",
      "\n",
      " dotmotif:\n",
      "A -> B\n",
      "B -> A\n",
      "B -> C\n",
      "C -> A\n",
      "\n",
      "\n",
      " 81%|████████▏ | 13/16 [01:06<00:10,  3.36s/it]INFO:root:Running motif calculation for cylinder300 of motif K of ['SP_AA', 'BC']...\n",
      "INFO:root:\n",
      "[[0 0 0]\n",
      " [1 0 1]\n",
      " [1 1 0]] \n",
      "\n",
      " dotmotif:\n",
      "B -> A\n",
      "B -> C\n",
      "C -> A\n",
      "C -> B\n",
      "\n",
      "\n",
      " 88%|████████▊ | 14/16 [01:08<00:06,  3.18s/it]INFO:root:Running motif calculation for cylinder300 of motif L of ['SP_AA', 'BC']...\n",
      "INFO:root:\n",
      "[[0 1 1]\n",
      " [1 0 0]\n",
      " [1 1 0]] \n",
      "\n",
      " dotmotif:\n",
      "A -> B\n",
      "A -> C\n",
      "B -> A\n",
      "C -> A\n",
      "C -> B\n",
      "\n",
      "\n",
      " 94%|█████████▍| 15/16 [01:10<00:02,  2.64s/it]INFO:root:Running motif calculation for cylinder300 of motif M of ['SP_AA', 'BC']...\n",
      "INFO:root:\n",
      "[[0 1 1]\n",
      " [1 0 1]\n",
      " [1 1 0]] \n",
      "\n",
      " dotmotif:\n",
      "A -> B\n",
      "A -> C\n",
      "B -> A\n",
      "B -> C\n",
      "C -> A\n",
      "C -> B\n",
      "\n",
      "\n",
      "100%|██████████| 16/16 [01:11<00:00,  4.45s/it]\n"
     ]
    }
   ],
   "source": [
    "frequencies_perisomatic = {}\n",
    "\n",
    "for motif_name in tqdm(all_motifs):\n",
    "    logging.info(f\"Running motif calculation for {nodeset} of motif {motif_name} of {selected_nodesets}...\")\n",
    "    CM = motif_reader.name_to_matrix(motif_name)\n",
    "    cur_triplet_motif = reader.matrix_to_dotmotif(CM)\n",
    "    if cur_triplet_motif == '':\n",
    "        continue\n",
    "    else:\n",
    "        logging.info(f\"\\n{CM} \\n\\n dotmotif:\\n{cur_triplet_motif}\\n\\n\")\n",
    "        cur_triplet_motif = Motif(cur_triplet_motif)\n",
    "\n",
    "    cur_results = Executor.find(cur_triplet_motif)\n",
    "    frequencies_perisomatic[motif_name] = cur_results"
   ]
  },
  {
   "cell_type": "code",
   "execution_count": 82,
   "metadata": {},
   "outputs": [
    {
     "name": "stdout",
     "output_type": "stream",
     "text": [
      "-C not in frequencies\n"
     ]
    }
   ],
   "source": [
    "#SAVE \n",
    "\n",
    "target_motifs_perisomatic = {}\n",
    "for i in all_motifs:\n",
    "    try:\n",
    "        cur_occurences = len(frequencies_perisomatic[i])\n",
    "        target_motifs_perisomatic[i] = cur_occurences\n",
    "    except:\n",
    "        print(f'{i} not in frequencies')\n",
    "        target_motifs_perisomatic[i] = -1"
   ]
  },
  {
   "cell_type": "code",
   "execution_count": 83,
   "metadata": {},
   "outputs": [
    {
     "data": {
      "text/plain": [
       "{'-C': -1,\n",
       " '-B': 16045,\n",
       " '-A': 6116,\n",
       " 'A': 1016442,\n",
       " 'B': 934745,\n",
       " 'C': 1123706,\n",
       " 'D': 382805,\n",
       " 'E': 379719,\n",
       " 'F': 418214,\n",
       " 'G': 271887,\n",
       " 'H': 176944,\n",
       " 'I': 166854,\n",
       " 'J': 152165,\n",
       " 'K': 186286,\n",
       " 'L': 86120,\n",
       " 'M': 49716}"
      ]
     },
     "execution_count": 83,
     "metadata": {},
     "output_type": "execute_result"
    }
   ],
   "source": [
    "target_motifs_perisomatic"
   ]
  },
  {
   "cell_type": "markdown",
   "metadata": {},
   "source": [
    "# Distal INHs"
   ]
  },
  {
   "cell_type": "code",
   "execution_count": 87,
   "metadata": {},
   "outputs": [],
   "source": [
    "perisomatic_mtypes = ['SP_AA','BC']\n",
    "perisomatic_ids = np.concatenate([nodes.ids(i) for i in perisomatic_mtypes])"
   ]
  },
  {
   "cell_type": "code",
   "execution_count": 88,
   "metadata": {},
   "outputs": [],
   "source": [
    "inhibitory_ids = nodes.ids('Inhibitory')"
   ]
  },
  {
   "cell_type": "code",
   "execution_count": 90,
   "metadata": {},
   "outputs": [],
   "source": [
    "distal_inh_ids = np.setdiff1d(inhibitory_ids,perisomatic_ids)"
   ]
  },
  {
   "cell_type": "code",
   "execution_count": 91,
   "metadata": {},
   "outputs": [],
   "source": [
    "distal_nodeset_ids = np.intersect1d(nodeset_ids,distal_inh_ids) # to be changed for each, union operator if multiple mtypes\n",
    "local_indices_selected = np.where(np.isin(nodeset_ids,distal_nodeset_ids))[0] # indices inside nodeset indices\n",
    "distal_adj = target_adj[local_indices_selected,:][:,local_indices_selected]\n",
    "distal_adj[distal_adj>1] = 1  # connectome\n",
    "distal_target_graph = nx.from_scipy_sparse_array(distal_adj,create_using=nx.DiGraph())\n",
    "Executor = GrandIsoExecutor(graph=distal_target_graph)"
   ]
  },
  {
   "cell_type": "code",
   "execution_count": 92,
   "metadata": {
    "collapsed": true,
    "jupyter": {
     "outputs_hidden": true
    }
   },
   "outputs": [
    {
     "name": "stderr",
     "output_type": "stream",
     "text": [
      "  0%|          | 0/16 [00:00<?, ?it/s]INFO:root:Running motif calculation for cylinder300 of motif -C of Distal INHs ...\n",
      "INFO:root:Running motif calculation for cylinder300 of motif -B of Distal INHs ...\n",
      "INFO:root:\n",
      "[[0 1 0]\n",
      " [0 0 0]\n",
      " [0 0 0]] \n",
      "\n",
      " dotmotif:\n",
      "A -> B\n",
      "\n",
      "\n",
      " 12%|█▎        | 2/16 [00:00<00:01, 10.23it/s]INFO:root:Running motif calculation for cylinder300 of motif -A of Distal INHs ...\n",
      "INFO:root:\n",
      "[[0 1 0]\n",
      " [1 0 0]\n",
      " [0 0 0]] \n",
      "\n",
      " dotmotif:\n",
      "A -> B\n",
      "B -> A\n",
      "\n",
      "\n",
      "INFO:root:Running motif calculation for cylinder300 of motif A of Distal INHs ...\n",
      "INFO:root:\n",
      "[[0 0 0]\n",
      " [1 0 0]\n",
      " [1 0 0]] \n",
      "\n",
      " dotmotif:\n",
      "B -> A\n",
      "C -> A\n",
      "\n",
      "\n",
      " 25%|██▌       | 4/16 [00:39<02:17, 11.49s/it]INFO:root:Running motif calculation for cylinder300 of motif B of Distal INHs ...\n",
      "INFO:root:\n",
      "[[0 0 0]\n",
      " [1 0 0]\n",
      " [0 1 0]] \n",
      "\n",
      " dotmotif:\n",
      "B -> A\n",
      "C -> B\n",
      "\n",
      "\n",
      " 31%|███▏      | 5/16 [01:07<03:02, 16.60s/it]INFO:root:Running motif calculation for cylinder300 of motif C of Distal INHs ...\n",
      "INFO:root:\n",
      "[[0 0 0]\n",
      " [1 0 1]\n",
      " [0 0 0]] \n",
      "\n",
      " dotmotif:\n",
      "B -> A\n",
      "B -> C\n",
      "\n",
      "\n",
      " 38%|███▊      | 6/16 [01:24<02:47, 16.70s/it]INFO:root:Running motif calculation for cylinder300 of motif D of Distal INHs ...\n",
      "INFO:root:\n",
      "[[0 1 0]\n",
      " [1 0 0]\n",
      " [1 0 0]] \n",
      "\n",
      " dotmotif:\n",
      "A -> B\n",
      "B -> A\n",
      "C -> A\n",
      "\n",
      "\n",
      " 44%|████▍     | 7/16 [01:41<02:29, 16.63s/it]INFO:root:Running motif calculation for cylinder300 of motif E of Distal INHs ...\n",
      "INFO:root:\n",
      "[[0 0 0]\n",
      " [1 0 0]\n",
      " [1 1 0]] \n",
      "\n",
      " dotmotif:\n",
      "B -> A\n",
      "C -> A\n",
      "C -> B\n",
      "\n",
      "\n",
      " 50%|█████     | 8/16 [01:57<02:10, 16.37s/it]INFO:root:Running motif calculation for cylinder300 of motif F of Distal INHs ...\n",
      "INFO:root:\n",
      "[[0 1 1]\n",
      " [1 0 0]\n",
      " [0 0 0]] \n",
      "\n",
      " dotmotif:\n",
      "A -> B\n",
      "A -> C\n",
      "B -> A\n",
      "\n",
      "\n",
      " 56%|█████▋    | 9/16 [02:06<01:39, 14.21s/it]INFO:root:Running motif calculation for cylinder300 of motif G of Distal INHs ...\n",
      "INFO:root:\n",
      "[[0 0 1]\n",
      " [1 0 0]\n",
      " [0 1 0]] \n",
      "\n",
      " dotmotif:\n",
      "A -> C\n",
      "B -> A\n",
      "C -> B\n",
      "\n",
      "\n",
      " 62%|██████▎   | 10/16 [02:15<01:16, 12.69s/it]INFO:root:Running motif calculation for cylinder300 of motif H of Distal INHs ...\n",
      "INFO:root:\n",
      "[[0 1 0]\n",
      " [1 0 0]\n",
      " [1 1 0]] \n",
      "\n",
      " dotmotif:\n",
      "A -> B\n",
      "B -> A\n",
      "C -> A\n",
      "C -> B\n",
      "\n",
      "\n",
      " 69%|██████▉   | 11/16 [02:25<01:00, 12.00s/it]INFO:root:Running motif calculation for cylinder300 of motif I of Distal INHs ...\n",
      "INFO:root:\n",
      "[[0 1 1]\n",
      " [1 0 0]\n",
      " [1 0 0]] \n",
      "\n",
      " dotmotif:\n",
      "A -> B\n",
      "A -> C\n",
      "B -> A\n",
      "C -> A\n",
      "\n",
      "\n",
      " 75%|███████▌  | 12/16 [02:31<00:40, 10.23s/it]INFO:root:Running motif calculation for cylinder300 of motif J of Distal INHs ...\n",
      "INFO:root:\n",
      "[[0 1 0]\n",
      " [1 0 1]\n",
      " [1 0 0]] \n",
      "\n",
      " dotmotif:\n",
      "A -> B\n",
      "B -> A\n",
      "B -> C\n",
      "C -> A\n",
      "\n",
      "\n",
      " 81%|████████▏ | 13/16 [02:37<00:26,  8.77s/it]INFO:root:Running motif calculation for cylinder300 of motif K of Distal INHs ...\n",
      "INFO:root:\n",
      "[[0 0 0]\n",
      " [1 0 1]\n",
      " [1 1 0]] \n",
      "\n",
      " dotmotif:\n",
      "B -> A\n",
      "B -> C\n",
      "C -> A\n",
      "C -> B\n",
      "\n",
      "\n",
      " 88%|████████▊ | 14/16 [02:43<00:16,  8.08s/it]INFO:root:Running motif calculation for cylinder300 of motif L of Distal INHs ...\n",
      "INFO:root:\n",
      "[[0 1 1]\n",
      " [1 0 0]\n",
      " [1 1 0]] \n",
      "\n",
      " dotmotif:\n",
      "A -> B\n",
      "A -> C\n",
      "B -> A\n",
      "C -> A\n",
      "C -> B\n",
      "\n",
      "\n",
      " 94%|█████████▍| 15/16 [02:47<00:06,  6.91s/it]INFO:root:Running motif calculation for cylinder300 of motif M of Distal INHs ...\n",
      "INFO:root:\n",
      "[[0 1 1]\n",
      " [1 0 1]\n",
      " [1 1 0]] \n",
      "\n",
      " dotmotif:\n",
      "A -> B\n",
      "A -> C\n",
      "B -> A\n",
      "B -> C\n",
      "C -> A\n",
      "C -> B\n",
      "\n",
      "\n",
      "100%|██████████| 16/16 [02:51<00:00, 10.71s/it]\n"
     ]
    }
   ],
   "source": [
    "frequencies_distal = {}\n",
    "\n",
    "for motif_name in tqdm(all_motifs):\n",
    "    logging.info(f\"Running motif calculation for {nodeset} of motif {motif_name} of Distal INHs ...\")\n",
    "    CM = motif_reader.name_to_matrix(motif_name)\n",
    "    cur_triplet_motif = reader.matrix_to_dotmotif(CM)\n",
    "    if cur_triplet_motif == '':\n",
    "        continue\n",
    "    else:\n",
    "        logging.info(f\"\\n{CM} \\n\\n dotmotif:\\n{cur_triplet_motif}\\n\\n\")\n",
    "        cur_triplet_motif = Motif(cur_triplet_motif)\n",
    "\n",
    "    cur_results = Executor.find(cur_triplet_motif)\n",
    "    frequencies_distal[motif_name] = cur_results"
   ]
  },
  {
   "cell_type": "code",
   "execution_count": 93,
   "metadata": {},
   "outputs": [
    {
     "name": "stdout",
     "output_type": "stream",
     "text": [
      "-C not in frequencies\n"
     ]
    }
   ],
   "source": [
    "#SAVE \n",
    "\n",
    "target_motifs_distal = {}\n",
    "for i in all_motifs:\n",
    "    try:\n",
    "        cur_occurences = len(frequencies_distal[i])\n",
    "        target_motifs_distal[i] = cur_occurences\n",
    "    except:\n",
    "        print(f'{i} not in frequencies')\n",
    "        target_motifs_distal[i] = -1"
   ]
  },
  {
   "cell_type": "code",
   "execution_count": null,
   "metadata": {},
   "outputs": [],
   "source": [
    "# check_mtypes = ['PeriSomatic_INH','PeriSomatic_INH','PeriSomatic_INH']\n",
    "# compare_to = ['Distal_INH','Distal_INH','Distal_INH']\n",
    "\n",
    "# target_motifs_perisomatic = {}\n",
    "# target_motifs_distal = {}\n",
    "\n",
    "# for motif_name in tqdm(all_motifs):\n",
    "#     logging.info(f\"Running motif calculation for {target} of motif {motif_name} of {check_mtypes}...\")\n",
    "#     motif_reader = MotifReader()\n",
    "#     CM = motif_reader.name_to_matrix(motif_name)\n",
    "#     # logging.info(f\"Motif matrix:\\n{CM}\")\n",
    "#     calculator = CA1MotifCalculator(target,check_mtypes, CM)\n",
    "#     num_motifs = calculator.count_motifs()  # proj samples not used for local computations\n",
    "\n",
    "#     logging.info(f\"Running motif calculation for {target} of motif {motif_name} of {compare_to}...\")\n",
    "\n",
    "#     calculator2 = CA1MotifCalculator(target,compare_to, CM)\n",
    "#     num_motifs2 = calculator2.count_motifs()  # proj samples not used for local computations\n",
    "\n",
    "#     target_motifs_perisomatic[motif_name] = num_motifs\n",
    "#     target_motifs_distal[motif_name] = num_motifs2"
   ]
  },
  {
   "cell_type": "code",
   "execution_count": 98,
   "metadata": {},
   "outputs": [],
   "source": [
    "df1 = pd.DataFrame.from_dict(target_motifs_perisomatic, orient='index',columns=[f'{nodeset}_perisomatic'])\n",
    "df2 = pd.DataFrame.from_dict(target_motifs_distal, orient='index',columns=[f'{nodeset}_distal'])\n",
    "\n",
    "df_peridistal = pd.concat([df1,df2],axis=1)\n",
    "df_peridistal['ratio'] = df_peridistal[f'{nodeset}_perisomatic']/df_peridistal[f'{nodeset}_distal']\n",
    "df_peridistal.to_csv(f'{save_dir}/{nodeset}_triplet_ratios_peridistal.csv')"
   ]
  },
  {
   "cell_type": "code",
   "execution_count": 99,
   "metadata": {},
   "outputs": [
    {
     "data": {
      "image/png": "[encoded data removed]",
      "text/plain": [
       "<Figure size 1000x500 with 1 Axes>"
      ]
     },
     "metadata": {},
     "output_type": "display_data"
    },
    {
     "data": {
      "image/png": "[encoded data removed]",
      "text/plain": [
       "<Figure size 1000x500 with 1 Axes>"
      ]
     },
     "metadata": {},
     "output_type": "display_data"
    }
   ],
   "source": [
    "chosen_df = df_peridistal.ratio[3:]\n",
    "chosen_df.plot(figsize=(10,5),title=f'{nodeset} motif ratio')\n",
    "# plot all xticklabels\n",
    "plt.xticks(np.arange(len(df_peridistal)-3), df_peridistal.index[3:])\n",
    "# horizontal line at y=1\n",
    "plt.axhline(y=1, color='r', linestyle='-')\n",
    "plt.ylabel('Ratio')\n",
    "plt.savefig(f'{save_dir}/{nodeset}_triplet_ratios_peridistal.png',dpi=300)\n",
    "plt.show()\n",
    "\n",
    "chosen_df.plot(figsize=(10,5),title=f'{nodeset} motif ratio')\n",
    "# plot all xticklabels\n",
    "plt.xticks(np.arange(len(df_peridistal)-3), df_peridistal.index[3:])\n",
    "# horizontal line at y=1\n",
    "plt.yscale('log')\n",
    "plt.axhline(y=1, color='r', linestyle='-')\n",
    "plt.ylabel('Ratio')\n",
    "plt.savefig(f'{save_dir}/{nodeset}_triplet_ratios_peridistal_log.png',dpi=300)\n",
    "plt.show()\n"
   ]
  },
  {
   "cell_type": "markdown",
   "metadata": {},
   "source": [
    "# Combined figure 7D"
   ]
  },
  {
   "cell_type": "code",
   "execution_count": 101,
   "metadata": {},
   "outputs": [],
   "source": [
    "df_ei = pd.read_csv(f'{save_dir}/{nodeset}_triplet_ratios_EI.csv',index_col=0)\n",
    "df_peridistal = pd.read_csv(f'{save_dir}/{nodeset}_triplet_ratios_peridistal.csv',index_col=0)"
   ]
  },
  {
   "cell_type": "code",
   "execution_count": 102,
   "metadata": {},
   "outputs": [
    {
     "data": {
      "image/png": "[encoded data removed]",
      "text/plain": [
       "<Figure size 1000x500 with 1 Axes>"
      ]
     },
     "metadata": {},
     "output_type": "display_data"
    }
   ],
   "source": [
    "chosen_df1 = df_ei.ratio[3:]\n",
    "# chosen_df1.plot(figsize=(10,5),title=f'{target} motif ratio')\n",
    "# add black triangles and blue lines connecting for every point in the plot and lines\n",
    "chosen_df1.plot(style='^-',ms=10,figsize=(10,5))\n",
    "\n",
    "chosen_df2= df_peridistal.ratio[3:]\n",
    "chosen_df2.plot(style='o-r',ms=10,figsize=(10,5))\n",
    "\n",
    "\n",
    "# plot all xticklabels\n",
    "plt.xticks(np.arange(len(df_peridistal)-3), df_peridistal.index[3:])\n",
    "# horizontal line at y=1\n",
    "plt.axhline(y=1, color='k', linestyle='-')\n",
    "plt.ylabel('Ratio')\n",
    "plt.legend(['CA1 Pyr:Int','CA1 PST:Other'])\n",
    "plt.savefig(f'{save_dir}/{nodeset}_Rees2016_Fig7D.png',dpi=300)\n",
    "plt.show()\n"
   ]
  },
  {
   "cell_type": "code",
   "execution_count": null,
   "metadata": {},
   "outputs": [],
   "source": []
  }
 ],
 "metadata": {
  "kernelspec": {
   "display_name": "venv2022",
   "language": "python",
   "name": "venv2022"
  },
  "language_info": {
   "codemirror_mode": {
    "name": "ipython",
    "version": 3
   },
   "file_extension": ".py",
   "mimetype": "text/x-python",
   "name": "python",
   "nbconvert_exporter": "python",
   "pygments_lexer": "ipython3",
   "version": "3.8.3"
  },
  "vscode": {
   "interpreter": {
    "hash": "4e7fcdc16c37278aa1aa2d217ebf3b3a1502b965886d3da577692cfb83477afa"
   }
  }
 },
 "nbformat": 4,
 "nbformat_minor": 4
}
