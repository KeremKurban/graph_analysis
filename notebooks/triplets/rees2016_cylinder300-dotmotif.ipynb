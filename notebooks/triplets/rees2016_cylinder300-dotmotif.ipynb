{
 "cells": [
  {
   "cell_type": "markdown",
   "metadata": {},
   "source": [
    "# Replicate Fig7D from Rees et al 2016\n"
   ]
  },
  {
   "cell_type": "code",
   "execution_count": 1,
   "metadata": {},
   "outputs": [],
   "source": [
    "# from igraph import *\n",
    "# from bluepy.enums import Cell\n",
    "from scipy import sparse\n",
    "import bluepy\n",
    "from tqdm import tqdm\n",
    "import numpy as np\n",
    "import pandas as pd\n",
    "import matplotlib.pyplot as plt\n",
    "import os\n",
    "import sys\n",
    "import logging\n",
    "from graph_analysis.triplets import MotifReader, CA1MotifCalculator\n",
    "\n",
    "import networkx as nx\n",
    "from dotmotif import Motif, GrandIsoExecutor\n",
    "from graph_analysis import triplets"
   ]
  },
  {
   "cell_type": "code",
   "execution_count": 2,
   "metadata": {},
   "outputs": [],
   "source": [
    "all_motifs = ['-C','-B','-A','A','B','C','D','E','F','G','H','I','J','K','L','M']\n",
    "save_dir = '../../output/triplets'\n",
    "nodeset = 'cylinder300'"
   ]
  },
  {
   "cell_type": "code",
   "execution_count": 3,
   "metadata": {},
   "outputs": [],
   "source": [
    "complex_motif = Motif(\"\"\"\n",
    "# One-direction edge\n",
    "uniedge(n, m) {\n",
    "    n -> m\n",
    "    m !> n\n",
    "}\n",
    "\n",
    "# One-direction triangle\n",
    "unitriangle(x, y, z) {\n",
    "    uniedge(x, y)\n",
    "    uniedge(y, z)\n",
    "    uniedge(z, x)\n",
    "}\n",
    "\n",
    "unitriangle(A, B, C)\n",
    "\"\"\") # specific case not like motif2 where edges can also be biedge/uniedge"
   ]
  },
  {
   "cell_type": "code",
   "execution_count": 4,
   "metadata": {},
   "outputs": [],
   "source": [
    "file_path = '/gpfs/bbp.cscs.ch/project/proj142/home/kurban/GNNplayground/notebooks/cylinder300_synaptome.npz'\n",
    "target_adj = sparse.load_npz(file_path)"
   ]
  },
  {
   "cell_type": "code",
   "execution_count": 5,
   "metadata": {},
   "outputs": [],
   "source": [
    "from bluepysnap import Circuit\n",
    "\n",
    "c = Circuit('/gpfs/bbp.cscs.ch/project/proj112/circuits/CA1/20211110-BioM/sonata/circuit_config.json')\n",
    "nodes = c.nodes['hippocampus_neurons']"
   ]
  },
  {
   "cell_type": "code",
   "execution_count": 7,
   "metadata": {},
   "outputs": [],
   "source": [
    "nodeset_ids = nodes.ids(nodeset)"
   ]
  },
  {
   "cell_type": "code",
   "execution_count": 27,
   "metadata": {},
   "outputs": [],
   "source": [
    "check_mtypes = ['SP_PC','SP_PC','SP_PC']"
   ]
  },
  {
   "cell_type": "code",
   "execution_count": 30,
   "metadata": {},
   "outputs": [],
   "source": [
    "assert len(np.unique(check_mtypes)) == 1"
   ]
  },
  {
   "cell_type": "code",
   "execution_count": 9,
   "metadata": {},
   "outputs": [],
   "source": [
    "nodeset_subids = np.intersect1d(nodeset_ids,nodes.ids('SP_PC')) # to be changed for each, union operator if multiple mtypes"
   ]
  },
  {
   "cell_type": "code",
   "execution_count": 18,
   "metadata": {},
   "outputs": [],
   "source": [
    "local_indices_selected = np.where(np.isin(nodeset_ids,nodeset_subids))[0] # indices inside nodeset indices"
   ]
  },
  {
   "cell_type": "code",
   "execution_count": 23,
   "metadata": {},
   "outputs": [],
   "source": [
    "subset_adj = target_adj[local_indices_selected,:][:,local_indices_selected]"
   ]
  },
  {
   "cell_type": "code",
   "execution_count": 37,
   "metadata": {},
   "outputs": [],
   "source": [
    "subset_adj[subset_adj>1] = 1  # connectome"
   ]
  },
  {
   "cell_type": "code",
   "execution_count": 38,
   "metadata": {},
   "outputs": [],
   "source": [
    "target_graph = nx.from_scipy_sparse_array(subset_adj,create_using=nx.DiGraph())"
   ]
  },
  {
   "cell_type": "code",
   "execution_count": 40,
   "metadata": {},
   "outputs": [],
   "source": [
    "Executor = GrandIsoExecutor(graph=target_graph)"
   ]
  },
  {
   "cell_type": "code",
   "execution_count": 42,
   "metadata": {},
   "outputs": [
    {
     "name": "stderr",
     "output_type": "stream",
     "text": [
      "  0%|          | 0/16 [00:00<?, ?it/s]INFO:root:Running motif calculation for cylinder300 of motif -C of ['SP_PC', 'SP_PC', 'SP_PC']...\n",
      "INFO:root:Running motif calculation for cylinder300 of motif -B of ['SP_PC', 'SP_PC', 'SP_PC']...\n",
      "INFO:root:\n",
      "[[0 1 0]\n",
      " [0 0 0]\n",
      " [0 0 0]] \n",
      "\n",
      " dotmotif:\n",
      "A -> B\n",
      "\n",
      "\n",
      " 12%|█▎        | 2/16 [00:04<00:32,  2.33s/it]INFO:root:Running motif calculation for cylinder300 of motif -A of ['SP_PC', 'SP_PC', 'SP_PC']...\n",
      "INFO:root:\n",
      "[[0 1 0]\n",
      " [1 0 0]\n",
      " [0 0 0]] \n",
      "\n",
      " dotmotif:\n",
      "A -> B\n",
      "B -> A\n",
      "\n",
      "\n",
      " 19%|█▉        | 3/16 [00:04<00:19,  1.49s/it]INFO:root:Running motif calculation for cylinder300 of motif A of ['SP_PC', 'SP_PC', 'SP_PC']...\n",
      "INFO:root:\n",
      "[[0 0 0]\n",
      " [1 0 0]\n",
      " [1 0 0]] \n",
      "\n",
      " dotmotif:\n",
      "B -> A\n",
      "C -> A\n",
      "\n",
      "\n",
      " 25%|██▌       | 4/16 [28:52<2:09:07, 645.64s/it]INFO:root:Running motif calculation for cylinder300 of motif B of ['SP_PC', 'SP_PC', 'SP_PC']...\n",
      "INFO:root:\n",
      "[[0 0 0]\n",
      " [1 0 0]\n",
      " [0 1 0]] \n",
      "\n",
      " dotmotif:\n",
      "B -> A\n",
      "C -> B\n",
      "\n",
      "\n",
      " 31%|███▏      | 5/16 [43:24<2:12:47, 724.31s/it]INFO:root:Running motif calculation for cylinder300 of motif C of ['SP_PC', 'SP_PC', 'SP_PC']...\n",
      "INFO:root:\n",
      "[[0 0 0]\n",
      " [1 0 1]\n",
      " [0 0 0]] \n",
      "\n",
      " dotmotif:\n",
      "B -> A\n",
      "B -> C\n",
      "\n",
      "\n",
      " 38%|███▊      | 6/16 [54:35<1:57:47, 706.71s/it]INFO:root:Running motif calculation for cylinder300 of motif D of ['SP_PC', 'SP_PC', 'SP_PC']...\n",
      "INFO:root:\n",
      "[[0 1 0]\n",
      " [1 0 0]\n",
      " [1 0 0]] \n",
      "\n",
      " dotmotif:\n",
      "A -> B\n",
      "B -> A\n",
      "C -> A\n",
      "\n",
      "\n",
      " 44%|████▍     | 7/16 [55:05<1:13:19, 488.80s/it]INFO:root:Running motif calculation for cylinder300 of motif E of ['SP_PC', 'SP_PC', 'SP_PC']...\n",
      "INFO:root:\n",
      "[[0 0 0]\n",
      " [1 0 0]\n",
      " [1 1 0]] \n",
      "\n",
      " dotmotif:\n",
      "B -> A\n",
      "C -> A\n",
      "C -> B\n",
      "\n",
      "\n",
      " 50%|█████     | 8/16 [56:32<48:18, 362.29s/it]  INFO:root:Running motif calculation for cylinder300 of motif F of ['SP_PC', 'SP_PC', 'SP_PC']...\n",
      "INFO:root:\n",
      "[[0 1 1]\n",
      " [1 0 0]\n",
      " [0 0 0]] \n",
      "\n",
      " dotmotif:\n",
      "A -> B\n",
      "A -> C\n",
      "B -> A\n",
      "\n",
      "\n",
      " 56%|█████▋    | 9/16 [56:45<29:38, 254.01s/it]INFO:root:Running motif calculation for cylinder300 of motif G of ['SP_PC', 'SP_PC', 'SP_PC']...\n",
      "INFO:root:\n",
      "[[0 0 1]\n",
      " [1 0 0]\n",
      " [0 1 0]] \n",
      "\n",
      " dotmotif:\n",
      "A -> C\n",
      "B -> A\n",
      "C -> B\n",
      "\n",
      "\n",
      " 62%|██████▎   | 10/16 [57:06<18:14, 182.47s/it]INFO:root:Running motif calculation for cylinder300 of motif H of ['SP_PC', 'SP_PC', 'SP_PC']...\n",
      "INFO:root:\n",
      "[[0 1 0]\n",
      " [1 0 0]\n",
      " [1 1 0]] \n",
      "\n",
      " dotmotif:\n",
      "A -> B\n",
      "B -> A\n",
      "C -> A\n",
      "C -> B\n",
      "\n",
      "\n",
      " 69%|██████▉   | 11/16 [57:10<10:40, 128.02s/it]INFO:root:Running motif calculation for cylinder300 of motif I of ['SP_PC', 'SP_PC', 'SP_PC']...\n",
      "INFO:root:\n",
      "[[0 1 1]\n",
      " [1 0 0]\n",
      " [1 0 0]] \n",
      "\n",
      " dotmotif:\n",
      "A -> B\n",
      "A -> C\n",
      "B -> A\n",
      "C -> A\n",
      "\n",
      "\n",
      " 75%|███████▌  | 12/16 [57:11<05:57, 89.48s/it] INFO:root:Running motif calculation for cylinder300 of motif J of ['SP_PC', 'SP_PC', 'SP_PC']...\n",
      "INFO:root:\n",
      "[[0 1 0]\n",
      " [1 0 1]\n",
      " [1 0 0]] \n",
      "\n",
      " dotmotif:\n",
      "A -> B\n",
      "B -> A\n",
      "B -> C\n",
      "C -> A\n",
      "\n",
      "\n",
      " 81%|████████▏ | 13/16 [57:12<03:08, 62.79s/it]INFO:root:Running motif calculation for cylinder300 of motif K of ['SP_PC', 'SP_PC', 'SP_PC']...\n",
      "INFO:root:\n",
      "[[0 0 0]\n",
      " [1 0 1]\n",
      " [1 1 0]] \n",
      "\n",
      " dotmotif:\n",
      "B -> A\n",
      "B -> C\n",
      "C -> A\n",
      "C -> B\n",
      "\n",
      "\n",
      " 88%|████████▊ | 14/16 [58:26<02:12, 66.08s/it]INFO:root:Running motif calculation for cylinder300 of motif L of ['SP_PC', 'SP_PC', 'SP_PC']...\n",
      "INFO:root:\n",
      "[[0 1 1]\n",
      " [1 0 0]\n",
      " [1 1 0]] \n",
      "\n",
      " dotmotif:\n",
      "A -> B\n",
      "A -> C\n",
      "B -> A\n",
      "C -> A\n",
      "C -> B\n",
      "\n",
      "\n",
      " 94%|█████████▍| 15/16 [58:27<00:46, 46.49s/it]INFO:root:Running motif calculation for cylinder300 of motif M of ['SP_PC', 'SP_PC', 'SP_PC']...\n",
      "INFO:root:\n",
      "[[0 1 1]\n",
      " [1 0 1]\n",
      " [1 1 0]] \n",
      "\n",
      " dotmotif:\n",
      "A -> B\n",
      "A -> C\n",
      "B -> A\n",
      "B -> C\n",
      "C -> A\n",
      "C -> B\n",
      "\n",
      "\n",
      "100%|██████████| 16/16 [58:35<00:00, 219.74s/it]\n"
     ]
    }
   ],
   "source": [
    "frequencies_exc = {}\n",
    "motif_reader = triplets.MotifReader()\n",
    "reader = triplets.DotMotifReader()\n",
    "\n",
    "for motif_name in tqdm(all_motifs):\n",
    "    logging.info(f\"Running motif calculation for {nodeset} of motif {motif_name} of {check_mtypes}...\")\n",
    "    CM = motif_reader.name_to_matrix(motif_name)\n",
    "    cur_triplet_motif = reader.matrix_to_dotmotif(CM)\n",
    "    if cur_triplet_motif == '':\n",
    "        continue\n",
    "    else:\n",
    "        logging.info(f\"\\n{CM} \\n\\n dotmotif:\\n{cur_triplet_motif}\\n\\n\")\n",
    "        cur_triplet_motif = Motif(cur_triplet_motif)\n",
    "\n",
    "    cur_results = Executor.find(cur_triplet_motif)\n",
    "    frequencies_exc[motif_name] = cur_results"
   ]
  },
  {
   "cell_type": "code",
   "execution_count": 45,
   "metadata": {},
   "outputs": [
    {
     "name": "stdout",
     "output_type": "stream",
     "text": [
      "-C not in frequencies\n"
     ]
    }
   ],
   "source": [
    "#SAVE \n",
    "\n",
    "target_motifs_exc = {}\n",
    "for i in all_motifs:\n",
    "    try:\n",
    "        cur_occurences = len(frequencies_exc[i])\n",
    "        target_motifs_exc[i] = cur_occurences\n",
    "    except:\n",
    "        print(f'{i} not in frequencies')\n",
    "        target_motifs_exc[i] = -1"
   ]
  },
  {
   "cell_type": "code",
   "execution_count": 48,
   "metadata": {},
   "outputs": [],
   "source": [
    "import pickle \n",
    "\n",
    "with open(f'{save_dir}/exc_triplets_{nodeset}.pkl','wb') as f:\n",
    "    pickle.dump(frequencies_exc,f)"
   ]
  },
  {
   "cell_type": "code",
   "execution_count": 46,
   "metadata": {},
   "outputs": [
    {
     "data": {
      "text/plain": [
       "{'-C': -1,\n",
       " '-B': 555057,\n",
       " '-A': 10738,\n",
       " 'A': 75188930,\n",
       " 'B': 48277113,\n",
       " 'C': 72068488,\n",
       " 'D': 1170657,\n",
       " 'E': 3339580,\n",
       " 'F': 1285219,\n",
       " 'G': 391599,\n",
       " 'H': 107978,\n",
       " 'I': 31840,\n",
       " 'J': 33708,\n",
       " 'K': 103664,\n",
       " 'L': 2534,\n",
       " 'M': 156}"
      ]
     },
     "execution_count": 46,
     "metadata": {},
     "output_type": "execute_result"
    }
   ],
   "source": [
    "target_motifs_exc"
   ]
  },
  {
   "cell_type": "markdown",
   "metadata": {},
   "source": [
    "# CA1 PYR:INT"
   ]
  },
  {
   "cell_type": "code",
   "execution_count": null,
   "metadata": {},
   "outputs": [],
   "source": [
    "nodeset_subids = np.intersect1d(nodeset_ids,nodes.ids('INT')) # to be changed for each, union operator if multiple mtypes\n",
    "local_indices_selected = np.where(np.isin(nodeset_ids,nodeset_subids))[0] # indices inside nodeset indices\n",
    "subset_adj = target_adj[local_indices_selected,:][:,local_indices_selected]\n",
    "subset_adj[subset_adj>1] = 1  # connectome\n",
    "target_graph = nx.from_scipy_sparse_array(subset_adj,create_using=nx.DiGraph())\n",
    "Executor = GrandIsoExecutor(graph=target_graph)"
   ]
  },
  {
   "cell_type": "code",
   "execution_count": null,
   "metadata": {},
   "outputs": [],
   "source": [
    "frequencies_inh = {}\n",
    "\n",
    "for motif_name in tqdm(all_motifs):\n",
    "    logging.info(f\"Running motif calculation for {nodeset} of motif {motif_name} of {check_mtypes}...\")\n",
    "    CM = motif_reader.name_to_matrix(motif_name)\n",
    "    cur_triplet_motif = reader.matrix_to_dotmotif(CM)\n",
    "    if cur_triplet_motif == '':\n",
    "        continue\n",
    "    else:\n",
    "        logging.info(f\"\\n{CM} \\n\\n dotmotif:\\n{cur_triplet_motif}\\n\\n\")\n",
    "        cur_triplet_motif = Motif(cur_triplet_motif)\n",
    "\n",
    "    cur_results = Executor.find(cur_triplet_motif)\n",
    "    frequencies_inh[motif_name] = cur_results"
   ]
  },
  {
   "cell_type": "code",
   "execution_count": null,
   "metadata": {},
   "outputs": [],
   "source": [
    "# check_mtypes = ['SP_PC','SP_PC','SP_PC']\n",
    "# compare_to = ['INT','INT','INT']\n",
    "\n",
    "\n",
    "# target_motifs_exc = {}\n",
    "# target_motifs_inh = {}\n",
    "\n",
    "# for motif_name in tqdm(all_motifs):\n",
    "#     logging.info(f\"Running motif calculation for {target} of motif {motif_name} of {check_mtypes}...\")\n",
    "#     motif_reader = MotifReader()\n",
    "#     CM = motif_reader.name_to_matrix(motif_name)\n",
    "#     # logging.info(f\"Motif matrix:\\n{CM}\")\n",
    "# #     calculator = CA1MotifCalculator(target,check_mtypes, CM)\n",
    "# #     num_motifs = calculator.count_motifs()  # proj samples not used for local computations\n",
    "    \n",
    "\n",
    "# #     logging.info(f\"Running motif calculation for {target} of motif {motif_name} of {compare_to}...\")\n",
    "\n",
    "#     calculator2 = CA1MotifCalculator(target,compare_to, CM)\n",
    "#     num_motifs2 = calculator2.count_motifs()  # proj samples not used for local computations\n",
    "\n",
    "#     target_motifs_exc[motif_name] = num_motifs\n",
    "#     target_motifs_inh[motif_name] = num_motifs2"
   ]
  },
  {
   "cell_type": "code",
   "execution_count": null,
   "metadata": {},
   "outputs": [],
   "source": [
    "df1 = pd.DataFrame.from_dict(target_motifs_exc, orient='index',columns=[f'{target}_EXC'])\n",
    "df2 = pd.DataFrame.from_dict(target_motifs_inh, orient='index',columns=[f'{target}_INH'])\n",
    "\n",
    "df_ei = pd.concat([df1,df2],axis=1)"
   ]
  },
  {
   "cell_type": "code",
   "execution_count": null,
   "metadata": {},
   "outputs": [],
   "source": [
    "df_ei['ratio'] = df_ei[f'{target}_EXC']/df_ei[f'{target}_INH']"
   ]
  },
  {
   "cell_type": "code",
   "execution_count": null,
   "metadata": {},
   "outputs": [],
   "source": [
    "from bluepysnap import Circuit\n",
    "c =Circuit('/gpfs/bbp.cscs.ch/project/proj112/circuits/CA1/20211110-BioM/sonata/circuit_config.json')\n",
    "nodes = c.nodes['hippocampus_neurons']\n",
    "target_nodes = nodes.get(target)\n",
    "\n",
    "# count how many morph_class is INT\n",
    "num_int = target_nodes[target_nodes['morph_class']=='INT'].shape[0]\n",
    "num_exc = target_nodes[target_nodes['morph_class']=='PYR'].shape[0]\n",
    "print(f\"Number of INT cells: {num_int}\")\n",
    "print(f\"Number of EXC cells: {num_exc}\")"
   ]
  },
  {
   "cell_type": "code",
   "execution_count": null,
   "metadata": {},
   "outputs": [],
   "source": [
    "def max_possible_triplet(num_cells):\n",
    "    return num_cells*(num_cells-1)*(num_cells-2)/6"
   ]
  },
  {
   "cell_type": "code",
   "execution_count": null,
   "metadata": {},
   "outputs": [],
   "source": [
    "#normalize exc and inh values with max possible values\n",
    "df_ei['ratio_norm'] = df_ei['ratio'] * (max_possible_triplet(num_int) / max_possible_triplet(num_exc))"
   ]
  },
  {
   "cell_type": "code",
   "execution_count": null,
   "metadata": {},
   "outputs": [],
   "source": [
    "df_ei.to_csv(f'{save_dir}/{target}_triplet_ratios_EI.csv')"
   ]
  },
  {
   "cell_type": "code",
   "execution_count": null,
   "metadata": {},
   "outputs": [],
   "source": [
    "chosen_df = df_ei.ratio[3:]\n",
    "chosen_df.plot(figsize=(10,5),title=f'{target} motif ratio')\n",
    "# plot all xticklabels\n",
    "plt.xticks(np.arange(len(df_ei)-3), df_ei.index[3:])\n",
    "# horizontal line at y=1\n",
    "plt.axhline(y=1, color='r', linestyle='-')\n",
    "plt.ylabel('Normalized Ratio')\n",
    "plt.savefig(f'{save_dir}/{target}_triplet_ratios_EI.png',dpi=300)\n",
    "plt.show()\n",
    "\n",
    "chosen_df.plot(figsize=(10,5),title=f'{target} motif ratio')\n",
    "# plot all xticklabels\n",
    "plt.xticks(np.arange(len(df_ei)-3), df_ei.index[3:])\n",
    "# horizontal line at y=1\n",
    "plt.yscale('log')\n",
    "plt.axhline(y=1, color='r', linestyle='-')\n",
    "plt.ylabel('Normalized Ratio')\n",
    "plt.savefig(f'{save_dir}/{target}_triplet_ratios_EI_log.png',dpi=300)\n",
    "plt.show()\n"
   ]
  },
  {
   "cell_type": "code",
   "execution_count": null,
   "metadata": {},
   "outputs": [],
   "source": [
    "chosen_df = df_ei.ratio_norm[3:]\n",
    "chosen_df.plot(figsize=(10,5),title=f'{target} motif ratio')\n",
    "# plot all xticklabels\n",
    "plt.xticks(np.arange(len(df_ei)-3), df_ei.index[3:])\n",
    "# horizontal line at y=1\n",
    "plt.axhline(y=1, color='r', linestyle='-')\n",
    "plt.ylabel('Normalized Ratio')\n",
    "plt.show()\n",
    "plt.savefig(f'{save_dir}/{target}_motif_ratio_EI.png')\n",
    "\n",
    "chosen_df.plot(figsize=(10,5),title=f'{target} motif ratio')\n",
    "# plot all xticklabels\n",
    "plt.xticks(np.arange(len(df_ei)-3), df_ei.index[3:])\n",
    "# horizontal line at y=1\n",
    "plt.yscale('log')\n",
    "plt.axhline(y=1, color='r', linestyle='-')\n",
    "plt.ylabel('Normalized Ratio')\n",
    "plt.show()\n"
   ]
  },
  {
   "cell_type": "markdown",
   "metadata": {},
   "source": [
    "# CA1 Perisomatic INT: Distal INT"
   ]
  },
  {
   "cell_type": "code",
   "execution_count": null,
   "metadata": {},
   "outputs": [],
   "source": [
    "check_mtypes = ['PeriSomatic_INH','PeriSomatic_INH','PeriSomatic_INH']\n",
    "compare_to = ['Distal_INH','Distal_INH','Distal_INH']\n",
    "\n",
    "target_motifs_perisomatic = {}\n",
    "target_motifs_distal = {}\n",
    "\n",
    "for motif_name in tqdm(all_motifs):\n",
    "    logging.info(f\"Running motif calculation for {target} of motif {motif_name} of {check_mtypes}...\")\n",
    "    motif_reader = MotifReader()\n",
    "    CM = motif_reader.name_to_matrix(motif_name)\n",
    "    # logging.info(f\"Motif matrix:\\n{CM}\")\n",
    "    calculator = CA1MotifCalculator(target,check_mtypes, CM)\n",
    "    num_motifs = calculator.count_motifs()  # proj samples not used for local computations\n",
    "\n",
    "    logging.info(f\"Running motif calculation for {target} of motif {motif_name} of {compare_to}...\")\n",
    "\n",
    "    calculator2 = CA1MotifCalculator(target,compare_to, CM)\n",
    "    num_motifs2 = calculator2.count_motifs()  # proj samples not used for local computations\n",
    "\n",
    "    target_motifs_perisomatic[motif_name] = num_motifs\n",
    "    target_motifs_distal[motif_name] = num_motifs2"
   ]
  },
  {
   "cell_type": "code",
   "execution_count": null,
   "metadata": {},
   "outputs": [],
   "source": [
    "df1 = pd.DataFrame.from_dict(target_motifs_perisomatic, orient='index',columns=[f'{target}_perisomatic'])\n",
    "df2 = pd.DataFrame.from_dict(target_motifs_distal, orient='index',columns=[f'{target}_distal'])\n",
    "\n",
    "df_peridistal = pd.concat([df1,df2],axis=1)\n",
    "df_peridistal['ratio'] = df_peridistal[f'{target}_perisomatic']/df_peridistal[f'{target}_distal']\n",
    "df_peridistal.to_csv(f'{save_dir}/{target}_triplet_ratios_peridistal.csv')"
   ]
  },
  {
   "cell_type": "code",
   "execution_count": null,
   "metadata": {},
   "outputs": [],
   "source": [
    "chosen_df = df_peridistal.ratio[3:]\n",
    "chosen_df.plot(figsize=(10,5),title=f'{target} motif ratio')\n",
    "# plot all xticklabels\n",
    "plt.xticks(np.arange(len(df_peridistal)-3), df_peridistal.index[3:])\n",
    "# horizontal line at y=1\n",
    "plt.axhline(y=1, color='r', linestyle='-')\n",
    "plt.ylabel('Ratio')\n",
    "plt.savefig(f'{save_dir}/{target}_triplet_ratios_peridistal.png',dpi=300)\n",
    "plt.show()\n",
    "\n",
    "chosen_df.plot(figsize=(10,5),title=f'{target} motif ratio')\n",
    "# plot all xticklabels\n",
    "plt.xticks(np.arange(len(df_peridistal)-3), df_peridistal.index[3:])\n",
    "# horizontal line at y=1\n",
    "plt.yscale('log')\n",
    "plt.axhline(y=1, color='r', linestyle='-')\n",
    "plt.ylabel('Ratio')\n",
    "plt.savefig(f'{save_dir}/{target}_triplet_ratios_peridistal_log.png',dpi=300)\n",
    "plt.show()\n"
   ]
  },
  {
   "cell_type": "markdown",
   "metadata": {},
   "source": [
    "# Combined figure 7D"
   ]
  },
  {
   "cell_type": "code",
   "execution_count": null,
   "metadata": {},
   "outputs": [],
   "source": [
    "df_ei = pd.read_csv(f'{save_dir}/{target}_triplet_ratios_EI.csv',index_col=0)\n",
    "df_peridistal = pd.read_csv(f'{save_dir}/{target}_triplet_ratios_peridistal.csv',index_col=0)"
   ]
  },
  {
   "cell_type": "code",
   "execution_count": null,
   "metadata": {},
   "outputs": [],
   "source": [
    "chosen_df1 = df_ei.ratio[3:]\n",
    "# chosen_df1.plot(figsize=(10,5),title=f'{target} motif ratio')\n",
    "# add black triangles and blue lines connecting for every point in the plot and lines\n",
    "chosen_df1.plot(style='^-',ms=10,figsize=(10,5))\n",
    "\n",
    "chosen_df2= df_peridistal.ratio[3:]\n",
    "chosen_df2.plot(style='o-r',ms=10,figsize=(10,5))\n",
    "\n",
    "\n",
    "# plot all xticklabels\n",
    "plt.xticks(np.arange(len(df_peridistal)-3), df_peridistal.index[3:])\n",
    "# horizontal line at y=1\n",
    "plt.axhline(y=1, color='k', linestyle='-')\n",
    "plt.ylabel('Ratio')\n",
    "plt.legend(['CA1 Pyr:Int','CA1 PST:Other'])\n",
    "plt.savefig(f'{save_dir}/{target}_Rees2016_Fig7D.png',dpi=300)\n",
    "plt.show()\n"
   ]
  },
  {
   "cell_type": "code",
   "execution_count": null,
   "metadata": {},
   "outputs": [],
   "source": []
  }
 ],
 "metadata": {
  "kernelspec": {
   "display_name": "venv2022",
   "language": "python",
   "name": "venv2022"
  },
  "language_info": {
   "codemirror_mode": {
    "name": "ipython",
    "version": 3
   },
   "file_extension": ".py",
   "mimetype": "text/x-python",
   "name": "python",
   "nbconvert_exporter": "python",
   "pygments_lexer": "ipython3",
   "version": "3.8.3"
  },
  "vscode": {
   "interpreter": {
    "hash": "4e7fcdc16c37278aa1aa2d217ebf3b3a1502b965886d3da577692cfb83477afa"
   }
  }
 },
 "nbformat": 4,
 "nbformat_minor": 4
}
