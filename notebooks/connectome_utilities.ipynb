{
 "cells": [
  {
   "cell_type": "code",
   "execution_count": 1,
   "metadata": {},
   "outputs": [],
   "source": [
    "import numpy, pandas\n",
    "import bluepysnap as snap\n",
    "import conntility\n",
    "import os\n",
    "\n",
    "from scipy.spatial import distance\n",
    "from matplotlib import pyplot as plt"
   ]
  },
  {
   "cell_type": "code",
   "execution_count": 4,
   "metadata": {},
   "outputs": [],
   "source": [
    "circuit_config_path = '/gpfs/bbp.cscs.ch/project/proj112/circuits/CA1/20211110-BioM/sonata/circuit_config.json'\n",
    "CIRC = snap.Circuit(circuit_config_path)"
   ]
  },
  {
   "cell_type": "code",
   "execution_count": 46,
   "metadata": {},
   "outputs": [],
   "source": [
    "load_cfg = {\n",
    "        \"loading\": {\n",
    "            \"properties\": [\"x\", \"y\", \"z\", \"morphology\", \"layer\"],\n",
    "            \"base_target\": \"cylinder300\",\n",
    "            },\n",
    "            \"filtering\": [\n",
    "        {\n",
    "            \"column\": \"layer\",\n",
    "            \"values\": [\"SO\",'SLM']\n",
    "        }\n",
    "            ]\n",
    "            }"
   ]
  },
  {
   "cell_type": "code",
   "execution_count": 47,
   "metadata": {},
   "outputs": [
    {
     "data": {
      "text/plain": [
       "['CA3_projections__hippocampus_neurons__chemical_synapse',\n",
       " 'hippocampus_neurons__hippocampus_neurons__chemical_synapse']"
      ]
     },
     "execution_count": 47,
     "metadata": {},
     "output_type": "execute_result"
    }
   ],
   "source": [
    "CIRC.edges.population_names"
   ]
  },
  {
   "cell_type": "code",
   "execution_count": 48,
   "metadata": {},
   "outputs": [
    {
     "name": "stderr",
     "output_type": "stream",
     "text": [
      "100%|██████████| 102/102 [00:00<00:00, 304.98it/s]\n"
     ]
    }
   ],
   "source": [
    "M = conntility.ConnectivityMatrix.from_bluepy(CIRC,load_config=load_cfg,connectome='hippocampus_neurons__hippocampus_neurons__chemical_synapse')"
   ]
  },
  {
   "cell_type": "code",
   "execution_count": 39,
   "metadata": {},
   "outputs": [
    {
     "data": {
      "text/plain": [
       "<6952x6952 sparse matrix of type '<class 'numpy.bool_'>'\n",
       "\twith 108197 stored elements in COOrdinate format>"
      ]
     },
     "execution_count": 39,
     "metadata": {},
     "output_type": "execute_result"
    }
   ],
   "source": [
    "M.matrix"
   ]
  },
  {
   "cell_type": "code",
   "execution_count": 52,
   "metadata": {},
   "outputs": [
    {
     "name": "stderr",
     "output_type": "stream",
     "text": [
      "100%|██████████| 6213/6213 [00:48<00:00, 127.06it/s]\n"
     ]
    }
   ],
   "source": [
    "load_cfg = {\n",
    "        \"loading\": {\n",
    "            \"properties\": [\"x\", \"y\", \"z\", \"morphology\", \"layer\"],\n",
    "            \"atlas\": [\n",
    "            {\n",
    "                \"data\": \"/gpfs/bbp.cscs.ch/project/proj112/entities/atlas/20211004_BioM/flatmap_lt.nrrd\",  # Should be included in this repository\n",
    "                \"properties\": [\"longit\", \"transverse\"]\n",
    "            }\n",
    "        ],\n",
    "            \"base_target\": \"cylinder300\",\n",
    "            }\n",
    "            }\n",
    "\n",
    "M = conntility.ConnectivityMatrix.from_bluepy(CIRC,load_config=load_cfg,connectome='hippocampus_neurons__hippocampus_neurons__chemical_synapse')"
   ]
  },
  {
   "cell_type": "code",
   "execution_count": 56,
   "metadata": {},
   "outputs": [],
   "source": [
    "save_dir = '/gpfs/bbp.cscs.ch/project/proj112/home/kurban/topology_paper/toolbox/graph_analysis/output/data/cylinder300_connectivity.h5'\n",
    "M.to_h5(save_dir,group_name='cylinder300',prefix='connectivity')"
   ]
  },
  {
   "cell_type": "code",
   "execution_count": 54,
   "metadata": {},
   "outputs": [
    {
     "name": "stdout",
     "output_type": "stream",
     "text": [
      "31M\tcylinder300_connectivity.h5\n"
     ]
    }
   ],
   "source": [
    "!du -sh cylinder300_connectivity.h5"
   ]
  },
  {
   "cell_type": "code",
   "execution_count": 55,
   "metadata": {},
   "outputs": [
    {
     "name": "stdout",
     "output_type": "stream",
     "text": [
      "/                        Group\n",
      "/connectivity            Group\n",
      "/connectivity/cylinder300 Group\n",
      "/connectivity/cylinder300/edge_indices Group\n",
      "/connectivity/cylinder300/edge_indices/axis0 Dataset {2}\n",
      "/connectivity/cylinder300/edge_indices/axis1 Dataset {1236142}\n",
      "/connectivity/cylinder300/edge_indices/block0_items Dataset {2}\n",
      "/connectivity/cylinder300/edge_indices/block0_values Dataset {1236142, 2}\n",
      "/connectivity/cylinder300/edges Group\n",
      "/connectivity/cylinder300/edges/axis0 Dataset {1}\n",
      "/connectivity/cylinder300/edges/axis1 Dataset {1236142}\n",
      "/connectivity/cylinder300/edges/block0_items Dataset {1}\n",
      "/connectivity/cylinder300/edges/block0_values Dataset {1236142, 1}\n",
      "/connectivity/cylinder300/vertex_properties Group\n",
      "/connectivity/cylinder300/vertex_properties/_i_table Group\n",
      "/connectivity/cylinder300/vertex_properties/_i_table/index Group\n",
      "/connectivity/cylinder300/vertex_properties/_i_table/index/abounds Dataset {0/Inf}\n",
      "/connectivity/cylinder300/vertex_properties/_i_table/index/bounds Dataset {0/Inf, 127}\n",
      "/connectivity/cylinder300/vertex_properties/_i_table/index/indices Dataset {0/Inf, 131072}\n",
      "/connectivity/cylinder300/vertex_properties/_i_table/index/indicesLR Dataset {131072}\n",
      "/connectivity/cylinder300/vertex_properties/_i_table/index/mbounds Dataset {0/Inf}\n",
      "/connectivity/cylinder300/vertex_properties/_i_table/index/mranges Dataset {0/Inf}\n",
      "/connectivity/cylinder300/vertex_properties/_i_table/index/ranges Dataset {0/Inf, 2}\n",
      "/connectivity/cylinder300/vertex_properties/_i_table/index/sorted Dataset {0/Inf, 131072}\n",
      "/connectivity/cylinder300/vertex_properties/_i_table/index/sortedLR Dataset {131201}\n",
      "/connectivity/cylinder300/vertex_properties/_i_table/index/zbounds Dataset {0/Inf}\n",
      "/connectivity/cylinder300/vertex_properties/meta Group\n",
      "/connectivity/cylinder300/vertex_properties/meta/values_block_0 Group\n",
      "/connectivity/cylinder300/vertex_properties/meta/values_block_0/meta Group\n",
      "/connectivity/cylinder300/vertex_properties/meta/values_block_0/meta/_i_table Group\n",
      "/connectivity/cylinder300/vertex_properties/meta/values_block_0/meta/_i_table/index Group\n",
      "/connectivity/cylinder300/vertex_properties/meta/values_block_0/meta/_i_table/index/abounds Dataset {0/Inf}\n",
      "/connectivity/cylinder300/vertex_properties/meta/values_block_0/meta/_i_table/index/bounds Dataset {0/Inf, 127}\n",
      "/connectivity/cylinder300/vertex_properties/meta/values_block_0/meta/_i_table/index/indices Dataset {0/Inf, 131072}\n",
      "/connectivity/cylinder300/vertex_properties/meta/values_block_0/meta/_i_table/index/indicesLR Dataset {131072}\n",
      "/connectivity/cylinder300/vertex_properties/meta/values_block_0/meta/_i_table/index/mbounds Dataset {0/Inf}\n",
      "/connectivity/cylinder300/vertex_properties/meta/values_block_0/meta/_i_table/index/mranges Dataset {0/Inf}\n",
      "/connectivity/cylinder300/vertex_properties/meta/values_block_0/meta/_i_table/index/ranges Dataset {0/Inf, 2}\n",
      "/connectivity/cylinder300/vertex_properties/meta/values_block_0/meta/_i_table/index/sorted Dataset {0/Inf, 131072}\n",
      "/connectivity/cylinder300/vertex_properties/meta/values_block_0/meta/_i_table/index/sortedLR Dataset {131201}\n",
      "/connectivity/cylinder300/vertex_properties/meta/values_block_0/meta/_i_table/index/zbounds Dataset {0/Inf}\n",
      "/connectivity/cylinder300/vertex_properties/meta/values_block_0/meta/_i_table/values Group\n",
      "/connectivity/cylinder300/vertex_properties/meta/values_block_0/meta/_i_table/values/abounds Dataset {0/Inf}\n",
      "/connectivity/cylinder300/vertex_properties/meta/values_block_0/meta/_i_table/values/bounds Dataset {0/Inf, 127}\n",
      "/connectivity/cylinder300/vertex_properties/meta/values_block_0/meta/_i_table/values/indices Dataset {0/Inf, 131072}\n",
      "/connectivity/cylinder300/vertex_properties/meta/values_block_0/meta/_i_table/values/indicesLR Dataset {131072}\n",
      "/connectivity/cylinder300/vertex_properties/meta/values_block_0/meta/_i_table/values/mbounds Dataset {0/Inf}\n",
      "/connectivity/cylinder300/vertex_properties/meta/values_block_0/meta/_i_table/values/mranges Dataset {0/Inf}\n",
      "/connectivity/cylinder300/vertex_properties/meta/values_block_0/meta/_i_table/values/ranges Dataset {0/Inf, 2}\n",
      "/connectivity/cylinder300/vertex_properties/meta/values_block_0/meta/_i_table/values/sorted Dataset {0/Inf, 131072}\n",
      "/connectivity/cylinder300/vertex_properties/meta/values_block_0/meta/_i_table/values/sortedLR Dataset {131201}\n",
      "/connectivity/cylinder300/vertex_properties/meta/values_block_0/meta/_i_table/values/zbounds Dataset {0/Inf}\n",
      "/connectivity/cylinder300/vertex_properties/meta/values_block_0/meta/table Dataset {4/Inf}\n",
      "/connectivity/cylinder300/vertex_properties/meta/values_block_1 Group\n",
      "/connectivity/cylinder300/vertex_properties/meta/values_block_1/meta Group\n",
      "/connectivity/cylinder300/vertex_properties/meta/values_block_1/meta/_i_table Group\n",
      "/connectivity/cylinder300/vertex_properties/meta/values_block_1/meta/_i_table/index Group\n",
      "/connectivity/cylinder300/vertex_properties/meta/values_block_1/meta/_i_table/index/abounds Dataset {0/Inf}\n",
      "/connectivity/cylinder300/vertex_properties/meta/values_block_1/meta/_i_table/index/bounds Dataset {0/Inf, 127}\n",
      "/connectivity/cylinder300/vertex_properties/meta/values_block_1/meta/_i_table/index/indices Dataset {0/Inf, 131072}\n",
      "/connectivity/cylinder300/vertex_properties/meta/values_block_1/meta/_i_table/index/indicesLR Dataset {131072}\n",
      "/connectivity/cylinder300/vertex_properties/meta/values_block_1/meta/_i_table/index/mbounds Dataset {0/Inf}\n",
      "/connectivity/cylinder300/vertex_properties/meta/values_block_1/meta/_i_table/index/mranges Dataset {0/Inf}\n",
      "/connectivity/cylinder300/vertex_properties/meta/values_block_1/meta/_i_table/index/ranges Dataset {0/Inf, 2}\n",
      "/connectivity/cylinder300/vertex_properties/meta/values_block_1/meta/_i_table/index/sorted Dataset {0/Inf, 131072}\n",
      "/connectivity/cylinder300/vertex_properties/meta/values_block_1/meta/_i_table/index/sortedLR Dataset {131201}\n",
      "/connectivity/cylinder300/vertex_properties/meta/values_block_1/meta/_i_table/index/zbounds Dataset {0/Inf}\n",
      "/connectivity/cylinder300/vertex_properties/meta/values_block_1/meta/_i_table/values Group\n",
      "/connectivity/cylinder300/vertex_properties/meta/values_block_1/meta/_i_table/values/abounds Dataset {0/Inf}\n",
      "/connectivity/cylinder300/vertex_properties/meta/values_block_1/meta/_i_table/values/bounds Dataset {0/Inf, 127}\n",
      "/connectivity/cylinder300/vertex_properties/meta/values_block_1/meta/_i_table/values/indices Dataset {0/Inf, 131072}\n",
      "/connectivity/cylinder300/vertex_properties/meta/values_block_1/meta/_i_table/values/indicesLR Dataset {131072}\n",
      "/connectivity/cylinder300/vertex_properties/meta/values_block_1/meta/_i_table/values/mbounds Dataset {0/Inf}\n",
      "/connectivity/cylinder300/vertex_properties/meta/values_block_1/meta/_i_table/values/mranges Dataset {0/Inf}\n",
      "/connectivity/cylinder300/vertex_properties/meta/values_block_1/meta/_i_table/values/ranges Dataset {0/Inf, 2}\n",
      "/connectivity/cylinder300/vertex_properties/meta/values_block_1/meta/_i_table/values/sorted Dataset {0/Inf, 131072}\n",
      "/connectivity/cylinder300/vertex_properties/meta/values_block_1/meta/_i_table/values/sortedLR Dataset {131201}\n",
      "/connectivity/cylinder300/vertex_properties/meta/values_block_1/meta/_i_table/values/zbounds Dataset {0/Inf}\n",
      "/connectivity/cylinder300/vertex_properties/meta/values_block_1/meta/table Dataset {2523/Inf}\n",
      "/connectivity/cylinder300/vertex_properties/table Dataset {6213/Inf}\n"
     ]
    }
   ],
   "source": [
    "!h5ls -r cylinder300_connectivity.h5"
   ]
  },
  {
   "cell_type": "code",
   "execution_count": 57,
   "metadata": {},
   "outputs": [
    {
     "name": "stderr",
     "output_type": "stream",
     "text": [
      "100%|██████████| 964/964 [00:01<00:00, 680.72it/s]\n"
     ]
    }
   ],
   "source": [
    "load_cfg = {\n",
    "        \"loading\": {\n",
    "            \"properties\": [\"x\", \"y\", \"z\", \"morphology\", \"layer\"],\n",
    "            \"atlas\": [\n",
    "            {\n",
    "                \"data\": \"/gpfs/bbp.cscs.ch/project/proj112/entities/atlas/20211004_BioM/flatmap_lt.nrrd\",  # Should be included in this repository\n",
    "                \"properties\": [\"longit\", \"transverse\"]\n",
    "            }\n",
    "        ],\n",
    "            \"base_target\": \"PV\",\n",
    "            \n",
    "            },\n",
    "            \"filtering\": [\n",
    "        {\n",
    "            \"column\": \"layer\",\n",
    "            \"values\": [\"SO\",'SLM']\n",
    "        }\n",
    "            ]\n",
    "            }\n",
    "\n",
    "M = conntility.ConnectivityMatrix.from_bluepy(CIRC,load_config=load_cfg,connectome='hippocampus_neurons__hippocampus_neurons__chemical_synapse')"
   ]
  },
  {
   "cell_type": "code",
   "execution_count": 58,
   "metadata": {},
   "outputs": [
    {
     "name": "stderr",
     "output_type": "stream",
     "text": [
      "100%|██████████| 516/516 [00:25<00:00, 20.09it/s]\n"
     ]
    }
   ],
   "source": [
    "load_cfg = {\n",
    "        \"loading\": {\n",
    "            \"properties\": [\"x\", \"y\", \"z\", \"morphology\", \"layer\"],\n",
    "            \"atlas\": [\n",
    "            {\n",
    "                \"data\": \"/gpfs/bbp.cscs.ch/project/proj112/entities/atlas/20211004_BioM/flatmap_lt.nrrd\",  # Should be included in this repository\n",
    "                \"properties\": [\"longit\", \"transverse\"]\n",
    "            }\n",
    "        ],\n",
    "            \"base_target\": \"PV\",\n",
    "            \n",
    "            },\n",
    "            \"filtering\": [\n",
    "        {\n",
    "            \"column\": \"longit\",\n",
    "            \"interval\": [0.4, 0.5]\n",
    "        },\n",
    "        {\n",
    "            \"column\": \"transverse\",\n",
    "            \"interval\": [0.4, 0.6]\n",
    "        }\n",
    "            ]\n",
    "            }\n",
    "\n",
    "M = conntility.ConnectivityMatrix.from_bluepy(CIRC,load_config=load_cfg,connectome='hippocampus_neurons__hippocampus_neurons__chemical_synapse')"
   ]
  },
  {
   "cell_type": "code",
   "execution_count": null,
   "metadata": {},
   "outputs": [],
   "source": []
  }
 ],
 "metadata": {
  "kernelspec": {
   "display_name": "venv_lab310",
   "language": "python",
   "name": "venv_lab310"
  },
  "language_info": {
   "codemirror_mode": {
    "name": "ipython",
    "version": 3
   },
   "file_extension": ".py",
   "mimetype": "text/x-python",
   "name": "python",
   "nbconvert_exporter": "python",
   "pygments_lexer": "ipython3",
   "version": "3.10.8"
  }
 },
 "nbformat": 4,
 "nbformat_minor": 2
}
