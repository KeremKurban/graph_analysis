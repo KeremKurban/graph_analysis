{
 "cells": [
  {
   "cell_type": "code",
   "execution_count": 6,
   "metadata": {},
   "outputs": [],
   "source": [
    "from graph_analysis import GraphAnalysis"
   ]
  },
  {
   "cell_type": "code",
   "execution_count": 7,
   "metadata": {},
   "outputs": [],
   "source": [
    "from information_flow import InformationFlow"
   ]
  },
  {
   "cell_type": "code",
   "execution_count": 11,
   "metadata": {},
   "outputs": [],
   "source": [
    "from scipy import sparse\n",
    "from bluepysnap import Circuit"
   ]
  },
  {
   "cell_type": "code",
   "execution_count": 12,
   "metadata": {},
   "outputs": [],
   "source": [
    "adj_path = '/gpfs/bbp.cscs.ch/project/proj112/circuits/CA1/20211110-BioM/data/ca1_synaptome.npz'\n",
    "synaptome = sparse.load_npz(adj_path)\n",
    "\n",
    "analysis = GraphAnalysis(synaptome,'out')\n",
    "\n",
    "CIRCUIT_DIR =  '/gpfs/bbp.cscs.ch/project/proj112/circuits/CA1/20211110-BioM/sonata/circuit_config.json'\n",
    "circuit = Circuit(CIRCUIT_DIR)\n",
    "nodes = circuit.nodes[\"hippocampus_neurons\"]\n",
    "edges = circuit.edges[\"hippocampus_neurons__hippocampus_neurons__chemical_synapse\"]\n"
   ]
  },
  {
   "cell_type": "code",
   "execution_count": null,
   "metadata": {},
   "outputs": [],
   "source": [
    "save_dir = '/gpfs/bbp.cscs.ch/project/proj112/home/kurban/topology_paper/data/common_neighbor'\n",
    "os.makedirs(save_dir,exist_ok=True)\n",
    "# mtypes_by_gid = c.nodes['hippocampus_neurons'].get().mtype.values\n",
    "# high,low = analysis.bandwidth_groups(2, mtypes_by_gid)\n",
    "\n",
    "logging.info('Testing common neighbor bias')\n",
    "analysis.common_neighbor_efferent(nodes,edges,save_dir,'Excitatory',n_smpl=2500)"
   ]
  },
  {
   "cell_type": "code",
   "execution_count": null,
   "metadata": {},
   "outputs": [],
   "source": []
  }
 ],
 "metadata": {
  "kernelspec": {
   "display_name": "venv2022",
   "language": "python",
   "name": "venv2022"
  },
  "language_info": {
   "codemirror_mode": {
    "name": "ipython",
    "version": 3
   },
   "file_extension": ".py",
   "mimetype": "text/x-python",
   "name": "python",
   "nbconvert_exporter": "python",
   "pygments_lexer": "ipython3",
   "version": "3.8.3"
  }
 },
 "nbformat": 4,
 "nbformat_minor": 4
}
