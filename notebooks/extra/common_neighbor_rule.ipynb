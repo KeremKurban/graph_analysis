{
 "cells": [
  {
   "cell_type": "code",
   "execution_count": null,
   "metadata": {},
   "outputs": [],
   "source": [
    "import numpy\n",
    "import json\n",
    "import numpy as np\n",
    "\n",
    "from scipy import sparse\n",
    "from scipy.stats import hypergeom\n",
    "from scipy import spatial\n",
    "\n",
    "from matplotlib import pyplot as plt\n",
    "from matplotlib.colors import LogNorm\n",
    "\n",
    "from bluepysnap import Circuit"
   ]
  },
  {
   "cell_type": "code",
   "execution_count": null,
   "metadata": {},
   "outputs": [],
   "source": [
    "circuit_path = '/home/data-bbp/20191017/circuit_config.json'\n",
    "circuit = Circuit(circuit_path)\n",
    "cells = circuit.nodes[\"hippocampus_neurons\"]\n",
    "conn = circuit.edges[\"hippocampus_neurons__hippocampus_neurons__chemical\"]\n",
    "\n",
    "analyze_population = 'Excitatory'\n",
    "n_smpl = 2500\n",
    "analyze_gids = cells.ids(analyze_population, sample=n_smpl)  # get the identifiers of target neurons\n",
    "print(len(analyze_gids))"
   ]
  },
  {
   "cell_type": "code",
   "execution_count": null,
   "metadata": {},
   "outputs": [],
   "source": [
    "def efferent_con_mat(pop_gids):\n",
    "    '''Returns a sparse matrix of the EFFERENT connectivity of neurons in\n",
    "    the specified population'''\n",
    "    shape = (len(pop_gids), cells.size) # The output shape is (number of neurons in population x number of neurons in circuit)\n",
    "    post = [conn.efferent_nodes(_g) for _g in pop_gids]  # Get identifiers of connected neurons\n",
    "    \n",
    "    '''prepare the sparse matrix representation, where the column indices for row i are stored in\n",
    "    \"indices[indptr[i]:indptr[i+1]]\" and their corresponding values are stored in \"data[indptr[i]:indptr[i+1]]\".'''\n",
    "    indptr = numpy.hstack((0, numpy.cumsum(list(map(len, post)))))\n",
    "    indices = numpy.hstack(post)\n",
    "    data = numpy.ones_like(indices, dtype=bool) # Simple boolean connection matrix. A connection exists or not.\n",
    "    return sparse.csr_matrix((data, indices, indptr), shape=shape)\n",
    "\n",
    "#For this example, we will look at connectivity and common neighbors between L5_MC neurons.\n",
    "connections = efferent_con_mat(analyze_gids)"
   ]
  },
  {
   "cell_type": "code",
   "execution_count": null,
   "metadata": {},
   "outputs": [],
   "source": [
    "# Let's look at the result\n",
    "vmin = np.min(connections) + 0.01   # +0.01 to avoid log(0) inside the plot\n",
    "vmax = np.max(connections)\n",
    "\n",
    "ax = plt.figure().add_axes([0.1, 0.1, 0.8, 0.8])\n",
    "ax.imshow(connections.toarray()[:1000, 9000:10000], cmap='Reds', norm=LogNorm(vmin=vmin, vmax=vmax))"
   ]
  },
  {
   "cell_type": "code",
   "execution_count": null,
   "metadata": {},
   "outputs": [],
   "source": [
    "def common_efferent_neighbors(M):\n",
    "    CN = M.astype(int) * M.astype(int).transpose() # need to convert to int, so that neighbors are counted\n",
    "    return CN.toarray()\n",
    "\n",
    "com_neighs = common_efferent_neighbors(connections)\n",
    "vmin = np.min(com_neighs) + 0.01   # +0.01 to avoid log(0) inside the plot\n",
    "vmax = np.max(com_neighs)\n",
    "\n",
    "ax = plt.figure().add_axes([0.1, 0.1, 0.8, 0.8])\n",
    "ax.imshow(com_neighs, cmap='Reds', norm=LogNorm(vmin=vmin, vmax=vmax));"
   ]
  },
  {
   "cell_type": "code",
   "execution_count": null,
   "metadata": {},
   "outputs": [],
   "source": [
    "def cn_mat_to_histogram(CN, bins):\n",
    "    '''limit to upper triangular matrix. This excludes the diagonal entries and redundant entries, because the common\n",
    "    neighbor matrix is always symmetrical!\n",
    "    '''\n",
    "    return numpy.histogram(numpy.triu(CN, 1), bins=bins)[0]\n",
    "\n",
    "xbins = numpy.arange(502) # count from 0 to 500 common neighbors\n",
    "H = cn_mat_to_histogram(com_neighs, xbins)"
   ]
  },
  {
   "cell_type": "code",
   "execution_count": null,
   "metadata": {},
   "outputs": [],
   "source": [
    "def control_erdos_renyi_histogram(CN, N, bins):\n",
    "    out_degrees = numpy.diag(CN)\n",
    "    '''Note: Here, we simply draw a random sample for each pair of neurons.\n",
    "    Better, but more expensive would be to evaluate the probability mass function\n",
    "    for all bins and for all pairs.'''\n",
    "    expected = [hypergeom(N, d_A, out_degrees[(i+1):]).rvs()\n",
    "                for i, d_A in enumerate(out_degrees)]\n",
    "    return numpy.histogram(numpy.hstack(expected), bins=bins)[0]\n",
    "\n",
    "H_ctrl_er = control_erdos_renyi_histogram(com_neighs, connections.shape[1], xbins)\n",
    "\n",
    "ax = plt.figure().add_axes([0.1, 0.1, 0.8, 0.8])\n",
    "ax.plot(xbins[:-1], H, color='red', marker='o', label='Experiment')\n",
    "ax.plot(xbins[:-1], H_ctrl_er, color='black', marker='o', label='Control (ER)')\n",
    "ax.set_yscale('log'); ax.legend(); ax.set_xlabel('Common neighbors'); ax.set_ylabel('Pairs')\n"
   ]
  },
  {
   "cell_type": "code",
   "execution_count": null,
   "metadata": {},
   "outputs": [],
   "source": [
    "nbins = 50\n",
    "\n",
    "def connect_keep_dist_dep(D, C, nbins):\n",
    "    '''Randomly connect a number of neurons, keeping their distance dependence intact.\n",
    "    D: Matrix (AxN) of distances to all other neurons in the circuit\n",
    "    C: Matrix (AxN) of connections to all other neurons in the circuit (boolean)'''\n",
    "    dbins = numpy.linspace(0, D.max(), nbins + 1) + 0.1\n",
    "    Di = numpy.digitize(D, bins=dbins) - 1\n",
    "    H_connected = numpy.histogram(Di[C.toarray()], bins=range(nbins + 1))[0]\n",
    "    H_all = numpy.histogram(Di, bins=range(nbins + 1))[0]\n",
    "    P = H_connected.astype(float) / H_all\n",
    "    n_eff = numpy.array(C.sum(axis=1)).transpose()[0]\n",
    "    indptr = [0]\n",
    "    indices = []\n",
    "    for row, n in zip(Di, n_eff):\n",
    "        p_row = P[row]\n",
    "        p_row[row == -1] = 0\n",
    "        p_row = p_row / p_row.sum()\n",
    "        rnd = numpy.random.choice(len(row), n, replace=False, p=p_row)\n",
    "        indices.extend(rnd)\n",
    "        indptr.append(indptr[-1] + n)\n",
    "    data = numpy.ones_like(indices, dtype=bool)\n",
    "    return sparse.csr_matrix((data, indices, indptr), shape=D.shape)\n",
    "\n",
    "xyz = cells.positions()\n",
    "# get distance matrix as an input\n",
    "D = spatial.distance_matrix(xyz.loc[analyze_gids], xyz)\n",
    "\n",
    "# generate random instance\n",
    "rnd_connections = connect_keep_dist_dep(D, connections, nbins)\n",
    "\n",
    "# compare distribution of distances of connected neurons\n",
    "ax = plt.figure().add_axes([0.1, 0.1, 0.8, 0.8])\n",
    "ax.plot(sorted(D[connections.toarray()]), label='Data')\n",
    "ax.plot(sorted(D[rnd_connections.toarray()]), label='Control')\n",
    "ax.legend(); ax.set_xlabel('Connection #'); ax.set_ylabel('Distance (um)');"
   ]
  },
  {
   "cell_type": "code",
   "execution_count": null,
   "metadata": {},
   "outputs": [],
   "source": [
    "rnd_com_neighs = common_efferent_neighbors(rnd_connections)\n",
    "rnd_H = cn_mat_to_histogram(rnd_com_neighs, xbins)\n",
    "\n",
    "ax = plt.figure().add_axes([0.1, 0.1, 0.8, 0.8])\n",
    "ax.plot(xbins[:-1], H, color='red', marker='o', label='Experiment')\n",
    "ax.plot(xbins[:-1], rnd_H, color='black', marker='o', label='Control (Dist-dep.)')\n",
    "ax.set_yscale('log'); ax.legend(); ax.set_xlabel('Common neighbors'); ax.set_ylabel('Pairs');"
   ]
  },
  {
   "cell_type": "code",
   "execution_count": null,
   "metadata": {},
   "outputs": [],
   "source": [
    "def cn_bias_1(H_data, H_ctrl):\n",
    "    assert len(H_data) == len(H_ctrl)\n",
    "    log_data = numpy.log10(H_data[1:]) # exclude the bin at 0\n",
    "    log_ctrl = numpy.log10(H_ctrl[1:])\n",
    "    idx_data = numpy.nonzero(~numpy.isinf(log_data))[0] # exclude zero bins\n",
    "    idx_ctrl = numpy.nonzero(~numpy.isinf(log_ctrl))[0]\n",
    "    slope_data = numpy.polyfit(idx_data.astype(float), log_data[idx_data], 1)[0]\n",
    "    slope_ctrl = numpy.polyfit(idx_ctrl.astype(float), log_ctrl[idx_ctrl], 1)[0]\n",
    "    return (slope_ctrl - slope_data) / slope_ctrl\n",
    "\n",
    "print(cn_bias_1(H, rnd_H))"
   ]
  }
 ],
 "metadata": {
  "kernelspec": {
   "display_name": "venv2022",
   "language": "python",
   "name": "venv2022"
  },
  "language_info": {
   "codemirror_mode": {
    "name": "ipython",
    "version": 3
   },
   "file_extension": ".py",
   "mimetype": "text/x-python",
   "name": "python",
   "nbconvert_exporter": "python",
   "pygments_lexer": "ipython3",
   "version": "3.8.3"
  }
 },
 "nbformat": 4,
 "nbformat_minor": 4
}
