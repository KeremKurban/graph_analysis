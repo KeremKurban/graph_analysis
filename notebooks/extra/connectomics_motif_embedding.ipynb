{
  "cells": [
    {
      "cell_type": "markdown",
      "metadata": {
        "id": "lxQXSF5vlOQN"
      },
      "source": [
        "![](https://github.com/gialdetti/netsci/blob/master/examples/images/blue_brain_neurons.colorful.png?raw=1)"
      ]
    },
    {
      "cell_type": "markdown",
      "metadata": {
        "id": "Www3PoBUlOQS"
      },
      "source": [
        "# Analyzing Connectomics Data\n",
        "---\n",
        "The `netsci` package comes with an out-of-box dataset describing the [neuronal network](https://en.wikipedia.org/wiki/Neural_network) among ~2,000 neurons from a rat brain. In this notebook, we shortly explain the nature of this data and demonstrate a basic network analysis applied upon it.\n",
        "\n",
        "Essentially, after completing this tutorial, you will know:\n",
        "1. What are the brain's neural networks and what is the connectome.\n",
        "2. How to load the (toy) connectomics data and convert it to a network.\n",
        "3. How to identify and count three-node motifs in a network.\n",
        "4. That, in neuronal networks, a motif connectivity is highly related to the spatial embedding of its composing neurons.\n",
        "\n",
        "A deeper description of this network study, together with its neuroscientific context and implication, can be found in [this recent paper](https://doi.org/10.1101/656058).\n",
        "\n",
        "\n",
        "Let’s get started.\n",
        "\n",
        "\n",
        "## Connectomics\n",
        "> *You are more than your genes. You are your connectome.* --Sebastian Seung\n",
        "\n",
        "The human brain is composed of about 100 billion specialized nerve cells, [**neurons**](https://en.wikipedia.org/wiki/Neuron). Neurons can connect to up to 10,000 other target neurons each, altogether forming the vast and complex [biological neural networks](https://en.wikipedia.org/wiki/Neural_circuit). The inter-connections between neurons are formed by [**synapses**](https://en.wikipedia.org/wiki/Synapse) - structural \"junctions\" that allow transferring electric impulses, [**action potentials**](https://en.wikipedia.org/wiki/Action_potential), from one neuron the another. The precise wiring diagram of all neuronal connections, or [**the connectome**](https://en.wikipedia.org/wiki/Connectome), shapes the network-wide electric activity and underlies the different brain functions like information processing, memory, and, ultimately, behavior. However, how exactly does the network structure affect brain activity and function, is a long-standing and still open question in neuroscience for more than a century.\n",
        "\n",
        "<p style='text-align:center; margin: 20px 0'>\n",
        "    <img src='https://cdn.kastatic.org/ka-perseus-images/ee56b2d6b187d7bb192a2127ec38561e42ac7062.png'/>\n",
        "    from <a href='https://www.khanacademy.org/science/biology/human-biology/neuron-nervous-system/a/the-synapse'>www.khanacademy.org</a>\n",
        "</p>\n",
        "\n",
        "The biological connectome can be further modeled as a mathematical [**directed graph**](https://en.wikipedia.org/wiki/Directed_graph) whose [**nodes**](https://en.wikipedia.org/wiki/Glossary_of_graph_theory_terms#node) correspond to the neurons, and its [**edges**](https://en.wikipedia.org/wiki/Glossary_of_graph_theory_terms#edge) are the synaptic connections between those neurons. This network-based perspective of the brain allows utilizing tools from [**graph theory**](https://en.wikipedia.org/wiki/Graph_theory) and modern [**network science**](https://en.wikipedia.org/wiki/Network_science) to uncover key network structures that support brain functions. Such methods have already identified several network features in cortex architecture, such as the rare but highly-connected hub neurons, cliques of all-to-all connected neurons, and overall small-world topology of the cortical microcircuit.\n",
        "\n",
        "![](https://github.com/gialdetti/netsci/blob/master/examples/images/nn.4576.sketch.reduced.png?raw=1)\n",
        "\n",
        "Arguably, one of the most basic, yet still not fully explained, network structures observed in neuronal circuits are the 3-neuron subgraphs (triplets). When counting the frequency of all possible 3-nodes connectivity patterns in the network, the distribution appears highly unexpected. Specifically, few specific configurations (out of all 16 possible) stand-out and are significantly over-expressed (motifs) when compared with reference randomized networks. More surprisingly, different microcircuits across different brain regions commonly display similar over- and under-expression of the same motifs. However, despite their cross-region universality, both the origin of these motifs and their functional implication have remained elusive.\n",
        "\n",
        "![](https://github.com/gialdetti/netsci/blob/master/examples/images/ANNs.cropped.png?raw=1)"
      ]
    },
    {
      "cell_type": "markdown",
      "metadata": {
        "id": "hjig2CzelOQU"
      },
      "source": [
        "**So, what is the origin of neuronal network motifs?**\n",
        "\n",
        "In the absence of a concrete theory about the principles underlying these motifs, their emergence may be hypothetically associated with active plasticity and learning processes. But another, much more parsimonious,  possibility comes to mind. Most types of cortical neurons display highly asymmetric geometry with dendritic and axonal trees typically extending in different directions. As a consequence, the probability of forming a connection in one direction (e.g., down) may be higher than in the other direction (e.g., up). This symmetry breaking may distinctively promote some motifs while depressing others. Thus, it could be the case that the geometry per se “enforces” the complex profile of brain microcircuit motifs.\n",
        "\n",
        "The importance of this hypothesis is that if it is indeed so, then we can now see learning processes as operating on top of an innate, already structured, cortical skeleton rather than on a _tabula rasa_ network connectivity. This will strongly constrain the degree by which plasticity could further shape neural connectivity, and possible reduce the room for learning.\n",
        "\n",
        "We will test this hypothesis below. Toward this end, we will utilize the publicly available dataset of the [Blue Brain model](https://bbp.epfl.ch/nmc-portal/welcome). Specifically, we analyze here a subcircuit of it (pyramidal neurons for layer 5), that is now accessible via `netsci` API's."
      ]
    },
    {
      "cell_type": "code",
      "execution_count": null,
      "metadata": {
        "ExecuteTime": {
          "end_time": "2020-01-22T16:51:59.962075Z",
          "start_time": "2020-01-22T16:51:56.421345Z"
        },
        "colab": {
          "base_uri": "https://localhost:8080/"
        },
        "id": "lZcnbSN-lOQV",
        "outputId": "8e280e52-e390-4a74-eaa4-60fec9e7d17f"
      },
      "outputs": [
        {
          "ename": "",
          "evalue": "",
          "output_type": "error",
          "traceback": [
            "\u001b[1;31mJupyter cannot be started. Error attempting to locate Jupyter: Running cells with 'venv2022' requires the jupyter and notebook package.\n",
            "\u001b[1;31mRun the following command to install 'jupyter and notebook' into the Python environment. \n",
            "\u001b[1;31mCommand: 'python -m pip install jupyter notebook -U\n",
            "\u001b[1;31mor\n",
            "\u001b[1;31mconda install jupyter notebook -U'\n",
            "\u001b[1;31mClick <a href='https://aka.ms/installJupyterForVSCode'>here</a> for more info."
          ]
        }
      ],
      "source": [
        "!pip install plotly\n",
        "!pip install holoviews\n",
        "!pip install netsci       # required, when notebook is executed in Google Colab"
      ]
    },
    {
      "cell_type": "code",
      "execution_count": null,
      "metadata": {},
      "outputs": [],
      "source": []
    },
    {
      "cell_type": "code",
      "execution_count": 2,
      "metadata": {
        "ExecuteTime": {
          "end_time": "2020-01-22T16:52:03.360686Z",
          "start_time": "2020-01-22T16:51:59.973748Z"
        },
        "colab": {
          "base_uri": "https://localhost:8080/",
          "height": 42
        },
        "id": "XSuyUTSmlOQW",
        "outputId": "5296fb77-b888-4525-8209-e3befbfece8a",
        "scrolled": true
      },
      "outputs": [
        {
          "data": {
            "application/javascript": "(function(root) {\n  function now() {\n    return new Date();\n  }\n\n  var force = true;\n  var py_version = '3.2.2'.replace('rc', '-rc.').replace('.dev', '-dev.');\n  var is_dev = py_version.indexOf(\"+\") !== -1 || py_version.indexOf(\"-\") !== -1;\n  var reloading = false;\n  var Bokeh = root.Bokeh;\n  var bokeh_loaded = Bokeh != null && (Bokeh.version === py_version || (Bokeh.versions !== undefined && Bokeh.versions.has(py_version)));\n\n  if (typeof (root._bokeh_timeout) === \"undefined\" || force) {\n    root._bokeh_timeout = Date.now() + 5000;\n    root._bokeh_failed_load = false;\n  }\n\n  function run_callbacks() {\n    try {\n      root._bokeh_onload_callbacks.forEach(function(callback) {\n        if (callback != null)\n          callback();\n      });\n    } finally {\n      delete root._bokeh_onload_callbacks;\n    }\n    console.debug(\"Bokeh: all callbacks have finished\");\n  }\n\n  function load_libs(css_urls, js_urls, js_modules, js_exports, callback) {\n    if (css_urls == null) css_urls = [];\n    if (js_urls == null) js_urls = [];\n    if (js_modules == null) js_modules = [];\n    if (js_exports == null) js_exports = {};\n\n    root._bokeh_onload_callbacks.push(callback);\n\n    if (root._bokeh_is_loading > 0) {\n      console.debug(\"Bokeh: BokehJS is being loaded, scheduling callback at\", now());\n      return null;\n    }\n    if (js_urls.length === 0 && js_modules.length === 0 && Object.keys(js_exports).length === 0) {\n      run_callbacks();\n      return null;\n    }\n    if (!reloading) {\n      console.debug(\"Bokeh: BokehJS not loaded, scheduling load and callback at\", now());\n    }\n\n    function on_load() {\n      root._bokeh_is_loading--;\n      if (root._bokeh_is_loading === 0) {\n        console.debug(\"Bokeh: all BokehJS libraries/stylesheets loaded\");\n        run_callbacks()\n      }\n    }\n    window._bokeh_on_load = on_load\n\n    function on_error() {\n      console.error(\"failed to load \" + url);\n    }\n\n    var skip = [];\n    if (window.requirejs) {\n      window.requirejs.config({'packages': {}, 'paths': {'plotly': 'https://cdn.plot.ly/plotly-2.18.0.min', 'jspanel': 'https://cdn.jsdelivr.net/npm/jspanel4@4.12.0/dist/jspanel', 'jspanel-modal': 'https://cdn.jsdelivr.net/npm/jspanel4@4.12.0/dist/extensions/modal/jspanel.modal', 'jspanel-tooltip': 'https://cdn.jsdelivr.net/npm/jspanel4@4.12.0/dist/extensions/tooltip/jspanel.tooltip', 'jspanel-hint': 'https://cdn.jsdelivr.net/npm/jspanel4@4.12.0/dist/extensions/hint/jspanel.hint', 'jspanel-layout': 'https://cdn.jsdelivr.net/npm/jspanel4@4.12.0/dist/extensions/layout/jspanel.layout', 'jspanel-contextmenu': 'https://cdn.jsdelivr.net/npm/jspanel4@4.12.0/dist/extensions/contextmenu/jspanel.contextmenu', 'jspanel-dock': 'https://cdn.jsdelivr.net/npm/jspanel4@4.12.0/dist/extensions/dock/jspanel.dock', 'gridstack': 'https://cdn.jsdelivr.net/npm/gridstack@7.2.3/dist/gridstack-all', 'notyf': 'https://cdn.jsdelivr.net/npm/notyf@3/notyf.min'}, 'shim': {'jspanel': {'exports': 'jsPanel'}, 'gridstack': {'exports': 'GridStack'}}});\n      require([\"plotly\"], function(Plotly) {\n\twindow.Plotly = Plotly\n\ton_load()\n      })\n      require([\"jspanel\"], function(jsPanel) {\n\twindow.jsPanel = jsPanel\n\ton_load()\n      })\n      require([\"jspanel-modal\"], function() {\n\ton_load()\n      })\n      require([\"jspanel-tooltip\"], function() {\n\ton_load()\n      })\n      require([\"jspanel-hint\"], function() {\n\ton_load()\n      })\n      require([\"jspanel-layout\"], function() {\n\ton_load()\n      })\n      require([\"jspanel-contextmenu\"], function() {\n\ton_load()\n      })\n      require([\"jspanel-dock\"], function() {\n\ton_load()\n      })\n      require([\"gridstack\"], function(GridStack) {\n\twindow.GridStack = GridStack\n\ton_load()\n      })\n      require([\"notyf\"], function() {\n\ton_load()\n      })\n      root._bokeh_is_loading = css_urls.length + 10;\n    } else {\n      root._bokeh_is_loading = css_urls.length + js_urls.length + js_modules.length + Object.keys(js_exports).length;\n    }\n\n    var existing_stylesheets = []\n    var links = document.getElementsByTagName('link')\n    for (var i = 0; i < links.length; i++) {\n      var link = links[i]\n      if (link.href != null) {\n\texisting_stylesheets.push(link.href)\n      }\n    }\n    for (var i = 0; i < css_urls.length; i++) {\n      var url = css_urls[i];\n      if (existing_stylesheets.indexOf(url) !== -1) {\n\ton_load()\n\tcontinue;\n      }\n      const element = document.createElement(\"link\");\n      element.onload = on_load;\n      element.onerror = on_error;\n      element.rel = \"stylesheet\";\n      element.type = \"text/css\";\n      element.href = url;\n      console.debug(\"Bokeh: injecting link tag for BokehJS stylesheet: \", url);\n      document.body.appendChild(element);\n    }    if (((window['Plotly'] !== undefined) && (!(window['Plotly'] instanceof HTMLElement))) || window.requirejs) {\n      var urls = ['https://cdn.holoviz.org/panel/1.2.1/dist/bundled/plotlyplot/plotly-2.18.0.min.js'];\n      for (var i = 0; i < urls.length; i++) {\n        skip.push(urls[i])\n      }\n    }    if (((window['jsPanel'] !== undefined) && (!(window['jsPanel'] instanceof HTMLElement))) || window.requirejs) {\n      var urls = ['https://cdn.holoviz.org/panel/1.2.1/dist/bundled/floatpanel/jspanel4@4.12.0/dist/jspanel.js', 'https://cdn.holoviz.org/panel/1.2.1/dist/bundled/floatpanel/jspanel4@4.12.0/dist/extensions/modal/jspanel.modal.js', 'https://cdn.holoviz.org/panel/1.2.1/dist/bundled/floatpanel/jspanel4@4.12.0/dist/extensions/tooltip/jspanel.tooltip.js', 'https://cdn.holoviz.org/panel/1.2.1/dist/bundled/floatpanel/jspanel4@4.12.0/dist/extensions/hint/jspanel.hint.js', 'https://cdn.holoviz.org/panel/1.2.1/dist/bundled/floatpanel/jspanel4@4.12.0/dist/extensions/layout/jspanel.layout.js', 'https://cdn.holoviz.org/panel/1.2.1/dist/bundled/floatpanel/jspanel4@4.12.0/dist/extensions/contextmenu/jspanel.contextmenu.js', 'https://cdn.holoviz.org/panel/1.2.1/dist/bundled/floatpanel/jspanel4@4.12.0/dist/extensions/dock/jspanel.dock.js'];\n      for (var i = 0; i < urls.length; i++) {\n        skip.push(urls[i])\n      }\n    }    if (((window['GridStack'] !== undefined) && (!(window['GridStack'] instanceof HTMLElement))) || window.requirejs) {\n      var urls = ['https://cdn.holoviz.org/panel/1.2.1/dist/bundled/gridstack/gridstack@7.2.3/dist/gridstack-all.js'];\n      for (var i = 0; i < urls.length; i++) {\n        skip.push(urls[i])\n      }\n    }    if (((window['Notyf'] !== undefined) && (!(window['Notyf'] instanceof HTMLElement))) || window.requirejs) {\n      var urls = ['https://cdn.holoviz.org/panel/1.2.1/dist/bundled/notificationarea/notyf@3/notyf.min.js'];\n      for (var i = 0; i < urls.length; i++) {\n        skip.push(urls[i])\n      }\n    }    var existing_scripts = []\n    var scripts = document.getElementsByTagName('script')\n    for (var i = 0; i < scripts.length; i++) {\n      var script = scripts[i]\n      if (script.src != null) {\n\texisting_scripts.push(script.src)\n      }\n    }\n    for (var i = 0; i < js_urls.length; i++) {\n      var url = js_urls[i];\n      if (skip.indexOf(url) !== -1 || existing_scripts.indexOf(url) !== -1) {\n\tif (!window.requirejs) {\n\t  on_load();\n\t}\n\tcontinue;\n      }\n      var element = document.createElement('script');\n      element.onload = on_load;\n      element.onerror = on_error;\n      element.async = false;\n      element.src = url;\n      console.debug(\"Bokeh: injecting script tag for BokehJS library: \", url);\n      document.head.appendChild(element);\n    }\n    for (var i = 0; i < js_modules.length; i++) {\n      var url = js_modules[i];\n      if (skip.indexOf(url) !== -1 || existing_scripts.indexOf(url) !== -1) {\n\tif (!window.requirejs) {\n\t  on_load();\n\t}\n\tcontinue;\n      }\n      var element = document.createElement('script');\n      element.onload = on_load;\n      element.onerror = on_error;\n      element.async = false;\n      element.src = url;\n      element.type = \"module\";\n      console.debug(\"Bokeh: injecting script tag for BokehJS library: \", url);\n      document.head.appendChild(element);\n    }\n    for (const name in js_exports) {\n      var url = js_exports[name];\n      if (skip.indexOf(url) >= 0 || root[name] != null) {\n\tif (!window.requirejs) {\n\t  on_load();\n\t}\n\tcontinue;\n      }\n      var element = document.createElement('script');\n      element.onerror = on_error;\n      element.async = false;\n      element.type = \"module\";\n      console.debug(\"Bokeh: injecting script tag for BokehJS library: \", url);\n      element.textContent = `\n      import ${name} from \"${url}\"\n      window.${name} = ${name}\n      window._bokeh_on_load()\n      `\n      document.head.appendChild(element);\n    }\n    if (!js_urls.length && !js_modules.length) {\n      on_load()\n    }\n  };\n\n  function inject_raw_css(css) {\n    const element = document.createElement(\"style\");\n    element.appendChild(document.createTextNode(css));\n    document.body.appendChild(element);\n  }\n\n  var js_urls = [\"https://cdn.holoviz.org/panel/1.2.1/dist/bundled/jquery/jquery.slim.min.js\", \"https://cdn.holoviz.org/panel/1.2.1/dist/bundled/plotlyplot/plotly-2.18.0.min.js\", \"https://cdn.bokeh.org/bokeh/release/bokeh-3.2.2.min.js\", \"https://cdn.bokeh.org/bokeh/release/bokeh-gl-3.2.2.min.js\", \"https://cdn.bokeh.org/bokeh/release/bokeh-widgets-3.2.2.min.js\", \"https://cdn.bokeh.org/bokeh/release/bokeh-tables-3.2.2.min.js\", \"https://cdn.holoviz.org/panel/1.2.1/dist/panel.min.js\"];\n  var js_modules = [];\n  var js_exports = {};\n  var css_urls = [];\n  var inline_js = [    function(Bokeh) {\n      Bokeh.set_log_level(\"info\");\n    },\nfunction(Bokeh) {} // ensure no trailing comma for IE\n  ];\n\n  function run_inline_js() {\n    if ((root.Bokeh !== undefined) || (force === true)) {\n      for (var i = 0; i < inline_js.length; i++) {\n        inline_js[i].call(root, root.Bokeh);\n      }\n      // Cache old bokeh versions\n      if (Bokeh != undefined && !reloading) {\n\tvar NewBokeh = root.Bokeh;\n\tif (Bokeh.versions === undefined) {\n\t  Bokeh.versions = new Map();\n\t}\n\tif (NewBokeh.version !== Bokeh.version) {\n\t  Bokeh.versions.set(NewBokeh.version, NewBokeh)\n\t}\n\troot.Bokeh = Bokeh;\n      }} else if (Date.now() < root._bokeh_timeout) {\n      setTimeout(run_inline_js, 100);\n    } else if (!root._bokeh_failed_load) {\n      console.log(\"Bokeh: BokehJS failed to load within specified timeout.\");\n      root._bokeh_failed_load = true;\n    }\n    root._bokeh_is_initializing = false\n  }\n\n  function load_or_wait() {\n    // Implement a backoff loop that tries to ensure we do not load multiple\n    // versions of Bokeh and its dependencies at the same time.\n    // In recent versions we use the root._bokeh_is_initializing flag\n    // to determine whether there is an ongoing attempt to initialize\n    // bokeh, however for backward compatibility we also try to ensure\n    // that we do not start loading a newer (Panel>=1.0 and Bokeh>3) version\n    // before older versions are fully initialized.\n    if (root._bokeh_is_initializing && Date.now() > root._bokeh_timeout) {\n      root._bokeh_is_initializing = false;\n      root._bokeh_onload_callbacks = undefined;\n      console.log(\"Bokeh: BokehJS was loaded multiple times but one version failed to initialize.\");\n      load_or_wait();\n    } else if (root._bokeh_is_initializing || (typeof root._bokeh_is_initializing === \"undefined\" && root._bokeh_onload_callbacks !== undefined)) {\n      setTimeout(load_or_wait, 100);\n    } else {\n      Bokeh = root.Bokeh;\n      bokeh_loaded = Bokeh != null && (Bokeh.version === py_version || (Bokeh.versions !== undefined && Bokeh.versions.has(py_version)));\n      root._bokeh_is_initializing = true\n      root._bokeh_onload_callbacks = []\n      if (!reloading && (!bokeh_loaded || is_dev)) {\n\troot.Bokeh = undefined;\n      }\n      load_libs(css_urls, js_urls, js_modules, js_exports, function() {\n\tconsole.debug(\"Bokeh: BokehJS plotting callback run at\", now());\n\trun_inline_js();\n      });\n    }\n  }\n  // Give older versions of the autoload script a head-start to ensure\n  // they initialize before we start loading newer version.\n  setTimeout(load_or_wait, 100)\n}(window));",
            "application/vnd.holoviews_load.v0+json": ""
          },
          "metadata": {},
          "output_type": "display_data"
        },
        {
          "data": {
            "application/javascript": "\nif ((window.PyViz === undefined) || (window.PyViz instanceof HTMLElement)) {\n  window.PyViz = {comms: {}, comm_status:{}, kernels:{}, receivers: {}, plot_index: []}\n}\n\n\n    function JupyterCommManager() {\n    }\n\n    JupyterCommManager.prototype.register_target = function(plot_id, comm_id, msg_handler) {\n      if (window.comm_manager || ((window.Jupyter !== undefined) && (Jupyter.notebook.kernel != null))) {\n        var comm_manager = window.comm_manager || Jupyter.notebook.kernel.comm_manager;\n        comm_manager.register_target(comm_id, function(comm) {\n          comm.on_msg(msg_handler);\n        });\n      } else if ((plot_id in window.PyViz.kernels) && (window.PyViz.kernels[plot_id])) {\n        window.PyViz.kernels[plot_id].registerCommTarget(comm_id, function(comm) {\n          comm.onMsg = msg_handler;\n        });\n      } else if (typeof google != 'undefined' && google.colab.kernel != null) {\n        google.colab.kernel.comms.registerTarget(comm_id, (comm) => {\n          var messages = comm.messages[Symbol.asyncIterator]();\n          function processIteratorResult(result) {\n            var message = result.value;\n            console.log(message)\n            var content = {data: message.data, comm_id};\n            var buffers = []\n            for (var buffer of message.buffers || []) {\n              buffers.push(new DataView(buffer))\n            }\n            var metadata = message.metadata || {};\n            var msg = {content, buffers, metadata}\n            msg_handler(msg);\n            return messages.next().then(processIteratorResult);\n          }\n          return messages.next().then(processIteratorResult);\n        })\n      }\n    }\n\n    JupyterCommManager.prototype.get_client_comm = function(plot_id, comm_id, msg_handler) {\n      if (comm_id in window.PyViz.comms) {\n        return window.PyViz.comms[comm_id];\n      } else if (window.comm_manager || ((window.Jupyter !== undefined) && (Jupyter.notebook.kernel != null))) {\n        var comm_manager = window.comm_manager || Jupyter.notebook.kernel.comm_manager;\n        var comm = comm_manager.new_comm(comm_id, {}, {}, {}, comm_id);\n        if (msg_handler) {\n          comm.on_msg(msg_handler);\n        }\n      } else if ((plot_id in window.PyViz.kernels) && (window.PyViz.kernels[plot_id])) {\n        var comm = window.PyViz.kernels[plot_id].connectToComm(comm_id);\n        comm.open();\n        if (msg_handler) {\n          comm.onMsg = msg_handler;\n        }\n      } else if (typeof google != 'undefined' && google.colab.kernel != null) {\n        var comm_promise = google.colab.kernel.comms.open(comm_id)\n        comm_promise.then((comm) => {\n          window.PyViz.comms[comm_id] = comm;\n          if (msg_handler) {\n            var messages = comm.messages[Symbol.asyncIterator]();\n            function processIteratorResult(result) {\n              var message = result.value;\n              var content = {data: message.data};\n              var metadata = message.metadata || {comm_id};\n              var msg = {content, metadata}\n              msg_handler(msg);\n              return messages.next().then(processIteratorResult);\n            }\n            return messages.next().then(processIteratorResult);\n          }\n        }) \n        var sendClosure = (data, metadata, buffers, disposeOnDone) => {\n          return comm_promise.then((comm) => {\n            comm.send(data, metadata, buffers, disposeOnDone);\n          });\n        };\n        var comm = {\n          send: sendClosure\n        };\n      }\n      window.PyViz.comms[comm_id] = comm;\n      return comm;\n    }\n    window.PyViz.comm_manager = new JupyterCommManager();\n    \n\n\nvar JS_MIME_TYPE = 'application/javascript';\nvar HTML_MIME_TYPE = 'text/html';\nvar EXEC_MIME_TYPE = 'application/vnd.holoviews_exec.v0+json';\nvar CLASS_NAME = 'output';\n\n/**\n * Render data to the DOM node\n */\nfunction render(props, node) {\n  var div = document.createElement(\"div\");\n  var script = document.createElement(\"script\");\n  node.appendChild(div);\n  node.appendChild(script);\n}\n\n/**\n * Handle when a new output is added\n */\nfunction handle_add_output(event, handle) {\n  var output_area = handle.output_area;\n  var output = handle.output;\n  if ((output.data == undefined) || (!output.data.hasOwnProperty(EXEC_MIME_TYPE))) {\n    return\n  }\n  var id = output.metadata[EXEC_MIME_TYPE][\"id\"];\n  var toinsert = output_area.element.find(\".\" + CLASS_NAME.split(' ')[0]);\n  if (id !== undefined) {\n    var nchildren = toinsert.length;\n    var html_node = toinsert[nchildren-1].children[0];\n    html_node.innerHTML = output.data[HTML_MIME_TYPE];\n    var scripts = [];\n    var nodelist = html_node.querySelectorAll(\"script\");\n    for (var i in nodelist) {\n      if (nodelist.hasOwnProperty(i)) {\n        scripts.push(nodelist[i])\n      }\n    }\n\n    scripts.forEach( function (oldScript) {\n      var newScript = document.createElement(\"script\");\n      var attrs = [];\n      var nodemap = oldScript.attributes;\n      for (var j in nodemap) {\n        if (nodemap.hasOwnProperty(j)) {\n          attrs.push(nodemap[j])\n        }\n      }\n      attrs.forEach(function(attr) { newScript.setAttribute(attr.name, attr.value) });\n      newScript.appendChild(document.createTextNode(oldScript.innerHTML));\n      oldScript.parentNode.replaceChild(newScript, oldScript);\n    });\n    if (JS_MIME_TYPE in output.data) {\n      toinsert[nchildren-1].children[1].textContent = output.data[JS_MIME_TYPE];\n    }\n    output_area._hv_plot_id = id;\n    if ((window.Bokeh !== undefined) && (id in Bokeh.index)) {\n      window.PyViz.plot_index[id] = Bokeh.index[id];\n    } else {\n      window.PyViz.plot_index[id] = null;\n    }\n  } else if (output.metadata[EXEC_MIME_TYPE][\"server_id\"] !== undefined) {\n    var bk_div = document.createElement(\"div\");\n    bk_div.innerHTML = output.data[HTML_MIME_TYPE];\n    var script_attrs = bk_div.children[0].attributes;\n    for (var i = 0; i < script_attrs.length; i++) {\n      toinsert[toinsert.length - 1].childNodes[1].setAttribute(script_attrs[i].name, script_attrs[i].value);\n    }\n    // store reference to server id on output_area\n    output_area._bokeh_server_id = output.metadata[EXEC_MIME_TYPE][\"server_id\"];\n  }\n}\n\n/**\n * Handle when an output is cleared or removed\n */\nfunction handle_clear_output(event, handle) {\n  var id = handle.cell.output_area._hv_plot_id;\n  var server_id = handle.cell.output_area._bokeh_server_id;\n  if (((id === undefined) || !(id in PyViz.plot_index)) && (server_id !== undefined)) { return; }\n  var comm = window.PyViz.comm_manager.get_client_comm(\"hv-extension-comm\", \"hv-extension-comm\", function () {});\n  if (server_id !== null) {\n    comm.send({event_type: 'server_delete', 'id': server_id});\n    return;\n  } else if (comm !== null) {\n    comm.send({event_type: 'delete', 'id': id});\n  }\n  delete PyViz.plot_index[id];\n  if ((window.Bokeh !== undefined) & (id in window.Bokeh.index)) {\n    var doc = window.Bokeh.index[id].model.document\n    doc.clear();\n    const i = window.Bokeh.documents.indexOf(doc);\n    if (i > -1) {\n      window.Bokeh.documents.splice(i, 1);\n    }\n  }\n}\n\n/**\n * Handle kernel restart event\n */\nfunction handle_kernel_cleanup(event, handle) {\n  delete PyViz.comms[\"hv-extension-comm\"];\n  window.PyViz.plot_index = {}\n}\n\n/**\n * Handle update_display_data messages\n */\nfunction handle_update_output(event, handle) {\n  handle_clear_output(event, {cell: {output_area: handle.output_area}})\n  handle_add_output(event, handle)\n}\n\nfunction register_renderer(events, OutputArea) {\n  function append_mime(data, metadata, element) {\n    // create a DOM node to render to\n    var toinsert = this.create_output_subarea(\n    metadata,\n    CLASS_NAME,\n    EXEC_MIME_TYPE\n    );\n    this.keyboard_manager.register_events(toinsert);\n    // Render to node\n    var props = {data: data, metadata: metadata[EXEC_MIME_TYPE]};\n    render(props, toinsert[0]);\n    element.append(toinsert);\n    return toinsert\n  }\n\n  events.on('output_added.OutputArea', handle_add_output);\n  events.on('output_updated.OutputArea', handle_update_output);\n  events.on('clear_output.CodeCell', handle_clear_output);\n  events.on('delete.Cell', handle_clear_output);\n  events.on('kernel_ready.Kernel', handle_kernel_cleanup);\n\n  OutputArea.prototype.register_mime_type(EXEC_MIME_TYPE, append_mime, {\n    safe: true,\n    index: 0\n  });\n}\n\nif (window.Jupyter !== undefined) {\n  try {\n    var events = require('base/js/events');\n    var OutputArea = require('notebook/js/outputarea').OutputArea;\n    if (OutputArea.prototype.mime_types().indexOf(EXEC_MIME_TYPE) == -1) {\n      register_renderer(events, OutputArea);\n    }\n  } catch(err) {\n  }\n}\n",
            "application/vnd.holoviews_load.v0+json": ""
          },
          "metadata": {},
          "output_type": "display_data"
        },
        {
          "data": {
            "text/html": [
              "<style>*[data-root-id],\n",
              "*[data-root-id] > * {\n",
              "  box-sizing: border-box;\n",
              "  font-family: var(--jp-ui-font-family);\n",
              "  font-size: var(--jp-ui-font-size1);\n",
              "  color: var(--vscode-editor-foreground, var(--jp-ui-font-color1));\n",
              "}\n",
              "\n",
              "/* Override VSCode background color */\n",
              ".cell-output-ipywidget-background:has(\n",
              "    > .cell-output-ipywidget-background > .lm-Widget > *[data-root-id]\n",
              "  ),\n",
              ".cell-output-ipywidget-background:has(> .lm-Widget > *[data-root-id]) {\n",
              "  background-color: transparent !important;\n",
              "}\n",
              "</style>"
            ]
          },
          "metadata": {},
          "output_type": "display_data"
        },
        {
          "data": {
            "text/html": [
              "\n",
              "<div class=\"logo-block\">\n",
              "<img src='data:image/png;base64,iVBORw0KGgoAAAANSUhEUgAAAEAAAABACAYAAACqaXHeAAAABHNCSVQICAgIfAhkiAAAAAlwSFlz\n",
              "AAAB+wAAAfsBxc2miwAAABl0RVh0U29mdHdhcmUAd3d3Lmlua3NjYXBlLm9yZ5vuPBoAAA6zSURB\n",
              "VHic7ZtpeFRVmsf/5966taWqUlUJ2UioBBJiIBAwCZtog9IOgjqACsogKtqirT2ttt069nQ/zDzt\n",
              "tI4+CrJIREFaFgWhBXpUNhHZQoKBkIUASchWla1S+3ar7r1nPkDaCAnZKoQP/D7mnPOe9/xy76n3\n",
              "nFSAW9ziFoPFNED2LLK5wcyBDObkb8ZkxuaoSYlI6ZcOKq1eWFdedqNzGHQBk9RMEwFAASkk0Xw3\n",
              "ETacDNi2vtvc7L0ROdw0AjoSotQVkKSvHQz/wRO1lScGModBFbDMaNRN1A4tUBCS3lk7BWhQkgpD\n",
              "lG4852/+7DWr1R3uHAZVQDsbh6ZPN7CyxUrCzJMRouusj0ipRwD2uKm0Zn5d2dFwzX1TCGhnmdGo\n",
              "G62Nna+isiUqhkzuKrkQaJlPEv5mFl2fvGg2t/VnzkEV8F5ioioOEWkLG86fvbpthynjdhXYZziQ\n",
              "x1hC9J2NFyi8vCTt91Fh04KGip0AaG9zuCk2wQCVyoNU3Hjezee9bq92duzzTmxsRJoy+jEZZZYo\n",
              "GTKJ6SJngdJqAfRzpze0+jHreUtPc7gpBLQnIYK6BYp/uGhw9YK688eu7v95ysgshcg9qSLMo3JC\n",
              "4jqLKQFBgdKDPoQ+Pltb8dUyQLpeDjeVgI6EgLIQFT5tEl3rn2losHVsexbZ3EyT9wE1uGdkIPcy\n",
              "BGxn8QUq1QrA5nqW5i2tLqvrrM9NK6AdkVIvL9E9bZL/oyfMVd/jqvc8LylzRBKDJSzIExwhQzuL\n",
              "QYGQj4rHfFTc8mUdu3E7yoLtbTe9gI4EqVgVkug2i5+uXGo919ixbRog+3fTbQ8qJe4ZOYNfMoTI\n",
              "OoshUNosgO60AisX15aeI2PSIp5KiFLI9ubb1vV3Qb2ltwLakUCDAkWX7/nHKRmmGIl9VgYsUhJm\n",
              "2NXjKYADtM1ygne9QQDIXlk49FBstMKx66D1v4+XuQr7vqTe0VcBHQlRWiOCbmmSYe2SqtL6q5rJ\n",
              "zsTb7lKx3FKOYC4DoqyS/B5bvLPxvD9Qtf6saxYLQGJErmDOdOMr/zo96km1nElr8bmPOBwI9COv\n",
              "HnFPRIwmkSOv9kcAS4heRsidOkpeWBgZM+UBrTFAXNYL5Vf2ii9c1trNzpYdaoVil3WIc+wdk+gQ\n",
              "noie3ecCcxt9ITcLAPWt/laGEO/9U6PmzZkenTtsSMQ8uYywJVW+grCstAvCIaAdArAsIWkRDDs/\n",
              "KzLm2YcjY1Lv0UdW73HabE9n6V66cxSzfEmuJssTpKGVp+0vHq73FwL46eOjpMpbRAnNmJFrGJNu\n",
              "Ukf9Yrz+3rghiumCKNXXWPhLYcjxGsIpoCMsIRoFITkW8AuyM8jC1+/QLx4bozCEJIq38+1rtpR6\n",
              "V/yzb8eBlRb3fo5l783N0CWolAzJHaVNzkrTzlEp2bQ2q3TC5gn6wpnoQAmwSiGh2GitnTmVMc5O\n",
              "UyfKWUKCIsU7+fZDKwqdT6DDpvkzAX4/+AMFjk0tDp5GRXLpQ2MUmhgDp5gxQT8+Y7hyPsMi8uxF\n",
              "71H0oebujHALECjFKaW9Lm68n18wXp2kVzIcABytD5iXFzg+WVXkegpAsOOYziqo0OkK76GyquC3\n",
              "ltZAzMhhqlSNmmWTE5T6e3IN05ITFLM4GdN0vtZ3ob8Jh1NAKXFbm5PtLU/eqTSlGjkNAJjdgn/N\n",
              "aedXa0tdi7+t9G0FIF49rtMSEgAs1kDLkTPO7ebm4IUWeyh1bKomXqlgMG6kJmHcSM0clYLJ8XtR\n",
              "1GTnbV3F6I5wCGikAb402npp1h1s7LQUZZSMIfALFOuL3UUrfnS8+rez7v9qcold5tilgHbO1fjK\n",
              "9ubb17u9oshxzMiUBKXWqJNxd+fqb0tLVs4lILFnK71H0Ind7uiPgACVcFJlrb0tV6DzxqqTIhUM\n",
              "CwDf1/rrVhTa33/3pGPxJYdQ2l2cbgVcQSosdx8uqnDtbGjh9SlDVSMNWhlnilfqZk42Th2ZpLpf\n",
              "xrHec5e815zrr0dfBZSwzkZfqsv+1FS1KUknUwPARVvItfKUY+cn57yP7qv07UE3p8B2uhUwLk09\n",
              "e0SCOrK+hbdYHYLjRIl71wWzv9jpEoeOHhGRrJAzyEyNiJuUqX0g2sBN5kGK6y2Blp5M3lsB9Qh4\n",
              "y2Ja6x6+i0ucmKgwMATwhSjdUu49tKrQ/pvN5d53ml2CGwCmJipmKjgmyuaXzNeL2a0AkQ01Th5j\n",
              "2DktO3Jyk8f9vcOBQHV94OK+fPumJmvQHxJoWkaKWq9Vs+yUsbq0zGT1I4RgeH2b5wef7+c7bl8F\n",
              "eKgoHVVZa8ZPEORzR6sT1BzDUAD/d9F78e2Tzv99v8D+fLVTqAKAsbGamKey1Mt9Ann4eH3gTXTz\n",
              "idWtAJ8PQWOk7NzSeQn/OTHDuEikVF1R4z8BQCy+6D1aWRfY0tTGG2OM8rRoPaeIj5ZHzJxszElN\n",
              "VM8K8JS5WOfv8mzRnQAKoEhmt8gyPM4lU9SmBK1MCQBnW4KONT86v1hZ1PbwSXPw4JWussVjtH9Y\n",
              "NCoiL9UoH/6PSu8jFrfY2t36erQHXLIEakMi1SydmzB31h3GGXFDFNPaK8Rme9B79Ixrd0WN+1ij\n",
              "NRQ/doRmuFLBkHSTOm5GruG+pFjFdAmorG4IXH1Qua6ASniclfFtDYt+oUjKipPrCQB7QBQ2lrgP\n",
              "fFzm+9XWUtcqJ3/5vDLDpJ79XHZk3u8nGZ42qlj1+ydtbxysCezrydp6ugmipNJ7WBPB5tydY0jP\n",
              "HaVNzs3QzeE4ZpTbI+ZbnSFPbVOw9vsfnVvqWnirPyCNGD08IlqtYkh2hjZ5dErEQzoNm+6ykyOt\n",
              "Lt5/PQEuSRRKo22VkydK+vvS1XEKlhCJAnsqvcVvH7f/ZU2R67eXbMEGAMiIV5oWZWiWvz5Fv2xG\n",
              "sjqNJQRvn3Rs2lji/lNP19VjAQDgD7FHhujZB9OGqYxRkZxixgRDVlqS6uEOFaJUVu0rPFzctrnF\n",
              "JqijImVp8dEKVWyUXDk92zAuMZ6bFwpBU1HrOw6AdhQgUooChb0+ItMbWJitSo5Ws3IAOGEOtL53\n",
              "0vHZih9sC4vtofZ7Qu6523V/fmGcds1TY3V36pUsBwAbSlxnVh2xLfAD/IAIMDf7XYIkNmXfpp2l\n",
              "18rkAJAy9HKFaIr/qULkeQQKy9zf1JgDB2uaeFNGijo5QsUyacNUUTOnGO42xSnv4oOwpDi1zYkc\n",
              "efUc3I5Gk6PhyTuVKaOGyLUAYPGIoY9Pu/atL/L92+4q9wbflRJ2Trpm/jPjdBtfnqB/dIThcl8A\n",
              "KG7hbRuKnb8qsQsVvVlTrwQAQMUlf3kwJI24Z4JhPMtcfng5GcH49GsrxJpGvvHIaeem2ma+KSjQ\n",
              "lIwUdYyCY8j4dE1KzijNnIP2llF2wcXNnsoapw9XxsgYAl6k+KzUXbi2yP3KR2ecf6z3BFsBICdW\n",
              "nvnIaG3eHybqX7vbpEqUMT+9OL4Qpe8VON7dXuFd39v19FoAABRVePbGGuXTszO0P7tu6lghUonE\n",
              "llRdrhArLvmKdh9u29jcFiRRkfLUxBiFNiqSU9icoZQHo5mYBI1MBgBH6wMNb+U7Pnw337H4gi1Y\n",
              "ciWs+uks3Z9fztUvfzxTm9Ne8XXkvQLHNytOOZeiD4e0PgkAIAYCYknKUNUDSXEKzdWNpnil7r4p\n",
              "xqkjTarZMtk/K8TQ6Qve78qqvXurGwIJqcOUKfUWHsm8KGvxSP68YudXq4pcj39X49uOK2X142O0\n",
              "Tz5/u/7TVybqH0rSya6ZBwD21/gubbrgWdDgEOx9WUhfBaC2ibcEBYm7a7x+ukrBMNcEZggyR0TE\n",
              "T8zUPjikQ4VosQZbTpS4vqizBKvqmvjsqnpfzaZyx9JPiz1/bfGKdgD45XB1zoIMzYbfTdS/NClB\n",
              "Gct0USiY3YL/g0LHy/uq/Ef6uo5+n0R/vyhp17Klpge763f8rMu6YU/zrn2nml+2WtH+Z+5IAAFc\n",
              "2bUTdTDOSNa9+cQY7YLsOIXhevEkCvzph7a8laecz/Un/z4/Ae04XeL3UQb57IwU9ZDr9UuKVajv\n",
              "nxp1+1UVIo/LjztZkKH59fO3G/JemqCfmaCRqbqbd90ZZ8FfjtkfAyD0J/9+C2h1hDwsSxvGjNDc\n",
              "b4zk5NfrSwiQblLHzZhg+Jf4aPlUwpDqkQqa9nimbt1/TDH8OitGMaQnj+RJS6B1fbF7SY1TqO5v\n",
              "/v0WAADl1f7zokgS7s7VT2DZ7pegUjBM7mjtiDZbcN4j0YrHH0rXpCtY0qPX0cVL0rv5jv/ZXend\n",
              "0u/EESYBAFBU4T4Qa5TflZOhTe7pmKpaP8kCVUVw1+yhXfJWvn1P3hnXi33JsTN6PnP3hHZ8Z3/h\n",
              "aLHzmkNPuPj7Bc/F/Q38CwjTpSwQXgE4Vmwry9tpfq/ZFgqFMy4AVDtCvi8rvMvOmv0N4YwbVgEA\n",
              "sPM72/KVnzfspmH7HQGCRLG2yL1+z8XwvPcdCbsAANh+xPzstgMtxeGKt+6MK3/tacfvwhWvIwMi\n",
              "oKEBtm0H7W+UVfkc/Y1V0BhoPlDr/w1w/eu1vjIgAgDg22OtX6/eYfnEz/focrZTHAFR+PSs56/7\n",
              "q32nwpjazxgwAQCwcU/T62t3WL7r6/jVRa6/byp1rei+Z98ZUAEAhEPHPc8fKnTU9nbgtnOe8h0l\n",
              "9hcGIqmODLQAHCy2Xti6v/XNRivf43f4fFvIteu854+VHnR7q9tfBlwAAGz+pnndB9vM26UebAe8\n",
              "SLHujPOTPVW+rwY+sxskAAC2HrA8t2Vvc7ffP1r9o+vwR2dcr92InIAbKKC1FZ5tB1tf+/G8p8sv\n",
              "N/9Q5zd/XR34LYCwV5JdccMEAMDBk45DH243r/X4xGvqxFa/GNpS7n6rwOwNWwHVE26oAADYurf1\n",
              "zx/utOzt+DMKYM0p17YtZZ5VNzqfsB2HewG1WXE8PoZ7gOclbTIvynZf9JV+fqZtfgs/8F/Nu5rB\n",
              "EIBmJ+8QRMmpU7EzGRsf2FzuePqYRbzh/zE26EwdrT10f6r6o8HOYzCJB9Dpff8tbnGLG8L/A/WE\n",
              "roTBs2RqAAAAAElFTkSuQmCC'\n",
              "     style='height:25px; border-radius:12px; display: inline-block; float: left; vertical-align: middle'></img>\n",
              "\n",
              "\n",
              "\n",
              "\n",
              "\n",
              "\n",
              "\n",
              "  <img src='data:image/png;base64,\n",
              "iVBORw0KGgoAAAANSUhEUgAAAEAAAABACAYAAACqaXHeAAAABHNCSVQICAgIfAhkiAAAAAlwSFlz\n",
              "AAAUtgAAFLYBHNdcgwAAABl0RVh0U29mdHdhcmUAd3d3Lmlua3NjYXBlLm9yZ5vuPBoAAAHOSURB\n",
              "VHic7Zs9TsNAEIWfATkNROKnRhS5BieBBig5E9CAchCOkSai5kdCVJaIKaKVovV45bFn9Yw8XxNp\n",
              "d/P0/OzNztpOAQDHD3WNCfJ1VxTFVA8+sMc2wMYDYBtg4wGwDbDxANgG2HgAbANsJh/AgfYLZzeb\n",
              "Rtv7U3uO8fjUWO14rReJrFfA0WVzmyGZTvVJGpaYBLB/KLfPFsPNW2ikMAng90dur6vh2hYaKbJO\n",
              "gY+Xpnxqjkp9koYlfj+AbYCNB8A2wMYDYBtgoy6FgW11NlvUqKtuy9Tn7fbz5LGbfqgIu5S162tg\n",
              "XgLLFXD/2k1/F/UyqK2/w8EHvivg4lkee3q1QVH21wa6hxzIOgUkg/Oy2RaIDx5I7x0smPxvwOgD\n",
              "0G5vtajVY0OWBmOt3BshoOcqkPOs5D7jMaOfArnxANgG2HgAbANseq0CuxWetvTUaKfKZivUV0Bc\n",
              "3krlbl9irVTZbMXop4BlwBKjDyA3HgDbABsPgG2AjQfANsDGA2AbYOMBsA2wMQngvOUVmf+ASQBv\n",
              "La/ILFfDtS00UmSdAtKzutT9A6mvz/M+Df6KDNsAGw+AbYCNB8A2wMYDYBtg4wGwDbCZfAAFMO2/\n",
              "z/8BE3VwbODCC/EAAAAASUVORK5CYII='\n",
              "       style='height:15px; border-radius:12px; display: inline-block; float: left'></img>\n",
              "  \n",
              "</div>\n"
            ]
          },
          "metadata": {},
          "output_type": "display_data"
        }
      ],
      "source": [
        "import numpy as np\n",
        "import pandas as pd\n",
        "\n",
        "import holoviews as hv\n",
        "from holoviews import dim, opts\n",
        "\n",
        "import matplotlib.pyplot as plt\n",
        "import seaborn as sns; # sns.set_context(\"paper\")\n",
        "\n",
        "from netsci.datasets import load_connectome\n",
        "import netsci.metrics.motifs as nsm\n",
        "\n",
        "hv.extension('plotly')"
      ]
    },
    {
      "cell_type": "code",
      "execution_count": 3,
      "metadata": {
        "ExecuteTime": {
          "end_time": "2020-01-22T16:52:03.367508Z",
          "start_time": "2020-01-22T16:52:03.364947Z"
        },
        "id": "zaXx1G8ElOQX"
      },
      "outputs": [],
      "source": [
        "plt.rcParams['figure.dpi'] = 100"
      ]
    },
    {
      "cell_type": "markdown",
      "metadata": {
        "id": "5Rpj6inllOQX"
      },
      "source": [
        "## The Data"
      ]
    },
    {
      "cell_type": "markdown",
      "metadata": {
        "id": "Pk1RLjfflOQY"
      },
      "source": [
        "The connectome dataset is composed of two parts:\n",
        "1. The *nodes* are the neurons. The data lists of all neurons, their `gid`-s and 3d position $ (x,y,z) $.\n",
        "2. The *edges* depict the synapses interconnecting all neurons. The data lists all pairs of connected neurons and the number of contacts (synapses) realizing each connection."
      ]
    },
    {
      "cell_type": "code",
      "execution_count": 4,
      "metadata": {
        "ExecuteTime": {
          "end_time": "2020-01-22T16:52:03.480376Z",
          "start_time": "2020-01-22T16:52:03.372062Z"
        },
        "colab": {
          "base_uri": "https://localhost:8080/",
          "height": 69
        },
        "id": "FdPdlSEblOQY",
        "outputId": "84bd8ef5-9ffa-485e-f427-ce29822edca3"
      },
      "outputs": [
        {
          "data": {
            "text/plain": [
              "{'title': str,\n",
              " 'nodes': pandas.core.frame.DataFrame,\n",
              " 'edges': pandas.core.frame.DataFrame}"
            ]
          },
          "metadata": {},
          "output_type": "display_data"
        }
      ],
      "source": [
        "connectome = load_connectome()\n",
        "display({k: type(v) for k, v in connectome.items()})"
      ]
    },
    {
      "cell_type": "markdown",
      "metadata": {
        "id": "ewVoarhXlOQZ"
      },
      "source": [
        "The magnitude of the network is"
      ]
    },
    {
      "cell_type": "code",
      "execution_count": 5,
      "metadata": {
        "ExecuteTime": {
          "end_time": "2020-01-22T16:52:03.494381Z",
          "start_time": "2020-01-22T16:52:03.487395Z"
        },
        "colab": {
          "base_uri": "https://localhost:8080/"
        },
        "id": "3zLCx97FlOQZ",
        "outputId": "208978e0-bf75-4c51-d99f-b4181c28c07f"
      },
      "outputs": [
        {
          "name": "stdout",
          "output_type": "stream",
          "text": [
            "Connectome (L5-TTPC\n",
            "\t2,003 neurons\n",
            " \t102,732 connections (p = 2.56%)\n",
            "\t650,949 contacts\n"
          ]
        }
      ],
      "source": [
        "print(connectome['title'])\n",
        "neurons, synapses = connectome['nodes'], connectome['edges']\n",
        "\n",
        "n = len(neurons)\n",
        "print(f'\\t{n:,} neurons\\n',\n",
        "      f'\\t{len(synapses):,} connections (p = {len(synapses)/(n*(n-1)):.2%})\\n'\n",
        "      f'\\t{synapses[\"contacts\"].sum():,} contacts')"
      ]
    },
    {
      "cell_type": "markdown",
      "metadata": {
        "id": "HXfMnZpylOQZ"
      },
      "source": [
        "### Neurons"
      ]
    },
    {
      "cell_type": "code",
      "execution_count": 6,
      "metadata": {
        "ExecuteTime": {
          "end_time": "2020-01-22T16:52:03.512607Z",
          "start_time": "2020-01-22T16:52:03.497909Z"
        },
        "colab": {
          "base_uri": "https://localhost:8080/",
          "height": 424
        },
        "id": "CQmTpHEMlOQZ",
        "outputId": "d9b75b03-3f93-461f-9b93-778547126834"
      },
      "outputs": [
        {
          "data": {
            "text/html": [
              "\n",
              "\n",
              "  <div id=\"df-5d5d0d5b-8bfa-4bf1-9329-d0ca56cdd554\">\n",
              "    <div class=\"colab-df-container\">\n",
              "      <div>\n",
              "<style scoped>\n",
              "    .dataframe tbody tr th:only-of-type {\n",
              "        vertical-align: middle;\n",
              "    }\n",
              "\n",
              "    .dataframe tbody tr th {\n",
              "        vertical-align: top;\n",
              "    }\n",
              "\n",
              "    .dataframe thead th {\n",
              "        text-align: right;\n",
              "    }\n",
              "</style>\n",
              "<table border=\"1\" class=\"dataframe\">\n",
              "  <thead>\n",
              "    <tr style=\"text-align: right;\">\n",
              "      <th></th>\n",
              "      <th>gid</th>\n",
              "      <th>x</th>\n",
              "      <th>y</th>\n",
              "      <th>z</th>\n",
              "    </tr>\n",
              "  </thead>\n",
              "  <tbody>\n",
              "    <tr>\n",
              "      <th>0</th>\n",
              "      <td>75211</td>\n",
              "      <td>341.846181</td>\n",
              "      <td>773.977844</td>\n",
              "      <td>636.437126</td>\n",
              "    </tr>\n",
              "    <tr>\n",
              "      <th>1</th>\n",
              "      <td>75214</td>\n",
              "      <td>305.869316</td>\n",
              "      <td>1200.585727</td>\n",
              "      <td>608.787329</td>\n",
              "    </tr>\n",
              "    <tr>\n",
              "      <th>2</th>\n",
              "      <td>75217</td>\n",
              "      <td>312.411025</td>\n",
              "      <td>1184.177732</td>\n",
              "      <td>647.120290</td>\n",
              "    </tr>\n",
              "    <tr>\n",
              "      <th>3</th>\n",
              "      <td>75218</td>\n",
              "      <td>275.261806</td>\n",
              "      <td>1110.341752</td>\n",
              "      <td>630.010095</td>\n",
              "    </tr>\n",
              "    <tr>\n",
              "      <th>4</th>\n",
              "      <td>75221</td>\n",
              "      <td>239.869853</td>\n",
              "      <td>880.629815</td>\n",
              "      <td>609.945456</td>\n",
              "    </tr>\n",
              "    <tr>\n",
              "      <th>...</th>\n",
              "      <td>...</td>\n",
              "      <td>...</td>\n",
              "      <td>...</td>\n",
              "      <td>...</td>\n",
              "    </tr>\n",
              "    <tr>\n",
              "      <th>1998</th>\n",
              "      <td>81314</td>\n",
              "      <td>472.198046</td>\n",
              "      <td>1087.211926</td>\n",
              "      <td>409.227347</td>\n",
              "    </tr>\n",
              "    <tr>\n",
              "      <th>1999</th>\n",
              "      <td>81317</td>\n",
              "      <td>308.608095</td>\n",
              "      <td>947.743964</td>\n",
              "      <td>624.308077</td>\n",
              "    </tr>\n",
              "    <tr>\n",
              "      <th>2000</th>\n",
              "      <td>81318</td>\n",
              "      <td>325.510390</td>\n",
              "      <td>1029.783942</td>\n",
              "      <td>574.410863</td>\n",
              "    </tr>\n",
              "    <tr>\n",
              "      <th>2001</th>\n",
              "      <td>81319</td>\n",
              "      <td>383.361952</td>\n",
              "      <td>1161.047906</td>\n",
              "      <td>655.450589</td>\n",
              "    </tr>\n",
              "    <tr>\n",
              "      <th>2002</th>\n",
              "      <td>81322</td>\n",
              "      <td>331.464765</td>\n",
              "      <td>1062.599933</td>\n",
              "      <td>651.448519</td>\n",
              "    </tr>\n",
              "  </tbody>\n",
              "</table>\n",
              "<p>2003 rows × 4 columns</p>\n",
              "</div>\n",
              "      <button class=\"colab-df-convert\" onclick=\"convertToInteractive('df-5d5d0d5b-8bfa-4bf1-9329-d0ca56cdd554')\"\n",
              "              title=\"Convert this dataframe to an interactive table.\"\n",
              "              style=\"display:none;\">\n",
              "\n",
              "  <svg xmlns=\"http://www.w3.org/2000/svg\" height=\"24px\"viewBox=\"0 0 24 24\"\n",
              "       width=\"24px\">\n",
              "    <path d=\"M0 0h24v24H0V0z\" fill=\"none\"/>\n",
              "    <path d=\"M18.56 5.44l.94 2.06.94-2.06 2.06-.94-2.06-.94-.94-2.06-.94 2.06-2.06.94zm-11 1L8.5 8.5l.94-2.06 2.06-.94-2.06-.94L8.5 2.5l-.94 2.06-2.06.94zm10 10l.94 2.06.94-2.06 2.06-.94-2.06-.94-.94-2.06-.94 2.06-2.06.94z\"/><path d=\"M17.41 7.96l-1.37-1.37c-.4-.4-.92-.59-1.43-.59-.52 0-1.04.2-1.43.59L10.3 9.45l-7.72 7.72c-.78.78-.78 2.05 0 2.83L4 21.41c.39.39.9.59 1.41.59.51 0 1.02-.2 1.41-.59l7.78-7.78 2.81-2.81c.8-.78.8-2.07 0-2.86zM5.41 20L4 18.59l7.72-7.72 1.47 1.35L5.41 20z\"/>\n",
              "  </svg>\n",
              "      </button>\n",
              "\n",
              "\n",
              "\n",
              "    <div id=\"df-58be58d2-7721-4f74-94a7-9db6a51d1d6e\">\n",
              "      <button class=\"colab-df-quickchart\" onclick=\"quickchart('df-58be58d2-7721-4f74-94a7-9db6a51d1d6e')\"\n",
              "              title=\"Suggest charts.\"\n",
              "              style=\"display:none;\">\n",
              "\n",
              "<svg xmlns=\"http://www.w3.org/2000/svg\" height=\"24px\"viewBox=\"0 0 24 24\"\n",
              "     width=\"24px\">\n",
              "    <g>\n",
              "        <path d=\"M19 3H5c-1.1 0-2 .9-2 2v14c0 1.1.9 2 2 2h14c1.1 0 2-.9 2-2V5c0-1.1-.9-2-2-2zM9 17H7v-7h2v7zm4 0h-2V7h2v10zm4 0h-2v-4h2v4z\"/>\n",
              "    </g>\n",
              "</svg>\n",
              "      </button>\n",
              "    </div>\n",
              "\n",
              "<style>\n",
              "  .colab-df-quickchart {\n",
              "    background-color: #E8F0FE;\n",
              "    border: none;\n",
              "    border-radius: 50%;\n",
              "    cursor: pointer;\n",
              "    display: none;\n",
              "    fill: #1967D2;\n",
              "    height: 32px;\n",
              "    padding: 0 0 0 0;\n",
              "    width: 32px;\n",
              "  }\n",
              "\n",
              "  .colab-df-quickchart:hover {\n",
              "    background-color: #E2EBFA;\n",
              "    box-shadow: 0px 1px 2px rgba(60, 64, 67, 0.3), 0px 1px 3px 1px rgba(60, 64, 67, 0.15);\n",
              "    fill: #174EA6;\n",
              "  }\n",
              "\n",
              "  [theme=dark] .colab-df-quickchart {\n",
              "    background-color: #3B4455;\n",
              "    fill: #D2E3FC;\n",
              "  }\n",
              "\n",
              "  [theme=dark] .colab-df-quickchart:hover {\n",
              "    background-color: #434B5C;\n",
              "    box-shadow: 0px 1px 3px 1px rgba(0, 0, 0, 0.15);\n",
              "    filter: drop-shadow(0px 1px 2px rgba(0, 0, 0, 0.3));\n",
              "    fill: #FFFFFF;\n",
              "  }\n",
              "</style>\n",
              "\n",
              "    <script>\n",
              "      async function quickchart(key) {\n",
              "        const containerElement = document.querySelector('#' + key);\n",
              "        const charts = await google.colab.kernel.invokeFunction(\n",
              "            'suggestCharts', [key], {});\n",
              "      }\n",
              "    </script>\n",
              "\n",
              "      <script>\n",
              "\n",
              "function displayQuickchartButton(domScope) {\n",
              "  let quickchartButtonEl =\n",
              "    domScope.querySelector('#df-58be58d2-7721-4f74-94a7-9db6a51d1d6e button.colab-df-quickchart');\n",
              "  quickchartButtonEl.style.display =\n",
              "    google.colab.kernel.accessAllowed ? 'block' : 'none';\n",
              "}\n",
              "\n",
              "        displayQuickchartButton(document);\n",
              "      </script>\n",
              "      <style>\n",
              "    .colab-df-container {\n",
              "      display:flex;\n",
              "      flex-wrap:wrap;\n",
              "      gap: 12px;\n",
              "    }\n",
              "\n",
              "    .colab-df-convert {\n",
              "      background-color: #E8F0FE;\n",
              "      border: none;\n",
              "      border-radius: 50%;\n",
              "      cursor: pointer;\n",
              "      display: none;\n",
              "      fill: #1967D2;\n",
              "      height: 32px;\n",
              "      padding: 0 0 0 0;\n",
              "      width: 32px;\n",
              "    }\n",
              "\n",
              "    .colab-df-convert:hover {\n",
              "      background-color: #E2EBFA;\n",
              "      box-shadow: 0px 1px 2px rgba(60, 64, 67, 0.3), 0px 1px 3px 1px rgba(60, 64, 67, 0.15);\n",
              "      fill: #174EA6;\n",
              "    }\n",
              "\n",
              "    [theme=dark] .colab-df-convert {\n",
              "      background-color: #3B4455;\n",
              "      fill: #D2E3FC;\n",
              "    }\n",
              "\n",
              "    [theme=dark] .colab-df-convert:hover {\n",
              "      background-color: #434B5C;\n",
              "      box-shadow: 0px 1px 3px 1px rgba(0, 0, 0, 0.15);\n",
              "      filter: drop-shadow(0px 1px 2px rgba(0, 0, 0, 0.3));\n",
              "      fill: #FFFFFF;\n",
              "    }\n",
              "  </style>\n",
              "\n",
              "      <script>\n",
              "        const buttonEl =\n",
              "          document.querySelector('#df-5d5d0d5b-8bfa-4bf1-9329-d0ca56cdd554 button.colab-df-convert');\n",
              "        buttonEl.style.display =\n",
              "          google.colab.kernel.accessAllowed ? 'block' : 'none';\n",
              "\n",
              "        async function convertToInteractive(key) {\n",
              "          const element = document.querySelector('#df-5d5d0d5b-8bfa-4bf1-9329-d0ca56cdd554');\n",
              "          const dataTable =\n",
              "            await google.colab.kernel.invokeFunction('convertToInteractive',\n",
              "                                                     [key], {});\n",
              "          if (!dataTable) return;\n",
              "\n",
              "          const docLinkHtml = 'Like what you see? Visit the ' +\n",
              "            '<a target=\"_blank\" href=https://colab.research.google.com/notebooks/data_table.ipynb>data table notebook</a>'\n",
              "            + ' to learn more about interactive tables.';\n",
              "          element.innerHTML = '';\n",
              "          dataTable['output_type'] = 'display_data';\n",
              "          await google.colab.output.renderOutput(dataTable, element);\n",
              "          const docLink = document.createElement('div');\n",
              "          docLink.innerHTML = docLinkHtml;\n",
              "          element.appendChild(docLink);\n",
              "        }\n",
              "      </script>\n",
              "    </div>\n",
              "  </div>\n"
            ],
            "text/plain": [
              "        gid           x            y           z\n",
              "0     75211  341.846181   773.977844  636.437126\n",
              "1     75214  305.869316  1200.585727  608.787329\n",
              "2     75217  312.411025  1184.177732  647.120290\n",
              "3     75218  275.261806  1110.341752  630.010095\n",
              "4     75221  239.869853   880.629815  609.945456\n",
              "...     ...         ...          ...         ...\n",
              "1998  81314  472.198046  1087.211926  409.227347\n",
              "1999  81317  308.608095   947.743964  624.308077\n",
              "2000  81318  325.510390  1029.783942  574.410863\n",
              "2001  81319  383.361952  1161.047906  655.450589\n",
              "2002  81322  331.464765  1062.599933  651.448519\n",
              "\n",
              "[2003 rows x 4 columns]"
            ]
          },
          "metadata": {},
          "output_type": "display_data"
        }
      ],
      "source": [
        "display(neurons)"
      ]
    },
    {
      "cell_type": "markdown",
      "metadata": {
        "id": "xA8oK6D-lOQa"
      },
      "source": [
        "The *y-axis* denotes the cortical depth. The positive direction is defined to be the [_pia_](https://en.wikipedia.org/wiki/Pia_mater#Cranial_pia_mater) direction in the column."
      ]
    },
    {
      "cell_type": "code",
      "execution_count": 8,
      "metadata": {
        "ExecuteTime": {
          "end_time": "2020-01-22T16:52:04.252904Z",
          "start_time": "2020-01-22T16:52:03.517008Z"
        },
        "colab": {
          "base_uri": "https://localhost:8080/",
          "height": 17
        },
        "id": "1XPQ7DK1lOQa",
        "outputId": "5b23250d-502b-4eb0-886d-8d6358d95da9"
      },
      "outputs": [
        {
          "data": {},
          "metadata": {},
          "output_type": "display_data"
        },
        {
          "data": {
            "application/vnd.holoviews_exec.v0+json": "",
            "text/html": [
              "<div id='p1022'>\n",
              "  <div id=\"cb5e3de5-f489-4994-86aa-1a14a0802424\" data-root-id=\"p1022\" style=\"display: contents;\"></div>\n",
              "</div>\n",
              "<script type=\"application/javascript\">(function(root) {\n",
              "  var docs_json = {\"c1223e11-e45f-4d8f-a5f9-c359cc81de7b\":{\"version\":\"3.2.2\",\"title\":\"Bokeh Application\",\"roots\":[{\"type\":\"object\",\"name\":\"Row\",\"id\":\"p1022\",\"attributes\":{\"name\":\"Row01265\",\"tags\":[\"embedded\"],\"stylesheets\":[\"\\n:host(.pn-loading.pn-arc):before, .pn-loading.pn-arc:before {\\n  background-image: url(\\\"data:image/svg+xml;base64,PHN2ZyB4bWxucz0iaHR0cDovL3d3dy53My5vcmcvMjAwMC9zdmciIHN0eWxlPSJtYXJnaW46IGF1dG87IGJhY2tncm91bmQ6IG5vbmU7IGRpc3BsYXk6IGJsb2NrOyBzaGFwZS1yZW5kZXJpbmc6IGF1dG87IiB2aWV3Qm94PSIwIDAgMTAwIDEwMCIgcHJlc2VydmVBc3BlY3RSYXRpbz0ieE1pZFlNaWQiPiAgPGNpcmNsZSBjeD0iNTAiIGN5PSI1MCIgZmlsbD0ibm9uZSIgc3Ryb2tlPSIjYzNjM2MzIiBzdHJva2Utd2lkdGg9IjEwIiByPSIzNSIgc3Ryb2tlLWRhc2hhcnJheT0iMTY0LjkzMzYxNDMxMzQ2NDE1IDU2Ljk3Nzg3MTQzNzgyMTM4Ij4gICAgPGFuaW1hdGVUcmFuc2Zvcm0gYXR0cmlidXRlTmFtZT0idHJhbnNmb3JtIiB0eXBlPSJyb3RhdGUiIHJlcGVhdENvdW50PSJpbmRlZmluaXRlIiBkdXI9IjFzIiB2YWx1ZXM9IjAgNTAgNTA7MzYwIDUwIDUwIiBrZXlUaW1lcz0iMDsxIj48L2FuaW1hdGVUcmFuc2Zvcm0+ICA8L2NpcmNsZT48L3N2Zz4=\\\");\\n  background-size: auto calc(min(50%, 400px));\\n}\",{\"type\":\"object\",\"name\":\"ImportedStyleSheet\",\"id\":\"p1025\",\"attributes\":{\"url\":\"https://cdn.holoviz.org/panel/1.2.1/dist/css/loading.css\"}},{\"type\":\"object\",\"name\":\"ImportedStyleSheet\",\"id\":\"p1036\",\"attributes\":{\"url\":\"https://cdn.holoviz.org/panel/1.2.1/dist/css/listpanel.css\"}},{\"type\":\"object\",\"name\":\"ImportedStyleSheet\",\"id\":\"p1023\",\"attributes\":{\"url\":\"https://cdn.holoviz.org/panel/1.2.1/dist/bundled/theme/default.css\"}},{\"type\":\"object\",\"name\":\"ImportedStyleSheet\",\"id\":\"p1024\",\"attributes\":{\"url\":\"https://cdn.holoviz.org/panel/1.2.1/dist/bundled/theme/native.css\"}}],\"margin\":0,\"sizing_mode\":\"stretch_width\",\"align\":\"start\",\"children\":[{\"type\":\"object\",\"name\":\"Spacer\",\"id\":\"p1026\",\"attributes\":{\"name\":\"HSpacer01276\",\"stylesheets\":[\"\\n:host(.pn-loading.pn-arc):before, .pn-loading.pn-arc:before {\\n  background-image: url(\\\"data:image/svg+xml;base64,PHN2ZyB4bWxucz0iaHR0cDovL3d3dy53My5vcmcvMjAwMC9zdmciIHN0eWxlPSJtYXJnaW46IGF1dG87IGJhY2tncm91bmQ6IG5vbmU7IGRpc3BsYXk6IGJsb2NrOyBzaGFwZS1yZW5kZXJpbmc6IGF1dG87IiB2aWV3Qm94PSIwIDAgMTAwIDEwMCIgcHJlc2VydmVBc3BlY3RSYXRpbz0ieE1pZFlNaWQiPiAgPGNpcmNsZSBjeD0iNTAiIGN5PSI1MCIgZmlsbD0ibm9uZSIgc3Ryb2tlPSIjYzNjM2MzIiBzdHJva2Utd2lkdGg9IjEwIiByPSIzNSIgc3Ryb2tlLWRhc2hhcnJheT0iMTY0LjkzMzYxNDMxMzQ2NDE1IDU2Ljk3Nzg3MTQzNzgyMTM4Ij4gICAgPGFuaW1hdGVUcmFuc2Zvcm0gYXR0cmlidXRlTmFtZT0idHJhbnNmb3JtIiB0eXBlPSJyb3RhdGUiIHJlcGVhdENvdW50PSJpbmRlZmluaXRlIiBkdXI9IjFzIiB2YWx1ZXM9IjAgNTAgNTA7MzYwIDUwIDUwIiBrZXlUaW1lcz0iMDsxIj48L2FuaW1hdGVUcmFuc2Zvcm0+ICA8L2NpcmNsZT48L3N2Zz4=\\\");\\n  background-size: auto calc(min(50%, 400px));\\n}\",{\"id\":\"p1025\"},{\"id\":\"p1023\"},{\"id\":\"p1024\"}],\"margin\":0,\"sizing_mode\":\"stretch_width\",\"align\":\"start\"}},{\"type\":\"object\",\"name\":\"panel.models.plotly.PlotlyPlot\",\"id\":\"p1032\",\"attributes\":{\"name\":\"Plotly01299\",\"stylesheets\":[\"\\n:host(.pn-loading.pn-arc):before, .pn-loading.pn-arc:before {\\n  background-image: url(\\\"data:image/svg+xml;base64,PHN2ZyB4bWxucz0iaHR0cDovL3d3dy53My5vcmcvMjAwMC9zdmciIHN0eWxlPSJtYXJnaW46IGF1dG87IGJhY2tncm91bmQ6IG5vbmU7IGRpc3BsYXk6IGJsb2NrOyBzaGFwZS1yZW5kZXJpbmc6IGF1dG87IiB2aWV3Qm94PSIwIDAgMTAwIDEwMCIgcHJlc2VydmVBc3BlY3RSYXRpbz0ieE1pZFlNaWQiPiAgPGNpcmNsZSBjeD0iNTAiIGN5PSI1MCIgZmlsbD0ibm9uZSIgc3Ryb2tlPSIjYzNjM2MzIiBzdHJva2Utd2lkdGg9IjEwIiByPSIzNSIgc3Ryb2tlLWRhc2hhcnJheT0iMTY0LjkzMzYxNDMxMzQ2NDE1IDU2Ljk3Nzg3MTQzNzgyMTM4Ij4gICAgPGFuaW1hdGVUcmFuc2Zvcm0gYXR0cmlidXRlTmFtZT0idHJhbnNmb3JtIiB0eXBlPSJyb3RhdGUiIHJlcGVhdENvdW50PSJpbmRlZmluaXRlIiBkdXI9IjFzIiB2YWx1ZXM9IjAgNTAgNTA7MzYwIDUwIDUwIiBrZXlUaW1lcz0iMDsxIj48L2FuaW1hdGVUcmFuc2Zvcm0+ICA8L2NpcmNsZT48L3N2Zz4=\\\");\\n  background-size: auto calc(min(50%, 400px));\\n}\",{\"id\":\"p1025\"},{\"type\":\"object\",\"name\":\"ImportedStyleSheet\",\"id\":\"p1031\",\"attributes\":{\"url\":\"https://cdn.holoviz.org/panel/1.2.1/dist/css/plotly.css\"}},{\"id\":\"p1023\"},{\"id\":\"p1024\"},\":host { --plotly-icon-color: gray; --plotly-active-icon-color: #2a3f5f; }\"],\"margin\":[5,10],\"align\":\"start\",\"data\":[{\"type\":\"map\",\"entries\":[[\"legendgroup\",\"Scatter3D_\"],[\"marker\",{\"type\":\"map\",\"entries\":[[\"cauto\",false],[\"cmax\",1224.965381],[\"cmin\",700.526426],[\"colorscale\",[[0.0,\"#000000\"],[0.00784313725490196,\"#0d0000\"],[0.01568627450980392,\"#160000\"],[0.023529411764705882,\"#1c0000\"],[0.03137254901960784,\"#220000\"],[0.0392156862745098,\"#260000\"],[0.047058823529411764,\"#2b0000\"],[0.054901960784313725,\"#2e0000\"],[0.06274509803921569,\"#320000\"],[0.07058823529411765,\"#350000\"],[0.0784313725490196,\"#380000\"],[0.08627450980392157,\"#3b0000\"],[0.09411764705882353,\"#3e0000\"],[0.10196078431372549,\"#410000\"],[0.10980392156862745,\"#440000\"],[0.11764705882352941,\"#470000\"],[0.12549019607843137,\"#4a0000\"],[0.13333333333333333,\"#4d0000\"],[0.1411764705882353,\"#500000\"],[0.14901960784313725,\"#530000\"],[0.1568627450980392,\"#560000\"],[0.16470588235294117,\"#590100\"],[0.17254901960784313,\"#5d0100\"],[0.1803921568627451,\"#600100\"],[0.18823529411764706,\"#630100\"],[0.19607843137254902,\"#660100\"],[0.20392156862745098,\"#690100\"],[0.21176470588235294,\"#6d0100\"],[0.2196078431372549,\"#700100\"],[0.22745098039215686,\"#730100\"],[0.23529411764705882,\"#760100\"],[0.24313725490196078,\"#7a0200\"],[0.25098039215686274,\"#7d0200\"],[0.2588235294117647,\"#800200\"],[0.26666666666666666,\"#840200\"],[0.27450980392156865,\"#870200\"],[0.2823529411764706,\"#8a0200\"],[0.2901960784313725,\"#8e0300\"],[0.2980392156862745,\"#910300\"],[0.3058823529411765,\"#950300\"],[0.3137254901960784,\"#980300\"],[0.32156862745098036,\"#9c0300\"],[0.32941176470588235,\"#9f0400\"],[0.33725490196078434,\"#a20400\"],[0.34509803921568627,\"#a60400\"],[0.3529411764705882,\"#a90400\"],[0.3607843137254902,\"#ad0500\"],[0.3686274509803922,\"#b00500\"],[0.3764705882352941,\"#b40500\"],[0.38431372549019605,\"#b80600\"],[0.39215686274509803,\"#bb0600\"],[0.4,\"#bf0700\"],[0.40784313725490196,\"#c20700\"],[0.4156862745098039,\"#c60800\"],[0.4235294117647059,\"#c90800\"],[0.43137254901960786,\"#cd0900\"],[0.4392156862745098,\"#d10900\"],[0.44705882352941173,\"#d40a00\"],[0.4549019607843137,\"#d80b00\"],[0.4627450980392157,\"#db0c00\"],[0.47058823529411764,\"#df0d00\"],[0.4784313725490196,\"#e30e00\"],[0.48627450980392156,\"#e60f00\"],[0.49411764705882355,\"#ea1100\"],[0.5019607843137255,\"#ed1400\"],[0.5098039215686274,\"#f01800\"],[0.5176470588235293,\"#f21d00\"],[0.5254901960784314,\"#f52300\"],[0.5333333333333333,\"#f62900\"],[0.5411764705882353,\"#f82f00\"],[0.5490196078431373,\"#f93500\"],[0.5568627450980392,\"#fa3b00\"],[0.5647058823529412,\"#fb4000\"],[0.5725490196078431,\"#fc4600\"],[0.580392156862745,\"#fc4b00\"],[0.5882352941176471,\"#fd5100\"],[0.596078431372549,\"#fd5600\"],[0.6039215686274509,\"#fe5b00\"],[0.611764705882353,\"#fe5f00\"],[0.6196078431372549,\"#fe6400\"],[0.6274509803921569,\"#fe6800\"],[0.6352941176470588,\"#fe6d00\"],[0.6431372549019607,\"#fe7100\"],[0.6509803921568628,\"#fe7500\"],[0.6588235294117647,\"#fe7900\"],[0.6666666666666666,\"#ff7e00\"],[0.6745098039215687,\"#ff8200\"],[0.6823529411764706,\"#ff8500\"],[0.6901960784313725,\"#ff8900\"],[0.6980392156862745,\"#ff8d00\"],[0.7058823529411764,\"#ff9100\"],[0.7137254901960784,\"#ff9400\"],[0.7215686274509804,\"#ff9800\"],[0.7294117647058823,\"#ff9c00\"],[0.7372549019607844,\"#ff9f00\"],[0.7450980392156863,\"#ffa300\"],[0.7529411764705882,\"#ffa601\"],[0.7607843137254902,\"#ffaa01\"],[0.7686274509803921,\"#ffad01\"],[0.7764705882352941,\"#ffb001\"],[0.7843137254901961,\"#ffb402\"],[0.792156862745098,\"#ffb702\"],[0.8,\"#ffba02\"],[0.807843137254902,\"#ffbd03\"],[0.8156862745098039,\"#ffc103\"],[0.8235294117647058,\"#ffc404\"],[0.8313725490196078,\"#ffc704\"],[0.8392156862745098,\"#ffca05\"],[0.8470588235294118,\"#ffce06\"],[0.8549019607843137,\"#ffd106\"],[0.8627450980392157,\"#ffd407\"],[0.8705882352941177,\"#ffd708\"],[0.8784313725490196,\"#ffda09\"],[0.8862745098039215,\"#ffdd0a\"],[0.8941176470588235,\"#ffe00b\"],[0.9019607843137255,\"#ffe30d\"],[0.9098039215686274,\"#ffe60f\"],[0.9176470588235294,\"#ffea11\"],[0.9254901960784314,\"#ffed14\"],[0.9333333333333333,\"#fff01a\"],[0.9411764705882353,\"#fff324\"],[0.9490196078431372,\"#fff532\"],[0.9568627450980391,\"#fff847\"],[0.9647058823529412,\"#fffb62\"],[0.9725490196078431,\"#fffc83\"],[0.9803921568627451,\"#fffea8\"],[0.9882352941176471,\"#fffecc\"],[1.0,\"#ffffff\"]]],[\"opacity\",0.75],[\"showscale\",false],[\"size\",3]]}],[\"mode\",\"markers\"],[\"name\",\"\"],[\"showlegend\",false],[\"uid\",\"b2c21ae1-c21b-4d62-8056-6d33fac40664\"],[\"type\",\"scatter3d\"]]}],\"layout\":{\"type\":\"map\",\"entries\":[[\"autosize\",false],[\"height\",800],[\"scene\",{\"type\":\"map\",\"entries\":[[\"aspectmode\",\"cube\"],[\"xaxis\",{\"type\":\"map\",\"entries\":[[\"range\",[65.4288545,631.1186645]],[\"title\",{\"type\":\"map\",\"entries\":[[\"text\",\"x\"]]}]]}],[\"yaxis\",{\"type\":\"map\",\"entries\":[[\"range\",[648.0825305000001,1277.4092765]],[\"title\",{\"type\":\"map\",\"entries\":[[\"text\",\"y\"]]}]]}],[\"zaxis\",{\"type\":\"map\",\"entries\":[[\"range\",[337.90378810000004,861.3365388999999]],[\"title\",{\"type\":\"map\",\"entries\":[[\"text\",\"z\"]]}]]}]]}],[\"title\",{\"type\":\"map\",\"entries\":[[\"text\",\"\"]]}],[\"uirevision\",true],[\"width\",800],[\"template\",{\"type\":\"map\",\"entries\":[[\"data\",{\"type\":\"map\",\"entries\":[[\"histogram2dcontour\",[{\"type\":\"map\",\"entries\":[[\"type\",\"histogram2dcontour\"],[\"colorbar\",{\"type\":\"map\",\"entries\":[[\"outlinewidth\",0],[\"ticks\",\"\"]]}],[\"colorscale\",[[0.0,\"#0d0887\"],[0.1111111111111111,\"#46039f\"],[0.2222222222222222,\"#7201a8\"],[0.3333333333333333,\"#9c179e\"],[0.4444444444444444,\"#bd3786\"],[0.5555555555555556,\"#d8576b\"],[0.6666666666666666,\"#ed7953\"],[0.7777777777777778,\"#fb9f3a\"],[0.8888888888888888,\"#fdca26\"],[1.0,\"#f0f921\"]]]]}]],[\"choropleth\",[{\"type\":\"map\",\"entries\":[[\"type\",\"choropleth\"],[\"colorbar\",{\"type\":\"map\",\"entries\":[[\"outlinewidth\",0],[\"ticks\",\"\"]]}]]}]],[\"histogram2d\",[{\"type\":\"map\",\"entries\":[[\"type\",\"histogram2d\"],[\"colorbar\",{\"type\":\"map\",\"entries\":[[\"outlinewidth\",0],[\"ticks\",\"\"]]}],[\"colorscale\",[[0.0,\"#0d0887\"],[0.1111111111111111,\"#46039f\"],[0.2222222222222222,\"#7201a8\"],[0.3333333333333333,\"#9c179e\"],[0.4444444444444444,\"#bd3786\"],[0.5555555555555556,\"#d8576b\"],[0.6666666666666666,\"#ed7953\"],[0.7777777777777778,\"#fb9f3a\"],[0.8888888888888888,\"#fdca26\"],[1.0,\"#f0f921\"]]]]}]],[\"heatmap\",[{\"type\":\"map\",\"entries\":[[\"type\",\"heatmap\"],[\"colorbar\",{\"type\":\"map\",\"entries\":[[\"outlinewidth\",0],[\"ticks\",\"\"]]}],[\"colorscale\",[[0.0,\"#0d0887\"],[0.1111111111111111,\"#46039f\"],[0.2222222222222222,\"#7201a8\"],[0.3333333333333333,\"#9c179e\"],[0.4444444444444444,\"#bd3786\"],[0.5555555555555556,\"#d8576b\"],[0.6666666666666666,\"#ed7953\"],[0.7777777777777778,\"#fb9f3a\"],[0.8888888888888888,\"#fdca26\"],[1.0,\"#f0f921\"]]]]}]],[\"heatmapgl\",[{\"type\":\"map\",\"entries\":[[\"type\",\"heatmapgl\"],[\"colorbar\",{\"type\":\"map\",\"entries\":[[\"outlinewidth\",0],[\"ticks\",\"\"]]}],[\"colorscale\",[[0.0,\"#0d0887\"],[0.1111111111111111,\"#46039f\"],[0.2222222222222222,\"#7201a8\"],[0.3333333333333333,\"#9c179e\"],[0.4444444444444444,\"#bd3786\"],[0.5555555555555556,\"#d8576b\"],[0.6666666666666666,\"#ed7953\"],[0.7777777777777778,\"#fb9f3a\"],[0.8888888888888888,\"#fdca26\"],[1.0,\"#f0f921\"]]]]}]],[\"contourcarpet\",[{\"type\":\"map\",\"entries\":[[\"type\",\"contourcarpet\"],[\"colorbar\",{\"type\":\"map\",\"entries\":[[\"outlinewidth\",0],[\"ticks\",\"\"]]}]]}]],[\"contour\",[{\"type\":\"map\",\"entries\":[[\"type\",\"contour\"],[\"colorbar\",{\"type\":\"map\",\"entries\":[[\"outlinewidth\",0],[\"ticks\",\"\"]]}],[\"colorscale\",[[0.0,\"#0d0887\"],[0.1111111111111111,\"#46039f\"],[0.2222222222222222,\"#7201a8\"],[0.3333333333333333,\"#9c179e\"],[0.4444444444444444,\"#bd3786\"],[0.5555555555555556,\"#d8576b\"],[0.6666666666666666,\"#ed7953\"],[0.7777777777777778,\"#fb9f3a\"],[0.8888888888888888,\"#fdca26\"],[1.0,\"#f0f921\"]]]]}]],[\"surface\",[{\"type\":\"map\",\"entries\":[[\"type\",\"surface\"],[\"colorbar\",{\"type\":\"map\",\"entries\":[[\"outlinewidth\",0],[\"ticks\",\"\"]]}],[\"colorscale\",[[0.0,\"#0d0887\"],[0.1111111111111111,\"#46039f\"],[0.2222222222222222,\"#7201a8\"],[0.3333333333333333,\"#9c179e\"],[0.4444444444444444,\"#bd3786\"],[0.5555555555555556,\"#d8576b\"],[0.6666666666666666,\"#ed7953\"],[0.7777777777777778,\"#fb9f3a\"],[0.8888888888888888,\"#fdca26\"],[1.0,\"#f0f921\"]]]]}]],[\"mesh3d\",[{\"type\":\"map\",\"entries\":[[\"type\",\"mesh3d\"],[\"colorbar\",{\"type\":\"map\",\"entries\":[[\"outlinewidth\",0],[\"ticks\",\"\"]]}]]}]],[\"scatter\",[{\"type\":\"map\",\"entries\":[[\"fillpattern\",{\"type\":\"map\",\"entries\":[[\"fillmode\",\"overlay\"],[\"size\",10],[\"solidity\",0.2]]}],[\"type\",\"scatter\"]]}]],[\"parcoords\",[{\"type\":\"map\",\"entries\":[[\"type\",\"parcoords\"],[\"line\",{\"type\":\"map\",\"entries\":[[\"colorbar\",{\"type\":\"map\",\"entries\":[[\"outlinewidth\",0],[\"ticks\",\"\"]]}]]}]]}]],[\"scatterpolargl\",[{\"type\":\"map\",\"entries\":[[\"type\",\"scatterpolargl\"],[\"marker\",{\"type\":\"map\",\"entries\":[[\"colorbar\",{\"type\":\"map\",\"entries\":[[\"outlinewidth\",0],[\"ticks\",\"\"]]}]]}]]}]],[\"bar\",[{\"type\":\"map\",\"entries\":[[\"error_x\",{\"type\":\"map\",\"entries\":[[\"color\",\"#2a3f5f\"]]}],[\"error_y\",{\"type\":\"map\",\"entries\":[[\"color\",\"#2a3f5f\"]]}],[\"marker\",{\"type\":\"map\",\"entries\":[[\"line\",{\"type\":\"map\",\"entries\":[[\"color\",\"#E5ECF6\"],[\"width\",0.5]]}],[\"pattern\",{\"type\":\"map\",\"entries\":[[\"fillmode\",\"overlay\"],[\"size\",10],[\"solidity\",0.2]]}]]}],[\"type\",\"bar\"]]}]],[\"scattergeo\",[{\"type\":\"map\",\"entries\":[[\"type\",\"scattergeo\"],[\"marker\",{\"type\":\"map\",\"entries\":[[\"colorbar\",{\"type\":\"map\",\"entries\":[[\"outlinewidth\",0],[\"ticks\",\"\"]]}]]}]]}]],[\"scatterpolar\",[{\"type\":\"map\",\"entries\":[[\"type\",\"scatterpolar\"],[\"marker\",{\"type\":\"map\",\"entries\":[[\"colorbar\",{\"type\":\"map\",\"entries\":[[\"outlinewidth\",0],[\"ticks\",\"\"]]}]]}]]}]],[\"histogram\",[{\"type\":\"map\",\"entries\":[[\"marker\",{\"type\":\"map\",\"entries\":[[\"pattern\",{\"type\":\"map\",\"entries\":[[\"fillmode\",\"overlay\"],[\"size\",10],[\"solidity\",0.2]]}]]}],[\"type\",\"histogram\"]]}]],[\"scattergl\",[{\"type\":\"map\",\"entries\":[[\"type\",\"scattergl\"],[\"marker\",{\"type\":\"map\",\"entries\":[[\"colorbar\",{\"type\":\"map\",\"entries\":[[\"outlinewidth\",0],[\"ticks\",\"\"]]}]]}]]}]],[\"scatter3d\",[{\"type\":\"map\",\"entries\":[[\"type\",\"scatter3d\"],[\"line\",{\"type\":\"map\",\"entries\":[[\"colorbar\",{\"type\":\"map\",\"entries\":[[\"outlinewidth\",0],[\"ticks\",\"\"]]}]]}],[\"marker\",{\"type\":\"map\",\"entries\":[[\"colorbar\",{\"type\":\"map\",\"entries\":[[\"outlinewidth\",0],[\"ticks\",\"\"]]}]]}]]}]],[\"scattermapbox\",[{\"type\":\"map\",\"entries\":[[\"type\",\"scattermapbox\"],[\"marker\",{\"type\":\"map\",\"entries\":[[\"colorbar\",{\"type\":\"map\",\"entries\":[[\"outlinewidth\",0],[\"ticks\",\"\"]]}]]}]]}]],[\"scatterternary\",[{\"type\":\"map\",\"entries\":[[\"type\",\"scatterternary\"],[\"marker\",{\"type\":\"map\",\"entries\":[[\"colorbar\",{\"type\":\"map\",\"entries\":[[\"outlinewidth\",0],[\"ticks\",\"\"]]}]]}]]}]],[\"scattercarpet\",[{\"type\":\"map\",\"entries\":[[\"type\",\"scattercarpet\"],[\"marker\",{\"type\":\"map\",\"entries\":[[\"colorbar\",{\"type\":\"map\",\"entries\":[[\"outlinewidth\",0],[\"ticks\",\"\"]]}]]}]]}]],[\"carpet\",[{\"type\":\"map\",\"entries\":[[\"aaxis\",{\"type\":\"map\",\"entries\":[[\"endlinecolor\",\"#2a3f5f\"],[\"gridcolor\",\"white\"],[\"linecolor\",\"white\"],[\"minorgridcolor\",\"white\"],[\"startlinecolor\",\"#2a3f5f\"]]}],[\"baxis\",{\"type\":\"map\",\"entries\":[[\"endlinecolor\",\"#2a3f5f\"],[\"gridcolor\",\"white\"],[\"linecolor\",\"white\"],[\"minorgridcolor\",\"white\"],[\"startlinecolor\",\"#2a3f5f\"]]}],[\"type\",\"carpet\"]]}]],[\"table\",[{\"type\":\"map\",\"entries\":[[\"cells\",{\"type\":\"map\",\"entries\":[[\"fill\",{\"type\":\"map\",\"entries\":[[\"color\",\"#EBF0F8\"]]}],[\"line\",{\"type\":\"map\",\"entries\":[[\"color\",\"white\"]]}]]}],[\"header\",{\"type\":\"map\",\"entries\":[[\"fill\",{\"type\":\"map\",\"entries\":[[\"color\",\"#C8D4E3\"]]}],[\"line\",{\"type\":\"map\",\"entries\":[[\"color\",\"white\"]]}]]}],[\"type\",\"table\"]]}]],[\"barpolar\",[{\"type\":\"map\",\"entries\":[[\"marker\",{\"type\":\"map\",\"entries\":[[\"line\",{\"type\":\"map\",\"entries\":[[\"color\",\"#E5ECF6\"],[\"width\",0.5]]}],[\"pattern\",{\"type\":\"map\",\"entries\":[[\"fillmode\",\"overlay\"],[\"size\",10],[\"solidity\",0.2]]}]]}],[\"type\",\"barpolar\"]]}]],[\"pie\",[{\"type\":\"map\",\"entries\":[[\"automargin\",true],[\"type\",\"pie\"]]}]]]}],[\"layout\",{\"type\":\"map\",\"entries\":[[\"autotypenumbers\",\"strict\"],[\"colorway\",[\"#636efa\",\"#EF553B\",\"#00cc96\",\"#ab63fa\",\"#FFA15A\",\"#19d3f3\",\"#FF6692\",\"#B6E880\",\"#FF97FF\",\"#FECB52\"]],[\"font\",{\"type\":\"map\",\"entries\":[[\"color\",\"#2a3f5f\"]]}],[\"hovermode\",\"closest\"],[\"hoverlabel\",{\"type\":\"map\",\"entries\":[[\"align\",\"left\"]]}],[\"paper_bgcolor\",\"white\"],[\"plot_bgcolor\",\"#E5ECF6\"],[\"polar\",{\"type\":\"map\",\"entries\":[[\"bgcolor\",\"#E5ECF6\"],[\"angularaxis\",{\"type\":\"map\",\"entries\":[[\"gridcolor\",\"white\"],[\"linecolor\",\"white\"],[\"ticks\",\"\"]]}],[\"radialaxis\",{\"type\":\"map\",\"entries\":[[\"gridcolor\",\"white\"],[\"linecolor\",\"white\"],[\"ticks\",\"\"]]}]]}],[\"ternary\",{\"type\":\"map\",\"entries\":[[\"bgcolor\",\"#E5ECF6\"],[\"aaxis\",{\"type\":\"map\",\"entries\":[[\"gridcolor\",\"white\"],[\"linecolor\",\"white\"],[\"ticks\",\"\"]]}],[\"baxis\",{\"type\":\"map\",\"entries\":[[\"gridcolor\",\"white\"],[\"linecolor\",\"white\"],[\"ticks\",\"\"]]}],[\"caxis\",{\"type\":\"map\",\"entries\":[[\"gridcolor\",\"white\"],[\"linecolor\",\"white\"],[\"ticks\",\"\"]]}]]}],[\"coloraxis\",{\"type\":\"map\",\"entries\":[[\"colorbar\",{\"type\":\"map\",\"entries\":[[\"outlinewidth\",0],[\"ticks\",\"\"]]}]]}],[\"colorscale\",{\"type\":\"map\",\"entries\":[[\"sequential\",[[0.0,\"#0d0887\"],[0.1111111111111111,\"#46039f\"],[0.2222222222222222,\"#7201a8\"],[0.3333333333333333,\"#9c179e\"],[0.4444444444444444,\"#bd3786\"],[0.5555555555555556,\"#d8576b\"],[0.6666666666666666,\"#ed7953\"],[0.7777777777777778,\"#fb9f3a\"],[0.8888888888888888,\"#fdca26\"],[1.0,\"#f0f921\"]]],[\"sequentialminus\",[[0.0,\"#0d0887\"],[0.1111111111111111,\"#46039f\"],[0.2222222222222222,\"#7201a8\"],[0.3333333333333333,\"#9c179e\"],[0.4444444444444444,\"#bd3786\"],[0.5555555555555556,\"#d8576b\"],[0.6666666666666666,\"#ed7953\"],[0.7777777777777778,\"#fb9f3a\"],[0.8888888888888888,\"#fdca26\"],[1.0,\"#f0f921\"]]],[\"diverging\",[[0,\"#8e0152\"],[0.1,\"#c51b7d\"],[0.2,\"#de77ae\"],[0.3,\"#f1b6da\"],[0.4,\"#fde0ef\"],[0.5,\"#f7f7f7\"],[0.6,\"#e6f5d0\"],[0.7,\"#b8e186\"],[0.8,\"#7fbc41\"],[0.9,\"#4d9221\"],[1,\"#276419\"]]]]}],[\"xaxis\",{\"type\":\"map\",\"entries\":[[\"gridcolor\",\"white\"],[\"linecolor\",\"white\"],[\"ticks\",\"\"],[\"title\",{\"type\":\"map\",\"entries\":[[\"standoff\",15]]}],[\"zerolinecolor\",\"white\"],[\"automargin\",true],[\"zerolinewidth\",2]]}],[\"yaxis\",{\"type\":\"map\",\"entries\":[[\"gridcolor\",\"white\"],[\"linecolor\",\"white\"],[\"ticks\",\"\"],[\"title\",{\"type\":\"map\",\"entries\":[[\"standoff\",15]]}],[\"zerolinecolor\",\"white\"],[\"automargin\",true],[\"zerolinewidth\",2]]}],[\"scene\",{\"type\":\"map\",\"entries\":[[\"xaxis\",{\"type\":\"map\",\"entries\":[[\"backgroundcolor\",\"#E5ECF6\"],[\"gridcolor\",\"white\"],[\"linecolor\",\"white\"],[\"showbackground\",true],[\"ticks\",\"\"],[\"zerolinecolor\",\"white\"],[\"gridwidth\",2]]}],[\"yaxis\",{\"type\":\"map\",\"entries\":[[\"backgroundcolor\",\"#E5ECF6\"],[\"gridcolor\",\"white\"],[\"linecolor\",\"white\"],[\"showbackground\",true],[\"ticks\",\"\"],[\"zerolinecolor\",\"white\"],[\"gridwidth\",2]]}],[\"zaxis\",{\"type\":\"map\",\"entries\":[[\"backgroundcolor\",\"#E5ECF6\"],[\"gridcolor\",\"white\"],[\"linecolor\",\"white\"],[\"showbackground\",true],[\"ticks\",\"\"],[\"zerolinecolor\",\"white\"],[\"gridwidth\",2]]}]]}],[\"shapedefaults\",{\"type\":\"map\",\"entries\":[[\"line\",{\"type\":\"map\",\"entries\":[[\"color\",\"#2a3f5f\"]]}]]}],[\"annotationdefaults\",{\"type\":\"map\",\"entries\":[[\"arrowcolor\",\"#2a3f5f\"],[\"arrowhead\",0],[\"arrowwidth\",1]]}],[\"geo\",{\"type\":\"map\",\"entries\":[[\"bgcolor\",\"white\"],[\"landcolor\",\"#E5ECF6\"],[\"subunitcolor\",\"white\"],[\"showland\",true],[\"showlakes\",true],[\"lakecolor\",\"white\"]]}],[\"title\",{\"type\":\"map\",\"entries\":[[\"x\",0.05]]}],[\"mapbox\",{\"type\":\"map\",\"entries\":[[\"style\",\"light\"]]}]]}]]}]]},\"config\":{\"type\":\"map\",\"entries\":[[\"responsive\",false]]},\"data_sources\":[{\"type\":\"object\",\"name\":\"ColumnDataSource\",\"id\":\"p1027\",\"attributes\":{\"selected\":{\"type\":\"object\",\"name\":\"Selection\",\"id\":\"p1028\",\"attributes\":{\"indices\":[],\"line_indices\":[]}},\"selection_policy\":{\"type\":\"object\",\"name\":\"UnionRenderers\",\"id\":\"p1029\"},\"data\":{\"type\":\"map\",\"entries\":[[\"marker.color\",[{\"type\":\"ndarray\",\"array\":{\"type\":\"bytes\",\"data\":\"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\"},\"shape\":[2003],\"dtype\":\"float64\",\"order\":\"little\"}]],[\"x\",[{\"type\":\"ndarray\",\"array\":{\"type\":\"bytes\",\"data\":\"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\"},\"shape\":[2003],\"dtype\":\"float64\",\"order\":\"little\"}]],[\"y\",[{\"type\":\"ndarray\",\"array\":{\"type\":\"bytes\",\"data\":\"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\"},\"shape\":[2003],\"dtype\":\"float64\",\"order\":\"little\"}]],[\"z\",[{\"type\":\"ndarray\",\"array\":{\"type\":\"bytes\",\"data\":\"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\"},\"shape\":[2003],\"dtype\":\"float64\",\"order\":\"little\"}]]]}}}],\"relayout\":null,\"restyle\":null,\"viewport_update_throttle\":200}},{\"type\":\"object\",\"name\":\"Spacer\",\"id\":\"p1034\",\"attributes\":{\"name\":\"HSpacer01279\",\"stylesheets\":[\"\\n:host(.pn-loading.pn-arc):before, .pn-loading.pn-arc:before {\\n  background-image: url(\\\"data:image/svg+xml;base64,PHN2ZyB4bWxucz0iaHR0cDovL3d3dy53My5vcmcvMjAwMC9zdmciIHN0eWxlPSJtYXJnaW46IGF1dG87IGJhY2tncm91bmQ6IG5vbmU7IGRpc3BsYXk6IGJsb2NrOyBzaGFwZS1yZW5kZXJpbmc6IGF1dG87IiB2aWV3Qm94PSIwIDAgMTAwIDEwMCIgcHJlc2VydmVBc3BlY3RSYXRpbz0ieE1pZFlNaWQiPiAgPGNpcmNsZSBjeD0iNTAiIGN5PSI1MCIgZmlsbD0ibm9uZSIgc3Ryb2tlPSIjYzNjM2MzIiBzdHJva2Utd2lkdGg9IjEwIiByPSIzNSIgc3Ryb2tlLWRhc2hhcnJheT0iMTY0LjkzMzYxNDMxMzQ2NDE1IDU2Ljk3Nzg3MTQzNzgyMTM4Ij4gICAgPGFuaW1hdGVUcmFuc2Zvcm0gYXR0cmlidXRlTmFtZT0idHJhbnNmb3JtIiB0eXBlPSJyb3RhdGUiIHJlcGVhdENvdW50PSJpbmRlZmluaXRlIiBkdXI9IjFzIiB2YWx1ZXM9IjAgNTAgNTA7MzYwIDUwIDUwIiBrZXlUaW1lcz0iMDsxIj48L2FuaW1hdGVUcmFuc2Zvcm0+ICA8L2NpcmNsZT48L3N2Zz4=\\\");\\n  background-size: auto calc(min(50%, 400px));\\n}\",{\"id\":\"p1025\"},{\"id\":\"p1023\"},{\"id\":\"p1024\"}],\"margin\":0,\"sizing_mode\":\"stretch_width\",\"align\":\"start\"}}]}}],\"defs\":[{\"type\":\"model\",\"name\":\"ReactiveHTML1\"},{\"type\":\"model\",\"name\":\"FlexBox1\",\"properties\":[{\"name\":\"align_content\",\"kind\":\"Any\",\"default\":\"flex-start\"},{\"name\":\"align_items\",\"kind\":\"Any\",\"default\":\"flex-start\"},{\"name\":\"flex_direction\",\"kind\":\"Any\",\"default\":\"row\"},{\"name\":\"flex_wrap\",\"kind\":\"Any\",\"default\":\"wrap\"},{\"name\":\"justify_content\",\"kind\":\"Any\",\"default\":\"flex-start\"}]},{\"type\":\"model\",\"name\":\"FloatPanel1\",\"properties\":[{\"name\":\"config\",\"kind\":\"Any\",\"default\":{\"type\":\"map\"}},{\"name\":\"contained\",\"kind\":\"Any\",\"default\":true},{\"name\":\"position\",\"kind\":\"Any\",\"default\":\"right-top\"},{\"name\":\"offsetx\",\"kind\":\"Any\",\"default\":null},{\"name\":\"offsety\",\"kind\":\"Any\",\"default\":null},{\"name\":\"theme\",\"kind\":\"Any\",\"default\":\"primary\"},{\"name\":\"status\",\"kind\":\"Any\",\"default\":\"normalized\"}]},{\"type\":\"model\",\"name\":\"GridStack1\",\"properties\":[{\"name\":\"mode\",\"kind\":\"Any\",\"default\":\"warn\"},{\"name\":\"ncols\",\"kind\":\"Any\",\"default\":null},{\"name\":\"nrows\",\"kind\":\"Any\",\"default\":null},{\"name\":\"allow_resize\",\"kind\":\"Any\",\"default\":true},{\"name\":\"allow_drag\",\"kind\":\"Any\",\"default\":true},{\"name\":\"state\",\"kind\":\"Any\",\"default\":[]}]},{\"type\":\"model\",\"name\":\"drag1\",\"properties\":[{\"name\":\"slider_width\",\"kind\":\"Any\",\"default\":5},{\"name\":\"slider_color\",\"kind\":\"Any\",\"default\":\"black\"},{\"name\":\"value\",\"kind\":\"Any\",\"default\":50}]},{\"type\":\"model\",\"name\":\"click1\",\"properties\":[{\"name\":\"terminal_output\",\"kind\":\"Any\",\"default\":\"\"},{\"name\":\"debug_name\",\"kind\":\"Any\",\"default\":\"\"},{\"name\":\"clears\",\"kind\":\"Any\",\"default\":0}]},{\"type\":\"model\",\"name\":\"FastWrapper1\",\"properties\":[{\"name\":\"object\",\"kind\":\"Any\",\"default\":null},{\"name\":\"style\",\"kind\":\"Any\",\"default\":null}]},{\"type\":\"model\",\"name\":\"NotificationAreaBase1\",\"properties\":[{\"name\":\"js_events\",\"kind\":\"Any\",\"default\":{\"type\":\"map\"}},{\"name\":\"position\",\"kind\":\"Any\",\"default\":\"bottom-right\"},{\"name\":\"_clear\",\"kind\":\"Any\",\"default\":0}]},{\"type\":\"model\",\"name\":\"NotificationArea1\",\"properties\":[{\"name\":\"js_events\",\"kind\":\"Any\",\"default\":{\"type\":\"map\"}},{\"name\":\"notifications\",\"kind\":\"Any\",\"default\":[]},{\"name\":\"position\",\"kind\":\"Any\",\"default\":\"bottom-right\"},{\"name\":\"_clear\",\"kind\":\"Any\",\"default\":0},{\"name\":\"types\",\"kind\":\"Any\",\"default\":[{\"type\":\"map\",\"entries\":[[\"type\",\"warning\"],[\"background\",\"#ffc107\"],[\"icon\",{\"type\":\"map\",\"entries\":[[\"className\",\"fas fa-exclamation-triangle\"],[\"tagName\",\"i\"],[\"color\",\"white\"]]}]]},{\"type\":\"map\",\"entries\":[[\"type\",\"info\"],[\"background\",\"#007bff\"],[\"icon\",{\"type\":\"map\",\"entries\":[[\"className\",\"fas fa-info-circle\"],[\"tagName\",\"i\"],[\"color\",\"white\"]]}]]}]}]},{\"type\":\"model\",\"name\":\"Notification\",\"properties\":[{\"name\":\"background\",\"kind\":\"Any\",\"default\":null},{\"name\":\"duration\",\"kind\":\"Any\",\"default\":3000},{\"name\":\"icon\",\"kind\":\"Any\",\"default\":null},{\"name\":\"message\",\"kind\":\"Any\",\"default\":\"\"},{\"name\":\"notification_type\",\"kind\":\"Any\",\"default\":null},{\"name\":\"_destroyed\",\"kind\":\"Any\",\"default\":false}]},{\"type\":\"model\",\"name\":\"TemplateActions1\",\"properties\":[{\"name\":\"open_modal\",\"kind\":\"Any\",\"default\":0},{\"name\":\"close_modal\",\"kind\":\"Any\",\"default\":0}]},{\"type\":\"model\",\"name\":\"BootstrapTemplateActions1\",\"properties\":[{\"name\":\"open_modal\",\"kind\":\"Any\",\"default\":0},{\"name\":\"close_modal\",\"kind\":\"Any\",\"default\":0}]},{\"type\":\"model\",\"name\":\"MaterialTemplateActions1\",\"properties\":[{\"name\":\"open_modal\",\"kind\":\"Any\",\"default\":0},{\"name\":\"close_modal\",\"kind\":\"Any\",\"default\":0}]}]}};\n",
              "  var render_items = [{\"docid\":\"c1223e11-e45f-4d8f-a5f9-c359cc81de7b\",\"roots\":{\"p1022\":\"cb5e3de5-f489-4994-86aa-1a14a0802424\"},\"root_ids\":[\"p1022\"]}];\n",
              "  var docs = Object.values(docs_json)\n",
              "  if (!docs) {\n",
              "    return\n",
              "  }\n",
              "  const py_version = docs[0].version.replace('rc', '-rc.').replace('.dev', '-dev.')\n",
              "  const is_dev = py_version.indexOf(\"+\") !== -1 || py_version.indexOf(\"-\") !== -1\n",
              "  function embed_document(root) {\n",
              "    var Bokeh = get_bokeh(root)\n",
              "    Bokeh.embed.embed_items_notebook(docs_json, render_items);\n",
              "    for (const render_item of render_items) {\n",
              "      for (const root_id of render_item.root_ids) {\n",
              "\tconst id_el = document.getElementById(root_id)\n",
              "\tif (id_el.children.length && (id_el.children[0].className === 'bk-root')) {\n",
              "\t  const root_el = id_el.children[0]\n",
              "\t  root_el.id = root_el.id + '-rendered'\n",
              "\t}\n",
              "      }\n",
              "    }\n",
              "  }\n",
              "  function get_bokeh(root) {\n",
              "    if (root.Bokeh === undefined) {\n",
              "      return null\n",
              "    } else if (root.Bokeh.version !== py_version && !is_dev) {\n",
              "      if (root.Bokeh.versions === undefined || !root.Bokeh.versions.has(py_version)) {\n",
              "\treturn null\n",
              "      }\n",
              "      return root.Bokeh.versions.get(py_version);\n",
              "    } else if (root.Bokeh.version === py_version) {\n",
              "      return root.Bokeh\n",
              "    }\n",
              "    return null\n",
              "  }\n",
              "  function is_loaded(root) {\n",
              "    var Bokeh = get_bokeh(root)\n",
              "    return (Bokeh != null && Bokeh.Panel !== undefined && ( root['Plotly'] !== undefined))\n",
              "  }\n",
              "  if (is_loaded(root)) {\n",
              "    embed_document(root);\n",
              "  } else {\n",
              "    var attempts = 0;\n",
              "    var timer = setInterval(function(root) {\n",
              "      if (is_loaded(root)) {\n",
              "        clearInterval(timer);\n",
              "        embed_document(root);\n",
              "      } else if (document.readyState == \"complete\") {\n",
              "        attempts++;\n",
              "        if (attempts > 200) {\n",
              "          clearInterval(timer);\n",
              "\t  var Bokeh = get_bokeh(root)\n",
              "\t  if (Bokeh == null || Bokeh.Panel == null) {\n",
              "            console.warn(\"Panel: ERROR: Unable to run Panel code because Bokeh or Panel library is missing\");\n",
              "\t  } else {\n",
              "\t    console.warn(\"Panel: WARNING: Attempting to render but not all required libraries could be resolved.\")\n",
              "\t    embed_document(root)\n",
              "\t  }\n",
              "        }\n",
              "      }\n",
              "    }, 25, root)\n",
              "  }\n",
              "})(window);</script>"
            ],
            "text/plain": [
              ":Scatter3D   [x,y,z]"
            ]
          },
          "execution_count": 8,
          "metadata": {
            "application/vnd.holoviews_exec.v0+json": {
              "id": "p1022"
            }
          },
          "output_type": "execute_result"
        }
      ],
      "source": [
        "# hv.Scatter3D((neurons.x, neurons.y, neurons.z)).opts(\n",
        "#     opts.Scatter3D(azimuth=40, elevation=20, color='z', s=50, cmap='fire'))\n",
        "\n",
        "hv.Scatter3D((neurons.x, neurons.y, neurons.z)) \\\n",
        "    .opts(cmap='fire', color='y', size=3, alpha=.75, width=800, height=800)"
      ]
    },
    {
      "cell_type": "markdown",
      "metadata": {
        "id": "qqaAXQZ-lOQa"
      },
      "source": [
        "### Synaptic connections"
      ]
    },
    {
      "cell_type": "code",
      "execution_count": 9,
      "metadata": {
        "ExecuteTime": {
          "end_time": "2020-01-22T16:52:04.269558Z",
          "start_time": "2020-01-22T16:52:04.260977Z"
        },
        "colab": {
          "base_uri": "https://localhost:8080/",
          "height": 424
        },
        "id": "FMjWCGvwlOQa",
        "outputId": "4056ddf5-3325-4fa5-c695-739ca8b79084"
      },
      "outputs": [
        {
          "data": {
            "text/html": [
              "\n",
              "\n",
              "  <div id=\"df-da0ef961-7636-4cb2-b580-f95c56e6e5ae\">\n",
              "    <div class=\"colab-df-container\">\n",
              "      <div>\n",
              "<style scoped>\n",
              "    .dataframe tbody tr th:only-of-type {\n",
              "        vertical-align: middle;\n",
              "    }\n",
              "\n",
              "    .dataframe tbody tr th {\n",
              "        vertical-align: top;\n",
              "    }\n",
              "\n",
              "    .dataframe thead th {\n",
              "        text-align: right;\n",
              "    }\n",
              "</style>\n",
              "<table border=\"1\" class=\"dataframe\">\n",
              "  <thead>\n",
              "    <tr style=\"text-align: right;\">\n",
              "      <th></th>\n",
              "      <th>from</th>\n",
              "      <th>to</th>\n",
              "      <th>contacts</th>\n",
              "    </tr>\n",
              "  </thead>\n",
              "  <tbody>\n",
              "    <tr>\n",
              "      <th>0</th>\n",
              "      <td>75211</td>\n",
              "      <td>75221</td>\n",
              "      <td>5</td>\n",
              "    </tr>\n",
              "    <tr>\n",
              "      <th>1</th>\n",
              "      <td>75211</td>\n",
              "      <td>75276</td>\n",
              "      <td>5</td>\n",
              "    </tr>\n",
              "    <tr>\n",
              "      <th>2</th>\n",
              "      <td>75211</td>\n",
              "      <td>75473</td>\n",
              "      <td>5</td>\n",
              "    </tr>\n",
              "    <tr>\n",
              "      <th>3</th>\n",
              "      <td>75211</td>\n",
              "      <td>76012</td>\n",
              "      <td>7</td>\n",
              "    </tr>\n",
              "    <tr>\n",
              "      <th>4</th>\n",
              "      <td>75211</td>\n",
              "      <td>76095</td>\n",
              "      <td>3</td>\n",
              "    </tr>\n",
              "    <tr>\n",
              "      <th>...</th>\n",
              "      <td>...</td>\n",
              "      <td>...</td>\n",
              "      <td>...</td>\n",
              "    </tr>\n",
              "    <tr>\n",
              "      <th>102727</th>\n",
              "      <td>81322</td>\n",
              "      <td>80991</td>\n",
              "      <td>5</td>\n",
              "    </tr>\n",
              "    <tr>\n",
              "      <th>102728</th>\n",
              "      <td>81322</td>\n",
              "      <td>81051</td>\n",
              "      <td>5</td>\n",
              "    </tr>\n",
              "    <tr>\n",
              "      <th>102729</th>\n",
              "      <td>81322</td>\n",
              "      <td>81111</td>\n",
              "      <td>4</td>\n",
              "    </tr>\n",
              "    <tr>\n",
              "      <th>102730</th>\n",
              "      <td>81322</td>\n",
              "      <td>81116</td>\n",
              "      <td>9</td>\n",
              "    </tr>\n",
              "    <tr>\n",
              "      <th>102731</th>\n",
              "      <td>81322</td>\n",
              "      <td>81147</td>\n",
              "      <td>4</td>\n",
              "    </tr>\n",
              "  </tbody>\n",
              "</table>\n",
              "<p>102732 rows × 3 columns</p>\n",
              "</div>\n",
              "      <button class=\"colab-df-convert\" onclick=\"convertToInteractive('df-da0ef961-7636-4cb2-b580-f95c56e6e5ae')\"\n",
              "              title=\"Convert this dataframe to an interactive table.\"\n",
              "              style=\"display:none;\">\n",
              "\n",
              "  <svg xmlns=\"http://www.w3.org/2000/svg\" height=\"24px\"viewBox=\"0 0 24 24\"\n",
              "       width=\"24px\">\n",
              "    <path d=\"M0 0h24v24H0V0z\" fill=\"none\"/>\n",
              "    <path d=\"M18.56 5.44l.94 2.06.94-2.06 2.06-.94-2.06-.94-.94-2.06-.94 2.06-2.06.94zm-11 1L8.5 8.5l.94-2.06 2.06-.94-2.06-.94L8.5 2.5l-.94 2.06-2.06.94zm10 10l.94 2.06.94-2.06 2.06-.94-2.06-.94-.94-2.06-.94 2.06-2.06.94z\"/><path d=\"M17.41 7.96l-1.37-1.37c-.4-.4-.92-.59-1.43-.59-.52 0-1.04.2-1.43.59L10.3 9.45l-7.72 7.72c-.78.78-.78 2.05 0 2.83L4 21.41c.39.39.9.59 1.41.59.51 0 1.02-.2 1.41-.59l7.78-7.78 2.81-2.81c.8-.78.8-2.07 0-2.86zM5.41 20L4 18.59l7.72-7.72 1.47 1.35L5.41 20z\"/>\n",
              "  </svg>\n",
              "      </button>\n",
              "\n",
              "\n",
              "\n",
              "    <div id=\"df-22fda70c-13b9-4e6d-9342-1239b8abdf02\">\n",
              "      <button class=\"colab-df-quickchart\" onclick=\"quickchart('df-22fda70c-13b9-4e6d-9342-1239b8abdf02')\"\n",
              "              title=\"Suggest charts.\"\n",
              "              style=\"display:none;\">\n",
              "\n",
              "<svg xmlns=\"http://www.w3.org/2000/svg\" height=\"24px\"viewBox=\"0 0 24 24\"\n",
              "     width=\"24px\">\n",
              "    <g>\n",
              "        <path d=\"M19 3H5c-1.1 0-2 .9-2 2v14c0 1.1.9 2 2 2h14c1.1 0 2-.9 2-2V5c0-1.1-.9-2-2-2zM9 17H7v-7h2v7zm4 0h-2V7h2v10zm4 0h-2v-4h2v4z\"/>\n",
              "    </g>\n",
              "</svg>\n",
              "      </button>\n",
              "    </div>\n",
              "\n",
              "<style>\n",
              "  .colab-df-quickchart {\n",
              "    background-color: #E8F0FE;\n",
              "    border: none;\n",
              "    border-radius: 50%;\n",
              "    cursor: pointer;\n",
              "    display: none;\n",
              "    fill: #1967D2;\n",
              "    height: 32px;\n",
              "    padding: 0 0 0 0;\n",
              "    width: 32px;\n",
              "  }\n",
              "\n",
              "  .colab-df-quickchart:hover {\n",
              "    background-color: #E2EBFA;\n",
              "    box-shadow: 0px 1px 2px rgba(60, 64, 67, 0.3), 0px 1px 3px 1px rgba(60, 64, 67, 0.15);\n",
              "    fill: #174EA6;\n",
              "  }\n",
              "\n",
              "  [theme=dark] .colab-df-quickchart {\n",
              "    background-color: #3B4455;\n",
              "    fill: #D2E3FC;\n",
              "  }\n",
              "\n",
              "  [theme=dark] .colab-df-quickchart:hover {\n",
              "    background-color: #434B5C;\n",
              "    box-shadow: 0px 1px 3px 1px rgba(0, 0, 0, 0.15);\n",
              "    filter: drop-shadow(0px 1px 2px rgba(0, 0, 0, 0.3));\n",
              "    fill: #FFFFFF;\n",
              "  }\n",
              "</style>\n",
              "\n",
              "    <script>\n",
              "      async function quickchart(key) {\n",
              "        const containerElement = document.querySelector('#' + key);\n",
              "        const charts = await google.colab.kernel.invokeFunction(\n",
              "            'suggestCharts', [key], {});\n",
              "      }\n",
              "    </script>\n",
              "\n",
              "      <script>\n",
              "\n",
              "function displayQuickchartButton(domScope) {\n",
              "  let quickchartButtonEl =\n",
              "    domScope.querySelector('#df-22fda70c-13b9-4e6d-9342-1239b8abdf02 button.colab-df-quickchart');\n",
              "  quickchartButtonEl.style.display =\n",
              "    google.colab.kernel.accessAllowed ? 'block' : 'none';\n",
              "}\n",
              "\n",
              "        displayQuickchartButton(document);\n",
              "      </script>\n",
              "      <style>\n",
              "    .colab-df-container {\n",
              "      display:flex;\n",
              "      flex-wrap:wrap;\n",
              "      gap: 12px;\n",
              "    }\n",
              "\n",
              "    .colab-df-convert {\n",
              "      background-color: #E8F0FE;\n",
              "      border: none;\n",
              "      border-radius: 50%;\n",
              "      cursor: pointer;\n",
              "      display: none;\n",
              "      fill: #1967D2;\n",
              "      height: 32px;\n",
              "      padding: 0 0 0 0;\n",
              "      width: 32px;\n",
              "    }\n",
              "\n",
              "    .colab-df-convert:hover {\n",
              "      background-color: #E2EBFA;\n",
              "      box-shadow: 0px 1px 2px rgba(60, 64, 67, 0.3), 0px 1px 3px 1px rgba(60, 64, 67, 0.15);\n",
              "      fill: #174EA6;\n",
              "    }\n",
              "\n",
              "    [theme=dark] .colab-df-convert {\n",
              "      background-color: #3B4455;\n",
              "      fill: #D2E3FC;\n",
              "    }\n",
              "\n",
              "    [theme=dark] .colab-df-convert:hover {\n",
              "      background-color: #434B5C;\n",
              "      box-shadow: 0px 1px 3px 1px rgba(0, 0, 0, 0.15);\n",
              "      filter: drop-shadow(0px 1px 2px rgba(0, 0, 0, 0.3));\n",
              "      fill: #FFFFFF;\n",
              "    }\n",
              "  </style>\n",
              "\n",
              "      <script>\n",
              "        const buttonEl =\n",
              "          document.querySelector('#df-da0ef961-7636-4cb2-b580-f95c56e6e5ae button.colab-df-convert');\n",
              "        buttonEl.style.display =\n",
              "          google.colab.kernel.accessAllowed ? 'block' : 'none';\n",
              "\n",
              "        async function convertToInteractive(key) {\n",
              "          const element = document.querySelector('#df-da0ef961-7636-4cb2-b580-f95c56e6e5ae');\n",
              "          const dataTable =\n",
              "            await google.colab.kernel.invokeFunction('convertToInteractive',\n",
              "                                                     [key], {});\n",
              "          if (!dataTable) return;\n",
              "\n",
              "          const docLinkHtml = 'Like what you see? Visit the ' +\n",
              "            '<a target=\"_blank\" href=https://colab.research.google.com/notebooks/data_table.ipynb>data table notebook</a>'\n",
              "            + ' to learn more about interactive tables.';\n",
              "          element.innerHTML = '';\n",
              "          dataTable['output_type'] = 'display_data';\n",
              "          await google.colab.output.renderOutput(dataTable, element);\n",
              "          const docLink = document.createElement('div');\n",
              "          docLink.innerHTML = docLinkHtml;\n",
              "          element.appendChild(docLink);\n",
              "        }\n",
              "      </script>\n",
              "    </div>\n",
              "  </div>\n"
            ],
            "text/plain": [
              "         from     to  contacts\n",
              "0       75211  75221         5\n",
              "1       75211  75276         5\n",
              "2       75211  75473         5\n",
              "3       75211  76012         7\n",
              "4       75211  76095         3\n",
              "...       ...    ...       ...\n",
              "102727  81322  80991         5\n",
              "102728  81322  81051         5\n",
              "102729  81322  81111         4\n",
              "102730  81322  81116         9\n",
              "102731  81322  81147         4\n",
              "\n",
              "[102732 rows x 3 columns]"
            ]
          },
          "metadata": {},
          "output_type": "display_data"
        }
      ],
      "source": [
        "display(synapses)"
      ]
    },
    {
      "cell_type": "markdown",
      "metadata": {
        "id": "_AGmDXZ9lOQa"
      },
      "source": [
        "### Adjaceny matrix\n",
        "\n",
        "Although representing the network as an edge list as above might space-efficient, sometimes it is more convenient to analyze the adjacency matrix directly. You could, obviously, transform the edge list to the matrix representation yourself (a quick exercise in [table operations](https://pandas.pydata.org/pandas-docs/stable/user_guide/merging.html) acrobatics, or straightforward by nested loops). Still, we can simply get it using the `adjacency=True` flag as below:"
      ]
    },
    {
      "cell_type": "code",
      "execution_count": 10,
      "metadata": {
        "ExecuteTime": {
          "end_time": "2020-01-22T16:52:05.244741Z",
          "start_time": "2020-01-22T16:52:04.274168Z"
        },
        "colab": {
          "base_uri": "https://localhost:8080/"
        },
        "id": "fsYhymdzlOQa",
        "outputId": "d840422f-382e-4866-a4ff-862db1934878"
      },
      "outputs": [
        {
          "name": "stdout",
          "output_type": "stream",
          "text": [
            "2003x2003 adjacency matrix\n",
            " \t2,003 neurons\n",
            " \t102,732 connections\n",
            "\t650,949 contacts\n"
          ]
        }
      ],
      "source": [
        "connectome = load_connectome(adjacency=True)\n",
        "neurons, synapses, A, W = connectome['nodes'], connectome['edges'], connectome['A'], connectome['W']\n",
        "\n",
        "print(f'{A.shape[0]}x{A.shape[1]} adjacency matrix\\n',\n",
        "      f'\\t{len(A):,} neurons\\n',\n",
        "      f'\\t{A.sum():,} connections\\n'\n",
        "      f'\\t{W.sum():,} contacts')"
      ]
    },
    {
      "cell_type": "markdown",
      "metadata": {
        "id": "uTKATkI9lOQb"
      },
      "source": [
        "Note that for convenience, in addition to the binary adjacency matrix `A`, a weighted matrix `W`, whose values describe the number of synapses per connection, is also returned. For the rest of our analysis here, we consider only the connections (without the contacts)."
      ]
    },
    {
      "cell_type": "markdown",
      "metadata": {
        "id": "UhuXgRd5lOQb"
      },
      "source": [
        "## Motif embedding in space"
      ]
    },
    {
      "cell_type": "markdown",
      "metadata": {
        "id": "HCnDmDDVlOQb"
      },
      "source": [
        "### Scan triplet motifs\n",
        "Let's examine the how each motif is embedded in space."
      ]
    },
    {
      "cell_type": "code",
      "execution_count": null,
      "metadata": {
        "ExecuteTime": {
          "end_time": "2020-01-22T16:52:53.102188Z",
          "start_time": "2020-01-22T16:52:05.250525Z"
        },
        "id": "ub8GoFu1lOQb"
      },
      "outputs": [],
      "source": [
        "tid_order = nsm.triad_order_nn4576\n",
        "\n",
        "frequency, participations = nsm.motifs(A, participation=True)\n",
        "frequency, participations = np.take(frequency, tid_order), np.take(participations, tid_order)"
      ]
    },
    {
      "cell_type": "code",
      "execution_count": null,
      "metadata": {
        "ExecuteTime": {
          "end_time": "2020-01-22T16:52:53.110935Z",
          "start_time": "2020-01-22T16:52:53.106713Z"
        },
        "id": "Hf8q6mDQlOQb",
        "outputId": "6e59914c-3aa7-4969-cf2f-95fa1a88045a"
      },
      "outputs": [
        {
          "name": "stdout",
          "output_type": "stream",
          "text": [
            "[4187617 2738360 3162677  281224  208612  174242   29961    4328    7555\n",
            "    7808    6694     689      15]\n"
          ]
        }
      ],
      "source": [
        "print(frequency)"
      ]
    },
    {
      "cell_type": "code",
      "execution_count": null,
      "metadata": {
        "ExecuteTime": {
          "end_time": "2020-01-22T16:52:57.915056Z",
          "start_time": "2020-01-22T16:52:53.126044Z"
        },
        "id": "pVpgos4_lOQb",
        "outputId": "84984888-827f-4201-bbda-bc9fe9229aaa"
      },
      "outputs": [
        {
          "data": {
            "text/html": [
              "<div>\n",
              "<style scoped>\n",
              "    .dataframe tbody tr th:only-of-type {\n",
              "        vertical-align: middle;\n",
              "    }\n",
              "\n",
              "    .dataframe tbody tr th {\n",
              "        vertical-align: top;\n",
              "    }\n",
              "\n",
              "    .dataframe thead th {\n",
              "        text-align: right;\n",
              "    }\n",
              "</style>\n",
              "<table border=\"1\" class=\"dataframe\">\n",
              "  <thead>\n",
              "    <tr style=\"text-align: right;\">\n",
              "      <th></th>\n",
              "      <th>R</th>\n",
              "      <th>G</th>\n",
              "      <th>B</th>\n",
              "      <th>motif</th>\n",
              "    </tr>\n",
              "  </thead>\n",
              "  <tbody>\n",
              "    <tr>\n",
              "      <th>0</th>\n",
              "      <td>75211</td>\n",
              "      <td>75221</td>\n",
              "      <td>75261</td>\n",
              "      <td>1</td>\n",
              "    </tr>\n",
              "    <tr>\n",
              "      <th>1</th>\n",
              "      <td>75211</td>\n",
              "      <td>75221</td>\n",
              "      <td>75271</td>\n",
              "      <td>1</td>\n",
              "    </tr>\n",
              "    <tr>\n",
              "      <th>2</th>\n",
              "      <td>75211</td>\n",
              "      <td>75221</td>\n",
              "      <td>75277</td>\n",
              "      <td>1</td>\n",
              "    </tr>\n",
              "    <tr>\n",
              "      <th>3</th>\n",
              "      <td>75211</td>\n",
              "      <td>75221</td>\n",
              "      <td>75396</td>\n",
              "      <td>1</td>\n",
              "    </tr>\n",
              "    <tr>\n",
              "      <th>4</th>\n",
              "      <td>75211</td>\n",
              "      <td>75221</td>\n",
              "      <td>75691</td>\n",
              "      <td>1</td>\n",
              "    </tr>\n",
              "    <tr>\n",
              "      <th>...</th>\n",
              "      <td>...</td>\n",
              "      <td>...</td>\n",
              "      <td>...</td>\n",
              "      <td>...</td>\n",
              "    </tr>\n",
              "    <tr>\n",
              "      <th>10809777</th>\n",
              "      <td>81129</td>\n",
              "      <td>80370</td>\n",
              "      <td>76956</td>\n",
              "      <td>13</td>\n",
              "    </tr>\n",
              "    <tr>\n",
              "      <th>10809778</th>\n",
              "      <td>78718</td>\n",
              "      <td>77948</td>\n",
              "      <td>77520</td>\n",
              "      <td>13</td>\n",
              "    </tr>\n",
              "    <tr>\n",
              "      <th>10809779</th>\n",
              "      <td>80751</td>\n",
              "      <td>79899</td>\n",
              "      <td>77546</td>\n",
              "      <td>13</td>\n",
              "    </tr>\n",
              "    <tr>\n",
              "      <th>10809780</th>\n",
              "      <td>80386</td>\n",
              "      <td>80335</td>\n",
              "      <td>77704</td>\n",
              "      <td>13</td>\n",
              "    </tr>\n",
              "    <tr>\n",
              "      <th>10809781</th>\n",
              "      <td>78422</td>\n",
              "      <td>77773</td>\n",
              "      <td>77708</td>\n",
              "      <td>13</td>\n",
              "    </tr>\n",
              "  </tbody>\n",
              "</table>\n",
              "<p>10809782 rows × 4 columns</p>\n",
              "</div>"
            ],
            "text/plain": [
              "              R      G      B  motif\n",
              "0         75211  75221  75261      1\n",
              "1         75211  75221  75271      1\n",
              "2         75211  75221  75277      1\n",
              "3         75211  75221  75396      1\n",
              "4         75211  75221  75691      1\n",
              "...         ...    ...    ...    ...\n",
              "10809777  81129  80370  76956     13\n",
              "10809778  78718  77948  77520     13\n",
              "10809779  80751  79899  77546     13\n",
              "10809780  80386  80335  77704     13\n",
              "10809781  78422  77773  77708     13\n",
              "\n",
              "[10809782 rows x 4 columns]"
            ]
          },
          "metadata": {},
          "output_type": "display_data"
        }
      ],
      "source": [
        "gids = neurons['gid'].values\n",
        "motifs = pd.concat([pd.DataFrame(gids.take(p), columns=['R','G','B']).assign(motif=i+1)\n",
        "                    for i, p in enumerate(participations) if p], ignore_index=True)\n",
        "display(motifs)"
      ]
    },
    {
      "cell_type": "code",
      "execution_count": null,
      "metadata": {
        "ExecuteTime": {
          "end_time": "2020-01-22T16:52:58.242084Z",
          "start_time": "2020-01-22T16:52:57.920793Z"
        },
        "id": "s9onXu_NlOQc",
        "outputId": "3405e78d-c3ca-486e-f247-dd03b5196184"
      },
      "outputs": [
        {
          "data": {
            "text/html": [
              "<style  type=\"text/css\" >\n",
              "</style><table id=\"T_a49baed8_3d37_11ea_9910_88e9fe770979\" ><thead>    <tr>        <th class=\"index_name level0\" >motif</th>        <th class=\"col_heading level0 col0\" >1</th>        <th class=\"col_heading level0 col1\" >2</th>        <th class=\"col_heading level0 col2\" >3</th>        <th class=\"col_heading level0 col3\" >4</th>        <th class=\"col_heading level0 col4\" >5</th>        <th class=\"col_heading level0 col5\" >6</th>        <th class=\"col_heading level0 col6\" >7</th>        <th class=\"col_heading level0 col7\" >8</th>        <th class=\"col_heading level0 col8\" >9</th>        <th class=\"col_heading level0 col9\" >10</th>        <th class=\"col_heading level0 col10\" >11</th>        <th class=\"col_heading level0 col11\" >12</th>        <th class=\"col_heading level0 col12\" >13</th>    </tr></thead><tbody>\n",
              "                <tr>\n",
              "                        <th id=\"T_a49baed8_3d37_11ea_9910_88e9fe770979level0_row0\" class=\"row_heading level0 row0\" >Frequency</th>\n",
              "                        <td id=\"T_a49baed8_3d37_11ea_9910_88e9fe770979row0_col0\" class=\"data row0 col0\" >4,187,617</td>\n",
              "                        <td id=\"T_a49baed8_3d37_11ea_9910_88e9fe770979row0_col1\" class=\"data row0 col1\" >2,738,360</td>\n",
              "                        <td id=\"T_a49baed8_3d37_11ea_9910_88e9fe770979row0_col2\" class=\"data row0 col2\" >3,162,677</td>\n",
              "                        <td id=\"T_a49baed8_3d37_11ea_9910_88e9fe770979row0_col3\" class=\"data row0 col3\" >281,224</td>\n",
              "                        <td id=\"T_a49baed8_3d37_11ea_9910_88e9fe770979row0_col4\" class=\"data row0 col4\" >208,612</td>\n",
              "                        <td id=\"T_a49baed8_3d37_11ea_9910_88e9fe770979row0_col5\" class=\"data row0 col5\" >174,242</td>\n",
              "                        <td id=\"T_a49baed8_3d37_11ea_9910_88e9fe770979row0_col6\" class=\"data row0 col6\" >29,961</td>\n",
              "                        <td id=\"T_a49baed8_3d37_11ea_9910_88e9fe770979row0_col7\" class=\"data row0 col7\" >4,328</td>\n",
              "                        <td id=\"T_a49baed8_3d37_11ea_9910_88e9fe770979row0_col8\" class=\"data row0 col8\" >7,555</td>\n",
              "                        <td id=\"T_a49baed8_3d37_11ea_9910_88e9fe770979row0_col9\" class=\"data row0 col9\" >7,808</td>\n",
              "                        <td id=\"T_a49baed8_3d37_11ea_9910_88e9fe770979row0_col10\" class=\"data row0 col10\" >6,694</td>\n",
              "                        <td id=\"T_a49baed8_3d37_11ea_9910_88e9fe770979row0_col11\" class=\"data row0 col11\" >689</td>\n",
              "                        <td id=\"T_a49baed8_3d37_11ea_9910_88e9fe770979row0_col12\" class=\"data row0 col12\" >15</td>\n",
              "            </tr>\n",
              "    </tbody></table>"
            ],
            "text/plain": [
              "<pandas.io.formats.style.Styler at 0x1a22169950>"
            ]
          },
          "execution_count": 13,
          "metadata": {},
          "output_type": "execute_result"
        }
      ],
      "source": [
        "assert np.array_equal(frequency, motifs.groupby('motif').size())\n",
        "\n",
        "motifs.groupby('motif').size().to_frame('Frequency').T.style.format('{:,}')"
      ]
    },
    {
      "cell_type": "markdown",
      "metadata": {
        "id": "moLEO7IjlOQc"
      },
      "source": [
        "## Triplet motifs spatial embedding\n",
        "\n",
        "Lastly, we examine the positions of the neurons forming each of the motifs. Since the pyramidal neurons are vertical, we'll focus on the y-coordinate (cortical depth)."
      ]
    },
    {
      "cell_type": "code",
      "execution_count": null,
      "metadata": {
        "ExecuteTime": {
          "end_time": "2020-01-22T16:53:02.299937Z",
          "start_time": "2020-01-22T16:52:58.248202Z"
        },
        "id": "nomVpdKYlOQc",
        "outputId": "874c0c85-4a54-4a9b-f11b-8d4557707ccd"
      },
      "outputs": [
        {
          "data": {
            "text/html": [
              "<div>\n",
              "<style scoped>\n",
              "    .dataframe tbody tr th:only-of-type {\n",
              "        vertical-align: middle;\n",
              "    }\n",
              "\n",
              "    .dataframe tbody tr th {\n",
              "        vertical-align: top;\n",
              "    }\n",
              "\n",
              "    .dataframe thead th {\n",
              "        text-align: right;\n",
              "    }\n",
              "</style>\n",
              "<table border=\"1\" class=\"dataframe\">\n",
              "  <thead>\n",
              "    <tr style=\"text-align: right;\">\n",
              "      <th></th>\n",
              "      <th>R</th>\n",
              "      <th>G</th>\n",
              "      <th>B</th>\n",
              "      <th>motif</th>\n",
              "      <th>Rx</th>\n",
              "      <th>Ry</th>\n",
              "      <th>Rz</th>\n",
              "      <th>Gx</th>\n",
              "      <th>Gy</th>\n",
              "      <th>Gz</th>\n",
              "      <th>Bx</th>\n",
              "      <th>By</th>\n",
              "      <th>Bz</th>\n",
              "    </tr>\n",
              "  </thead>\n",
              "  <tbody>\n",
              "    <tr>\n",
              "      <th>0</th>\n",
              "      <td>75211</td>\n",
              "      <td>75221</td>\n",
              "      <td>75261</td>\n",
              "      <td>1</td>\n",
              "      <td>341.846181</td>\n",
              "      <td>773.977844</td>\n",
              "      <td>636.437126</td>\n",
              "      <td>239.869853</td>\n",
              "      <td>880.629815</td>\n",
              "      <td>609.945456</td>\n",
              "      <td>203.276337</td>\n",
              "      <td>968.822791</td>\n",
              "      <td>481.909118</td>\n",
              "    </tr>\n",
              "    <tr>\n",
              "      <th>1</th>\n",
              "      <td>75211</td>\n",
              "      <td>75221</td>\n",
              "      <td>75271</td>\n",
              "      <td>1</td>\n",
              "      <td>341.846181</td>\n",
              "      <td>773.977844</td>\n",
              "      <td>636.437126</td>\n",
              "      <td>239.869853</td>\n",
              "      <td>880.629815</td>\n",
              "      <td>609.945456</td>\n",
              "      <td>320.183623</td>\n",
              "      <td>1180.844858</td>\n",
              "      <td>570.809167</td>\n",
              "    </tr>\n",
              "    <tr>\n",
              "      <th>2</th>\n",
              "      <td>75211</td>\n",
              "      <td>75221</td>\n",
              "      <td>75277</td>\n",
              "      <td>1</td>\n",
              "      <td>341.846181</td>\n",
              "      <td>773.977844</td>\n",
              "      <td>636.437126</td>\n",
              "      <td>239.869853</td>\n",
              "      <td>880.629815</td>\n",
              "      <td>609.945456</td>\n",
              "      <td>293.199873</td>\n",
              "      <td>1090.600882</td>\n",
              "      <td>580.749479</td>\n",
              "    </tr>\n",
              "    <tr>\n",
              "      <th>3</th>\n",
              "      <td>75211</td>\n",
              "      <td>75221</td>\n",
              "      <td>75396</td>\n",
              "      <td>1</td>\n",
              "      <td>341.846181</td>\n",
              "      <td>773.977844</td>\n",
              "      <td>636.437126</td>\n",
              "      <td>239.869853</td>\n",
              "      <td>880.629815</td>\n",
              "      <td>609.945456</td>\n",
              "      <td>393.450029</td>\n",
              "      <td>1067.014389</td>\n",
              "      <td>642.183122</td>\n",
              "    </tr>\n",
              "    <tr>\n",
              "      <th>4</th>\n",
              "      <td>75211</td>\n",
              "      <td>75221</td>\n",
              "      <td>75691</td>\n",
              "      <td>1</td>\n",
              "      <td>341.846181</td>\n",
              "      <td>773.977844</td>\n",
              "      <td>636.437126</td>\n",
              "      <td>239.869853</td>\n",
              "      <td>880.629815</td>\n",
              "      <td>609.945456</td>\n",
              "      <td>497.137587</td>\n",
              "      <td>1024.840713</td>\n",
              "      <td>725.135217</td>\n",
              "    </tr>\n",
              "    <tr>\n",
              "      <th>...</th>\n",
              "      <td>...</td>\n",
              "      <td>...</td>\n",
              "      <td>...</td>\n",
              "      <td>...</td>\n",
              "      <td>...</td>\n",
              "      <td>...</td>\n",
              "      <td>...</td>\n",
              "      <td>...</td>\n",
              "      <td>...</td>\n",
              "      <td>...</td>\n",
              "      <td>...</td>\n",
              "      <td>...</td>\n",
              "      <td>...</td>\n",
              "    </tr>\n",
              "    <tr>\n",
              "      <th>10809777</th>\n",
              "      <td>81129</td>\n",
              "      <td>80370</td>\n",
              "      <td>76956</td>\n",
              "      <td>13</td>\n",
              "      <td>192.844296</td>\n",
              "      <td>948.897651</td>\n",
              "      <td>737.201974</td>\n",
              "      <td>178.475477</td>\n",
              "      <td>1061.766714</td>\n",
              "      <td>692.749867</td>\n",
              "      <td>248.743735</td>\n",
              "      <td>1104.252847</td>\n",
              "      <td>703.846591</td>\n",
              "    </tr>\n",
              "    <tr>\n",
              "      <th>10809778</th>\n",
              "      <td>78718</td>\n",
              "      <td>77948</td>\n",
              "      <td>77520</td>\n",
              "      <td>13</td>\n",
              "      <td>472.534544</td>\n",
              "      <td>787.782031</td>\n",
              "      <td>597.521670</td>\n",
              "      <td>385.660359</td>\n",
              "      <td>797.075622</td>\n",
              "      <td>501.540998</td>\n",
              "      <td>359.745437</td>\n",
              "      <td>878.731038</td>\n",
              "      <td>649.375373</td>\n",
              "    </tr>\n",
              "    <tr>\n",
              "      <th>10809779</th>\n",
              "      <td>80751</td>\n",
              "      <td>79899</td>\n",
              "      <td>77546</td>\n",
              "      <td>13</td>\n",
              "      <td>214.454828</td>\n",
              "      <td>907.813569</td>\n",
              "      <td>437.465360</td>\n",
              "      <td>226.882608</td>\n",
              "      <td>883.506021</td>\n",
              "      <td>430.744574</td>\n",
              "      <td>251.492190</td>\n",
              "      <td>1077.677984</td>\n",
              "      <td>499.352161</td>\n",
              "    </tr>\n",
              "    <tr>\n",
              "      <th>10809780</th>\n",
              "      <td>80386</td>\n",
              "      <td>80335</td>\n",
              "      <td>77704</td>\n",
              "      <td>13</td>\n",
              "      <td>335.823705</td>\n",
              "      <td>1079.200210</td>\n",
              "      <td>626.482609</td>\n",
              "      <td>340.106908</td>\n",
              "      <td>1018.695726</td>\n",
              "      <td>604.070499</td>\n",
              "      <td>337.106262</td>\n",
              "      <td>998.329943</td>\n",
              "      <td>660.917740</td>\n",
              "    </tr>\n",
              "    <tr>\n",
              "      <th>10809781</th>\n",
              "      <td>78422</td>\n",
              "      <td>77773</td>\n",
              "      <td>77708</td>\n",
              "      <td>13</td>\n",
              "      <td>277.609104</td>\n",
              "      <td>1140.425748</td>\n",
              "      <td>652.055906</td>\n",
              "      <td>271.051619</td>\n",
              "      <td>1144.976403</td>\n",
              "      <td>535.146850</td>\n",
              "      <td>355.084509</td>\n",
              "      <td>1117.287910</td>\n",
              "      <td>510.178296</td>\n",
              "    </tr>\n",
              "  </tbody>\n",
              "</table>\n",
              "<p>10809782 rows × 13 columns</p>\n",
              "</div>"
            ],
            "text/plain": [
              "              R      G      B  motif          Rx           Ry          Rz  \\\n",
              "0         75211  75221  75261      1  341.846181   773.977844  636.437126   \n",
              "1         75211  75221  75271      1  341.846181   773.977844  636.437126   \n",
              "2         75211  75221  75277      1  341.846181   773.977844  636.437126   \n",
              "3         75211  75221  75396      1  341.846181   773.977844  636.437126   \n",
              "4         75211  75221  75691      1  341.846181   773.977844  636.437126   \n",
              "...         ...    ...    ...    ...         ...          ...         ...   \n",
              "10809777  81129  80370  76956     13  192.844296   948.897651  737.201974   \n",
              "10809778  78718  77948  77520     13  472.534544   787.782031  597.521670   \n",
              "10809779  80751  79899  77546     13  214.454828   907.813569  437.465360   \n",
              "10809780  80386  80335  77704     13  335.823705  1079.200210  626.482609   \n",
              "10809781  78422  77773  77708     13  277.609104  1140.425748  652.055906   \n",
              "\n",
              "                  Gx           Gy          Gz          Bx           By  \\\n",
              "0         239.869853   880.629815  609.945456  203.276337   968.822791   \n",
              "1         239.869853   880.629815  609.945456  320.183623  1180.844858   \n",
              "2         239.869853   880.629815  609.945456  293.199873  1090.600882   \n",
              "3         239.869853   880.629815  609.945456  393.450029  1067.014389   \n",
              "4         239.869853   880.629815  609.945456  497.137587  1024.840713   \n",
              "...              ...          ...         ...         ...          ...   \n",
              "10809777  178.475477  1061.766714  692.749867  248.743735  1104.252847   \n",
              "10809778  385.660359   797.075622  501.540998  359.745437   878.731038   \n",
              "10809779  226.882608   883.506021  430.744574  251.492190  1077.677984   \n",
              "10809780  340.106908  1018.695726  604.070499  337.106262   998.329943   \n",
              "10809781  271.051619  1144.976403  535.146850  355.084509  1117.287910   \n",
              "\n",
              "                  Bz  \n",
              "0         481.909118  \n",
              "1         570.809167  \n",
              "2         580.749479  \n",
              "3         642.183122  \n",
              "4         725.135217  \n",
              "...              ...  \n",
              "10809777  703.846591  \n",
              "10809778  649.375373  \n",
              "10809779  499.352161  \n",
              "10809780  660.917740  \n",
              "10809781  510.178296  \n",
              "\n",
              "[10809782 rows x 13 columns]"
            ]
          },
          "execution_count": 14,
          "metadata": {},
          "output_type": "execute_result"
        }
      ],
      "source": [
        "embedding = motifs \\\n",
        "    .merge(neurons.set_index('gid').add_prefix('R'), how='left', left_on='R', right_index=True) \\\n",
        "    .merge(neurons.set_index('gid').add_prefix('G'), how='left', left_on='G', right_index=True) \\\n",
        "    .merge(neurons.set_index('gid').add_prefix('B'), how='left', left_on='B', right_index=True)\n",
        "embedding"
      ]
    },
    {
      "cell_type": "code",
      "execution_count": null,
      "metadata": {
        "ExecuteTime": {
          "end_time": "2020-01-22T16:53:05.249966Z",
          "start_time": "2020-01-22T16:53:02.304384Z"
        },
        "id": "0YqTpehQlOQc",
        "outputId": "60f8466b-87c4-4899-f795-ae8193d9641a"
      },
      "outputs": [
        {
          "data": {
            "text/plain": [
              "Text(0, 0.5, 'Height (µm)')"
            ]
          },
          "execution_count": 15,
          "metadata": {},
          "output_type": "execute_result"
        },
        {
          "data": {
            "image/png": "[encoded data removed]",
            "text/plain": [
              "<Figure size 1200x300 with 5 Axes>"
            ]
          },
          "metadata": {
            "needs_background": "light"
          },
          "output_type": "display_data"
        }
      ],
      "source": [
        "motifs_order = [3, 4, 7, 10, 11]\n",
        "\n",
        "axes = embedding[embedding['motif'].isin(motifs_order)].groupby('motif') \\\n",
        "    .boxplot(column=['Ry', 'Gy', 'By'], layout=(1, len(motifs_order)), figsize=(12,3),\n",
        "             showfliers=False, patch_artist=True, boxprops=dict())\n",
        "\n",
        "colors = ['pink', 'lightgreen', 'lightblue']\n",
        "for ax in axes.values:\n",
        "    plt.setp(ax.lines, color='k')\n",
        "    [patch.set(edgecolor='k', facecolor=color) for patch, color in zip(ax.artists, colors)]\n",
        "\n",
        "axes.values[0].set_ylabel('Height (µm)')\n"
      ]
    },
    {
      "cell_type": "markdown",
      "metadata": {
        "id": "vCcXeQtFlOQc"
      },
      "source": [
        "<img src='data:image/png;base64,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'/>"
      ]
    },
    {
      "cell_type": "markdown",
      "metadata": {
        "id": "7RTAUWvjlOQd"
      },
      "source": [
        "The analysis uncovers a close match between the physical positions of the neurons and the synaptic connectivity they form. For instance, for motif #4 the “source” neuron (the presynaptic neuron that projects to the other two) is located, on average, above the other two cells whereas the “sink” neuron (the postsynaptic neuron receiving projections from the other two) is, on average, the lowest."
      ]
    },
    {
      "cell_type": "markdown",
      "metadata": {
        "id": "-EKcMvPjlOQd"
      },
      "source": [
        "## References and Further Readings\n",
        "Books\n",
        "1. [Networks of the Brain](https://mitpress.mit.edu/books/networks-brain#:~:targetText=In%20Networks%20of%20the%20Brain%2C%20Olaf%20Sporns%20describes%20how%20the,from%20a%20complex%20network%20perspective.&targetText=Networks%20of%20the%20Brain%20provides,essential%20foundation%20for%20future%20research.) by [Olaf Sporns](http://twitter.com/spornslab)\n",
        "2. [Connectome](http://connectomethebook.com/) by [Sebastian Seung](http://seunglab.org/)\n",
        "\n",
        "Papers\n",
        "* Markram, Muller, Ramaswamy, Reimann, Abdellah, Sanchez et al. (2015). [Reconstruction and Simulation of Neocortical Microcircuitry](https://www.cell.com/fulltext/S0092-8674(15)01191-5). *Cell*, **163**, 456–492. https://doi.org/10.1016/j.cell.2015.09.029.\n",
        "    * The _in silico_ digital reconstruction of the network of all synaptic connections in a cortical microcircuit.\n",
        "* Gal, London, Globerson, Ramaswamy, Reimann, Muller, Markram, and Segev. (2017). [Rich cell-type-specific network topology in neocortical microcircuitry](http://www.rdcu.be/tffO). *Nat Neurosci*, **20(7)**, 1004–1013. http://doi.org/10.1038/nn.4576.\n",
        "    * A network science analysis of the cortical microcircuit.\n",
        "* Gal, Perin, Markram, London, and Segev. (2019). [Neuron Geometry Underlies a Universal Local Architecture in Neuronal Networks](https://doi.org/10.1101/656058). *bioRxiv*, 656058. https://doi.org/10.1101/656058.\n",
        "    * Developing a general framework for spatially embedded networks that, when applied to biological neuronal networks, uncovers the geometric origin of network motifs universally emergence in different brain regions.\n",
        "\n",
        "Web resources\n",
        "1. [The neuron and nervous system](https://www.khanacademy.org/science/biology/human-biology#neuron-nervous-system). From the inspiring [Khan Academy](https://www.khanacademy.org/).\n",
        "2. [Blue Brain's portal](https://bbp.epfl.ch/nmc-portal/welcome)."
      ]
    }
  ],
  "metadata": {
    "colab": {
      "provenance": []
    },
    "hide_input": false,
    "kernelspec": {
      "display_name": "venv2022",
      "language": "python",
      "name": "venv2022"
    },
    "language_info": {
      "codemirror_mode": {
        "name": "ipython",
        "version": 3
      },
      "file_extension": ".py",
      "mimetype": "text/x-python",
      "name": "python",
      "nbconvert_exporter": "python",
      "pygments_lexer": "ipython3",
      "version": "3.8.3"
    },
    "toc": {
      "base_numbering": 1,
      "nav_menu": {},
      "number_sections": true,
      "sideBar": true,
      "skip_h1_title": true,
      "title_cell": "Table of Contents",
      "title_sidebar": "Contents",
      "toc_cell": false,
      "toc_position": {
        "height": "calc(100% - 180px)",
        "left": "10px",
        "top": "150px",
        "width": "173px"
      },
      "toc_section_display": true,
      "toc_window_display": true
    },
    "vscode": {
      "interpreter": {
        "hash": "4e7fcdc16c37278aa1aa2d217ebf3b3a1502b965886d3da577692cfb83477afa"
      }
    }
  },
  "nbformat": 4,
  "nbformat_minor": 0
}
