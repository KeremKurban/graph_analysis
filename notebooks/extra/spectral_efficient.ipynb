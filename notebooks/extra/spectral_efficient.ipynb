{
 "cells": [
  {
   "cell_type": "code",
   "execution_count": 1,
   "metadata": {},
   "outputs": [],
   "source": [
    "from concurrent.futures import ProcessPoolExecutor, as_completed\n",
    "from igraph import Graph\n",
    "from scipy.stats import spearmanr\n",
    "from statsmodels.sandbox.stats.multicomp import multipletests\n",
    "import numpy as np\n",
    "import random\n",
    "from tqdm import tqdm\n",
    "import logging\n",
    "from scipy.linalg import eigh\n",
    "\n",
    "# Set up logging\n",
    "logging.basicConfig(level=logging.INFO)\n",
    "\n",
    "# Function to calculate the Laplacian spectrum\n",
    "def laplacian_spectrum(graph):\n",
    "    laplacian = graph.laplacian(normalized=True)\n",
    "    #eigenvalues = np.linalg.eigvalsh(laplacian)\n",
    "    eigenvalues = np.sort(eigh(laplacian, eigvals_only=True))\n",
    "    return eigenvalues\n",
    "\n",
    "# Function to randomize a graph while preserving degree distribution\n",
    "def randomize_graph(graph):\n",
    "    # Implement your preferred graph randomization method here\n",
    "    randomized_graph = graph.copy()\n",
    "    randomized_graph.rewire(n=graph.ecount() * 10)  # 10 rewires per edge, on average\n",
    "    return randomized_graph\n",
    "\n",
    "# Function to calculate the Spearman correlation\n",
    "def calculate_correlation(original_spectrum, randomized_spectrum):\n",
    "    correlation, p_value = spearmanr(original_spectrum, randomized_spectrum)\n",
    "    return correlation, p_value\n",
    "\n",
    "# Function to calculate the correlation for a single randomized graph\n",
    "def single_randomized_correlation(original_graph, original_spectrum):\n",
    "    randomized_graph = randomize_graph(original_graph)\n",
    "    randomized_spectrum = laplacian_spectrum(randomized_graph)\n",
    "    return calculate_correlation(original_spectrum, randomized_spectrum)\n",
    "\n",
    "# Main function to calculate correlations for multiple randomized graphs\n",
    "def multiple_randomized_correlations(original_graph, num_randomizations):\n",
    "    logging.info(\"Calculating original spectrum...\")\n",
    "    original_spectrum = laplacian_spectrum(original_graph)\n",
    "\n",
    "    with ProcessPoolExecutor() as executor:\n",
    "        logging.info(\"Submitting jobs for randomizations...\")\n",
    "        future_results = [executor.submit(single_randomized_correlation, original_graph, original_spectrum)\n",
    "                          for _ in range(num_randomizations)]\n",
    "\n",
    "        correlations = []\n",
    "        p_values = []\n",
    "\n",
    "        # Create a progress bar\n",
    "        progress_bar = tqdm(total=num_randomizations, desc=\"Processing randomizations\", position=0)\n",
    "\n",
    "        for future in as_completed(future_results):\n",
    "            correlation, p_value = future.result()\n",
    "            correlations.append(correlation)\n",
    "            p_values.append(p_value)\n",
    "\n",
    "            # Update the progress bar\n",
    "            progress_bar.update(1)\n",
    "\n",
    "            logging.info(f\"Finished processing randomization {len(correlations)} of {num_randomizations}\")\n",
    "\n",
    "        # Ensure the progress bar is complete\n",
    "        progress_bar.close()\n",
    "\n",
    "    logging.info(\"Finished all randomizations.\")\n",
    "    return correlations, p_values\n",
    "\n",
    "# Function to perform Bonferroni correction\n",
    "def bonferroni_correction(p_values):\n",
    "    corrected_p_values = multipletests(p_values, method='bonferroni')[1]\n",
    "    return corrected_p_values\n"
   ]
  },
  {
   "cell_type": "code",
   "execution_count": 35,
   "metadata": {},
   "outputs": [],
   "source": [
    "original_spectrum = laplacian_spectrum(original_graph)\n",
    "curr_corr = single_randomized_correlation(original_graph, original_spectrum)"
   ]
  },
  {
   "cell_type": "code",
   "execution_count": 37,
   "metadata": {},
   "outputs": [
    {
     "data": {
      "text/plain": [
       "(1.0, 0.0)"
      ]
     },
     "execution_count": 37,
     "metadata": {},
     "output_type": "execute_result"
    }
   ],
   "source": [
    "curr_corr"
   ]
  },
  {
   "cell_type": "code",
   "execution_count": 36,
   "metadata": {},
   "outputs": [
    {
     "name": "stdout",
     "output_type": "stream",
     "text": [
      "1.0 0.0\n"
     ]
    }
   ],
   "source": [
    "correlation, p_value = curr_corr[0], curr_corr[1]\n",
    "print(correlation, p_value)"
   ]
  },
  {
   "cell_type": "code",
   "execution_count": 2,
   "metadata": {},
   "outputs": [],
   "source": [
    "from scipy import sparse"
   ]
  },
  {
   "cell_type": "code",
   "execution_count": 3,
   "metadata": {},
   "outputs": [],
   "source": [
    "# Create the original graph\n",
    "slice10_path = '/gpfs/bbp.cscs.ch/project/proj112/circuits/CA1/20211110-BioM/data/ca1_ca3_to_slice10_synaptome.npz'\n",
    "slice10 = sparse.load_npz(slice10_path)\n",
    "slice10_internal = slice10[:slice10.shape[1],:]\n",
    "del slice10\n",
    "original_graph = Graph.Adjacency(slice10_internal.A)\n"
   ]
  },
  {
   "cell_type": "code",
   "execution_count": 22,
   "metadata": {},
   "outputs": [
    {
     "data": {
      "text/plain": [
       "0.09652777450468218"
      ]
     },
     "execution_count": 22,
     "metadata": {},
     "output_type": "execute_result"
    }
   ],
   "source": [
    "original_graph.density()"
   ]
  },
  {
   "cell_type": "code",
   "execution_count": 24,
   "metadata": {},
   "outputs": [],
   "source": [
    "original_graph['name'] = 'slice10'"
   ]
  },
  {
   "cell_type": "code",
   "execution_count": 28,
   "metadata": {},
   "outputs": [
    {
     "data": {
      "text/plain": [
       "['SLM_PPA', 'SLM_PPA', 'SLM_PPA', 'SLM_PPA', 'SLM_PPA', ..., 'SO_BP', 'SO_BP', 'SO_BP', 'SO_BP', 'SO_BP']\n",
       "Length: 12615\n",
       "Categories (12, object): ['SLM_PPA', 'SO_BP', 'SO_BS', 'SO_OLM', ..., 'SP_Ivy', 'SP_PC', 'SP_PVBC', 'SR_SCA']"
      ]
     },
     "execution_count": 28,
     "metadata": {},
     "output_type": "execute_result"
    }
   ],
   "source": [
    "from bluepy import Circuit\n",
    "circuitconfig_path = '/gpfs/bbp.cscs.ch/project/proj112/circuits/CA1/20211110-BioM/CircuitConfig'\n",
    "c = Circuit(circuitconfig_path)"
   ]
  },
  {
   "cell_type": "code",
   "execution_count": 32,
   "metadata": {},
   "outputs": [],
   "source": [
    "original_graph.vs['mtype'] = c.cells.get('slice10').mtype.values\n",
    "original_graph.vs['etype'] = c.cells.get('slice10').etype.values\n",
    "original_graph.vs['layer'] = c.cells.get('slice10').layer.values"
   ]
  },
  {
   "cell_type": "code",
   "execution_count": 34,
   "metadata": {},
   "outputs": [
    {
     "data": {
      "text/plain": [
       "<igraph.Graph at 0x7ffef8f4dd60>"
      ]
     },
     "execution_count": 34,
     "metadata": {},
     "output_type": "execute_result"
    }
   ],
   "source": [
    "original_graph"
   ]
  },
  {
   "cell_type": "code",
   "execution_count": 4,
   "metadata": {},
   "outputs": [
    {
     "name": "stderr",
     "output_type": "stream",
     "text": [
      "INFO:root:Calculating original spectrum...\n",
      "INFO:root:Submitting jobs for randomizations...\n",
      "Processing randomizations:  20%|██        | 1/5 [10:59<43:59, 659.83s/it]INFO:root:Finished processing randomization 1 of 5\n",
      "Processing randomizations:  40%|████      | 2/5 [12:24<16:03, 321.27s/it]INFO:root:Finished processing randomization 2 of 5\n",
      "Processing randomizations:  60%|██████    | 3/5 [13:04<06:26, 193.23s/it]INFO:root:Finished processing randomization 3 of 5\n",
      "Processing randomizations:  80%|████████  | 4/5 [14:02<02:19, 139.49s/it]INFO:root:Finished processing randomization 4 of 5\n",
      "Processing randomizations: 100%|██████████| 5/5 [14:13<00:00, 93.32s/it] INFO:root:Finished processing randomization 5 of 5\n",
      "Processing randomizations: 100%|██████████| 5/5 [14:13<00:00, 170.71s/it]\n",
      "INFO:root:Finished all randomizations.\n"
     ]
    }
   ],
   "source": [
    "# Calculate correlations for multiple randomized graphs\n",
    "correlations, p_values = multiple_randomized_correlations(original_graph, num_randomizations=5)"
   ]
  },
  {
   "cell_type": "code",
   "execution_count": 11,
   "metadata": {},
   "outputs": [
    {
     "data": {
      "text/plain": [
       "<igraph.Graph at 0x7ffef8f4dd60>"
      ]
     },
     "execution_count": 11,
     "metadata": {},
     "output_type": "execute_result"
    }
   ],
   "source": [
    "original_graph"
   ]
  },
  {
   "cell_type": "code",
   "execution_count": 5,
   "metadata": {},
   "outputs": [],
   "source": [
    "\n",
    "# Perform Bonferroni correction\n",
    "corrected_p_values = bonferroni_correction(p_values)"
   ]
  },
  {
   "cell_type": "code",
   "execution_count": 10,
   "metadata": {},
   "outputs": [
    {
     "data": {
      "text/plain": [
       "[0.0, 0.0, 0.0, 0.0, 0.0]"
      ]
     },
     "execution_count": 10,
     "metadata": {},
     "output_type": "execute_result"
    }
   ],
   "source": [
    "p_values"
   ]
  },
  {
   "cell_type": "code",
   "execution_count": 7,
   "metadata": {},
   "outputs": [],
   "source": [
    "import matplotlib.pyplot as plt"
   ]
  },
  {
   "cell_type": "code",
   "execution_count": 8,
   "metadata": {},
   "outputs": [
    {
     "data": {
      "image/png": "[encoded data removed]",
      "text/plain": [
       "<Figure size 1000x600 with 1 Axes>"
      ]
     },
     "metadata": {},
     "output_type": "display_data"
    }
   ],
   "source": [
    "# plot eigenvalue spectra\n",
    "plt.figure(figsize=(10, 6))\n",
    "plt.plot(corrected_p_values, label='Slice 10')\n",
    "plt.xlabel('Index')\n",
    "plt.ylabel('Corrected p-value')\n",
    "plt.legend()\n",
    "plt.title('Eigenvalue Spectra of Laplacian Matrices')\n",
    "plt.show()"
   ]
  },
  {
   "cell_type": "code",
   "execution_count": null,
   "metadata": {},
   "outputs": [],
   "source": []
  }
 ],
 "metadata": {
  "kernelspec": {
   "display_name": "venv2022",
   "language": "python",
   "name": "python3"
  },
  "language_info": {
   "codemirror_mode": {
    "name": "ipython",
    "version": 3
   },
   "file_extension": ".py",
   "mimetype": "text/x-python",
   "name": "python",
   "nbconvert_exporter": "python",
   "pygments_lexer": "ipython3",
   "version": "3.8.3"
  },
  "orig_nbformat": 4
 },
 "nbformat": 4,
 "nbformat_minor": 2
}
