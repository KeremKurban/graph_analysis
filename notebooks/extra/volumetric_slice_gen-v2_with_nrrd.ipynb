{
 "cells": [
  {
   "cell_type": "markdown",
   "metadata": {},
   "source": [
    "# Generate volumetric slices in nrrd format"
   ]
  },
  {
   "cell_type": "code",
   "execution_count": 2,
   "metadata": {},
   "outputs": [],
   "source": [
    "import voxcell\n",
    "from voxcell import CellCollection, VoxelData, RegionMap\n",
    "# from brainbuilder.utils import bbp\n",
    "import numpy as np\n",
    "import requests\n",
    "from matplotlib import cm\n",
    "import matplotlib\n",
    "import pandas as pd\n",
    "import numpy.linalg as la\n",
    "from bluepy.enums import Cell\n",
    "from bluepy import Circuit\n",
    "from bluepy.geometry.roi import Cube\n",
    "from coordinate_query import CoordinateQuery, query_enriched_positions, LON, TRA, RAD\n",
    "import math\n",
    "from log_progress import log_progress\n",
    "from pathlib import Path\n",
    "from voxcell.nexus.voxelbrain import Atlas\n",
    "from bluepy import Circuit\n",
    "from coordinate_query import CoordinateQuery, enriched_cells_positions, query_enriched_positions, LON, TRA, RAD\n",
    "from log_progress import log_progress"
   ]
  },
  {
   "cell_type": "code",
   "execution_count": 3,
   "metadata": {},
   "outputs": [],
   "source": [
    "circ_path = '/gpfs/bbp.cscs.ch/project/proj112/circuits/CA1/20211110-BioM/CircuitConfig'\n",
    "slice_thickness = 400 # um\n",
    "usertarget_path = f'slices{slice_thickness}.target'\n",
    "circuit = Circuit(circ_path)"
   ]
  },
  {
   "cell_type": "code",
   "execution_count": 4,
   "metadata": {},
   "outputs": [],
   "source": [
    "ATLAS_DIR = Path(\"/gpfs/bbp.cscs.ch/project/proj112/entities/atlas/20211004_BioM/\")\n",
    "CIRCUIT_DIR = Path('/gpfs/bbp.cscs.ch/project/proj112/circuits/CA1/20211110-BioM/')\n",
    "c = Circuit((CIRCUIT_DIR / 'CircuitConfig').as_posix())\n",
    "atlas = Atlas.open(ATLAS_DIR.as_posix())\n",
    "orientation = atlas.load_data(\"orientation\")"
   ]
  },
  {
   "cell_type": "code",
   "execution_count": 5,
   "metadata": {},
   "outputs": [],
   "source": [
    "def update_user_target(filename, gids, target_name, notes):\n",
    "    with open(filename, 'a') as f:\n",
    "        f.write(notes)\n",
    "        f.write('\\nTarget Cell %s\\n{' % target_name)\n",
    "        f.write(' '.join(['a%d' % gid for gid in gids]))\n",
    "        f.write('}\\n\\n')\n",
    "\n",
    "def get_gids_in_voxel(mask,circuit):\n",
    "    in_target = mask.lookup(circuit.cells.get(properties=list(\"xyz\")).values)\n",
    "    gids_in_target = circuit.cells.get().index.values[np.where(in_target==1)]\n",
    "    return gids_in_target"
   ]
  },
  {
   "cell_type": "code",
   "execution_count": 6,
   "metadata": {},
   "outputs": [
    {
     "name": "stdout",
     "output_type": "stream",
     "text": [
      "tot distance: 13857.729952557209 # slices: 34\n"
     ]
    }
   ],
   "source": [
    "# load the atlas in the coordinatequery\n",
    "file_path = '/gpfs/bbp.cscs.ch/project/proj112/entities/atlas/20211004_BioM/coordinates.nrrd'\n",
    "from coordinate_query import CoordinateQuery, query_enriched_positions, LON, TRA, RAD\n",
    "\n",
    "q = CoordinateQuery(file_path)\n",
    "# Enriched your ltr positions in the positions df from bluepy\n",
    "xyz_ltr = enriched_cells_positions(circuit, q)\n",
    "tot_distance = q.get_long_center_distance(q.min_max[LON][0], q.min_max[LON][1])\n",
    "nslices = int(tot_distance/slice_thickness)\n",
    "print('tot distance:', tot_distance, '# slices:', nslices)"
   ]
  },
  {
   "cell_type": "code",
   "execution_count": 10,
   "metadata": {},
   "outputs": [
    {
     "data": {
      "text/plain": [
       "(308, 495, 464, 4)"
      ]
     },
     "execution_count": 10,
     "metadata": {},
     "output_type": "execute_result"
    }
   ],
   "source": [
    "orientation.raw.shape"
   ]
  },
  {
   "cell_type": "code",
   "execution_count": 13,
   "metadata": {},
   "outputs": [],
   "source": [
    "atlas = Atlas.open(ATLAS_DIR.as_posix())\n",
    "orientation = atlas.load_data(\"orientation\")\n",
    "coords = atlas.load_data('coordinates')"
   ]
  },
  {
   "cell_type": "code",
   "execution_count": 17,
   "metadata": {},
   "outputs": [
    {
     "data": {
      "text/plain": [
       "etype                                                                     cACpyr\n",
       "layer                                                                         SP\n",
       "me_combo                       CA1_pyr_cACpyr_oh140807_A0_idB_2019030510521_S...\n",
       "model_template                  hoc:CA1_pyr_cACpyr_oh140807_A0_idB_2019030510521\n",
       "model_type                                                           biophysical\n",
       "morph_class                                                                  PYR\n",
       "morphology                     dend-oh140807_A0_idF_axon-mpg141017_a1-2_idC_-...\n",
       "mtype                                                                      SP_PC\n",
       "orientation_w                                                           0.984479\n",
       "orientation_x                                                          -0.164185\n",
       "orientation_y                                                                0.0\n",
       "orientation_z                                                          -0.062009\n",
       "region                                                                        SP\n",
       "synapse_class                                                                EXC\n",
       "x                                                                    2571.401168\n",
       "y                                                                     567.361561\n",
       "z                                                                    4875.754736\n",
       "@dynamics:holding_current                                              -0.360959\n",
       "@dynamics:threshold_current                                             0.467187\n",
       "orientation                    [[0.9923097701879837, 0.12209305967733794, 0.0...\n",
       "Name: 12321, dtype: object"
      ]
     },
     "execution_count": 17,
     "metadata": {},
     "output_type": "execute_result"
    }
   ],
   "source": [
    "c.cells.get(12321)"
   ]
  },
  {
   "cell_type": "code",
   "execution_count": 18,
   "metadata": {},
   "outputs": [],
   "source": [
    "sample_sppc = c.cells.get(12321)"
   ]
  },
  {
   "cell_type": "code",
   "execution_count": 25,
   "metadata": {},
   "outputs": [],
   "source": [
    "sample_sppc_index = q.xyz_to_idx([sample_sppc.x,sample_sppc.y,sample_sppc.z])[0]"
   ]
  },
  {
   "cell_type": "code",
   "execution_count": 27,
   "metadata": {},
   "outputs": [
    {
     "data": {
      "text/plain": [
       "array([163,  44, 314])"
      ]
     },
     "execution_count": 27,
     "metadata": {},
     "output_type": "execute_result"
    }
   ],
   "source": [
    "sample_sppc_index"
   ]
  },
  {
   "cell_type": "code",
   "execution_count": 34,
   "metadata": {},
   "outputs": [
    {
     "data": {
      "text/plain": [
       "array([ 0.9844787 , -0.16418463,  0.        , -0.06200899], dtype=float32)"
      ]
     },
     "execution_count": 34,
     "metadata": {},
     "output_type": "execute_result"
    }
   ],
   "source": [
    "orientation.raw[163,44,314,:]"
   ]
  },
  {
   "cell_type": "markdown",
   "metadata": {},
   "source": [
    "## Method 1\n",
    "Slice CA1 from tip to tip in desired slice thickness and then select one slice. Better for simulation campaings"
   ]
  },
  {
   "cell_type": "code",
   "execution_count": null,
   "metadata": {},
   "outputs": [],
   "source": []
  },
  {
   "cell_type": "code",
   "execution_count": 14,
   "metadata": {},
   "outputs": [
    {
     "name": "stdout",
     "output_type": "stream",
     "text": [
      "slice thickness: 400\n"
     ]
    },
    {
     "data": {
      "application/vnd.jupyter.widget-view+json": {
       "model_id": "0811b7b5b2c84bd7a1d5ec5d86b4a7c7",
       "version_major": 2,
       "version_minor": 0
      },
      "text/plain": [
       "VBox(children=(HTML(value=''), IntProgress(value=0, max=35)))"
      ]
     },
     "metadata": {},
     "output_type": "display_data"
    },
    {
     "name": "stdout",
     "output_type": "stream",
     "text": [
      "l:0, l_min:0.043989644635413404, l_max:0.07021988810231852, percentage=0.05710476636886597\n",
      "l:400, l_min:0.07021988810231852, l_max:0.09645013156922366, percentage=0.08333500983577109\n",
      "l:800, l_min:0.09645013156922366, l_max:0.12268037503612877, percentage=0.10956525330267622\n",
      "l:1200, l_min:0.1226803750361288, l_max:0.14891061850303391, percentage=0.13579549676958136\n",
      "l:1600, l_min:0.14891061850303391, l_max:0.17514086196993903, percentage=0.16202574023648647\n",
      "l:2000, l_min:0.17514086196993905, l_max:0.20137110543684417, percentage=0.1882559837033916\n",
      "l:2400, l_min:0.20137110543684417, l_max:0.22760134890374928, percentage=0.21448622717029672\n",
      "l:2800, l_min:0.2276013489037493, l_max:0.25383159237065445, percentage=0.24071647063720186\n",
      "l:3200, l_min:0.2538315923706544, l_max:0.28006183583755956, percentage=0.266946714104107\n",
      "l:3600, l_min:0.28006183583755956, l_max:0.3062920793044647, percentage=0.29317695757101214\n",
      "l:4000, l_min:0.30629207930446467, l_max:0.33252232277136984, percentage=0.31940720103791725\n",
      "l:4400, l_min:0.3325223227713697, l_max:0.3587525662382749, percentage=0.3456374445048223\n",
      "l:4800, l_min:0.3587525662382749, l_max:0.38498280970518006, percentage=0.3718676879717275\n",
      "l:5200, l_min:0.38498280970518, l_max:0.4112130531720852, percentage=0.3980979314386326\n",
      "l:5600, l_min:0.4112130531720852, l_max:0.43744329663899034, percentage=0.42432817490553776\n",
      "l:6000, l_min:0.4374432966389903, l_max:0.46367354010589545, percentage=0.45055841837244287\n",
      "l:6400, l_min:0.4636735401058954, l_max:0.48990378357280057, percentage=0.476788661839348\n",
      "l:6800, l_min:0.48990378357280057, l_max:0.5161340270397057, percentage=0.5030189053062532\n",
      "l:7200, l_min:0.5161340270397058, l_max:0.5423642705066108, percentage=0.5292491487731583\n",
      "l:7600, l_min:0.5423642705066108, l_max:0.5685945139735159, percentage=0.5554793922400634\n",
      "l:8000, l_min:0.568594513973516, l_max:0.5948247574404211, percentage=0.5817096357069685\n",
      "l:8400, l_min:0.5948247574404211, l_max:0.6210550009073261, percentage=0.6079398791738736\n",
      "l:8800, l_min:0.6210550009073261, l_max:0.6472852443742312, percentage=0.6341701226407787\n",
      "l:9200, l_min:0.6472852443742313, l_max:0.6735154878411364, percentage=0.6604003661076838\n",
      "l:9600, l_min:0.6735154878411365, l_max:0.6997457313080415, percentage=0.686630609574589\n",
      "l:10000, l_min:0.6997457313080416, l_max:0.7259759747749467, percentage=0.7128608530414942\n",
      "l:10400, l_min:0.7259759747749467, l_max:0.7522062182418517, percentage=0.7390910965083992\n",
      "l:10800, l_min:0.7522062182418519, l_max:0.7784364617087569, percentage=0.7653213399753044\n",
      "l:11200, l_min:0.778436461708757, l_max:0.8046667051756621, percentage=0.7915515834422095\n",
      "l:11600, l_min:0.8046667051756621, l_max:0.8308969486425671, percentage=0.8177818269091146\n",
      "l:12000, l_min:0.8308969486425672, l_max:0.8571271921094723, percentage=0.8440120703760198\n",
      "l:12400, l_min:0.8571271921094724, l_max:0.8833574355763775, percentage=0.8702423138429249\n",
      "l:12800, l_min:0.8833574355763775, l_max:0.9095876790432825, percentage=0.89647255730983\n",
      "l:13200, l_min:0.9095876790432826, l_max:0.9358179225101877, percentage=0.9227028007767352\n",
      "l:13600, l_min:0.9358179225101878, l_max:0.9620481659770929, percentage=0.9489330442436403\n"
     ]
    }
   ],
   "source": [
    "print(f\"slice thickness: {slice_thickness}\")\n",
    "slice_id = 1\n",
    "for l in log_progress(range(0, int(q.get_long_center_distance(q.min_max[LON][0], q.min_max[LON][1])), slice_thickness), every=1):\n",
    "    l_min, l_max = q.long_micro_meter_slice(l, slice_thickness) # relative coordinate\n",
    "    percentage = (l_min + l_max)/2\n",
    "    print(f\"l:{l}, l_min:{l_min}, l_max:{l_max}, percentage={percentage}\")\n",
    "    cur_slice_mask = q._get_range_mask(min_value=l_min, max_value=l_max, axis=LON)\n",
    "    orientation.with_data(np.asarray(cur_slice_mask, dtype=np.uint8)).save_nrrd(f\"nrrd_masks_serially_generated_but_not_used/slice{slice_thickness}_{slice_id}.nrrd\")\n",
    "    slice_id += 1"
   ]
  },
  {
   "cell_type": "code",
   "execution_count": 10,
   "metadata": {},
   "outputs": [
    {
     "data": {
      "text/plain": [
       "(308, 495, 464)"
      ]
     },
     "execution_count": 10,
     "metadata": {},
     "output_type": "execute_result"
    }
   ],
   "source": [
    "cur_slice_mask.shape"
   ]
  },
  {
   "cell_type": "markdown",
   "metadata": {},
   "source": [
    "### selecting 25% percentile (dorsal side)"
   ]
  },
  {
   "cell_type": "code",
   "execution_count": 6,
   "metadata": {},
   "outputs": [],
   "source": [
    "selected_l_min = 0.2276013489037493\n",
    "selected_l_max = 0.25383159237065445\n",
    "slice_mask_temp = q._get_range_mask(min_value=selected_l_min, max_value=selected_l_max, axis=LON)"
   ]
  },
  {
   "cell_type": "code",
   "execution_count": 7,
   "metadata": {},
   "outputs": [
    {
     "data": {
      "text/plain": [
       "(308, 495, 464)"
      ]
     },
     "execution_count": 7,
     "metadata": {},
     "output_type": "execute_result"
    }
   ],
   "source": [
    "slice_mask_temp.shape"
   ]
  },
  {
   "cell_type": "markdown",
   "metadata": {},
   "source": [
    "### Extract layer nrrds"
   ]
  },
  {
   "cell_type": "code",
   "execution_count": 30,
   "metadata": {},
   "outputs": [],
   "source": [
    "for layer_name in ['SO','SP','SR','SLM']:\n",
    "    cur_layer_mask = atlas.get_region_mask(layer_name)\n",
    "    layer_intersection_mask = np.logical_and(slice_mask_temp,cur_layer_mask.raw)\n",
    "    orientation.with_data(np.asarray(layer_intersection_mask, dtype=np.uint8)).save_nrrd(f\"slice{slice_thickness}_{layer_name}.nrrd\")"
   ]
  },
  {
   "cell_type": "markdown",
   "metadata": {},
   "source": [
    "### Saving the slice in nrrd format"
   ]
  },
  {
   "cell_type": "code",
   "execution_count": 8,
   "metadata": {},
   "outputs": [],
   "source": [
    "slice_nrrd_file = 'slice400_method1.nrrd'\n",
    "orientation.with_data(np.asarray(slice_mask_temp, dtype=np.uint8)).save_nrrd(slice_nrrd_file)"
   ]
  },
  {
   "cell_type": "markdown",
   "metadata": {},
   "source": [
    "### Generate target gids from mask and update target file"
   ]
  },
  {
   "cell_type": "code",
   "execution_count": 9,
   "metadata": {},
   "outputs": [],
   "source": [
    "int_mask = Atlas.open('.').load_data(slice_nrrd_file[:-5])\n",
    "mask_gids = get_gids_in_voxel(int_mask,c)"
   ]
  },
  {
   "cell_type": "code",
   "execution_count": 33,
   "metadata": {},
   "outputs": [],
   "source": [
    "notes = '# thickness = ' + str(slice_thickness) + 'um, longitudinal range: ' + str(np.round(selected_l_min,3)) + '-' + str(np.round(selected_l_max,3))\n",
    "target_name = 'slice400'\n",
    "#update_user_target(CIRCUIT_DIR.as_posix() + '/user.target', mask_gids, target_name, notes)\n",
    "update_user_target(usertarget_path, mask_gids, target_name, notes)"
   ]
  },
  {
   "cell_type": "markdown",
   "metadata": {},
   "source": [
    "# method 2\n",
    "\n",
    "Directly select the longit position and thickness and extract 1 slice"
   ]
  },
  {
   "cell_type": "code",
   "execution_count": 22,
   "metadata": {},
   "outputs": [],
   "source": [
    "total_center_longit_distance = q.get_long_center_distance(q.min_max[LON][0], q.min_max[LON][1])\n",
    "slice_position_long_percentage = 0.25\n",
    "slice_position_long = total_center_longit_distance * slice_position_long_percentage\n",
    "slice_thickness_um = 400\n",
    "slice_boundaries_lon = q.long_micro_meter_slice(slice_position_long,slice_thickness_um)"
   ]
  },
  {
   "cell_type": "markdown",
   "metadata": {},
   "source": [
    "boundaries along longit axis are"
   ]
  },
  {
   "cell_type": "code",
   "execution_count": 23,
   "metadata": {},
   "outputs": [
    {
     "data": {
      "text/plain": [
       "(0.2711719137317879, 0.29740215719869306)"
      ]
     },
     "execution_count": 23,
     "metadata": {},
     "output_type": "execute_result"
    }
   ],
   "source": [
    "slice_boundaries_lon"
   ]
  },
  {
   "cell_type": "code",
   "execution_count": 24,
   "metadata": {},
   "outputs": [],
   "source": [
    "slice_mask = q._get_range_mask(min_value=slice_boundaries_lon[0], max_value=slice_boundaries_lon[1], axis=LON)"
   ]
  },
  {
   "cell_type": "markdown",
   "metadata": {},
   "source": [
    "saving as nrrd"
   ]
  },
  {
   "cell_type": "code",
   "execution_count": 25,
   "metadata": {},
   "outputs": [],
   "source": [
    "orientation.with_data(np.asarray(slice_mask, dtype=np.uint8)).save_nrrd(f'slice400_method2.nrrd')"
   ]
  },
  {
   "cell_type": "markdown",
   "metadata": {},
   "source": [
    "### Generate target gids from mask and update target file"
   ]
  },
  {
   "cell_type": "code",
   "execution_count": 28,
   "metadata": {},
   "outputs": [],
   "source": [
    "int_mask = Atlas.open('.').load_data(slice_nrrd_file[:-5])\n",
    "mask_gids = get_gids_in_voxel(int_mask,c)"
   ]
  },
  {
   "cell_type": "code",
   "execution_count": 29,
   "metadata": {},
   "outputs": [],
   "source": [
    "notes = '# thickness = ' + str(slice_thickness) + 'um, longitudinal range: ' + str(np.round(slice_boundaries_lon[0],3)) + '-' + str(np.round(slice_boundaries_lon[1],3))\n",
    "target_name = 'slice400_method2'\n",
    "#update_user_target(CIRCUIT_DIR.as_posix() + '/user.target', mask_gids, target_name, notes)\n",
    "update_user_target(usertarget_path, mask_gids, target_name, notes)"
   ]
  },
  {
   "cell_type": "markdown",
   "metadata": {},
   "source": [
    "# Validation \n",
    "\n",
    "After generating slices, measure the distance again"
   ]
  },
  {
   "cell_type": "code",
   "execution_count": 26,
   "metadata": {},
   "outputs": [
    {
     "data": {
      "text/plain": [
       "347.3433299154493"
      ]
     },
     "execution_count": 26,
     "metadata": {},
     "output_type": "execute_result"
    }
   ],
   "source": [
    "q.get_long_center_distance(slice_boundaries_lon[0],slice_boundaries_lon[1])"
   ]
  },
  {
   "cell_type": "code",
   "execution_count": 27,
   "metadata": {},
   "outputs": [
    {
     "data": {
      "text/plain": [
       "382.85694801434613"
      ]
     },
     "execution_count": 27,
     "metadata": {},
     "output_type": "execute_result"
    }
   ],
   "source": [
    "# method 1 : slicegen approach euclidian thickness from middle\n",
    "q.get_long_center_distance(selected_l_min,selected_l_max)"
   ]
  },
  {
   "cell_type": "markdown",
   "metadata": {},
   "source": [
    "## Warning: Measurements are prone to curvature\n",
    "\n",
    "As you can see from different slices along longit axis below , although the thicknesses given are the same, the measured distance can vary due to the:\n",
    "- measuring method\n",
    "- measuring points\n",
    "- curvature changes along longit axis of CA1"
   ]
  },
  {
   "cell_type": "code",
   "execution_count": 119,
   "metadata": {},
   "outputs": [
    {
     "name": "stdout",
     "output_type": "stream",
     "text": [
      "Longit percentage 0.0: Measured Central Dist = 472.74517448621305\n",
      "Longit percentage 0.1: Measured Central Dist = 272.62415558157835\n",
      "Longit percentage 0.2: Measured Central Dist = 358.18775056957213\n",
      "Longit percentage 0.30000000000000004: Measured Central Dist = 280.23462108065553\n",
      "Longit percentage 0.4: Measured Central Dist = 282.9600697769798\n",
      "Longit percentage 0.5: Measured Central Dist = 338.8726568463918\n",
      "Longit percentage 0.6000000000000001: Measured Central Dist = 373.5158946560844\n",
      "Longit percentage 0.7000000000000001: Measured Central Dist = 422.04620965061434\n",
      "Longit percentage 0.8: Measured Central Dist = 337.2109796739634\n",
      "Longit percentage 0.9: Measured Central Dist = 398.3755219392375\n"
     ]
    }
   ],
   "source": [
    "for i in np.arange(0,1,0.1):\n",
    "    total_center_longit_distance = q.get_long_center_distance(q.min_max[LON][0], q.min_max[LON][1])\n",
    "    slice_position_long_percentage = i\n",
    "    slice_position_long = total_center_longit_distance * slice_position_long_percentage\n",
    "    slice_thickness_um = 400\n",
    "    slice_boundaries_lon = q.long_micro_meter_slice(slice_position_long,slice_thickness_um)\n",
    "    print(f\"Longit percentage {i}: Measured Central Dist = {q.get_long_center_distance(slice_boundaries_lon[0],slice_boundaries_lon[1])}\")"
   ]
  },
  {
   "cell_type": "markdown",
   "metadata": {},
   "source": [
    "# For Developers"
   ]
  },
  {
   "cell_type": "code",
   "execution_count": 20,
   "metadata": {},
   "outputs": [
    {
     "data": {
      "text/plain": [
       "True"
      ]
     },
     "execution_count": 20,
     "metadata": {},
     "output_type": "execute_result"
    }
   ],
   "source": [
    "# assert slice mask is equal to intersection with CA1\n",
    "np.array_equal(np.logical_and(q.raw[...,LON],slice_mask_temp),slice_mask_temp)"
   ]
  },
  {
   "cell_type": "code",
   "execution_count": 21,
   "metadata": {},
   "outputs": [
    {
     "data": {
      "text/plain": [
       "0.9087291"
      ]
     },
     "execution_count": 21,
     "metadata": {},
     "output_type": "execute_result"
    }
   ],
   "source": [
    "q.min_max[LON][1] - q.min_max[LON][0]"
   ]
  },
  {
   "cell_type": "markdown",
   "metadata": {},
   "source": [
    "# Measuring function\n",
    "\n",
    "The measuring function in coordinae_query.py calculates the positions of the longit endpoints of the slices and from these, euclidian distance is calculated from xyz axes. Hence the warning"
   ]
  },
  {
   "cell_type": "code",
   "execution_count": 95,
   "metadata": {},
   "outputs": [],
   "source": [
    "center = 0.5\n",
    "center_down = center - 0.01\n",
    "center_up = center + 0.01\n",
    "lon_min,lon_max = slice_boundaries_lon[0],slice_boundaries_lon[1]\n",
    "\n",
    "idx = q.ltr_range_to_idx(lon_min, lon_max,\n",
    "                            center_down, center_up,\n",
    "                            center_down, center_up)\n",
    "sel_idx = np.argsort(q.raw[tuple(idx.T)], axis=0)[:, 0]\n",
    "sorted_idx = idx[sel_idx]\n",
    "xyz = q.coords.indices_to_positions(sorted_idx)[::10, :]\n",
    "dist_tot = np.sum(np.linalg.norm(np.diff(xyz, axis=0), axis=1))"
   ]
  },
  {
   "cell_type": "markdown",
   "metadata": {},
   "source": [
    "### Future improvements:\n",
    "\n",
    "- Add an option for measurements for generation and analysis to be done in geodesic (arc) distance\n",
    "- Inline visualization of the generated slices"
   ]
  },
  {
   "cell_type": "markdown",
   "metadata": {},
   "source": [
    "# Generate nrrd masks from lon_min , lon_max data in user.target\n",
    "\n",
    "- Somehow the serial generation of cylinders did not corresspond to the values given in the user.target . But since we noted their percentage-wise position in LON axis , we can extract the volume information from those"
   ]
  },
  {
   "cell_type": "code",
   "execution_count": 15,
   "metadata": {},
   "outputs": [],
   "source": [
    "# in case Lmin Lmax data is present for custom slice positions\n",
    "import re\n",
    "\n",
    "target_file = '/gpfs/bbp.cscs.ch/project/proj112/circuits/CA1/20211110-BioM/user.target'\n",
    "with open(target_file,'r') as f:\n",
    "    f = f.read()\n",
    "target_data = np.array(re.findall(r'L coordinates: (.*), (.*)\\nTarget Cell (.*)',f))\n",
    "lon_mins,lon_maxs,target_names = target_data[:,0].astype(float),target_data[:,1].astype(float) ,target_data[:,2] "
   ]
  },
  {
   "cell_type": "code",
   "execution_count": 75,
   "metadata": {},
   "outputs": [
    {
     "name": "stdout",
     "output_type": "stream",
     "text": [
      "slice0: 0.04726842506877654-0.06694110766895539\n",
      "slice1: 0.06694110766895539-0.08661379026913424\n",
      "slice2: 0.08661379026913424-0.10628647286931309\n",
      "slice3: 0.10628647286931309-0.12595915546949193\n",
      "slice4: 0.12595915546949193-0.14563183806967078\n",
      "slice5: 0.14563183806967078-0.16530452066984963\n",
      "slice6: 0.16530452066984963-0.18497720327002848\n",
      "slice7: 0.18497720327002845-0.2046498858702073\n",
      "slice8: 0.2046498858702073-0.22432256847038615\n",
      "slice9: 0.22432256847038615-0.243995251070565\n",
      "slice10: 0.24399525107056502-0.26366793367074387\n",
      "slice11: 0.26366793367074387-0.2833406162709227\n",
      "slice12: 0.2833406162709227-0.30301329887110157\n",
      "slice13: 0.3030132988711015-0.32268598147128036\n",
      "slice14: 0.32268598147128036-0.3423586640714592\n",
      "slice15: 0.3423586640714592-0.36203134667163805\n",
      "slice16: 0.36203134667163805-0.3817040292718169\n",
      "slice17: 0.3817040292718169-0.40137671187199575\n",
      "slice18: 0.40137671187199575-0.4210493944721746\n",
      "slice19: 0.4210493944721746-0.44072207707235345\n",
      "slice20: 0.44072207707235345-0.4603947596725323\n",
      "slice21: 0.4603947596725323-0.48006744227271114\n",
      "slice22: 0.48006744227271114-0.49974012487289\n",
      "slice23: 0.49974012487288993-0.5194128074730687\n",
      "slice24: 0.519412807473069-0.5390854900732477\n",
      "slice25: 0.5390854900732477-0.5587581726734264\n",
      "slice26: 0.5587581726734265-0.5784308552736053\n",
      "slice27: 0.5784308552736054-0.5981035378737841\n",
      "slice28: 0.5981035378737842-0.617776220473963\n",
      "slice29: 0.6177762204739632-0.6374489030741419\n",
      "slice30: 0.6374489030741419-0.6571215856743207\n",
      "slice31: 0.6571215856743208-0.6767942682744995\n",
      "slice32: 0.6767942682744996-0.6964669508746784\n",
      "slice33: 0.6964669508746785-0.7161396334748572\n",
      "slice34: 0.7161396334748573-0.735812316075036\n",
      "slice35: 0.7358123160750362-0.7554849986752149\n",
      "slice36: 0.755484998675215-0.7751576812753938\n",
      "slice37: 0.7751576812753939-0.7948303638755726\n",
      "slice38: 0.7948303638755727-0.8145030464757514\n",
      "slice39: 0.8145030464757516-0.8341757290759303\n",
      "slice40: 0.8341757290759304-0.8538484116761091\n",
      "slice41: 0.8538484116761093-0.873521094276288\n",
      "slice42: 0.8735210942762881-0.8931937768764668\n",
      "slice43: 0.8931937768764668-0.9128664594766456\n",
      "slice44: 0.9128664594766458-0.9325391420768245\n",
      "slice45: 0.9325391420768246-0.9522118246770034\n",
      "slice46: 0.9522118246770035-0.9718845072771822\n"
     ]
    }
   ],
   "source": [
    "for lmin,lmax,cur_target in zip(lon_mins,lon_maxs,target_names):\n",
    "    print(f'{cur_target}: {lmin}-{lmax}')\n",
    "    slice_mask_from_target = q._get_range_mask(lmin,lmax,LON)\n",
    "    orientation.with_data(np.asarray(slice_mask_from_target, dtype=np.uint8)).save_nrrd(f\"nrrd_masks_in_user_target/{cur_target}.nrrd\")"
   ]
  }
 ],
 "metadata": {
  "kernelspec": {
   "display_name": "venv2022",
   "language": "python",
   "name": "venv2022"
  },
  "language_info": {
   "codemirror_mode": {
    "name": "ipython",
    "version": 3
   },
   "file_extension": ".py",
   "mimetype": "text/x-python",
   "name": "python",
   "nbconvert_exporter": "python",
   "pygments_lexer": "ipython3",
   "version": "3.8.3"
  }
 },
 "nbformat": 4,
 "nbformat_minor": 4
}
