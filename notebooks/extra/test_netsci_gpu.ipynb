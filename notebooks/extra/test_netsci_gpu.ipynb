{
 "cells": [
  {
   "cell_type": "code",
   "execution_count": 1,
   "id": "730838d2",
   "metadata": {},
   "outputs": [
    {
     "name": "stderr",
     "output_type": "stream",
     "text": [
      "2023-08-17 12:42:47.589507: I tensorflow/core/platform/cpu_feature_guard.cc:182] This TensorFlow binary is optimized to use available CPU instructions in performance-critical operations.\n",
      "To enable the following instructions: AVX2 AVX512F FMA, in other operations, rebuild TensorFlow with the appropriate compiler flags.\n",
      "2023-08-17 12:42:48.663073: W tensorflow/compiler/tf2tensorrt/utils/py_utils.cc:38] TF-TRT Warning: Could not find TensorRT\n"
     ]
    },
    {
     "name": "stdout",
     "output_type": "stream",
     "text": [
      "Num GPUs Available:  4\n"
     ]
    }
   ],
   "source": [
    "import logging; logging.basicConfig()\n",
    "import itertools\n",
    "\n",
    "import numpy as np\n",
    "import pandas as pd\n",
    "from tqdm.auto import tqdm\n",
    "\n",
    "import tensorflow as tf\n",
    "\n",
    "from netsci.models.random import erdos_renyi\n",
    "import netsci.metrics.motifs as nsm\n",
    "\n",
    "\n",
    "tqdm.pandas()\n",
    "print(\"Num GPUs Available: \", len(tf.config.list_physical_devices('GPU')))"
   ]
  },
  {
   "cell_type": "code",
   "execution_count": 2,
   "id": "cd2f5406",
   "metadata": {},
   "outputs": [],
   "source": [
    "import time\n",
    "\n",
    "class Timer:\n",
    "    def __init__(self, logger=None, desc='Execution'):\n",
    "        self.logger = logger\n",
    "        self.desc = desc\n",
    "\n",
    "    def __enter__(self):\n",
    "        self.start = time.time_ns()\n",
    "        return self\n",
    "\n",
    "    def __exit__(self, *args):\n",
    "        self.end = time.time_ns()\n",
    "        self.interval = (self.end - self.start)\n",
    "        self.interval_ms = self.interval // 1_000_000\n",
    "\n",
    "        if self.logger is not None:\n",
    "            self.logger(f'{self.desc} took {self.interval_ms/1000:.03f} sec.')"
   ]
  },
  {
   "cell_type": "code",
   "execution_count": 8,
   "id": "944586c7",
   "metadata": {},
   "outputs": [],
   "source": [
    "A = np.array(\n",
    "[[0,0,0,0,0,0,0],\n",
    "[1,0,1,0,0,0,0],\n",
    "[0,0,0,1,0,0,0],\n",
    "[0,0,0,0,0,0,0],\n",
    "[0,0,0,0,0,1,1],\n",
    "[0,0,0,0,0,0,1],\n",
    "[0,0,0,0,0,0,0]])"
   ]
  },
  {
   "cell_type": "code",
   "execution_count": 10,
   "id": "8e5d71ca",
   "metadata": {},
   "outputs": [
    {
     "name": "stdout",
     "output_type": "stream",
     "text": [
      "(array([-1, -1, -1,  1,  0,  1,  1,  0,  0,  0,  0,  0,  0,  0,  0,  0]), [[], [], [], [[2, 3, 1]], [], [[1, 2, 0]], [[4, 5, 6]], [], [], [], [], [], [], [], [], []])\n",
      "(array([-1, -1, -1,  1,  0,  1,  1,  0,  0,  0,  0,  0,  0,  0,  0,  0]), [[], [], [], [[2, 3, 1]], [], [[1, 2, 0]], [[4, 5, 6]], [], [], [], [], [], [], [], [], []])\n"
     ]
    }
   ],
   "source": [
    "# A = erdos_renyi(n=1000, p=0.01, random_state=71070)\n",
    "\n",
    "logging.getLogger('netsci.metrics.motifs_gpu').setLevel(logging.DEBUG)\n",
    "with tf.device('/CPU:0'):\n",
    "    print(nsm.motifs(A, algorithm='louzoun',participation=True))\n",
    "\n",
    "with tf.device('/GPU:0'):\n",
    "    print(nsm.motifs(A, algorithm='louzoun',participation=True))"
   ]
  },
  {
   "cell_type": "code",
   "execution_count": 16,
   "id": "da1f328e",
   "metadata": {},
   "outputs": [],
   "source": [
    "frequency,participation = nsm.motifs(A, algorithm='louzoun',participation=True)"
   ]
  },
  {
   "cell_type": "code",
   "execution_count": 17,
   "id": "f4ee45b4",
   "metadata": {},
   "outputs": [
    {
     "data": {
      "text/plain": [
       "array([-1, -1, -1,  1,  0,  1,  1,  0,  0,  0,  0,  0,  0,  0,  0,  0])"
      ]
     },
     "execution_count": 17,
     "metadata": {},
     "output_type": "execute_result"
    }
   ],
   "source": [
    "frequency"
   ]
  },
  {
   "cell_type": "code",
   "execution_count": 13,
   "id": "580b229b",
   "metadata": {},
   "outputs": [],
   "source": [
    "import netsci.visualization as nsv"
   ]
  },
  {
   "cell_type": "code",
   "execution_count": 18,
   "id": "d7bd278c",
   "metadata": {},
   "outputs": [
    {
     "name": "stdout",
     "output_type": "stream",
     "text": [
      "[ 1  2  3  4  5  6  7  8  9 10 11 12 13]\n"
     ]
    },
    {
     "data": {
      "text/plain": [
       "[<Axes: >, <Axes: >]"
      ]
     },
     "execution_count": 18,
     "metadata": {},
     "output_type": "execute_result"
    },
    {
     "data": {
      "image/png": "[encoded data removed]",
      "text/plain": [
       "<Figure size 640x480 with 2 Axes>"
      ]
     },
     "metadata": {},
     "output_type": "display_data"
    }
   ],
   "source": [
    "nsv.bar_motifs(frequency)"
   ]
  },
  {
   "cell_type": "code",
   "execution_count": 6,
   "id": "c2c0de46",
   "metadata": {},
   "outputs": [
    {
     "name": "stdout",
     "output_type": "stream",
     "text": [
      "[156453141   9481653     37283     95997     47667     48287      1001\n",
      "       843       769       334         2         9         5         9\n",
      "         0         0]\n",
      "GPU took 0.741 sec.\n",
      "741\n"
     ]
    }
   ],
   "source": [
    "with Timer(logger=print, desc='GPU') as t:\n",
    "    with tf.device('/GPU:0'):\n",
    "        print(nsm.motifs(A, algorithm='gpu'))\n",
    "print(t.interval_ms)"
   ]
  },
  {
   "cell_type": "code",
   "execution_count": null,
   "id": "06630de7",
   "metadata": {},
   "outputs": [],
   "source": []
  }
 ],
 "metadata": {
  "kernelspec": {
   "display_name": "venv2023",
   "language": "python",
   "name": "venv2023"
  },
  "language_info": {
   "codemirror_mode": {
    "name": "ipython",
    "version": 3
   },
   "file_extension": ".py",
   "mimetype": "text/x-python",
   "name": "python",
   "nbconvert_exporter": "python",
   "pygments_lexer": "ipython3",
   "version": "3.8.3"
  }
 },
 "nbformat": 4,
 "nbformat_minor": 5
}
